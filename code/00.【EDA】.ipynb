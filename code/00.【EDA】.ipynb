{
 "cells": [
  {
   "cell_type": "markdown",
   "id": "5870ceeb-a460-4c46-b0b1-6591bea1d7a2",
   "metadata": {
    "tags": []
   },
   "source": [
    "# **Dependincies**"
   ]
  },
  {
   "cell_type": "code",
   "execution_count": 1,
   "id": "abf157b6-97e0-4f4a-87e4-9a569cccea82",
   "metadata": {
    "tags": []
   },
   "outputs": [],
   "source": [
    "%%capture\n",
    "!pip install lightgbm==3.3.2\n",
    "!pip install catboost==1.2.2\n",
    "!pip install xgboost==2.0.3\n",
    "!pip install optuna\n",
    "!pip install timm\n",
    "!pip install pyspellchecker\n",
    "!pip install https://github.com/explosion/spacy-models/releases/download/en_core_web_sm-3.1.0/en_core_web_sm-3.1.0.tar.gz"
   ]
  },
  {
   "cell_type": "code",
   "execution_count": 2,
   "id": "46c37c15-fc68-40cd-8dcb-9a1b23bf8cf9",
   "metadata": {
    "tags": []
   },
   "outputs": [
    {
     "name": "stdout",
     "output_type": "stream",
     "text": [
      "3.3.2\n",
      "1.2.2\n",
      "2.0.3\n"
     ]
    },
    {
     "name": "stderr",
     "output_type": "stream",
     "text": [
      "2024-11-24 03:43:25.710029: E external/local_xla/xla/stream_executor/cuda/cuda_dnn.cc:9261] Unable to register cuDNN factory: Attempting to register factory for plugin cuDNN when one has already been registered\n",
      "2024-11-24 03:43:25.710133: E external/local_xla/xla/stream_executor/cuda/cuda_fft.cc:607] Unable to register cuFFT factory: Attempting to register factory for plugin cuFFT when one has already been registered\n",
      "2024-11-24 03:43:26.060621: E external/local_xla/xla/stream_executor/cuda/cuda_blas.cc:1515] Unable to register cuBLAS factory: Attempting to register factory for plugin cuBLAS when one has already been registered\n",
      "2024-11-24 03:43:26.903336: I tensorflow/core/platform/cpu_feature_guard.cc:182] This TensorFlow binary is optimized to use available CPU instructions in performance-critical operations.\n",
      "To enable the following instructions: AVX2 FMA, in other operations, rebuild TensorFlow with the appropriate compiler flags.\n",
      "2024-11-24 03:43:28.710971: W tensorflow/compiler/tf2tensorrt/utils/py_utils.cc:38] TF-TRT Warning: Could not find TensorRT\n"
     ]
    }
   ],
   "source": [
    "import pandas as pd\n",
    "import numpy as np\n",
    "from time import time\n",
    "import re\n",
    "import gc\n",
    "import shutil\n",
    "import os\n",
    "import math\n",
    "import random\n",
    "import importlib\n",
    "import warnings\n",
    "import pickle\n",
    "import joblib\n",
    "from tqdm import tqdm\n",
    "import sys\n",
    "sys.path.append('utils')\n",
    "from pathlib import Path\n",
    "import string\n",
    "\n",
    "from scipy.stats import skew, kurtosis\n",
    "from collections import Counter,defaultdict\n",
    "from matplotlib.colors import ListedColormap, LinearSegmentedColormap\n",
    "import matplotlib.pyplot as plt\n",
    "\n",
    "import lightgbm as lgb\n",
    "import catboost as cat, gc\n",
    "import xgboost\n",
    "\n",
    "print(lgb.__version__)\n",
    "print(cat.__version__)\n",
    "print(xgboost.__version__)\n",
    "\n",
    "from lightgbm import LGBMRegressor, LGBMClassifier\n",
    "from catboost import CatBoostRegressor, CatBoostClassifier, Pool\n",
    "from sklearn.svm import SVR\n",
    "from xgboost import XGBRegressor, XGBClassifier\n",
    "\n",
    "import optuna\n",
    "\n",
    "from sklearn.model_selection import KFold, StratifiedKFold, GroupKFold, StratifiedGroupKFold\n",
    "from sklearn.preprocessing import MinMaxScaler\n",
    "from sklearn.impute import SimpleImputer\n",
    "from sklearn.metrics import mean_squared_error\n",
    "from sklearn.metrics import log_loss\n",
    "\n",
    "from sklearn.feature_extraction.text import CountVectorizer,TfidfVectorizer, HashingVectorizer\n",
    "\n",
    "import timm\n",
    "import torch\n",
    "import torch.nn as nn\n",
    "import torch.optim as optim\n",
    "from torch.optim import lr_scheduler\n",
    "from torch.cuda import amp\n",
    "import torch.nn.functional as F\n",
    "\n",
    "from transformers import AutoModel,AutoTokenizer\n",
    "from transformers import AutoModel, AutoTokenizer, AdamW, DataCollatorWithPadding\n",
    "\n",
    "warnings.simplefilter('ignore')\n",
    "warnings.filterwarnings('ignore')\n",
    "\n",
    "# import albumentations as A\n",
    "# print(A.__version__)\n",
    "# from albumentations.pytorch import ToTensorV2\n"
   ]
  },
  {
   "cell_type": "code",
   "execution_count": 3,
   "id": "496bb735-a4b3-4b0e-a119-138c96188225",
   "metadata": {
    "tags": []
   },
   "outputs": [],
   "source": [
    "class clr:\n",
    "    BLACK     = '\\033[30m'\n",
    "    RED       = '\\033[31m'\n",
    "    GREEN     = '\\033[32m'\n",
    "    YELLOW    = '\\033[33m'\n",
    "    BLUE      = '\\033[34m'\n",
    "    PURPLE    = '\\033[35m'\n",
    "    CYAN      = '\\033[36m'\n",
    "    WHITE     = '\\033[37m'\n",
    "    END       = '\\033[0m'\n",
    "    BOLD      = '\\033[1m'\n",
    "    UNDERLINE = '\\033[4m'\n",
    "    INVISIBLE = '\\033[08m'\n",
    "    REVERCE   = '\\033[07m'\n",
    "    S = '\\033[1m' + '\\033[95m'\n",
    "    E = '\\033[0m'\n",
    "\n",
    "my_colors = [\"#761D80\", \"#9926A6\", \"#9C69C9\",\n",
    "             \"#6C91BF\", \"#58BCC6\", \"#4AD1B2\",\n",
    "             \"#4BF1B2\"]\n",
    "\n",
    "CMAP1 = ListedColormap(my_colors)"
   ]
  },
  {
   "cell_type": "code",
   "execution_count": 4,
   "id": "4e6b9a9a-9557-4608-86e5-b125035bda32",
   "metadata": {
    "tags": []
   },
   "outputs": [],
   "source": [
    "def red(x):\n",
    "    return clr.RED+f'{x}'+clr.END"
   ]
  },
  {
   "cell_type": "markdown",
   "id": "2a11c8e8-a978-404a-b830-0ec4641c48f9",
   "metadata": {
    "tags": []
   },
   "source": [
    "# **CONFIG**"
   ]
  },
  {
   "cell_type": "code",
   "execution_count": 5,
   "id": "25421f99-c8ae-49f8-bcb0-0025180e7cb3",
   "metadata": {
    "tags": []
   },
   "outputs": [],
   "source": [
    "train_path = 'data/train.csv'\n",
    "train_con_path = 'data/concepts.csv'\n",
    "\n",
    "test_path = 'data/test.csv'\n",
    "sub_path = 'data/sample_submission.csv'"
   ]
  },
  {
   "cell_type": "code",
   "execution_count": 6,
   "id": "3d06bdb8-22cb-44a8-8b79-5c6864722241",
   "metadata": {
    "tags": []
   },
   "outputs": [],
   "source": [
    "train = pd.read_csv(train_path)\n",
    "concept = pd.read_csv(train_con_path)\n",
    "test = pd.read_csv(test_path)\n",
    "submission = pd.read_csv(sub_path)"
   ]
  },
  {
   "cell_type": "code",
   "execution_count": 7,
   "id": "47fee340-017d-4ad2-bad7-be62715fafc6",
   "metadata": {
    "tags": []
   },
   "outputs": [
    {
     "data": {
      "text/plain": [
       "['num_wins_agent1', 'num_draws_agent1', 'num_losses_agent1', 'utility_agent1']"
      ]
     },
     "execution_count": 7,
     "metadata": {},
     "output_type": "execute_result"
    }
   ],
   "source": [
    "TARGETS = train.columns[-4:].tolist()\n",
    "TARGETS"
   ]
  },
  {
   "cell_type": "code",
   "execution_count": 8,
   "id": "1e2ef441-f9fc-41f0-a9c0-ca99887ffb6e",
   "metadata": {
    "tags": []
   },
   "outputs": [
    {
     "data": {
      "text/html": [
       "<div>\n",
       "<style scoped>\n",
       "    .dataframe tbody tr th:only-of-type {\n",
       "        vertical-align: middle;\n",
       "    }\n",
       "\n",
       "    .dataframe tbody tr th {\n",
       "        vertical-align: top;\n",
       "    }\n",
       "\n",
       "    .dataframe thead th {\n",
       "        text-align: right;\n",
       "    }\n",
       "</style>\n",
       "<table border=\"1\" class=\"dataframe\">\n",
       "  <thead>\n",
       "    <tr style=\"text-align: right;\">\n",
       "      <th></th>\n",
       "      <th>Id</th>\n",
       "      <th>Name</th>\n",
       "      <th>Description</th>\n",
       "      <th>TypeId</th>\n",
       "      <th>DataTypeId</th>\n",
       "      <th>ComputationTypeId</th>\n",
       "      <th>TaxonomyString</th>\n",
       "      <th>LeafNode</th>\n",
       "      <th>ShowOnWebsite</th>\n",
       "    </tr>\n",
       "  </thead>\n",
       "  <tbody>\n",
       "    <tr>\n",
       "      <th>0</th>\n",
       "      <td>1</td>\n",
       "      <td>Properties</td>\n",
       "      <td>General properties of the game.</td>\n",
       "      <td>1</td>\n",
       "      <td>1</td>\n",
       "      <td>1</td>\n",
       "      <td>1</td>\n",
       "      <td>0</td>\n",
       "      <td>0</td>\n",
       "    </tr>\n",
       "    <tr>\n",
       "      <th>1</th>\n",
       "      <td>2</td>\n",
       "      <td>Format</td>\n",
       "      <td>Format of the game.</td>\n",
       "      <td>1</td>\n",
       "      <td>1</td>\n",
       "      <td>1</td>\n",
       "      <td>1.1</td>\n",
       "      <td>0</td>\n",
       "      <td>0</td>\n",
       "    </tr>\n",
       "    <tr>\n",
       "      <th>2</th>\n",
       "      <td>3</td>\n",
       "      <td>Time</td>\n",
       "      <td>Time model.</td>\n",
       "      <td>1</td>\n",
       "      <td>1</td>\n",
       "      <td>1</td>\n",
       "      <td>1.1.1</td>\n",
       "      <td>0</td>\n",
       "      <td>0</td>\n",
       "    </tr>\n",
       "    <tr>\n",
       "      <th>3</th>\n",
       "      <td>4</td>\n",
       "      <td>Discrete</td>\n",
       "      <td>Players move at discrete intervals.</td>\n",
       "      <td>1</td>\n",
       "      <td>1</td>\n",
       "      <td>1</td>\n",
       "      <td>1.1.1.1</td>\n",
       "      <td>1</td>\n",
       "      <td>1</td>\n",
       "    </tr>\n",
       "    <tr>\n",
       "      <th>4</th>\n",
       "      <td>5</td>\n",
       "      <td>Realtime</td>\n",
       "      <td>Moves not discrete.</td>\n",
       "      <td>1</td>\n",
       "      <td>1</td>\n",
       "      <td>1</td>\n",
       "      <td>1.1.1.2</td>\n",
       "      <td>1</td>\n",
       "      <td>1</td>\n",
       "    </tr>\n",
       "  </tbody>\n",
       "</table>\n",
       "</div>"
      ],
      "text/plain": [
       "   Id        Name                          Description  TypeId  DataTypeId  \\\n",
       "0   1  Properties      General properties of the game.       1           1   \n",
       "1   2      Format                  Format of the game.       1           1   \n",
       "2   3        Time                          Time model.       1           1   \n",
       "3   4    Discrete  Players move at discrete intervals.       1           1   \n",
       "4   5    Realtime                  Moves not discrete.       1           1   \n",
       "\n",
       "   ComputationTypeId TaxonomyString  LeafNode  ShowOnWebsite  \n",
       "0                  1              1         0              0  \n",
       "1                  1            1.1         0              0  \n",
       "2                  1          1.1.1         0              0  \n",
       "3                  1        1.1.1.1         1              1  \n",
       "4                  1        1.1.1.2         1              1  "
      ]
     },
     "execution_count": 8,
     "metadata": {},
     "output_type": "execute_result"
    }
   ],
   "source": [
    "concept.head()"
   ]
  },
  {
   "cell_type": "code",
   "execution_count": null,
   "id": "9d9c7f21-ced4-457f-838b-d279cc817d33",
   "metadata": {
    "tags": []
   },
   "outputs": [],
   "source": []
  },
  {
   "cell_type": "markdown",
   "id": "f63dbfa1-ffe6-4c1e-8cbd-fabf3e576dcd",
   "metadata": {},
   "source": [
    "\n",
    "* 残りの大部分の列は、この行でプレイされたゲームとルールセットの特性を説明します。<br>これらは、抽象的な特徴（そのゲームが確定的か確率的か？）から、具体的な特徴（ゲームが星形のボードを使用しているか？）までさまざまです。また、ルールがどのように記述されているかに関する特徴（例えば、ルールの中に「大なり比較」を含むものがあるか？）から、実際のゲームの挙動に関する特徴（例えば、完全にランダムなプレイアウトを初期状態から終了まで実行できる回数）まで多岐にわたります。詳細はLudiiウェブサイトの概念ページ、またはその関連出版物やconcepts.csvを参照してください。\n",
    "* num_[wins/draws/losses]_agent1 - （整数）このゲームとこの特定のエージェント2人の対戦において、1番目のエージェントが[勝った/引き分けた/負けた]回数です。\n",
    "* utility_agent1 - **（浮動小数点数）ターゲット列です。**<br>1番目のエージェントがこのゲームで受け取った報酬値で、シミュレーション全体の結果が集約されています。この値は-1（1番目のエージェントがすべてのゲームに負けた場合）から1（すべてのゲームに勝った場合）の間で変動します。ユーティリティは、(n_games_won - n_games_lost) / n_games という式で計算されます。"
   ]
  },
  {
   "cell_type": "code",
   "execution_count": 9,
   "id": "c4b732cd-8d0a-4f58-add7-7a50733e1ae1",
   "metadata": {
    "tags": []
   },
   "outputs": [],
   "source": [
    "# 0しかないcolmuns\n",
    "ignore_constant_col =  ['Properties', 'Format', 'Time', 'Discrete', \n",
    "                        'Realtime', 'Turns', 'Alternating', 'Simultaneous', \n",
    "                        'HiddenInformation', 'Match', 'AsymmetricRules', 'AsymmetricPlayRules', \n",
    "                        'AsymmetricEndRules', 'AsymmetricSetup', 'Players', 'NumPlayers', 'Simulation', \n",
    "                        'Solitaire', 'TwoPlayer', 'Multiplayer', 'Coalition', 'Puzzle', 'DeductionPuzzle', \n",
    "                        'PlanningPuzzle', 'Equipment', 'Container', 'Board', 'PrismShape', \n",
    "                        'ParallelogramShape', 'RectanglePyramidalShape', 'TargetShape', 'BrickTiling', \n",
    "                        'CelticTiling', 'QuadHexTiling', 'Hints', 'PlayableSites', 'Component', 'DiceD3',\n",
    "                        'BiasedDice', 'Card', 'Domino', 'Rules', 'SituationalTurnKo', 'SituationalSuperko', \n",
    "                        'InitialAmount', 'InitialPot', 'Play', 'BetDecision', 'BetDecisionFrequency', \n",
    "                        'VoteDecisionFrequency', 'ChooseTrumpSuitDecision', 'ChooseTrumpSuitDecisionFrequency',\n",
    "                        'LeapDecisionToFriend', 'LeapDecisionToFriendFrequency', 'HopDecisionEnemyToFriend', \n",
    "                        'HopDecisionEnemyToFriendFrequency', 'HopDecisionFriendToFriend', 'FromToDecisionWithinBoard', 'FromToDecisionBetweenContainers',\n",
    "                        'BetEffect', 'BetEffectFrequency', 'VoteEffectFrequency', 'SwapPlayersEffectFrequency', 'TakeControl', \n",
    "                        'TakeControlFrequency', 'PassEffectFrequency', 'SetCost', 'SetCostFrequency', 'SetPhase', \n",
    "                        'SetPhaseFrequency', 'SetTrumpSuit', 'SetTrumpSuitFrequency', 'StepEffectFrequency', 'SlideEffectFrequency', \n",
    "                        'LeapEffectFrequency', 'HopEffectFrequency', 'FromToEffectFrequency', 'SwapPiecesEffect', \n",
    "                        'SwapPiecesEffectFrequency', 'ShootEffect', 'ShootEffectFrequency', 'MaxCapture', 'OffDiagonalDirection', \n",
    "                        'Information', 'HidePieceType', 'HidePieceOwner', 'HidePieceCount', 'HidePieceRotation', 'HidePieceValue', \n",
    "                        'HidePieceState', 'InvisiblePiece', 'End', 'LineDrawFrequency', 'ConnectionDraw', 'ConnectionDrawFrequency', \n",
    "                        'GroupLossFrequency', 'GroupDrawFrequency', 'LoopLossFrequency', 'LoopDraw', 'LoopDrawFrequency', \n",
    "                        'PatternLoss', 'PatternLossFrequency', 'PatternDraw', 'PatternDrawFrequency', 'PathExtentEndFrequency', \n",
    "                        'PathExtentWinFrequency', 'PathExtentLossFrequency', 'PathExtentDraw', 'PathExtentDrawFrequency', \n",
    "                        'TerritoryLoss', 'TerritoryLossFrequency', 'TerritoryDraw', 'TerritoryDrawFrequency', 'CheckmateLoss',\n",
    "                        'CheckmateLossFrequency', 'CheckmateDraw', 'CheckmateDrawFrequency', 'NoTargetPieceLoss', \n",
    "                        'NoTargetPieceLossFrequency', 'NoTargetPieceDraw', 'NoTargetPieceDrawFrequency', 'NoOwnPiecesDraw', \n",
    "                        'NoOwnPiecesDrawFrequency', 'FillLoss', 'FillLossFrequency', 'FillDraw', 'FillDrawFrequency', \n",
    "                        'ScoringDrawFrequency', 'NoProgressWin', 'NoProgressWinFrequency', 'NoProgressLoss', \n",
    "                        'NoProgressLossFrequency', 'SolvedEnd', 'PositionalRepetition', 'SituationalRepetition', 'Narrowness', \n",
    "                        'Variance', 'DecisivenessMoves', 'DecisivenessThreshold', 'LeadChange', 'Stability', 'DramaAverage', \n",
    "                        'DramaMedian', 'DramaMaximum', 'DramaMinimum', 'DramaVariance', 'DramaChangeAverage', 'DramaChangeSign', \n",
    "                        'DramaChangeLineBestFit', 'DramaChangeNumTimes', 'DramaMaxIncrease', 'DramaMaxDecrease', \n",
    "                        'MoveEvaluationAverage', 'MoveEvaluationMedian', 'MoveEvaluationMaximum', 'MoveEvaluationMinimum', \n",
    "                        'MoveEvaluationVariance', 'MoveEvaluationChangeAverage', 'MoveEvaluationChangeSign', \n",
    "                        'MoveEvaluationChangeLineBestFit', 'MoveEvaluationChangeNumTimes', 'MoveEvaluationMaxIncrease', \n",
    "                        'MoveEvaluationMaxDecrease', 'StateEvaluationDifferenceAverage', 'StateEvaluationDifferenceMedian', \n",
    "                        'StateEvaluationDifferenceMaximum', 'StateEvaluationDifferenceMinimum', 'StateEvaluationDifferenceVariance', \n",
    "                        'StateEvaluationDifferenceChangeAverage', 'StateEvaluationDifferenceChangeSign', \n",
    "                        'StateEvaluationDifferenceChangeLineBestFit', 'StateEvaluationDifferenceChangeNumTimes', \n",
    "                        'StateEvaluationDifferenceMaxIncrease', 'StateEvaluationDifferenceMaxDecrease', 'BoardSitesOccupiedMinimum',\n",
    "                        'BranchingFactorMinimum', 'DecisionFactorMinimum', 'MoveDistanceMinimum', 'PieceNumberMinimum', \n",
    "                        'ScoreDifferenceMinimum', 'ScoreDifferenceChangeNumTimes', 'Roots', 'Cosine', 'Sine', 'Tangent', \n",
    "                        'Exponential', 'Logarithm', 'ExclusiveDisjunction', 'Float', 'HandComponent', 'SetHidden', 'SetInvisible', \n",
    "                        'SetHiddenCount', 'SetHiddenRotation', 'SetHiddenState', 'SetHiddenValue', 'SetHiddenWhat', 'SetHiddenWho']\n"
   ]
  },
  {
   "cell_type": "code",
   "execution_count": 10,
   "id": "95467e41-614e-4f2e-878a-1cd491ca8456",
   "metadata": {
    "tags": []
   },
   "outputs": [],
   "source": [
    "ignore_null_col = ['Behaviour', 'StateRepetition', 'Duration', 'Complexity', 'BoardCoverage', \n",
    "                   'GameOutcome', 'StateEvaluation', 'Clarity', 'Decisiveness', 'Drama', 'MoveEvaluation', \n",
    "                   'StateEvaluationDifference', 'BoardSitesOccupied','BranchingFactor', \n",
    "                   'DecisionFactor', 'MoveDistance', 'PieceNumber', 'ScoreDifference']"
   ]
  },
  {
   "cell_type": "code",
   "execution_count": 11,
   "id": "e4b2d78f-3582-4b7d-9613-8690886dd4ac",
   "metadata": {
    "tags": []
   },
   "outputs": [],
   "source": [
    "# pairs_col = ['AsymmetricForces', 'AsymmetricPiecesType', 'BackwardRightDirection', \n",
    "#              'CircleTiling', 'ForwardRightDirection', 'LeftwardDirection', 'LeftwardsDirection', \n",
    "#              'LoopEnd', 'LoopLoss', 'LoopWinFrequency', 'MancalaStyle', 'NoProgressDrawFrequency', \n",
    "#              'NumPerimeterSites', 'PathExtent', 'PathExtentEnd', 'PathExtentLoss', 'PathExtentWin', \n",
    "#              'PatternWin', 'PatternWinFrequency', 'PieceDirection', 'Roll', 'SetRotation',\n",
    "#              'SetRotationFrequency', 'ShibumiStyle', 'Sow', 'SowOriginFirst', 'SpiralTiling', \n",
    "#              'StackState', 'SwapOption', 'Team', 'TerritoryEnd', 'TerritoryWin', 'TerritoryWinFrequency']"
   ]
  },
  {
   "cell_type": "code",
   "execution_count": 12,
   "id": "ad5a03db-9287-4b2a-8467-bd22f7113504",
   "metadata": {
    "tags": []
   },
   "outputs": [],
   "source": [
    "# print(train.shape)\n",
    "# train.drop(['Id']+ignore_null_col+ignore_constant_col, axis=1, inplace=True)\n",
    "# train.shape"
   ]
  },
  {
   "cell_type": "code",
   "execution_count": 13,
   "id": "73fafd0c-8557-4581-86e3-1d240b77a361",
   "metadata": {
    "tags": []
   },
   "outputs": [
    {
     "data": {
      "text/html": [
       "<div>\n",
       "<style scoped>\n",
       "    .dataframe tbody tr th:only-of-type {\n",
       "        vertical-align: middle;\n",
       "    }\n",
       "\n",
       "    .dataframe tbody tr th {\n",
       "        vertical-align: top;\n",
       "    }\n",
       "\n",
       "    .dataframe thead th {\n",
       "        text-align: right;\n",
       "    }\n",
       "</style>\n",
       "<table border=\"1\" class=\"dataframe\">\n",
       "  <thead>\n",
       "    <tr style=\"text-align: right;\">\n",
       "      <th></th>\n",
       "      <th>Id</th>\n",
       "      <th>GameRulesetName</th>\n",
       "      <th>agent1</th>\n",
       "      <th>agent2</th>\n",
       "      <th>Properties</th>\n",
       "      <th>Format</th>\n",
       "      <th>Time</th>\n",
       "      <th>Discrete</th>\n",
       "      <th>Realtime</th>\n",
       "      <th>Turns</th>\n",
       "      <th>...</th>\n",
       "      <th>DoLudeme</th>\n",
       "      <th>Trigger</th>\n",
       "      <th>PlayoutsPerSecond</th>\n",
       "      <th>MovesPerSecond</th>\n",
       "      <th>EnglishRules</th>\n",
       "      <th>LudRules</th>\n",
       "      <th>num_wins_agent1</th>\n",
       "      <th>num_draws_agent1</th>\n",
       "      <th>num_losses_agent1</th>\n",
       "      <th>utility_agent1</th>\n",
       "    </tr>\n",
       "  </thead>\n",
       "  <tbody>\n",
       "    <tr>\n",
       "      <th>0</th>\n",
       "      <td>0</td>\n",
       "      <td>00Y</td>\n",
       "      <td>MCTS-ProgressiveHistory-0.1-MAST-false</td>\n",
       "      <td>MCTS-ProgressiveHistory-0.6-Random200-false</td>\n",
       "      <td>1</td>\n",
       "      <td>1</td>\n",
       "      <td>1</td>\n",
       "      <td>1</td>\n",
       "      <td>0</td>\n",
       "      <td>1</td>\n",
       "      <td>...</td>\n",
       "      <td>0</td>\n",
       "      <td>1</td>\n",
       "      <td>298.07</td>\n",
       "      <td>18877.17</td>\n",
       "      <td>Goal: Connect all three edge colors with a sin...</td>\n",
       "      <td>(game \"00'Y'\" (players 2) (equipment { (board ...</td>\n",
       "      <td>4</td>\n",
       "      <td>0</td>\n",
       "      <td>11</td>\n",
       "      <td>-0.466667</td>\n",
       "    </tr>\n",
       "    <tr>\n",
       "      <th>1</th>\n",
       "      <td>1</td>\n",
       "      <td>00Y</td>\n",
       "      <td>MCTS-ProgressiveHistory-0.1-MAST-false</td>\n",
       "      <td>MCTS-UCB1GRAVE-0.6-NST-true</td>\n",
       "      <td>1</td>\n",
       "      <td>1</td>\n",
       "      <td>1</td>\n",
       "      <td>1</td>\n",
       "      <td>0</td>\n",
       "      <td>1</td>\n",
       "      <td>...</td>\n",
       "      <td>0</td>\n",
       "      <td>1</td>\n",
       "      <td>298.07</td>\n",
       "      <td>18877.17</td>\n",
       "      <td>Goal: Connect all three edge colors with a sin...</td>\n",
       "      <td>(game \"00'Y'\" (players 2) (equipment { (board ...</td>\n",
       "      <td>5</td>\n",
       "      <td>0</td>\n",
       "      <td>10</td>\n",
       "      <td>-0.333333</td>\n",
       "    </tr>\n",
       "  </tbody>\n",
       "</table>\n",
       "<p>2 rows × 814 columns</p>\n",
       "</div>"
      ],
      "text/plain": [
       "   Id GameRulesetName                                  agent1  \\\n",
       "0   0             00Y  MCTS-ProgressiveHistory-0.1-MAST-false   \n",
       "1   1             00Y  MCTS-ProgressiveHistory-0.1-MAST-false   \n",
       "\n",
       "                                        agent2  Properties  Format  Time  \\\n",
       "0  MCTS-ProgressiveHistory-0.6-Random200-false           1       1     1   \n",
       "1                  MCTS-UCB1GRAVE-0.6-NST-true           1       1     1   \n",
       "\n",
       "   Discrete  Realtime  Turns  ...  DoLudeme  Trigger  PlayoutsPerSecond  \\\n",
       "0         1         0      1  ...         0        1             298.07   \n",
       "1         1         0      1  ...         0        1             298.07   \n",
       "\n",
       "   MovesPerSecond                                       EnglishRules  \\\n",
       "0        18877.17  Goal: Connect all three edge colors with a sin...   \n",
       "1        18877.17  Goal: Connect all three edge colors with a sin...   \n",
       "\n",
       "                                            LudRules  num_wins_agent1  \\\n",
       "0  (game \"00'Y'\" (players 2) (equipment { (board ...                4   \n",
       "1  (game \"00'Y'\" (players 2) (equipment { (board ...                5   \n",
       "\n",
       "   num_draws_agent1  num_losses_agent1  utility_agent1  \n",
       "0                 0                 11       -0.466667  \n",
       "1                 0                 10       -0.333333  \n",
       "\n",
       "[2 rows x 814 columns]"
      ]
     },
     "execution_count": 13,
     "metadata": {},
     "output_type": "execute_result"
    }
   ],
   "source": [
    "train.head(2)"
   ]
  },
  {
   "cell_type": "code",
   "execution_count": 14,
   "id": "8aefe2ab-4e24-4c0c-b5eb-cc53a105c0b2",
   "metadata": {
    "tags": []
   },
   "outputs": [
    {
     "data": {
      "text/plain": [
       "['GameRulesetName', 'agent1', 'agent2', 'EnglishRules', 'LudRules']"
      ]
     },
     "metadata": {},
     "output_type": "display_data"
    },
    {
     "name": "stdout",
     "output_type": "stream",
     "text": [
      "category_col: \u001b[31m5\u001b[0m\n",
      "numeric_col: \u001b[31m809\u001b[0m\n"
     ]
    }
   ],
   "source": [
    "#######\n",
    "# Categorycal dataは、['GameRulesetName', 'agent1', 'agent2', 'EnglishRules', 'LudRules']の5つ\n",
    "#######\n",
    "category_col = train.select_dtypes(include=['object', 'category']).columns.to_list()\n",
    "num_col = train.select_dtypes(include=['number']).columns.to_list()\n",
    "\n",
    "display(category_col)\n",
    "print(f'category_col: {red(len(category_col))}')\n",
    "print(f'numeric_col: {red(len(num_col))}')"
   ]
  },
  {
   "cell_type": "markdown",
   "id": "cc7d116d-c791-4cf0-9275-17557f328e27",
   "metadata": {
    "tags": []
   },
   "source": [
    "# **TARGET**"
   ]
  },
  {
   "cell_type": "code",
   "execution_count": 15,
   "id": "225602a9-a53a-40bd-bc46-2b2667c8fb89",
   "metadata": {
    "tags": []
   },
   "outputs": [
    {
     "data": {
      "image/png": "[encoded data removed]",
      "text/plain": [
       "<Figure size 640x480 with 1 Axes>"
      ]
     },
     "metadata": {},
     "output_type": "display_data"
    }
   ],
   "source": [
    "TARGET = 'utility_agent1'\n",
    "tmp = train[TARGET]\n",
    "plt.hist(tmp, edgecolor='black')\n",
    "plt.title('Histgram of target')\n",
    "plt.xlabel('utility_agent1')\n",
    "plt.ylabel('count')\n",
    "\n",
    "mean_value = tmp.mean()\n",
    "plt.axvline(mean_value, \n",
    "            color='red', \n",
    "            linestyle='dashed',\n",
    "            linewidth=2, \n",
    "            label=f'Mean: {mean_value:.6f}')\n",
    "plt.legend()\n",
    "plt.show()"
   ]
  },
  {
   "cell_type": "markdown",
   "id": "51190e49-c57c-43e1-ad0f-bdbcdd0c46de",
   "metadata": {
    "tags": []
   },
   "source": [
    "# **CATEGORYCAL DATA**"
   ]
  },
  {
   "cell_type": "code",
   "execution_count": 16,
   "id": "70dcfd15-e63f-4f49-a29e-c05844eff861",
   "metadata": {
    "tags": []
   },
   "outputs": [
    {
     "data": {
      "text/html": [
       "<div>\n",
       "<style scoped>\n",
       "    .dataframe tbody tr th:only-of-type {\n",
       "        vertical-align: middle;\n",
       "    }\n",
       "\n",
       "    .dataframe tbody tr th {\n",
       "        vertical-align: top;\n",
       "    }\n",
       "\n",
       "    .dataframe thead th {\n",
       "        text-align: right;\n",
       "    }\n",
       "</style>\n",
       "<table border=\"1\" class=\"dataframe\">\n",
       "  <thead>\n",
       "    <tr style=\"text-align: right;\">\n",
       "      <th></th>\n",
       "      <th>GameRulesetName</th>\n",
       "      <th>agent1</th>\n",
       "      <th>agent2</th>\n",
       "      <th>EnglishRules</th>\n",
       "      <th>LudRules</th>\n",
       "    </tr>\n",
       "  </thead>\n",
       "  <tbody>\n",
       "    <tr>\n",
       "      <th>0</th>\n",
       "      <td>00Y</td>\n",
       "      <td>MCTS-ProgressiveHistory-0.1-MAST-false</td>\n",
       "      <td>MCTS-ProgressiveHistory-0.6-Random200-false</td>\n",
       "      <td>Goal: Connect all three edge colors with a sin...</td>\n",
       "      <td>(game \"00'Y'\" (players 2) (equipment { (board ...</td>\n",
       "    </tr>\n",
       "    <tr>\n",
       "      <th>1</th>\n",
       "      <td>00Y</td>\n",
       "      <td>MCTS-ProgressiveHistory-0.1-MAST-false</td>\n",
       "      <td>MCTS-UCB1GRAVE-0.6-NST-true</td>\n",
       "      <td>Goal: Connect all three edge colors with a sin...</td>\n",
       "      <td>(game \"00'Y'\" (players 2) (equipment { (board ...</td>\n",
       "    </tr>\n",
       "    <tr>\n",
       "      <th>2</th>\n",
       "      <td>00Y</td>\n",
       "      <td>MCTS-ProgressiveHistory-0.1-MAST-true</td>\n",
       "      <td>MCTS-UCB1-0.1-NST-false</td>\n",
       "      <td>Goal: Connect all three edge colors with a sin...</td>\n",
       "      <td>(game \"00'Y'\" (players 2) (equipment { (board ...</td>\n",
       "    </tr>\n",
       "  </tbody>\n",
       "</table>\n",
       "</div>"
      ],
      "text/plain": [
       "  GameRulesetName                                  agent1  \\\n",
       "0             00Y  MCTS-ProgressiveHistory-0.1-MAST-false   \n",
       "1             00Y  MCTS-ProgressiveHistory-0.1-MAST-false   \n",
       "2             00Y   MCTS-ProgressiveHistory-0.1-MAST-true   \n",
       "\n",
       "                                        agent2  \\\n",
       "0  MCTS-ProgressiveHistory-0.6-Random200-false   \n",
       "1                  MCTS-UCB1GRAVE-0.6-NST-true   \n",
       "2                      MCTS-UCB1-0.1-NST-false   \n",
       "\n",
       "                                        EnglishRules  \\\n",
       "0  Goal: Connect all three edge colors with a sin...   \n",
       "1  Goal: Connect all three edge colors with a sin...   \n",
       "2  Goal: Connect all three edge colors with a sin...   \n",
       "\n",
       "                                            LudRules  \n",
       "0  (game \"00'Y'\" (players 2) (equipment { (board ...  \n",
       "1  (game \"00'Y'\" (players 2) (equipment { (board ...  \n",
       "2  (game \"00'Y'\" (players 2) (equipment { (board ...  "
      ]
     },
     "metadata": {},
     "output_type": "display_data"
    }
   ],
   "source": [
    "####\n",
    "# categorycal dataの分析\n",
    "####\n",
    "category_data = train[category_col]\n",
    "display(category_data.head(3))"
   ]
  },
  {
   "cell_type": "markdown",
   "id": "0af6b7f8-d587-475a-a488-76267b1662a6",
   "metadata": {
    "tags": []
   },
   "source": [
    "## **GameRulesetName**"
   ]
  },
  {
   "cell_type": "code",
   "execution_count": 17,
   "id": "c73e3b5a-6c17-4e1d-af7f-01b02d10a8ab",
   "metadata": {
    "collapsed": true,
    "jupyter": {
     "outputs_hidden": true
    },
    "tags": []
   },
   "outputs": [
    {
     "name": "stdout",
     "output_type": "stream",
     "text": [
      "1377\n"
     ]
    },
    {
     "data": {
      "text/plain": [
       "['00Y',\n",
       " '1D_Chess',\n",
       " '20_SquaresSeleucid_Scholarly',\n",
       " '3D_Tic-Tac-Toe',\n",
       " '4_Squared',\n",
       " '58_HolesCarnarvon_and_Carter_D6_Suggested',\n",
       " '58_HolesCarnarvon_and_Carter_Suggested',\n",
       " '58_HolesCarter_Crossover_1_D4_Suggested',\n",
       " '58_HolesCarter_Crossover_1_D6_Suggested',\n",
       " '58_HolesCarter_Crossover_1_Suggested',\n",
       " '58_HolesCarter_Crossover_2_D4_Suggested',\n",
       " '58_HolesCarter_Crossover_2_D6_Suggested',\n",
       " '58_HolesCarter_Crossover_2_Suggested',\n",
       " '58_HolesCarter_Crossover_3_D4_Suggested',\n",
       " '58_HolesCarter_Crossover_3_D6_Suggested',\n",
       " '58_HolesCarter_Crossover_3_Suggested',\n",
       " '58_HolesCarter_Crossover_4_D4_Suggested',\n",
       " '58_HolesCarter_Crossover_4_D6_Suggested',\n",
       " '58_HolesCarter_Crossover_4_Suggested',\n",
       " '58_HolesCarter_Crossover_5_D4_Suggested',\n",
       " '58_HolesCarter_Crossover_5_D6_Suggested',\n",
       " '58_HolesCarter_Crossover_5_Suggested',\n",
       " '58_HolesCarter_Marked_Holes_D4_Suggested',\n",
       " '58_HolesCarter_Marked_Holes_D6_Suggested',\n",
       " '58_HolesCarter_Marked_Holes_Suggested',\n",
       " '58_HolesCarter_Unmarked_D4_Suggested',\n",
       " '58_HolesCarter_Unmarked_D6_Suggested',\n",
       " '58_HolesCarter_Unmarked_Suggested',\n",
       " '58_HolesCarter_and_Carnarvon_D4_Suggested',\n",
       " '58_HolesTab_Crossover_1_D4_Suggested',\n",
       " '58_HolesTab_Crossover_1_D6_Suggested',\n",
       " '58_HolesTab_Crossover_2_D4_Suggested',\n",
       " '58_HolesTab_Crossover_2_D6_Suggested',\n",
       " '58_HolesTab_Crossover_2_Suggested',\n",
       " '58_HolesTab_Crossover_3_D4_Suggested',\n",
       " '58_HolesTab_Crossover_3_D6_Suggested',\n",
       " '58_HolesTab_Crossover_3_Suggested',\n",
       " '58_HolesTab_Crossover_4_D4_Suggested',\n",
       " '58_HolesTab_Crossover_4_D6_Suggested',\n",
       " '58_HolesTab_Crossover_4_Suggested',\n",
       " '58_HolesTab_Crossover_5_D4_Suggested',\n",
       " '58_HolesTab_Crossover_5_D6_Suggested',\n",
       " '58_HolesTab_Crossover_5_Suggested',\n",
       " '58_HolesTab_Crosssover_1_Suggested',\n",
       " '58_HolesTab_Marked_Safe_D4_Suggested',\n",
       " '58_HolesTab_Marked_Safe_D6_Suggested',\n",
       " '58_HolesTab_Marked_Safe_Suggested',\n",
       " '58_HolesTab_Marked_Throw_D4_Suggested',\n",
       " '58_HolesTab_Marked_Throw_D6_Suggested',\n",
       " '58_HolesTab_Marked_Throw_Suggested',\n",
       " '58_HolesTab_Parallel_Connections_D4_Suggested',\n",
       " '58_HolesTab_Parallel_Connections_D6_Suggested',\n",
       " '58_HolesTab_Parallel_Connections_Suggested',\n",
       " '58_HolesTab_Unmarked_D4_Suggested',\n",
       " '58_HolesTab_Unmarked_D6_Suggested',\n",
       " '58_HolesTab_Unmarked_Suggested',\n",
       " 'A_Simple_Game',\n",
       " 'Abak',\n",
       " 'Abalalae',\n",
       " 'Abrobad',\n",
       " 'Acedrex_Alfonso',\n",
       " 'AchiMurray_Described',\n",
       " 'AchiWikipedia_Suggested',\n",
       " 'Ad_elta_stelpur',\n",
       " 'Addi_Kul',\n",
       " 'Adhesion',\n",
       " 'Adi',\n",
       " 'Adidada',\n",
       " 'Adjiboto',\n",
       " 'Adugo',\n",
       " 'Agilidade',\n",
       " 'Agon',\n",
       " 'Ahtarah_Guti',\n",
       " 'Akidada',\n",
       " 'Ako_OkweMurray_Observed',\n",
       " 'Ako_OkweUmuahia_Observed',\n",
       " 'AksadyutaSyed_Scholarly',\n",
       " 'Alea_EvangeliiCyningstan_Suggested',\n",
       " 'Alice_Chess',\n",
       " 'All_Queens_Chess',\n",
       " 'Allemande',\n",
       " 'AlquerqueAlfonso_X_Described',\n",
       " 'AlquerqueCovarrubias_Described',\n",
       " 'AlquerqueMurray_Suggested',\n",
       " 'Alquerque_de_Tres',\n",
       " 'Altan_Xaraacaj',\n",
       " 'Altiev',\n",
       " 'Amazon_Chess',\n",
       " 'Amazons',\n",
       " 'American_Pool_Checkers',\n",
       " 'AndadaKunama_Described',\n",
       " 'Andantino',\n",
       " 'Andot',\n",
       " 'Annuvin',\n",
       " 'Aqrad',\n",
       " 'Aralzaa',\n",
       " 'Archimedes',\n",
       " 'ArdRi',\n",
       " 'Arimaa',\n",
       " 'Asalto',\n",
       " 'Ashta-kashteFalkener_Described',\n",
       " 'AshtapadaKile_Suggested',\n",
       " 'Astralesce_and_Constellation',\n",
       " 'At-Tab_wa-d-Dukkat-Tab_wa-d-Dukk_Observed',\n",
       " 'Atari_Go',\n",
       " 'Ataxx',\n",
       " 'Atoll',\n",
       " 'Atomic_Chess',\n",
       " 'Aw-li_On-nam_Ot-tjinFive_Counters_Observed',\n",
       " 'Aw-li_On-nam_Ot-tjinFour_Counters_Observed',\n",
       " 'Aw-li_On-nam_Ot-tjinThree_Counters_Observed',\n",
       " 'Aw-li_On-nam_Ot-tjinTwo_Counters_Observed',\n",
       " 'Awagagae',\n",
       " 'Awangdu',\n",
       " 'Awari',\n",
       " 'Awithlaknan_Mosona',\n",
       " 'Azigo',\n",
       " 'Azteka',\n",
       " 'Backgammon',\n",
       " 'Bagh_Bandi',\n",
       " 'Bagh_Batti',\n",
       " 'Bagh_GutiCyningstan_Suggested',\n",
       " 'Bagh_GutiKarwi_Described',\n",
       " 'Bagh_GutiMurray_Suggested',\n",
       " 'Bagha_Guti',\n",
       " 'BaghchalBaghachal_Observed',\n",
       " 'BaghchalBaghchal_Observed',\n",
       " 'BajrBajr_Large_Observed',\n",
       " 'BajrBajr_Medium_Observed',\n",
       " 'BajrBajr_Small_Observed',\n",
       " 'Bam_Blang_Beh_Khla',\n",
       " 'Bamboo',\n",
       " 'Bao',\n",
       " 'Bao_Ki_Arabu_Zanzibar_1',\n",
       " 'Bao_Ki_Arabu_Zanzibar_2',\n",
       " 'Bao_Kiswahili_DR_Congo',\n",
       " 'Bao_Kiswahili_East_Africa',\n",
       " 'Baqura',\n",
       " 'Bara_Guti',\n",
       " 'Bara_Guti_Bihar',\n",
       " 'Baralie',\n",
       " 'Barca',\n",
       " 'Bargese',\n",
       " 'Bashni',\n",
       " 'Bay_Khom',\n",
       " 'BechiKunama_Observed',\n",
       " 'BechiThree_Holes_Observed',\n",
       " 'Bheri_Bakhri',\n",
       " 'Bide',\n",
       " 'Bipartisan_Y',\n",
       " 'Bis_Gutiya',\n",
       " 'Bison',\n",
       " 'Bizingo',\n",
       " 'BlooGo',\n",
       " 'Blue_Nile',\n",
       " 'Bolotudu',\n",
       " 'Bombardment',\n",
       " 'Boseog_Gonu',\n",
       " 'Bosh',\n",
       " 'Bouge_Shodra',\n",
       " 'Boukerourou',\n",
       " 'Boxijn_Barildaan',\n",
       " 'Brain_Coral',\n",
       " 'Branching_Coral',\n",
       " 'BrandubNielsen_Suggested',\n",
       " 'Bravalath',\n",
       " 'Brazilian_Draughts',\n",
       " 'Breakback',\n",
       " 'Breakthrough',\n",
       " 'Breakthrough_Checkers',\n",
       " 'Breakthrough_Chess',\n",
       " 'Breakthru',\n",
       " 'Broken_Line',\n",
       " 'Brood',\n",
       " 'Brusky_Chess',\n",
       " 'Buffa_de_Baldrac',\n",
       " 'Bug',\n",
       " 'Buqruru',\n",
       " 'Buudal',\n",
       " 'Cab_e_QuinalCab_e_Quinal_Described',\n",
       " 'Cab_e_QuinalFixed_Die_Described',\n",
       " 'Cage',\n",
       " 'Callanish',\n",
       " 'Camelot',\n",
       " 'Canadian_DraughtsHuff_Rule_Described',\n",
       " 'Canadian_DraughtsStandard_Described',\n",
       " 'Cannon',\n",
       " 'Capture_the_Queen',\n",
       " 'Cascades',\n",
       " 'Castello',\n",
       " 'Catchup',\n",
       " 'Caturvimsatikosthakatmiki_Krida',\n",
       " 'Cavity',\n",
       " 'CeelkoqyuqkoqijiEagle_Observed',\n",
       " 'CeelkoqyuqkoqijiEqual_Cost_Observed',\n",
       " 'CeelkoqyuqkoqijiFourteen_holes_Observed',\n",
       " 'Center',\n",
       " 'Centrifugal_Force',\n",
       " 'Centripetal_Force',\n",
       " 'Cercar_La_LiebreAlfonso_X_Described',\n",
       " 'Cercar_La_LiebreMurray_Described',\n",
       " 'Chains_of_Thought',\n",
       " 'Challis_Ghutia',\n",
       " 'Challis_Ghutia_TitagarhChallis_Ghutia_Titagarh_Observed',\n",
       " 'Chameleon',\n",
       " 'Chandaraki',\n",
       " 'Chatur',\n",
       " 'ChaturangaElephant_Diagonal_Jump_Scholarly',\n",
       " 'ChaturangaElephant_Diagonal_Move_Scholarly',\n",
       " 'ChaturangaManasollasa_Described',\n",
       " 'Chaturanga_12x12',\n",
       " 'Chaturanga_14x14',\n",
       " 'Chaturanga_Kridakausalya',\n",
       " 'Chaturanga_Kridakausalya_14x14',\n",
       " 'Chaturanga_al-Adli',\n",
       " 'Chess',\n",
       " 'Chess_Puzzle',\n",
       " 'Chessence',\n",
       " 'Chiana_wa_BwaloChiana_wa_Bwalo_Observed',\n",
       " 'Chiana_wa_KunjaChiana_wa_Kunja_Observed',\n",
       " 'ChisoloNambidi_Observed',\n",
       " 'ChisoloNamudilakunze_Observed',\n",
       " 'ChisoloNatatu_Observed',\n",
       " 'ChisoloOne_counter_Observed',\n",
       " 'Choko',\n",
       " 'Chomp',\n",
       " 'Chong_Sakhalin',\n",
       " 'Chongka',\n",
       " 'ChonkaChonka_Described',\n",
       " 'Chopsticks',\n",
       " 'Choro_Acholi',\n",
       " 'Choro_Lango',\n",
       " 'Chu_Seireigi',\n",
       " 'Chukaray',\n",
       " 'Chungcajon',\n",
       " 'Ciri_Amber',\n",
       " 'Cittabhramanrpasya_Khelanam',\n",
       " 'Claim_Jumpers',\n",
       " 'Claustro',\n",
       " 'Clobber',\n",
       " 'Co_Chan_Cho',\n",
       " 'Coc-Inbert',\n",
       " 'Coil',\n",
       " 'Col',\n",
       " 'Compart',\n",
       " 'ConHex',\n",
       " 'Conflagration_and_Keep-a-riding',\n",
       " 'Connect6',\n",
       " 'Connect_Four',\n",
       " 'Conspirateurs',\n",
       " 'Contagion',\n",
       " 'Contrare_Puff',\n",
       " 'CoyoteMurray_Suggested',\n",
       " 'Cram',\n",
       " 'Crand',\n",
       " 'Cross',\n",
       " 'CrossGeo',\n",
       " 'Crossline',\n",
       " 'Crossway',\n",
       " 'Crusade',\n",
       " 'Currierspiel',\n",
       " 'Dablot_Prejjesne',\n",
       " 'DabudaAfar_Observed',\n",
       " 'DabudaDamohoita_Observed',\n",
       " 'Dai_Hasami_Shogi',\n",
       " 'Dai_Seireigi',\n",
       " 'Dala',\n",
       " 'DaldosOstergaard_and_Gaston_Scholarly',\n",
       " 'Daldosa',\n",
       " 'Dam',\n",
       " 'Dam_Hariman',\n",
       " 'Dam_Singapore',\n",
       " 'Dama',\n",
       " 'Dama_Alquerque',\n",
       " 'Dama_Comoros',\n",
       " 'Dama_Italy',\n",
       " 'Dama_Kenya',\n",
       " 'Dama_Philippines',\n",
       " 'Damas',\n",
       " 'Damenspiel',\n",
       " 'Damspel',\n",
       " 'Dara',\n",
       " 'Daramuti',\n",
       " 'Das_Bohnenspiel',\n",
       " 'Dash_Guti',\n",
       " 'De_Vasa_Chess',\n",
       " 'Defector_Y',\n",
       " 'Deka',\n",
       " 'Demala_Diviyan_Keliya',\n",
       " 'Diagonal_Draughts',\n",
       " 'Diagonal_Hex',\n",
       " 'Diagonals',\n",
       " 'Diagonals_2002',\n",
       " 'Diamond',\n",
       " 'Dice_Chess',\n",
       " 'Dice_Shogi',\n",
       " 'Dig_Dig',\n",
       " 'DisPath',\n",
       " 'Diviyan_Keliya',\n",
       " 'Djara-Badakh',\n",
       " 'Do_Guti',\n",
       " 'Doblet',\n",
       " 'Dodgem',\n",
       " 'Dodo',\n",
       " 'Dogtown_Clans',\n",
       " 'Domineering',\n",
       " 'Dongjintian',\n",
       " 'Dont_Mosey_and_The_Last_Scavenger',\n",
       " 'Doov',\n",
       " 'Dorvolz',\n",
       " 'Dorvon_Cag',\n",
       " 'Dots_and_Boxes',\n",
       " 'Double-Move_Situ',\n",
       " 'Double-Run_Stone',\n",
       " 'Double_Chess',\n",
       " 'Dra',\n",
       " 'Dragonchess',\n",
       " 'Driesticken',\n",
       " 'Dris_at-Talata',\n",
       " 'Dubblets',\n",
       " 'Duene',\n",
       " 'Duidoku',\n",
       " 'Dum_Blas',\n",
       " 'DuploHex',\n",
       " 'Ecosys',\n",
       " 'Egara_Guti',\n",
       " 'EinStein_Wurfelt_Nicht',\n",
       " 'El-Mthaltha',\n",
       " 'El_Cazador',\n",
       " 'El_Perro',\n",
       " 'El_Zorro',\n",
       " 'Elea',\n",
       " 'Emperador',\n",
       " 'En_GeheMerker_Observed',\n",
       " 'Engijn_Zirge',\n",
       " 'English_Draughts',\n",
       " 'English_Wari_St._Lucia',\n",
       " 'Enindji',\n",
       " 'Epelle',\n",
       " 'Epoxy',\n",
       " 'Equi_Game_SystemEqui_Described',\n",
       " 'Equi_Game_SystemEquiversi_2_Described',\n",
       " 'Equi_Game_SystemEquiversi_Described',\n",
       " 'Erherhe',\n",
       " 'Esa_Hex',\n",
       " 'Ethiopian_Capture_Game',\n",
       " 'Ex_Nihilo',\n",
       " 'FairKalah',\n",
       " 'Fallas',\n",
       " 'Fang',\n",
       " 'Fanorona',\n",
       " 'Fanorona_Telo',\n",
       " 'Faraday',\n",
       " 'Fart_5x5',\n",
       " 'Fart_7x7',\n",
       " 'Feed_the_Ducks',\n",
       " 'FelliBoard_Game_Geek_Suggested',\n",
       " 'FelliBouhajbane_Observed',\n",
       " 'FelliSimplified_Suggested',\n",
       " 'Fenix',\n",
       " 'Fergen_Gobale',\n",
       " 'Fetach',\n",
       " 'Fettas',\n",
       " 'Fevga',\n",
       " 'Fibonacci_Nim',\n",
       " 'First_Attack',\n",
       " 'Fischer_Random_Chess',\n",
       " 'Fission',\n",
       " 'Fivalath',\n",
       " 'Five_Mens_MorrisCyningstan_Suggested',\n",
       " 'Five_Mens_MorrisMurray_Suggested',\n",
       " 'Flower_Shop',\n",
       " 'Flowers',\n",
       " 'Flume',\n",
       " 'Foji',\n",
       " 'Fondji',\n",
       " 'Football_Chess',\n",
       " 'Forcado',\n",
       " 'Forge',\n",
       " 'Fox_and_GeeseSeventeen_Geese_Described',\n",
       " 'Fox_and_GeeseThirteen_Geese_Murray_Described',\n",
       " 'Fractal',\n",
       " 'Frangieh',\n",
       " 'Freeze_Frenzy',\n",
       " 'French_Wari',\n",
       " 'Frisian_DraughtsFrisian_Draughts_Described',\n",
       " 'Gabata_Adegrat',\n",
       " 'Gabata_Adowa',\n",
       " 'Gabata_Aksum',\n",
       " 'Gabata_Ansaba',\n",
       " 'Gabata_Ghinda',\n",
       " 'Gabata_Oromo',\n",
       " 'Gabata_Shoa_IFive_holes_Observed',\n",
       " 'Gabata_Shoa_IGabata_3_Observed',\n",
       " 'Gabata_Shoa_IGabata_I_Observed',\n",
       " 'Gabata_Shoa_ISeven_holes_Observed',\n",
       " 'Gabata_Shoa_and_Adegrat',\n",
       " 'Gabata_Wuqro',\n",
       " 'Gadis',\n",
       " 'Gala',\n",
       " 'Gala_Buginese',\n",
       " 'Galatjang',\n",
       " 'Gale',\n",
       " 'Gamacha',\n",
       " 'Gamacha_Nobility',\n",
       " 'Game_of_Dwarfs',\n",
       " 'Game_of_Solomon',\n",
       " 'Garanguet',\n",
       " 'Gasetavl',\n",
       " 'Gasetavl_Gedved',\n",
       " 'Gauntlet',\n",
       " 'GhingskootQuince_Described',\n",
       " 'Gifia',\n",
       " 'Gioco_dellOrsoBear_Wins_One_Round_Suggested',\n",
       " 'Gioco_dellOrsoGioco_dellOrso_Described',\n",
       " 'Glinski_Chess',\n",
       " 'Go',\n",
       " 'Go_with_the_Floe',\n",
       " 'Goats_Wintering',\n",
       " 'Gobblet_Gobblers',\n",
       " 'Gol_Ekuish',\n",
       " 'Goldilocks_Stones',\n",
       " 'Gomoku',\n",
       " 'Gonnect',\n",
       " 'Gopher',\n",
       " 'Grande_AcedrexAlfonso_X_Described',\n",
       " 'Grande_AcedrexDice_Described',\n",
       " 'Grasshopper',\n",
       " 'Greater',\n",
       " 'Greater_Even_Loss',\n",
       " 'Greater_Loss',\n",
       " 'Greatest_Loss',\n",
       " 'Groups',\n",
       " 'Guerrilla_Checkers',\n",
       " 'Gundru',\n",
       " 'Gurgaldaj',\n",
       " 'Gurvan_Xudag',\n",
       " 'Gygoreg',\n",
       " 'Gyre',\n",
       " 'Hackenbush',\n",
       " 'Had',\n",
       " 'Half_Chess',\n",
       " 'Halma',\n",
       " 'Halusa',\n",
       " 'HaretavlHare_Wins_Suggested',\n",
       " 'HaretavlHaretavl_Eleven_Points_Described',\n",
       " 'Hasami_Shogi',\n",
       " 'Hat_Diviyan_Keliya',\n",
       " 'Havannah',\n",
       " 'Hawalis',\n",
       " 'HeXentafl',\n",
       " 'Hermit',\n",
       " 'Hewakam_Keliya',\n",
       " 'Hex',\n",
       " 'HexDame',\n",
       " 'HexGo',\n",
       " 'HexTrike',\n",
       " 'Hex_Amazons',\n",
       " 'Hexade',\n",
       " 'Hexifact',\n",
       " 'Hexshogi',\n",
       " 'Hindustani_Chess',\n",
       " 'HnefataflFetlar_Suggested',\n",
       " 'Ho-Bag_Gonu',\n",
       " 'Hops-a-Daisy_Generalized',\n",
       " 'Horde_Chess',\n",
       " 'HoyitoHoyito_I_Described',\n",
       " 'Hufesay',\n",
       " 'Huli-Mane_Ata',\n",
       " 'Hund_efter_Hare_ThyHare_wins_Suggested',\n",
       " 'Hund_efter_Hare_ThyHund_efter_Hare_Thy_Observed',\n",
       " 'Hund_efter_Hare_VendsysselHare_Wins_Suggested',\n",
       " 'Hund_efter_Hare_VendsysselHund_efter_Hare_Vendsyssel_Observed',\n",
       " 'Hus_DamaraDamara_Observed',\n",
       " 'Hus_DamaraWagner_Observed',\n",
       " 'Hus_NamaSchultze_Described',\n",
       " 'Hyvn_aetter_HareHare_Wins_Suggested',\n",
       " 'Hyvn_aetter_HareHyvn_aetter_Hare_Described',\n",
       " 'II_Observed',\n",
       " 'I_Pere',\n",
       " 'Icebreaker',\n",
       " 'Ikibuguzo_Opening_1',\n",
       " 'Ikibuguzo_Opening_2',\n",
       " 'Ilpion',\n",
       " 'Imperial',\n",
       " 'Infuse',\n",
       " 'Inkblots',\n",
       " 'International_Draughts',\n",
       " 'Intotoi',\n",
       " 'Isolation',\n",
       " 'Isolo',\n",
       " 'Issiren',\n",
       " 'Iyogh',\n",
       " 'Ja-Jeon-Geo-Gonu',\n",
       " 'Jacquet',\n",
       " 'Jacquet_de_Versailles',\n",
       " 'Janes_SoppiHare_wins_Suggested',\n",
       " 'Janes_SoppiJanes_Soppi_Described',\n",
       " 'Janes_Soppi_Symmetrical',\n",
       " 'Janggi',\n",
       " 'Jekab',\n",
       " 'Jerin',\n",
       " 'Jeson_Mor',\n",
       " 'Jeson_Zam',\n",
       " 'Jeu_MilitaireGardner_Suggested',\n",
       " 'Jeu_MilitaireLucas_Described',\n",
       " 'Jeu_MilitaireSchuh_Suggested',\n",
       " 'Jeu_de_Renard',\n",
       " 'Jeu_de_Renard_Two_Foxes',\n",
       " 'Jeu_du_Renard_et_de_la_Poule',\n",
       " 'Jimafesosh',\n",
       " 'Jodu',\n",
       " 'Jostle',\n",
       " 'Jumping_Beans',\n",
       " 'Jungle',\n",
       " 'Juroku_MusashiJuroku_Musashi_Described',\n",
       " 'Juroku_MusashiTsuboi_Described',\n",
       " 'Kalah',\n",
       " 'Kanguruh',\n",
       " 'Kanji_Guti',\n",
       " 'Kaooa',\n",
       " 'Kapana_Bona',\n",
       " 'Kara',\n",
       " 'Kassle',\n",
       " 'KatraSakalava_Described',\n",
       " 'Katra_Boaoaka',\n",
       " 'KatroKatro_Observed',\n",
       " 'Katsela',\n",
       " 'Kaua_Dorki',\n",
       " 'KawasukutsKawasukuts_Observed',\n",
       " 'Kay',\n",
       " 'Kensington',\n",
       " 'Keryo-Pente',\n",
       " 'Ketch-Dolt',\n",
       " 'Khamousiyya',\n",
       " 'Kharbaga',\n",
       " 'Kharberg',\n",
       " 'Kharebga_5x5',\n",
       " 'Kharebga_7x7',\n",
       " 'KhrourMoudjeria_Described',\n",
       " 'Khutka_Boia',\n",
       " 'King_And_Courtesan',\n",
       " 'Kings_Valley',\n",
       " 'KintsKints_Observed',\n",
       " 'Kioz',\n",
       " 'KisoloKisolo_Observed',\n",
       " 'KisoloStarting_Position_1_Observed',\n",
       " 'KisoloStarting_Position_2_Observed',\n",
       " 'Kisolo_Lali',\n",
       " 'Kiust_Oyun',\n",
       " 'Kiuthi',\n",
       " 'Kiz_Tavlasi',\n",
       " 'Knightthrough',\n",
       " 'Knossos_GameHillbom_Scholarly',\n",
       " 'Ko-app-paw-na',\n",
       " 'Kolica_Atarakua',\n",
       " 'Kolowis_Awithlaknannai',\n",
       " 'KomikanAraucania_Observed',\n",
       " 'KomikanMapuChess_Described',\n",
       " 'Konane10x10_Konane_Observed',\n",
       " 'Konane8x8_Konane_Suggested',\n",
       " 'KorkserschachKorkserschach_Described',\n",
       " 'KoroFive_Holes_Observed',\n",
       " 'KoroKoro_Observed',\n",
       " 'KoroSix_Holes_Observed',\n",
       " 'Koruboddo',\n",
       " 'Koti_Keliya',\n",
       " 'Kotra',\n",
       " 'Kotu_Baendum',\n",
       " 'Kotu_Ellima',\n",
       " 'KpoMomolu_Massaquoi_Observed',\n",
       " 'Krida_Buddhibalasrita',\n",
       " 'Kubuguza',\n",
       " 'Kulaochal',\n",
       " 'Kyoto_Shogi',\n",
       " 'L_Game',\n",
       " 'La_Chascona',\n",
       " 'La_Dama',\n",
       " 'La_Liebre_Perseguida',\n",
       " 'La_Yagua',\n",
       " 'Lab_Akila',\n",
       " 'Lam_Pusri',\n",
       " 'Lam_Waladach',\n",
       " 'Lamosh',\n",
       " 'Lange_Puff',\n",
       " 'Laomuzhu',\n",
       " 'Laquet',\n",
       " 'Laram_WaliLaram_Wali_Observed',\n",
       " 'Lasca',\n",
       " 'LastEdge',\n",
       " 'Lau_Kata_Kati',\n",
       " 'Lava',\n",
       " 'Leap_Frog',\n",
       " 'Lelac',\n",
       " 'Len_Cua_Kin_Ngoa',\n",
       " 'Len_Doat',\n",
       " 'Les_PendusFive_in_a_Row_Described',\n",
       " 'Les_PendusLes_Pendus_Described',\n",
       " 'Lets_Catch_the_Lion',\n",
       " 'Lewthwaites_Game',\n",
       " 'Leyla',\n",
       " 'Leyla_Gobale_Gabradarre',\n",
       " 'Leyla_Gobale_Somaliland',\n",
       " 'Lielow',\n",
       " 'Lifeline',\n",
       " 'Line_and_Cross',\n",
       " 'Lines_of_Action',\n",
       " 'Lisolo',\n",
       " 'Liu_Tsi',\n",
       " 'Lobudok',\n",
       " 'Lombard_Chess',\n",
       " 'Long_Assize',\n",
       " 'Lontu-HoloAlternate_Opening_1_Observed',\n",
       " 'Lontu-HoloAlternate_Opening_2_Observed',\n",
       " 'Lontu-HoloAlternate_Opening_3_Observed',\n",
       " 'Lontu-HoloLontu_Holo_Observed',\n",
       " 'Loop_Chess',\n",
       " 'Loop_Xiangqi',\n",
       " 'Los_Alamos_Chess',\n",
       " 'Los_Doze_Canes',\n",
       " 'Lotus',\n",
       " 'Louis_XVI',\n",
       " 'Ludus_AnglicorumLudus_Anglicorum_Described',\n",
       " 'Ludus_CoriovalliBlocking_Game_Four_pieces_-_Both_Extension_Joined_Diagonal_Suggested',\n",
       " 'Ludus_CoriovalliBlocking_Game_Four_pieces_-_Both_Extension_No_Joined_Diagonal_Suggested',\n",
       " 'Ludus_CoriovalliBlocking_Game_Four_pieces_-_No_Extension_Joined_Diagonal_Suggested',\n",
       " 'Ludus_CoriovalliBlocking_Game_Four_pieces_-_No_Extension_No_Joined_Diagonal_Suggested',\n",
       " 'Ludus_CoriovalliBlocking_Game_Four_pieces_-_Top_Extension_Joined_Diagonal_Suggested',\n",
       " 'Ludus_CoriovalliBlocking_Game_Four_pieces_-_Top_Extension_No_Joined_Diagonal_Suggested',\n",
       " 'Ludus_CoriovalliHaretavl_-_Both_Extension_Joined_Diagonal_Suggested',\n",
       " 'Ludus_CoriovalliHaretavl_-_Both_Extension_No_Joined_Diagonal_Suggested',\n",
       " 'Ludus_CoriovalliHaretavl_-_No_Extension_Joined_Diagonal_Suggested',\n",
       " 'Ludus_CoriovalliHaretavl_-_No_Extension_No_Joined_Diagonal_Suggested',\n",
       " 'Ludus_CoriovalliHaretavl_-_Top_Extension_Joined_Diagonal_Suggested',\n",
       " 'Ludus_CoriovalliHaretavl_-_Top_Extension_No_Joined_Diagonal_Suggested',\n",
       " 'Ludus_CoriovalliHaretavl_Four_Dogs_Two_Hares_-_Both_Extension_Joined_Diagonal_Suggested',\n",
       " 'Ludus_CoriovalliHaretavl_Four_Dogs_Two_Hares_-_Both_Extension_No_Joined_Diagonal_Suggested',\n",
       " 'Ludus_CoriovalliHaretavl_Four_Dogs_Two_Hares_-_No_Extension_Joined_Diagonal_Suggested',\n",
       " 'Ludus_CoriovalliHaretavl_Four_Dogs_Two_Hares_-_No_Extension_No_Joined_Diagonal_Suggested',\n",
       " 'Ludus_CoriovalliHaretavl_Four_Dogs_Two_Hares_-_Top_Extension_Joined_Diagonal_Suggested',\n",
       " 'Ludus_CoriovalliHaretavl_Four_Dogs_Two_Hares_-_Top_Extension_No_Joined_Diagonal_Suggested',\n",
       " 'Ludus_CoriovalliHaretavl_Four_Dogs_Two_Hares_Starting_Position_1_-_Both_Extensions_Joined_Diagonal_Suggested',\n",
       " 'Ludus_CoriovalliHaretavl_Four_Dogs_Two_Hares_Starting_Position_1_-_Both_Extensions_No_Joined_Diagonal_Suggested',\n",
       " 'Ludus_CoriovalliHaretavl_Four_Dogs_Two_Hares_Starting_Position_1_-_No_Extension_Joined_Diagonal_Suggested',\n",
       " 'Ludus_CoriovalliHaretavl_Four_Dogs_Two_Hares_Starting_Position_1_-_No_Extension_No_Joined_Diagonal_Suggested',\n",
       " 'Ludus_CoriovalliHaretavl_Four_Dogs_Two_Hares_Starting_Position_1_-_Top_Extension_Joined_Diagonal_Suggested',\n",
       " 'Ludus_CoriovalliHaretavl_Four_Dogs_Two_Hares_Starting_Position_1_-_Top_Extension_No_Joined_Diagonal_Suggested',\n",
       " 'Ludus_CoriovalliHaretavl_Four_Dogs_Two_Hares_Starting_Position_2_-_Both_Extensions_Joined_Diagonal_Suggested',\n",
       " 'Ludus_CoriovalliHaretavl_Four_Dogs_Two_Hares_Starting_Position_2_-_Both_Extensions_No_Joined_Diagonal_Suggested',\n",
       " 'Ludus_CoriovalliHaretavl_Four_Dogs_Two_Hares_Starting_Position_2_-_No_Extension_Joined_Diagonal_Suggested',\n",
       " 'Ludus_CoriovalliHaretavl_Four_Dogs_Two_Hares_Starting_Position_2_-_No_Extension_No_Joined_Diagonal_Suggested',\n",
       " 'Ludus_CoriovalliHaretavl_Four_Dogs_Two_Hares_Starting_Position_2_-_Top_Extension_Joined_Diagonal_Suggested',\n",
       " 'Ludus_CoriovalliHaretavl_Four_Dogs_Two_Hares_Starting_Position_2_-_Top_Extension_No_Joined_Diagonal_Suggested',\n",
       " 'Ludus_CoriovalliHaretavl_Four_Dogs_Two_Hares_Switch_Starting_Position_1_-_Both_Extensions_Joined_Diagonal_Suggested',\n",
       " 'Ludus_CoriovalliHaretavl_Four_Dogs_Two_Hares_Switch_Starting_Position_1_-_Both_Extensions_No_Joined_Diagonal_Suggested',\n",
       " 'Ludus_CoriovalliHaretavl_Four_Dogs_Two_Hares_Switch_Starting_Position_1_-_No_Extension_Joined_Diagonal_Suggested',\n",
       " 'Ludus_CoriovalliHaretavl_Four_Dogs_Two_Hares_Switch_Starting_Position_1_-_No_Extension_No_Joined_Diagonal_Suggested',\n",
       " 'Ludus_CoriovalliHaretavl_Four_Dogs_Two_Hares_Switch_Starting_Position_1_-_Top_Extension_Joined_Diagonal_Suggested',\n",
       " 'Ludus_CoriovalliHaretavl_Four_Dogs_Two_Hares_Switch_Starting_Position_1_-_Top_Extension_No_Joined_Diagonal_Suggested',\n",
       " 'Ludus_CoriovalliHaretavl_Four_Dogs_Two_Hares_Switch_Starting_Position_2_-_Both_Extensions_Joined_Diagonal_Suggested',\n",
       " 'Ludus_CoriovalliHaretavl_Four_Dogs_Two_Hares_Switch_Starting_Position_2_-_Both_Extensions_No_Joined_Diagonal_Suggested',\n",
       " 'Ludus_CoriovalliHaretavl_Four_Dogs_Two_Hares_Switch_Starting_Position_2_-_No_Extension_Joined_Diagonal_Suggested',\n",
       " 'Ludus_CoriovalliHaretavl_Four_Dogs_Two_Hares_Switch_Starting_Position_2_-_No_Extension_No_Joined_Diagonal_Suggested',\n",
       " 'Ludus_CoriovalliHaretavl_Four_Dogs_Two_Hares_Switch_Starting_Position_2_-_Top_Extension_Joined_Diagonal_Suggested',\n",
       " 'Ludus_CoriovalliHaretavl_Four_Dogs_Two_Hares_Switch_Starting_Position_2_-_Top_Extension_No_Joined_Diagonal_Suggested',\n",
       " 'Ludus_CoriovalliHaretavl_Starting_Position_-_Both_Extensions_Joined_Diagonal_Suggested',\n",
       " 'Ludus_CoriovalliHaretavl_Starting_Position_-_Both_Extensions_No_Joined_Diagonal_Suggested',\n",
       " 'Ludus_CoriovalliHaretavl_Starting_Position_-_No_Extension_Joined_Diagonal_Suggested',\n",
       " 'Ludus_CoriovalliHaretavl_Starting_Position_-_No_Extension_No_Joined_Diagonal_Suggested',\n",
       " 'Ludus_CoriovalliHaretavl_Starting_Position_-_Top_Extension_Joined_Diagonal_Suggested',\n",
       " 'Ludus_CoriovalliHaretavl_Starting_Position_-_Top_Extension_No_Joined_Diagonal_Suggested',\n",
       " 'Ludus_CoriovalliHaretavl_Switch_Players_-_Both_Extension_Joined_Diagonal_Suggested',\n",
       " 'Ludus_CoriovalliHaretavl_Switch_Players_-_Both_Extension_No_Joined_Diagonal_Suggested',\n",
       " 'Ludus_CoriovalliHaretavl_Switch_Players_-_No_Extension_Joined_Diagonal_Suggested',\n",
       " 'Ludus_CoriovalliHaretavl_Switch_Players_-_No_Extension_No_Joined_Diagonal_Suggested',\n",
       " 'Ludus_CoriovalliHaretavl_Switch_Players_-_Top_Extension_Joined_Diagonal_Suggested',\n",
       " 'Ludus_CoriovalliHaretavl_Switch_Players_-_Top_Extension_No_Joined_Diagonal_Suggested',\n",
       " 'Ludus_CoriovalliHaretavl_Switch_Players_Two_Dogs_-_Both_Extension_Joined_Diagonal_Suggested',\n",
       " 'Ludus_CoriovalliHaretavl_Switch_Players_Two_Dogs_-_Both_Extension_No_Joined_Diagonal_Suggested',\n",
       " 'Ludus_CoriovalliHaretavl_Switch_Players_Two_Dogs_-_No_Extension_Joined_Diagonal_Suggested',\n",
       " 'Ludus_CoriovalliHaretavl_Switch_Players_Two_Dogs_-_No_Extension_No_Joined_Diagonal_Suggested',\n",
       " 'Ludus_CoriovalliHaretavl_Switch_Players_Two_Dogs_-_Top_Extension_Joined_Diagonal_Suggested',\n",
       " 'Ludus_CoriovalliHaretavl_Switch_Players_Two_Dogs_-_Top_Extension_No_Joined_Diagonal_Suggested',\n",
       " 'Ludus_CoriovalliHaretavl_Switch_Starting_Position_-_Both_Extensions_Joined_Diagonal_Suggested',\n",
       " 'Ludus_CoriovalliHaretavl_Switch_Starting_Position_-_Both_Extensions_No_Joined_Diagonal_Suggested',\n",
       " 'Ludus_CoriovalliHaretavl_Switch_Starting_Position_-_No_Extension_Joined_Diagonal_Suggested',\n",
       " 'Ludus_CoriovalliHaretavl_Switch_Starting_Position_-_No_Extension_No_Joined_Diagonal_Suggested',\n",
       " 'Ludus_CoriovalliHaretavl_Switch_Starting_Position_-_Top_Extension_Joined_Diagonal_Suggested',\n",
       " 'Ludus_CoriovalliHaretavl_Switch_Starting_Position_-_Top_Extension_No_Joined_Diagonal_Suggested',\n",
       " 'Ludus_CoriovalliHaretavl_Switch_Three_Dogs_Two_Hares_Starting_Position_-_Both_Extensions_Joined_Diagonal_Suggested',\n",
       " 'Ludus_CoriovalliHaretavl_Switch_Three_Dogs_Two_Hares_Starting_Position_-_Both_Extensions_No_Joined_Diagonal_Suggested',\n",
       " 'Ludus_CoriovalliHaretavl_Switch_Three_Dogs_Two_Hares_Starting_Position_-_No_Extension_Joined_Diagonal_Suggested',\n",
       " 'Ludus_CoriovalliHaretavl_Switch_Three_Dogs_Two_Hares_Starting_Position_1_-_No_Extension_No_Joined_Diagonal_Suggested',\n",
       " 'Ludus_CoriovalliHaretavl_Switch_Three_Dogs_Two_Hares_Starting_Position_1_-_Top_Extension_Joined_Diagonal_Suggested',\n",
       " 'Ludus_CoriovalliHaretavl_Switch_Three_Dogs_Two_Hares_Starting_Position_1_-_Top_Extension_No_Joined_Diagonal_Suggested',\n",
       " 'Ludus_CoriovalliHaretavl_Switch_Three_Dogs_Two_Hares_Starting_Position_2_-_No_Extension_No_Joined_Diagonal_Suggested',\n",
       " 'Ludus_CoriovalliHaretavl_Switch_Three_Dogs_Two_Hares_Starting_Position_2_-_Top_Extension_Joined_Diagonal_Suggested',\n",
       " 'Ludus_CoriovalliHaretavl_Switch_Three_Dogs_Two_Hares_Starting_Position_2_-_Top_Extension_No_Joined_Diagonal_Suggested',\n",
       " 'Ludus_CoriovalliHaretavl_Switch_Three_Dogs_Two_Hares_Starting_Position_3_-_Top_Extension_No_Joined_Diagonal_Suggested',\n",
       " 'Ludus_CoriovalliHaretavl_Switch_Two_Dogs_-_Top_Extension_No_Joined_Diagonal_-_Starting_Position_3_Suggested',\n",
       " 'Ludus_CoriovalliHaretavl_Switch_Two_Dogs_Starting_Position_-_Both_Extensions_Joined_Diagonals_Suggested',\n",
       " 'Ludus_CoriovalliHaretavl_Switch_Two_Dogs_Starting_Position_-_Both_Extensions_No_Joined_Diagonal_Suggested',\n",
       " 'Ludus_CoriovalliHaretavl_Switch_Two_Dogs_Starting_Position_-_No_Extension_Joined_Diagonal_Suggested',\n",
       " 'Ludus_CoriovalliHaretavl_Switch_Two_Dogs_Starting_Position_1_-_No_Extension_No_Joined_Diagonal_Suggested',\n",
       " 'Ludus_CoriovalliHaretavl_Switch_Two_Dogs_Starting_Position_1_-_Top_Extension_Joined_Diagonal_Suggested',\n",
       " 'Ludus_CoriovalliHaretavl_Switch_Two_Dogs_Starting_Position_1_-_Top_Extension_No_Joined_Diagonal_Suggested',\n",
       " 'Ludus_CoriovalliHaretavl_Switch_Two_Dogs_Starting_Position_2_-_No_Extension_No_Joined_Diagonal_Suggested',\n",
       " 'Ludus_CoriovalliHaretavl_Switch_Two_Dogs_Starting_Position_2_-_Top_Extension_Joined_Diagonal_Suggested',\n",
       " 'Ludus_CoriovalliHaretavl_Switch_Two_Dogs_Starting_Position_2_-_Top_Extension_No_Joined_Diagonal_Suggested',\n",
       " 'Ludus_CoriovalliHaretavl_Three_Dogs_Two_Hares_-_Both_Extension_Joined_Diagonal_Suggested',\n",
       " 'Ludus_CoriovalliHaretavl_Three_Dogs_Two_Hares_-_Both_Extension_No_Joined_Diagonal_Suggested',\n",
       " 'Ludus_CoriovalliHaretavl_Three_Dogs_Two_Hares_-_No_Extension_Joined_Diagonal_Suggested',\n",
       " 'Ludus_CoriovalliHaretavl_Three_Dogs_Two_Hares_-_No_Extension_No_Joined_Diagonal_Suggested',\n",
       " 'Ludus_CoriovalliHaretavl_Three_Dogs_Two_Hares_-_Top_Extension_Joined_Diagonal_Suggested',\n",
       " 'Ludus_CoriovalliHaretavl_Three_Dogs_Two_Hares_-_Top_Extension_No_Joined_Diagonal_Suggested',\n",
       " 'Ludus_CoriovalliHaretavl_Three_Dogs_Two_Hares_Starting_Position_-_Both_Extensions_Joined_Diagonal_Suggested',\n",
       " 'Ludus_CoriovalliHaretavl_Three_Dogs_Two_Hares_Starting_Position_-_Both_Extensions_No_Joined_Diagonal_Suggested',\n",
       " 'Ludus_CoriovalliHaretavl_Three_Dogs_Two_Hares_Starting_Position_-_No_Extension_Joined_Diagonal_Suggested',\n",
       " 'Ludus_CoriovalliHaretavl_Three_Dogs_Two_Hares_Starting_Position_1_-_No_Extension_No_Joined_Diagonal_Suggested',\n",
       " 'Ludus_CoriovalliHaretavl_Three_Dogs_Two_Hares_Starting_Position_1_-_Top_Extension_Joined_Diagonal_Suggested',\n",
       " 'Ludus_CoriovalliHaretavl_Three_Dogs_Two_Hares_Starting_Position_1_-_Top_Extension_No_Joined_Diagonal_Suggested',\n",
       " 'Ludus_CoriovalliHaretavl_Three_Dogs_Two_Hares_Starting_Position_2_-_No_Extension_No_Joined_Diagonal_Suggested',\n",
       " 'Ludus_CoriovalliHaretavl_Three_Dogs_Two_Hares_Starting_Position_2_-_Top_Extension_Joined_Diagonal_Suggested',\n",
       " 'Ludus_CoriovalliHaretavl_Three_Dogs_Two_Hares_Starting_Position_2_-_Top_Extension_No_Joined_Diagonal_Suggested',\n",
       " 'Ludus_CoriovalliHaretavl_Three_Dogs_Two_Hares_Starting_Position_3_-_Top_Extension_No_Joined_Diagonal_Suggested',\n",
       " 'Ludus_CoriovalliHaretavl_Two_Dogs_-_Both_Extension_Joined_Diagonal_Suggested',\n",
       " 'Ludus_CoriovalliHaretavl_Two_Dogs_-_Both_Extension_No_Joined_Diagonal_Suggested',\n",
       " 'Ludus_CoriovalliHaretavl_Two_Dogs_-_No_Extension_Joined_Diagonal_Suggested',\n",
       " 'Ludus_CoriovalliHaretavl_Two_Dogs_-_No_Extension_No_Joined_Diagonal_Suggested',\n",
       " 'Ludus_CoriovalliHaretavl_Two_Dogs_-_Top_Extension_Joined_Diagonal_Suggested',\n",
       " 'Ludus_CoriovalliHaretavl_Two_Dogs_-_Top_Extension_No_Joined_Diagonal_Suggested',\n",
       " 'Ludus_CoriovalliHaretavl_Two_Dogs_Starting_Position_-_Both_Extensions_Joined_Diagonals_Suggested',\n",
       " 'Ludus_CoriovalliHaretavl_Two_Dogs_Starting_Position_-_Both_Extensions_No_Joined_Diagonal_Suggested',\n",
       " 'Ludus_CoriovalliHaretavl_Two_Dogs_Starting_Position_-_No_Extension_Joined_Diagonal_Suggested',\n",
       " 'Ludus_CoriovalliHaretavl_Two_Dogs_Starting_Position_1_-_No_Extension_No_Joined_Diagonal_Suggested',\n",
       " 'Ludus_CoriovalliHaretavl_Two_Dogs_Starting_Position_1_-_Top_Extension_Joined_Diagonal_Suggested',\n",
       " 'Ludus_CoriovalliHaretavl_Two_Dogs_Starting_Position_1_-_Top_Extension_No_Joined_Diagonal_Suggested',\n",
       " 'Ludus_CoriovalliHaretavl_Two_Dogs_Starting_Position_2_-_No_Extension_No_Joined_Diagonal_Suggested',\n",
       " 'Ludus_CoriovalliHaretavl_Two_Dogs_Starting_Position_2_-_Top_Extension_Joined_Diagonal_Suggested',\n",
       " 'Ludus_CoriovalliHaretavl_Two_Dogs_Starting_Position_2_-_Top_Extension_No_Joined_Diagonal_Suggested',\n",
       " 'Ludus_CoriovalliHaretavl_Two_Dogs_Starting_Position_3_-_Top_Extension_No_Joined_Diagonal_Suggested',\n",
       " 'Ludus_CoriovalliJanes_Soppi_-_Both_Extensions_Joined_Diagonal_Suggested',\n",
       " 'Ludus_CoriovalliJanes_Soppi_-_Both_Extensions_No_Joined_Diagonal_Suggested',\n",
       " 'Ludus_CoriovalliJanes_Soppi_-_No_Extension_Joined_Diagonal_Suggested',\n",
       " 'Ludus_CoriovalliJanes_Soppi_-_No_Extension_No_Joined_Diagonal_Suggested',\n",
       " 'Ludus_CoriovalliJanes_Soppi_-_Top_Extension_Joined_Diagonal_Suggested',\n",
       " 'Ludus_CoriovalliJanes_Soppi_-_Top_Extension_No_Joined_Diagonal_Suggested',\n",
       " 'Ludus_CoriovalliJeu_Militaire_-_No_Extension_Joined_Diagonal_Suggested',\n",
       " 'Ludus_CoriovalliJeu_Militaire_-_No_Extension_No_Joined_Diagonal_Suggested',\n",
       " 'Ludus_CoriovalliJeu_Militaire_Switch_Players_-_No_Extension_Joined_Diagonal_Suggested',\n",
       " 'Ludus_CoriovalliJeu_Militaire_Switch_Players_-_No_Extension_No_Joined_Diagonal_Suggested',\n",
       " 'Ludus_CoriovalliLine_Game_Three_pieces_-_Both_Extension_Joined_Diagonal_Suggested',\n",
       " 'Ludus_CoriovalliLine_Game_Three_pieces_-_Both_Extension_No_Joined_Diagonal_Suggested',\n",
       " 'Ludus_CoriovalliLine_Game_Three_pieces_-_No_Extension_Joined_Diagonal_Suggested',\n",
       " 'Ludus_CoriovalliLine_Game_Three_pieces_-_No_Extension_No_Joined_Diagonal_Suggested',\n",
       " 'Ludus_CoriovalliLine_Game_Three_pieces_-_Top_Extension_Joined_Diagonal_Suggested',\n",
       " 'Ludus_CoriovalliLine_Game_Three_pieces_-_Top_Extension_No_Joined_Diagonal_Suggested',\n",
       " 'Ludus_Latrunculorum10x10_Kharebga_Rules_Suggested',\n",
       " 'Ludus_Latrunculorum10x10_Seega_Rules_Suggested',\n",
       " 'Ludus_Latrunculorum11x12_Kharebga_Rules_Suggested',\n",
       " 'Ludus_Latrunculorum11x12_Seega_Rules_Suggested',\n",
       " 'Ludus_Latrunculorum11x16_Kharebga_Rules_Suggested',\n",
       " 'Ludus_Latrunculorum11x16_Seega_Rules_Suggested',\n",
       " 'Ludus_Latrunculorum6x6_Kharebga_Rules_Suggested',\n",
       " 'Ludus_Latrunculorum6x6_Seega_Rules_Suggested',\n",
       " 'Ludus_Latrunculorum6x7_Kharebga_Rules_Suggested',\n",
       " 'Ludus_Latrunculorum6x7_Seega_Rules_Suggested',\n",
       " 'Ludus_Latrunculorum6x8_Kharebga_Rules_Suggested',\n",
       " 'Ludus_Latrunculorum6x8_Seega_Rules_Suggested',\n",
       " 'Ludus_Latrunculorum7x8_Kharebga_Rules_Suggested',\n",
       " 'Ludus_Latrunculorum7x8_Seega_Rules_Suggested',\n",
       " 'Ludus_Latrunculorum8x8_Kharebga_Rules_Suggested',\n",
       " 'Ludus_Latrunculorum8x8_Seega_Rules_Suggested',\n",
       " 'Ludus_Latrunculorum8x9_Kharebga_Rules_Suggested',\n",
       " 'Ludus_Latrunculorum8x9_Seega_Rules_Suggested',\n",
       " 'Ludus_Latrunculorum9x10_Kharebga_Rules_Suggested',\n",
       " 'Ludus_Latrunculorum9x10_Seega_Rules_Suggested',\n",
       " 'Ludus_LatrunculorumBell_8x7_Suggested',\n",
       " 'Ludus_LatrunculorumBell_8x8_Suggested',\n",
       " 'Ludus_LatrunculorumFalkener_Suggested',\n",
       " 'Ludus_LatrunculorumKowalski_10x11_Suggested',\n",
       " 'Ludus_LatrunculorumKowalski_8x12_Suggested',\n",
       " 'Ludus_LatrunculorumLocus_Ludi_Piso_Scholarly',\n",
       " 'Ludus_LatrunculorumLocus_Ludi_Seneca_Scholarly',\n",
       " 'Ludus_LatrunculorumMuseum_Quintana_Suggested',\n",
       " 'Ludus_LatrunculorumSchadler_1994_Scholarly',\n",
       " 'Ludus_LatrunculorumSchadler_2001_Scholarly',\n",
       " 'Ludus_Lombardorum',\n",
       " 'Luuth',\n",
       " 'Maak_Yek',\n",
       " 'MacBeth',\n",
       " 'Madelinette',\n",
       " 'Maharajah_Chess',\n",
       " 'Main_Chator',\n",
       " 'Main_Chator_Batak',\n",
       " 'Main_Chator_Selangor',\n",
       " 'Main_ChongkakSkeat_Observed',\n",
       " 'Main_Dam',\n",
       " 'Main_Tapak_Empat',\n",
       " 'Mak_Ruk',\n",
       " 'Make_Muster',\n",
       " 'Makonn',\n",
       " 'Makvoer',\n",
       " 'Maleys',\n",
       " 'Manalath',\n",
       " 'Mangala_Bedouin',\n",
       " 'Mangala_Suez',\n",
       " 'Mangala_TurkeySeven_Holes_Observed',\n",
       " 'Mangala_TurkeySix_Holes_Observed',\n",
       " 'Mangola',\n",
       " 'Manifold',\n",
       " 'Mankala',\n",
       " 'Manu',\n",
       " 'Manzhouqi',\n",
       " 'Mao_Naga_Tiger_Game',\n",
       " 'Mapuche_Game',\n",
       " 'Marelle_Quadruple',\n",
       " 'Marelle_Triple',\n",
       " 'Master_Y',\n",
       " 'Mawkar_Katiya',\n",
       " 'MaxMatch',\n",
       " 'Mbelele',\n",
       " 'Mbenga_Alignment_Game',\n",
       " 'McCooey_Chess',\n",
       " 'Medieval_Chess',\n",
       " 'Medio_EmperadorMedio_Emperador_Described',\n",
       " 'MefuvhaVenda_Observed',\n",
       " 'MehenKendall_Scholarly',\n",
       " 'MensaSpiel',\n",
       " 'Meridians',\n",
       " 'Merimueng-rimueng',\n",
       " 'Merimueng-rimueng-do',\n",
       " 'Meurimueng-rimueng_Peuet_Ploh',\n",
       " 'Meusueb',\n",
       " 'Mewegae',\n",
       " 'Mewelad',\n",
       " 'Mig_Mang',\n",
       " 'Millieu',\n",
       " 'Minefield',\n",
       " 'MiniXiangqi',\n",
       " 'Mini_Hexchess',\n",
       " 'Minishogi',\n",
       " 'Misoro_TsoroExtra_Counters_Observed',\n",
       " 'Misoro_TsoroMisoro_Tsoro_Observed',\n",
       " 'Misoro_Tsoro_Additional_CaptureExtra_Counters_Observed',\n",
       " 'Misoro_Tsoro_Additional_CaptureMisoro_Tsoro_Additional_Capture_Observed',\n",
       " 'Mity',\n",
       " 'Mlabalaba',\n",
       " 'Mogul_PutthanNineteen_Pieces_Described',\n",
       " 'Mogul_PutthanSixteen_Pieces_Observed',\n",
       " 'Monkey_Queen',\n",
       " 'Mono',\n",
       " 'Moo',\n",
       " 'Morabaraba',\n",
       " 'Morpharaoh',\n",
       " 'Moruba',\n",
       " 'Motiq',\n",
       " 'Moxie',\n",
       " 'Mraha_wa_Bwe',\n",
       " 'MsuwaMsuwa_Observed',\n",
       " 'Msuwa_wa_KunjaMsuwa_wa_Kunja_Observed',\n",
       " 'Mu_TorereAdjacent_Enemy_Suggested',\n",
       " 'Mu_TorereAdjacent_Enemy_to_Centre_Suggested',\n",
       " 'Mu_TorereFirst_Move_Observed',\n",
       " 'Mu_TorereFirst_Two_Turns_Suggested',\n",
       " 'Mu_TorereNo_Restriction_Suggested',\n",
       " 'Mughal_Pathan',\n",
       " 'Mulabalaba',\n",
       " 'Murus_GallicusAdvanced_Murus_Galicus_Described',\n",
       " 'Murus_GallicusMurus_Galicus_Described',\n",
       " 'Musinaykahwhanmetowaywin',\n",
       " 'Musoro_TsoroMusoro_Tsoro_Observed',\n",
       " 'Mutant_Y^3',\n",
       " 'Muvalavala_LuenaLuenas_Observed',\n",
       " 'Muvalavala_QuiocoQuiocos_Described',\n",
       " 'Mwambulula',\n",
       " 'Mweiso',\n",
       " 'Mweso',\n",
       " 'Myles',\n",
       " 'Mylna',\n",
       " 'Mysore_Tiger_Game',\n",
       " 'Mysore_Tiger_Game_Three_Tigers',\n",
       " 'Mysore_Tiger_Game_Two_Tigers',\n",
       " 'N-Mesh',\n",
       " 'NamudilakunzeBa-Ila_Described',\n",
       " 'Nao_Guti',\n",
       " 'Nard',\n",
       " 'Natt_Klab_ash-Shawk',\n",
       " 'NchayoNchayo_Observed',\n",
       " 'NchuwaAtonga_Described',\n",
       " 'Nedilmarth',\n",
       " 'Neg_Tugal_Tuux',\n",
       " 'Nei-Pat-Kono',\n",
       " 'Nerenchi_Keliya',\n",
       " 'Netted',\n",
       " 'Ngolo',\n",
       " 'Ngre_E_E',\n",
       " 'Ngrin',\n",
       " 'Ngulungu',\n",
       " 'NimBasic_Described',\n",
       " 'Nine_Holes',\n",
       " 'Nine_Mens_Morris',\n",
       " 'Niranchy',\n",
       " 'NjombwaNjombwa_Observed',\n",
       " 'Njombwa_One_CounterNjombwa_One_Counter_Observed',\n",
       " 'Njombwa_Two_CountersNjombwa_Two_Counters_Observed',\n",
       " 'NoGo',\n",
       " 'Nodal_Chess',\n",
       " 'Notakto',\n",
       " 'NsoloNsolo_Observed',\n",
       " 'Nsumbi',\n",
       " 'Ntyenge',\n",
       " 'Nuktagaq',\n",
       " 'NyoutNyout_Described',\n",
       " 'Nzengue_Small',\n",
       " 'O-Pat-Kono',\n",
       " 'O_An_QuanMancala_World_Described',\n",
       " 'Obridje',\n",
       " 'Odd',\n",
       " 'OddEvenTree',\n",
       " 'Ofanfelling',\n",
       " 'OffShore',\n",
       " 'Official_Football_Chess',\n",
       " 'Okwe_Achalla',\n",
       " 'Okwe_NigeriaBasden_Described',\n",
       " 'Omangunta_Peeta',\n",
       " 'Omega',\n",
       " 'Omnidirectional_Draughts',\n",
       " 'Omny',\n",
       " 'One-Eyed_Go',\n",
       " 'Onek_Rong',\n",
       " 'Onyx',\n",
       " 'Order_and_Chaos',\n",
       " 'Orissa_Tiger_Game_Four_Tigers',\n",
       " 'Orissa_Tiger_Game_One_Tiger',\n",
       " 'Otep',\n",
       " 'Ouk_Chatrang',\n",
       " 'Oumoul_Kono',\n",
       " 'Oure_Ngat',\n",
       " 'Oust',\n",
       " 'Ovalhu',\n",
       " 'Overflow',\n",
       " 'OwareAwari_Suggested',\n",
       " 'OwareWari_Observed',\n",
       " 'Owela_BenguelaBenguela_Described',\n",
       " 'Pachgarhwa',\n",
       " 'Padaivettu',\n",
       " 'Paintbucket',\n",
       " 'Paintscape',\n",
       " 'Pallankuli',\n",
       " 'Pam_Pait',\n",
       " 'Pancha_Keliya',\n",
       " 'Panchi',\n",
       " 'Papan_Dakon',\n",
       " 'Pareia_de_EntradaPareia_de_Entrada_Described',\n",
       " 'Parsi_Chess',\n",
       " 'Pasa',\n",
       " 'PasangBroken_into_Pieces_Observed',\n",
       " 'Pathway',\n",
       " 'Patok',\n",
       " 'PatolCaptureless_Observed',\n",
       " 'PatolPatol_Observed',\n",
       " 'Paumecary',\n",
       " 'Pentago',\n",
       " 'Pentalath',\n",
       " 'Pente',\n",
       " 'Pente_GrammaiLocos_Ludi_Race_Scholarly',\n",
       " 'Pente_GrammaiLocus_Ludi_Knock-Off_Mode_Scholarly',\n",
       " 'Pentomino',\n",
       " 'Peralikatuma',\n",
       " 'PereauniDidinga_Observed',\n",
       " 'PereauniLongarim-Topotha_Observed',\n",
       " 'Permainan-Tabal',\n",
       " 'Persian_Chess_with_a_Queen',\n",
       " 'Phase_Chess',\n",
       " 'PicariaZaslavsky_1_Suggested',\n",
       " 'PicariaZaslavsky_2_Suggested',\n",
       " 'Pippinzip',\n",
       " 'Pippinzip_Zipline_variant',\n",
       " 'Piprjall',\n",
       " 'Plakoto',\n",
       " 'Pleasant_Draughts',\n",
       " 'Plotto',\n",
       " 'Ploy',\n",
       " 'Polypods',\n",
       " 'Pon_ChochotlMurray_Suggested',\n",
       " 'Pong_Hau_Ki',\n",
       " 'Poprad_Game17x17_Kharebga_Rules_Suggested',\n",
       " 'Poprad_Game17x17_Seega_Rules_Suggested',\n",
       " 'Poprad_Game17x17_Tablut_Rules_More_Pieces_Suggested',\n",
       " 'Poprad_Game17x17_Tablut_Rules_Suggested',\n",
       " 'Poprad_Game17x18_Kharebga_Rules_Suggested',\n",
       " 'Poprad_Game17x18_Seega_Rules_Suggested',\n",
       " 'Portes',\n",
       " 'Press_Ups',\n",
       " 'Pretwa',\n",
       " 'Product',\n",
       " 'Provincial',\n",
       " 'Puhulmutu',\n",
       " 'Pulijudamu',\n",
       " ...]"
      ]
     },
     "metadata": {},
     "output_type": "display_data"
    }
   ],
   "source": [
    "####\n",
    "# GameRulesetName - （文字列）Ludiiにおけるゲーム名とルールセット名の組み合わせです。\n",
    "# Ludiiシステム内では、ゲーム（文化的遺産）とルールセット（同じゲームでも異なるルールセットでプレイされることがある）を区別しています。\n",
    "# このコンペティションでは、ゲームとルールセットのユニークな組み合わせを別々のゲームとして考えるべきです。\n",
    "# ただし、いくつかのゲームは（多くの異なるルールセットを持つもの）トレーニングデータで過度に表現されている可能性があります。 \n",
    "# 種類の数は、1377\n",
    "# Discussionを見ていると、GameRulesetNameのGroupkholdしている。\n",
    "# 中には、似たり寄ったりのGameNameが存在する。'58_HolesCarnarvon_and_Carter_D6_Suggested',　'58_HolesCarnarvon_and_Carter_Suggested',みたいな形で。\n",
    "# Test setにはtrain setには含まれていないGameNameが存在する\n",
    "####\n",
    "\n",
    "\n",
    "print(category_data['GameRulesetName'].nunique())\n",
    "display(category_data['GameRulesetName'].unique().tolist())"
   ]
  },
  {
   "cell_type": "code",
   "execution_count": 18,
   "id": "d4663c0c-9421-454f-bea8-451cb6984120",
   "metadata": {
    "tags": []
   },
   "outputs": [
    {
     "data": {
      "text/plain": [
       "GameRulesetName\n",
       "Pathway                                          222\n",
       "Double_Chess                                     214\n",
       "Greater_Even_Loss                                212\n",
       "Resolve                                          212\n",
       "Ludus_Latrunculorum8x8_Seega_Rules_Suggested     210\n",
       "                                                ... \n",
       "Bheri_Bakhri                                      72\n",
       "58_HolesTab_Parallel_Connections_D6_Suggested     72\n",
       "CeelkoqyuqkoqijiFourteen_holes_Observed           72\n",
       "58_HolesTab_Unmarked_Suggested                    70\n",
       "Faraday                                            4\n",
       "Name: count, Length: 1377, dtype: int64"
      ]
     },
     "execution_count": 18,
     "metadata": {},
     "output_type": "execute_result"
    }
   ],
   "source": [
    "train['GameRulesetName'].value_counts(sort=True)"
   ]
  },
  {
   "cell_type": "code",
   "execution_count": 19,
   "id": "8baa2e22-b5a4-4d28-a65a-6ce7e2412cc3",
   "metadata": {
    "tags": []
   },
   "outputs": [
    {
     "data": {
      "image/png": "[encoded data removed]",
      "text/plain": [
       "<Figure size 640x480 with 1 Axes>"
      ]
     },
     "metadata": {},
     "output_type": "display_data"
    }
   ],
   "source": [
    "tmp = train.groupby('GameRulesetName')[TARGET].mean().sort_values()\n",
    "plt.figure()\n",
    "plt.bar(x=tmp.index, height=tmp.values)\n",
    "\n",
    "plt.xlabel('GameRulesetName')\n",
    "plt.ylabel(f'{TARGET} Mean')\n",
    "plt.title(f'Mean of {TARGET} by GameRulesetName')\n",
    "plt.show()"
   ]
  },
  {
   "cell_type": "code",
   "execution_count": 20,
   "id": "7338e853-9b4d-4f35-9130-4de8c6364534",
   "metadata": {
    "tags": []
   },
   "outputs": [
    {
     "data": {
      "text/plain": [
       "['Ludus_CoriovalliHaretavl_Switch_Starting_Position_-_Top_Extension_No_Joined_Diagonal_Suggested',\n",
       " 'Ludus_CoriovalliHaretavl_Switch_Two_Dogs_Starting_Position_1_-_No_Extension_No_Joined_Diagonal_Suggested',\n",
       " 'Ludus_CoriovalliHaretavl_Switch_Two_Dogs_Starting_Position_-_No_Extension_Joined_Diagonal_Suggested',\n",
       " 'Ludus_CoriovalliHaretavl_Switch_Starting_Position_-_Top_Extension_Joined_Diagonal_Suggested',\n",
       " 'Ludus_CoriovalliHaretavl_Switch_Starting_Position_-_No_Extension_No_Joined_Diagonal_Suggested',\n",
       " 'Ludus_CoriovalliHaretavl_Switch_Starting_Position_-_No_Extension_Joined_Diagonal_Suggested',\n",
       " 'Ludus_CoriovalliHaretavl_Switch_Starting_Position_-_Both_Extensions_Joined_Diagonal_Suggested',\n",
       " 'Sat_Gol',\n",
       " 'Ludus_CoriovalliHaretavl_Switch_Players_-_Top_Extension_Joined_Diagonal_Suggested',\n",
       " 'Ludus_CoriovalliHaretavl_Switch_Players_-_No_Extension_No_Joined_Diagonal_Suggested',\n",
       " 'Ludus_CoriovalliHaretavl_Switch_Players_-_No_Extension_Joined_Diagonal_Suggested',\n",
       " 'Ludus_CoriovalliHaretavl_Switch_Players_-_Top_Extension_No_Joined_Diagonal_Suggested',\n",
       " 'Ludus_CoriovalliHaretavl_Four_Dogs_Two_Hares_Switch_Starting_Position_2_-_Top_Extension_Joined_Diagonal_Suggested',\n",
       " 'Chiana_wa_KunjaChiana_wa_Kunja_Observed',\n",
       " 'Fevga',\n",
       " 'Ludus_CoriovalliHaretavl_Switch_Players_-_Both_Extension_Joined_Diagonal_Suggested',\n",
       " 'Ludus_CoriovalliHaretavl_Four_Dogs_Two_Hares_Switch_Starting_Position_1_-_Both_Extensions_Joined_Diagonal_Suggested',\n",
       " 'Ludus_CoriovalliHaretavl_Four_Dogs_Two_Hares_Switch_Starting_Position_1_-_No_Extension_Joined_Diagonal_Suggested',\n",
       " 'Lewthwaites_Game',\n",
       " 'Ludus_CoriovalliHaretavl_Four_Dogs_Two_Hares_Switch_Starting_Position_1_-_Top_Extension_Joined_Diagonal_Suggested',\n",
       " 'Ludus_CoriovalliHaretavl_Four_Dogs_Two_Hares_Switch_Starting_Position_2_-_Both_Extensions_Joined_Diagonal_Suggested',\n",
       " 'Ludus_CoriovalliHaretavl_Four_Dogs_Two_Hares_Switch_Starting_Position_2_-_No_Extension_Joined_Diagonal_Suggested']"
      ]
     },
     "metadata": {},
     "output_type": "display_data"
    },
    {
     "name": "stdout",
     "output_type": "stream",
     "text": [
      "\u001b[31m22\u001b[0m\n"
     ]
    }
   ],
   "source": [
    "####\n",
    "# targetが-1.0のGameName\n",
    "# 合計22個ある。\n",
    "# Ludus_CoriovalliHaretavl_Switch、Ludus_CoriovalliHaretavl_Four_Dogs_Two_Hares_Switch_Starting_が多い\n",
    "####\n",
    "display(tmp[tmp==-1.0].index.tolist())\n",
    "print(red(len(tmp[tmp==-1.0].index.tolist())))"
   ]
  },
  {
   "cell_type": "code",
   "execution_count": 21,
   "id": "7144770f-dab9-4771-9376-b59f960ded9b",
   "metadata": {
    "tags": []
   },
   "outputs": [
    {
     "data": {
      "text/plain": [
       "['Janes_SoppiJanes_Soppi_Described',\n",
       " 'Janes_SoppiHare_wins_Suggested',\n",
       " 'Snort',\n",
       " 'Ludus_CoriovalliHaretavl_Starting_Position_-_No_Extension_Joined_Diagonal_Suggested',\n",
       " 'Yeung_Luk_Sz_Kon_Tseung_KwanMurray_Suggested',\n",
       " 'Bison',\n",
       " 'Ludus_CoriovalliHaretavl_Starting_Position_-_Top_Extension_No_Joined_Diagonal_Suggested',\n",
       " 'Ludus_CoriovalliHaretavl_Starting_Position_-_Top_Extension_Joined_Diagonal_Suggested',\n",
       " 'Go_with_the_Floe',\n",
       " 'Ludus_CoriovalliHaretavl_Starting_Position_-_Both_Extensions_Joined_Diagonal_Suggested',\n",
       " 'Ludus_CoriovalliHaretavl_-_Top_Extension_Joined_Diagonal_Suggested',\n",
       " 'Choro_Lango',\n",
       " 'Ludus_CoriovalliHaretavl_Four_Dogs_Two_Hares_Starting_Position_2_-_No_Extension_Joined_Diagonal_Suggested',\n",
       " 'Contagion',\n",
       " 'Ludus_CoriovalliHaretavl_Four_Dogs_Two_Hares_Starting_Position_2_-_Both_Extensions_Joined_Diagonal_Suggested',\n",
       " 'Ludus_CoriovalliHaretavl_Four_Dogs_Two_Hares_Starting_Position_1_-_Top_Extension_Joined_Diagonal_Suggested',\n",
       " 'Ludus_CoriovalliHaretavl_Four_Dogs_Two_Hares_Starting_Position_1_-_No_Extension_Joined_Diagonal_Suggested',\n",
       " 'Ludus_CoriovalliHaretavl_Four_Dogs_Two_Hares_Starting_Position_2_-_Top_Extension_Joined_Diagonal_Suggested',\n",
       " 'Ludus_CoriovalliHaretavl_Four_Dogs_Two_Hares_Starting_Position_1_-_Both_Extensions_Joined_Diagonal_Suggested',\n",
       " 'Ngulungu',\n",
       " 'Ludus_CoriovalliHaretavl_Four_Dogs_Two_Hares_-_Top_Extension_Joined_Diagonal_Suggested',\n",
       " 'Ludus_CoriovalliHaretavl_Four_Dogs_Two_Hares_-_Both_Extension_Joined_Diagonal_Suggested',\n",
       " 'Windir',\n",
       " 'Ludus_CoriovalliHaretavl_-_Top_Extension_No_Joined_Diagonal_Suggested',\n",
       " 'Ludus_CoriovalliHaretavl_-_No_Extension_No_Joined_Diagonal_Suggested',\n",
       " 'Toads_and_Frogs',\n",
       " 'Ludus_CoriovalliHaretavl_-_No_Extension_Joined_Diagonal_Suggested',\n",
       " 'Ludus_CoriovalliHaretavl_-_Both_Extension_Joined_Diagonal_Suggested',\n",
       " 'Ludus_CoriovalliHaretavl_Four_Dogs_Two_Hares_-_No_Extension_Joined_Diagonal_Suggested',\n",
       " 'Ludus_CoriovalliHaretavl_Starting_Position_-_No_Extension_No_Joined_Diagonal_Suggested']"
      ]
     },
     "metadata": {},
     "output_type": "display_data"
    },
    {
     "name": "stdout",
     "output_type": "stream",
     "text": [
      "\u001b[31m30\u001b[0m\n"
     ]
    }
   ],
   "source": [
    "###\n",
    "# targetが1.0のGameName\n",
    "# 合計30個ある。\n",
    "# -1と似たり寄ったりのGameNameもある。\n",
    "###\n",
    "display(tmp[tmp==1.0].index.tolist())\n",
    "print(red(len(tmp[tmp==1.0].index.tolist())))"
   ]
  },
  {
   "cell_type": "code",
   "execution_count": 22,
   "id": "c0b5ee8a-65d7-48c3-9fa3-0015de056eab",
   "metadata": {
    "tags": []
   },
   "outputs": [
    {
     "data": {
      "text/html": [
       "<div>\n",
       "<style scoped>\n",
       "    .dataframe tbody tr th:only-of-type {\n",
       "        vertical-align: middle;\n",
       "    }\n",
       "\n",
       "    .dataframe tbody tr th {\n",
       "        vertical-align: top;\n",
       "    }\n",
       "\n",
       "    .dataframe thead th {\n",
       "        text-align: right;\n",
       "    }\n",
       "</style>\n",
       "<table border=\"1\" class=\"dataframe\">\n",
       "  <thead>\n",
       "    <tr style=\"text-align: right;\">\n",
       "      <th></th>\n",
       "      <th>Id</th>\n",
       "      <th>Behaviour</th>\n",
       "      <th>StateRepetition</th>\n",
       "      <th>Duration</th>\n",
       "      <th>Complexity</th>\n",
       "      <th>BoardCoverage</th>\n",
       "      <th>GameOutcome</th>\n",
       "      <th>StateEvaluation</th>\n",
       "      <th>Clarity</th>\n",
       "      <th>Decisiveness</th>\n",
       "      <th>...</th>\n",
       "      <th>BoardSitesOccupied</th>\n",
       "      <th>BranchingFactor</th>\n",
       "      <th>DecisionFactor</th>\n",
       "      <th>MoveDistance</th>\n",
       "      <th>PieceNumber</th>\n",
       "      <th>ScoreDifference</th>\n",
       "      <th>num_wins_agent1</th>\n",
       "      <th>num_draws_agent1</th>\n",
       "      <th>num_losses_agent1</th>\n",
       "      <th>utility_agent1</th>\n",
       "    </tr>\n",
       "    <tr>\n",
       "      <th>GameRulesetName</th>\n",
       "      <th></th>\n",
       "      <th></th>\n",
       "      <th></th>\n",
       "      <th></th>\n",
       "      <th></th>\n",
       "      <th></th>\n",
       "      <th></th>\n",
       "      <th></th>\n",
       "      <th></th>\n",
       "      <th></th>\n",
       "      <th></th>\n",
       "      <th></th>\n",
       "      <th></th>\n",
       "      <th></th>\n",
       "      <th></th>\n",
       "      <th></th>\n",
       "      <th></th>\n",
       "      <th></th>\n",
       "      <th></th>\n",
       "      <th></th>\n",
       "      <th></th>\n",
       "    </tr>\n",
       "  </thead>\n",
       "  <tbody>\n",
       "    <tr>\n",
       "      <th>00Y</th>\n",
       "      <td>57.301832</td>\n",
       "      <td>NaN</td>\n",
       "      <td>NaN</td>\n",
       "      <td>NaN</td>\n",
       "      <td>NaN</td>\n",
       "      <td>NaN</td>\n",
       "      <td>NaN</td>\n",
       "      <td>NaN</td>\n",
       "      <td>NaN</td>\n",
       "      <td>NaN</td>\n",
       "      <td>...</td>\n",
       "      <td>NaN</td>\n",
       "      <td>NaN</td>\n",
       "      <td>NaN</td>\n",
       "      <td>NaN</td>\n",
       "      <td>NaN</td>\n",
       "      <td>NaN</td>\n",
       "      <td>2.149945</td>\n",
       "      <td>0.000000</td>\n",
       "      <td>2.149945</td>\n",
       "      <td>0.286659</td>\n",
       "    </tr>\n",
       "    <tr>\n",
       "      <th>1D_Chess</th>\n",
       "      <td>44.600075</td>\n",
       "      <td>NaN</td>\n",
       "      <td>NaN</td>\n",
       "      <td>NaN</td>\n",
       "      <td>NaN</td>\n",
       "      <td>NaN</td>\n",
       "      <td>NaN</td>\n",
       "      <td>NaN</td>\n",
       "      <td>NaN</td>\n",
       "      <td>NaN</td>\n",
       "      <td>...</td>\n",
       "      <td>NaN</td>\n",
       "      <td>NaN</td>\n",
       "      <td>NaN</td>\n",
       "      <td>NaN</td>\n",
       "      <td>NaN</td>\n",
       "      <td>NaN</td>\n",
       "      <td>5.045014</td>\n",
       "      <td>5.009697</td>\n",
       "      <td>0.470729</td>\n",
       "      <td>0.329099</td>\n",
       "    </tr>\n",
       "    <tr>\n",
       "      <th>20_SquaresSeleucid_Scholarly</th>\n",
       "      <td>23.237900</td>\n",
       "      <td>NaN</td>\n",
       "      <td>NaN</td>\n",
       "      <td>NaN</td>\n",
       "      <td>NaN</td>\n",
       "      <td>NaN</td>\n",
       "      <td>NaN</td>\n",
       "      <td>NaN</td>\n",
       "      <td>NaN</td>\n",
       "      <td>NaN</td>\n",
       "      <td>...</td>\n",
       "      <td>NaN</td>\n",
       "      <td>NaN</td>\n",
       "      <td>NaN</td>\n",
       "      <td>NaN</td>\n",
       "      <td>NaN</td>\n",
       "      <td>NaN</td>\n",
       "      <td>3.021442</td>\n",
       "      <td>0.000000</td>\n",
       "      <td>3.015152</td>\n",
       "      <td>0.301882</td>\n",
       "    </tr>\n",
       "    <tr>\n",
       "      <th>3D_Tic-Tac-Toe</th>\n",
       "      <td>50.950957</td>\n",
       "      <td>NaN</td>\n",
       "      <td>NaN</td>\n",
       "      <td>NaN</td>\n",
       "      <td>NaN</td>\n",
       "      <td>NaN</td>\n",
       "      <td>NaN</td>\n",
       "      <td>NaN</td>\n",
       "      <td>NaN</td>\n",
       "      <td>NaN</td>\n",
       "      <td>...</td>\n",
       "      <td>NaN</td>\n",
       "      <td>NaN</td>\n",
       "      <td>NaN</td>\n",
       "      <td>NaN</td>\n",
       "      <td>NaN</td>\n",
       "      <td>NaN</td>\n",
       "      <td>3.722169</td>\n",
       "      <td>0.000000</td>\n",
       "      <td>2.921039</td>\n",
       "      <td>0.388671</td>\n",
       "    </tr>\n",
       "    <tr>\n",
       "      <th>4_Squared</th>\n",
       "      <td>48.641546</td>\n",
       "      <td>NaN</td>\n",
       "      <td>NaN</td>\n",
       "      <td>NaN</td>\n",
       "      <td>NaN</td>\n",
       "      <td>NaN</td>\n",
       "      <td>NaN</td>\n",
       "      <td>NaN</td>\n",
       "      <td>NaN</td>\n",
       "      <td>NaN</td>\n",
       "      <td>...</td>\n",
       "      <td>NaN</td>\n",
       "      <td>NaN</td>\n",
       "      <td>NaN</td>\n",
       "      <td>NaN</td>\n",
       "      <td>NaN</td>\n",
       "      <td>NaN</td>\n",
       "      <td>2.724180</td>\n",
       "      <td>0.651269</td>\n",
       "      <td>2.781538</td>\n",
       "      <td>0.330000</td>\n",
       "    </tr>\n",
       "    <tr>\n",
       "      <th>...</th>\n",
       "      <td>...</td>\n",
       "      <td>...</td>\n",
       "      <td>...</td>\n",
       "      <td>...</td>\n",
       "      <td>...</td>\n",
       "      <td>...</td>\n",
       "      <td>...</td>\n",
       "      <td>...</td>\n",
       "      <td>...</td>\n",
       "      <td>...</td>\n",
       "      <td>...</td>\n",
       "      <td>...</td>\n",
       "      <td>...</td>\n",
       "      <td>...</td>\n",
       "      <td>...</td>\n",
       "      <td>...</td>\n",
       "      <td>...</td>\n",
       "      <td>...</td>\n",
       "      <td>...</td>\n",
       "      <td>...</td>\n",
       "      <td>...</td>\n",
       "    </tr>\n",
       "    <tr>\n",
       "      <th>Zamma</th>\n",
       "      <td>57.879185</td>\n",
       "      <td>NaN</td>\n",
       "      <td>NaN</td>\n",
       "      <td>NaN</td>\n",
       "      <td>NaN</td>\n",
       "      <td>NaN</td>\n",
       "      <td>NaN</td>\n",
       "      <td>NaN</td>\n",
       "      <td>NaN</td>\n",
       "      <td>NaN</td>\n",
       "      <td>...</td>\n",
       "      <td>NaN</td>\n",
       "      <td>NaN</td>\n",
       "      <td>NaN</td>\n",
       "      <td>NaN</td>\n",
       "      <td>NaN</td>\n",
       "      <td>NaN</td>\n",
       "      <td>5.209809</td>\n",
       "      <td>1.001255</td>\n",
       "      <td>5.177105</td>\n",
       "      <td>0.673043</td>\n",
       "    </tr>\n",
       "    <tr>\n",
       "      <th>Zola</th>\n",
       "      <td>54.992424</td>\n",
       "      <td>NaN</td>\n",
       "      <td>NaN</td>\n",
       "      <td>NaN</td>\n",
       "      <td>NaN</td>\n",
       "      <td>NaN</td>\n",
       "      <td>NaN</td>\n",
       "      <td>NaN</td>\n",
       "      <td>NaN</td>\n",
       "      <td>NaN</td>\n",
       "      <td>...</td>\n",
       "      <td>NaN</td>\n",
       "      <td>NaN</td>\n",
       "      <td>NaN</td>\n",
       "      <td>NaN</td>\n",
       "      <td>NaN</td>\n",
       "      <td>NaN</td>\n",
       "      <td>3.137630</td>\n",
       "      <td>0.000000</td>\n",
       "      <td>3.137630</td>\n",
       "      <td>0.418351</td>\n",
       "    </tr>\n",
       "    <tr>\n",
       "      <th>Zurgaan_Tal</th>\n",
       "      <td>50.373604</td>\n",
       "      <td>NaN</td>\n",
       "      <td>NaN</td>\n",
       "      <td>NaN</td>\n",
       "      <td>NaN</td>\n",
       "      <td>NaN</td>\n",
       "      <td>NaN</td>\n",
       "      <td>NaN</td>\n",
       "      <td>NaN</td>\n",
       "      <td>NaN</td>\n",
       "      <td>...</td>\n",
       "      <td>NaN</td>\n",
       "      <td>NaN</td>\n",
       "      <td>NaN</td>\n",
       "      <td>NaN</td>\n",
       "      <td>NaN</td>\n",
       "      <td>NaN</td>\n",
       "      <td>4.580875</td>\n",
       "      <td>0.689264</td>\n",
       "      <td>4.559953</td>\n",
       "      <td>0.584706</td>\n",
       "    </tr>\n",
       "    <tr>\n",
       "      <th>Zuz_Mel_5x5</th>\n",
       "      <td>52.105662</td>\n",
       "      <td>NaN</td>\n",
       "      <td>NaN</td>\n",
       "      <td>NaN</td>\n",
       "      <td>NaN</td>\n",
       "      <td>NaN</td>\n",
       "      <td>NaN</td>\n",
       "      <td>NaN</td>\n",
       "      <td>NaN</td>\n",
       "      <td>NaN</td>\n",
       "      <td>...</td>\n",
       "      <td>NaN</td>\n",
       "      <td>NaN</td>\n",
       "      <td>NaN</td>\n",
       "      <td>NaN</td>\n",
       "      <td>NaN</td>\n",
       "      <td>NaN</td>\n",
       "      <td>5.279109</td>\n",
       "      <td>2.477077</td>\n",
       "      <td>5.662009</td>\n",
       "      <td>0.660245</td>\n",
       "    </tr>\n",
       "    <tr>\n",
       "      <th>Zuz_Mel_7x7</th>\n",
       "      <td>45.754781</td>\n",
       "      <td>NaN</td>\n",
       "      <td>NaN</td>\n",
       "      <td>NaN</td>\n",
       "      <td>NaN</td>\n",
       "      <td>NaN</td>\n",
       "      <td>NaN</td>\n",
       "      <td>NaN</td>\n",
       "      <td>NaN</td>\n",
       "      <td>NaN</td>\n",
       "      <td>...</td>\n",
       "      <td>NaN</td>\n",
       "      <td>NaN</td>\n",
       "      <td>NaN</td>\n",
       "      <td>NaN</td>\n",
       "      <td>NaN</td>\n",
       "      <td>NaN</td>\n",
       "      <td>3.952777</td>\n",
       "      <td>1.754597</td>\n",
       "      <td>3.997560</td>\n",
       "      <td>0.472843</td>\n",
       "    </tr>\n",
       "  </tbody>\n",
       "</table>\n",
       "<p>1377 rows × 23 columns</p>\n",
       "</div>"
      ],
      "text/plain": [
       "                                     Id  Behaviour  StateRepetition  Duration  \\\n",
       "GameRulesetName                                                                 \n",
       "00Y                           57.301832        NaN              NaN       NaN   \n",
       "1D_Chess                      44.600075        NaN              NaN       NaN   \n",
       "20_SquaresSeleucid_Scholarly  23.237900        NaN              NaN       NaN   \n",
       "3D_Tic-Tac-Toe                50.950957        NaN              NaN       NaN   \n",
       "4_Squared                     48.641546        NaN              NaN       NaN   \n",
       "...                                 ...        ...              ...       ...   \n",
       "Zamma                         57.879185        NaN              NaN       NaN   \n",
       "Zola                          54.992424        NaN              NaN       NaN   \n",
       "Zurgaan_Tal                   50.373604        NaN              NaN       NaN   \n",
       "Zuz_Mel_5x5                   52.105662        NaN              NaN       NaN   \n",
       "Zuz_Mel_7x7                   45.754781        NaN              NaN       NaN   \n",
       "\n",
       "                              Complexity  BoardCoverage  GameOutcome  \\\n",
       "GameRulesetName                                                        \n",
       "00Y                                  NaN            NaN          NaN   \n",
       "1D_Chess                             NaN            NaN          NaN   \n",
       "20_SquaresSeleucid_Scholarly         NaN            NaN          NaN   \n",
       "3D_Tic-Tac-Toe                       NaN            NaN          NaN   \n",
       "4_Squared                            NaN            NaN          NaN   \n",
       "...                                  ...            ...          ...   \n",
       "Zamma                                NaN            NaN          NaN   \n",
       "Zola                                 NaN            NaN          NaN   \n",
       "Zurgaan_Tal                          NaN            NaN          NaN   \n",
       "Zuz_Mel_5x5                          NaN            NaN          NaN   \n",
       "Zuz_Mel_7x7                          NaN            NaN          NaN   \n",
       "\n",
       "                              StateEvaluation  Clarity  Decisiveness  ...  \\\n",
       "GameRulesetName                                                       ...   \n",
       "00Y                                       NaN      NaN           NaN  ...   \n",
       "1D_Chess                                  NaN      NaN           NaN  ...   \n",
       "20_SquaresSeleucid_Scholarly              NaN      NaN           NaN  ...   \n",
       "3D_Tic-Tac-Toe                            NaN      NaN           NaN  ...   \n",
       "4_Squared                                 NaN      NaN           NaN  ...   \n",
       "...                                       ...      ...           ...  ...   \n",
       "Zamma                                     NaN      NaN           NaN  ...   \n",
       "Zola                                      NaN      NaN           NaN  ...   \n",
       "Zurgaan_Tal                               NaN      NaN           NaN  ...   \n",
       "Zuz_Mel_5x5                               NaN      NaN           NaN  ...   \n",
       "Zuz_Mel_7x7                               NaN      NaN           NaN  ...   \n",
       "\n",
       "                              BoardSitesOccupied  BranchingFactor  \\\n",
       "GameRulesetName                                                     \n",
       "00Y                                          NaN              NaN   \n",
       "1D_Chess                                     NaN              NaN   \n",
       "20_SquaresSeleucid_Scholarly                 NaN              NaN   \n",
       "3D_Tic-Tac-Toe                               NaN              NaN   \n",
       "4_Squared                                    NaN              NaN   \n",
       "...                                          ...              ...   \n",
       "Zamma                                        NaN              NaN   \n",
       "Zola                                         NaN              NaN   \n",
       "Zurgaan_Tal                                  NaN              NaN   \n",
       "Zuz_Mel_5x5                                  NaN              NaN   \n",
       "Zuz_Mel_7x7                                  NaN              NaN   \n",
       "\n",
       "                              DecisionFactor  MoveDistance  PieceNumber  \\\n",
       "GameRulesetName                                                           \n",
       "00Y                                      NaN           NaN          NaN   \n",
       "1D_Chess                                 NaN           NaN          NaN   \n",
       "20_SquaresSeleucid_Scholarly             NaN           NaN          NaN   \n",
       "3D_Tic-Tac-Toe                           NaN           NaN          NaN   \n",
       "4_Squared                                NaN           NaN          NaN   \n",
       "...                                      ...           ...          ...   \n",
       "Zamma                                    NaN           NaN          NaN   \n",
       "Zola                                     NaN           NaN          NaN   \n",
       "Zurgaan_Tal                              NaN           NaN          NaN   \n",
       "Zuz_Mel_5x5                              NaN           NaN          NaN   \n",
       "Zuz_Mel_7x7                              NaN           NaN          NaN   \n",
       "\n",
       "                              ScoreDifference  num_wins_agent1  \\\n",
       "GameRulesetName                                                  \n",
       "00Y                                       NaN         2.149945   \n",
       "1D_Chess                                  NaN         5.045014   \n",
       "20_SquaresSeleucid_Scholarly              NaN         3.021442   \n",
       "3D_Tic-Tac-Toe                            NaN         3.722169   \n",
       "4_Squared                                 NaN         2.724180   \n",
       "...                                       ...              ...   \n",
       "Zamma                                     NaN         5.209809   \n",
       "Zola                                      NaN         3.137630   \n",
       "Zurgaan_Tal                               NaN         4.580875   \n",
       "Zuz_Mel_5x5                               NaN         5.279109   \n",
       "Zuz_Mel_7x7                               NaN         3.952777   \n",
       "\n",
       "                              num_draws_agent1  num_losses_agent1  \\\n",
       "GameRulesetName                                                     \n",
       "00Y                                   0.000000           2.149945   \n",
       "1D_Chess                              5.009697           0.470729   \n",
       "20_SquaresSeleucid_Scholarly          0.000000           3.015152   \n",
       "3D_Tic-Tac-Toe                        0.000000           2.921039   \n",
       "4_Squared                             0.651269           2.781538   \n",
       "...                                        ...                ...   \n",
       "Zamma                                 1.001255           5.177105   \n",
       "Zola                                  0.000000           3.137630   \n",
       "Zurgaan_Tal                           0.689264           4.559953   \n",
       "Zuz_Mel_5x5                           2.477077           5.662009   \n",
       "Zuz_Mel_7x7                           1.754597           3.997560   \n",
       "\n",
       "                              utility_agent1  \n",
       "GameRulesetName                               \n",
       "00Y                                 0.286659  \n",
       "1D_Chess                            0.329099  \n",
       "20_SquaresSeleucid_Scholarly        0.301882  \n",
       "3D_Tic-Tac-Toe                      0.388671  \n",
       "4_Squared                           0.330000  \n",
       "...                                      ...  \n",
       "Zamma                               0.673043  \n",
       "Zola                                0.418351  \n",
       "Zurgaan_Tal                         0.584706  \n",
       "Zuz_Mel_5x5                         0.660245  \n",
       "Zuz_Mel_7x7                         0.472843  \n",
       "\n",
       "[1377 rows x 23 columns]"
      ]
     },
     "execution_count": 22,
     "metadata": {},
     "output_type": "execute_result"
    }
   ],
   "source": [
    "####\n",
    "# GameRulesNameでGroupbyし、stdを計算した。\n",
    "# その場合、Targetとなる列以外の列は、stdが0となった。\n",
    "# つまり、同じGameRulesNameの場合、特徴量となる列は全て同じ数値であることを意味する。\n",
    "####\n",
    "tmp = train.groupby('GameRulesetName')[num_col].agg('std')\n",
    "std_rows_withoout_zero = tmp.loc[:, (tmp != 0).any(axis=0)]\n",
    "std_rows_withoout_zero"
   ]
  },
  {
   "cell_type": "markdown",
   "id": "90b4f53d-aa82-48cb-b290-d7d410759565",
   "metadata": {
    "tags": []
   },
   "source": [
    "## Agent"
   ]
  },
  {
   "cell_type": "code",
   "execution_count": 23,
   "id": "c8372e52-ecba-4263-8beb-f794b7c7416f",
   "metadata": {
    "tags": []
   },
   "outputs": [
    {
     "data": {
      "text/plain": [
       "'\\n要はAgentがどのようなアルゴリズムかを示す。\\n特定のアルゴリズムが強いかどうか見てみてもいいか？\\n\\nトレーニングデータとテストデータにあるすべてのエージェント文字列の説明は、以下の形式になっています:\\nMCTS-<SELECTION>-<EXPLORATION_CONST>-<PLAYOUT>-<SCORE_BOUNDS>\\nそれぞれの要素は次のように定義されています：\\n    \\n<SELECTION>: UCB1, UCB1GRAVE, ProgressiveHistory, UCB1Tuned のいずれかです。\\nこれらは、MCTSアルゴリズムの選択フェーズで使用される異なる戦略です。\\n\\n<EXPLORATION_CONST>: 0.1, 0.6, 1.41421356237 のいずれかです。\\nこれらは、テストした「探索定数」の3つの異なる値であり、すべての選択戦略で共通の数値ハイパーパラメータです。\\n\\n<PLAYOUT>: Random200, MAST, NST のいずれかです。これらは、MCTSアルゴリズムのプレイアウトフェーズで使用される異なる戦略です。\\n\\n<SCORE_BOUNDS>: true または false で、\\n\\nMCTSの「スコアバウンディング」バージョン（アルゴリズムが探索ツリーの特定のノードを勝利/敗北/引き分けと証明し、それに応じて探索を調整できるバージョン）が使用されているかどうかを示します。\\n'"
      ]
     },
     "execution_count": 23,
     "metadata": {},
     "output_type": "execute_result"
    }
   ],
   "source": [
    "'''\n",
    "要はAgentがどのようなアルゴリズムかを示す。\n",
    "特定のアルゴリズムが強いかどうか見てみてもいいか？\n",
    "\n",
    "トレーニングデータとテストデータにあるすべてのエージェント文字列の説明は、以下の形式になっています:\n",
    "MCTS-<SELECTION>-<EXPLORATION_CONST>-<PLAYOUT>-<SCORE_BOUNDS>\n",
    "それぞれの要素は次のように定義されています：\n",
    "    \n",
    "<SELECTION>: UCB1, UCB1GRAVE, ProgressiveHistory, UCB1Tuned のいずれかです。\n",
    "これらは、MCTSアルゴリズムの選択フェーズで使用される異なる戦略です。\n",
    "\n",
    "<EXPLORATION_CONST>: 0.1, 0.6, 1.41421356237 のいずれかです。\n",
    "これらは、テストした「探索定数」の3つの異なる値であり、すべての選択戦略で共通の数値ハイパーパラメータです。\n",
    "\n",
    "<PLAYOUT>: Random200, MAST, NST のいずれかです。これらは、MCTSアルゴリズムのプレイアウトフェーズで使用される異なる戦略です。\n",
    "\n",
    "<SCORE_BOUNDS>: true または false で、\n",
    "\n",
    "MCTSの「スコアバウンディング」バージョン（アルゴリズムが探索ツリーの特定のノードを勝利/敗北/引き分けと証明し、それに応じて探索を調整できるバージョン）が使用されているかどうかを示します。\n",
    "'''"
   ]
  },
  {
   "cell_type": "code",
   "execution_count": 24,
   "id": "ba6f12d6-cd50-4ac0-a6dd-9f9f79094e5f",
   "metadata": {
    "tags": []
   },
   "outputs": [
    {
     "name": "stdout",
     "output_type": "stream",
     "text": [
      "72\n",
      "72\n",
      "set()\n"
     ]
    }
   ],
   "source": [
    "####\n",
    "# agent[1/2] - （文字列）[1/2]番目のプレイヤーとしてプレイしたエージェントの説明です。\n",
    "# エージェント文字列の詳細については、下記のエージェント文字列説明セクションを参照してください。\n",
    "# agent1\n",
    "# 種類の数は、72\n",
    "####\n",
    "print(category_data['agent1'].nunique())\n",
    "agent1 = category_data['agent1'].unique().tolist() \n",
    "# display(agent1)\n",
    "\n",
    "####\n",
    "# agent2\n",
    "# 種類の数は、72 (agent1と同じ数)\n",
    "# agent1とagent2の種類は同じ。\n",
    "####\n",
    "print(category_data['agent2'].nunique())\n",
    "agent2 = category_data['agent2'].unique().tolist() \n",
    "# display(agent2)\n",
    "\n",
    "only_in_agent1 = set(agent1) - set(agent2)\n",
    "only_in_agent2 = set(agent2) - set(agent1)\n",
    "print(only_in_agent2)"
   ]
  },
  {
   "cell_type": "code",
   "execution_count": 25,
   "id": "96842c26-e54f-4370-b0f7-986fc453238e",
   "metadata": {
    "tags": []
   },
   "outputs": [],
   "source": [
    "# 正規表現パターン\n",
    "pattern = r'MCTS-(.*)-(.*)-(.*)-(.*)'\n",
    "\n",
    "# agent1に対する抽出\n",
    "train['p1_selection'] = train['agent1'].str.extract(pattern, expand=True)[0]\n",
    "train['p1_exploration'] = train['agent1'].str.extract(pattern, expand=True)[1].astype('float32')\n",
    "train['p1_playout'] = train['agent1'].str.extract(pattern, expand=True)[2]\n",
    "train['p1_bounds'] = train['agent1'].str.extract(pattern, expand=True)[3]\n",
    "\n",
    "# agent2に対する抽出\n",
    "train['p2_selection'] = train['agent2'].str.extract(pattern, expand=True)[0]\n",
    "train['p2_exploration'] = train['agent2'].str.extract(pattern, expand=True)[1].astype('float32')\n",
    "train['p2_playout'] = train['agent2'].str.extract(pattern, expand=True)[2]\n",
    "train['p2_bounds'] = train['agent2'].str.extract(pattern, expand=True)[3]\n",
    "\n",
    "player_features = ['p1_selection', 'p1_exploration', 'p1_playout', 'p1_bounds',\n",
    "                   'p2_selection', 'p2_exploration', 'p2_playout', 'p2_bounds']"
   ]
  },
  {
   "cell_type": "code",
   "execution_count": 26,
   "id": "06179f90-de8e-4247-95bb-786067069162",
   "metadata": {
    "tags": []
   },
   "outputs": [
    {
     "data": {
      "text/plain": [
       "array(['ProgressiveHistory', 'UCB1GRAVE', 'UCB1', 'UCB1Tuned'],\n",
       "      dtype=object)"
      ]
     },
     "execution_count": 26,
     "metadata": {},
     "output_type": "execute_result"
    }
   ],
   "source": [
    "train['p2_selection'].unique()"
   ]
  },
  {
   "cell_type": "code",
   "execution_count": 27,
   "id": "a3cd724f-25ce-451c-ada8-2028ff900300",
   "metadata": {
    "tags": []
   },
   "outputs": [],
   "source": [
    "tmp = train.copy()"
   ]
  },
  {
   "cell_type": "code",
   "execution_count": 28,
   "id": "efa593f7-0a7a-4d0c-a6e7-b388dc068eed",
   "metadata": {
    "tags": []
   },
   "outputs": [],
   "source": [
    "cols = ['p1_selection',\n",
    "         'p1_exploration',\n",
    "         'p1_playout',\n",
    "         'p1_bounds',\n",
    "         'p2_selection',\n",
    "         'p2_exploration',\n",
    "         'p2_playout',\n",
    "         'p2_bounds']"
   ]
  },
  {
   "cell_type": "code",
   "execution_count": 29,
   "id": "a2b2a0ef-4175-48fc-b9e6-8d18d83fd4a9",
   "metadata": {
    "tags": []
   },
   "outputs": [],
   "source": [
    "from itertools import combinations\n",
    "# 異なるカラムペアの組み合わせを生成し、それぞれに対して文字列を結合\n",
    "for col1, col2 in combinations(cols, 2):\n",
    "    tmp[f'{col1}_{col2}'] = tmp[col1].astype(str) + \"-\" + tmp[col2].astype(str)"
   ]
  },
  {
   "cell_type": "code",
   "execution_count": 30,
   "id": "fc84d5f7-51c8-4253-ac18-d82880bed0bd",
   "metadata": {
    "tags": []
   },
   "outputs": [],
   "source": [
    "for col1, col2, col3 in combinations(cols, 3):\n",
    "    tmp[f'{col1}_{col2}_{col3}'] = tmp[col1].astype(str) + \"-\" + tmp[col2].astype(str) + \"-\" + tmp[col3].astype(str)"
   ]
  },
  {
   "cell_type": "markdown",
   "id": "aa9daf02-c01f-46e2-818c-4596fa740e64",
   "metadata": {
    "tags": []
   },
   "source": [
    "## EnglishRules"
   ]
  },
  {
   "cell_type": "code",
   "execution_count": 31,
   "id": "e6fa8076-4f4d-489f-8598-7cd9e71858f7",
   "metadata": {
    "tags": []
   },
   "outputs": [
    {
     "name": "stdout",
     "output_type": "stream",
     "text": [
      "1328\n"
     ]
    }
   ],
   "source": [
    "####\n",
    "# EnglishRules - （文字列）ゲームのルールを自然言語（英語）で記述したものです。\n",
    "# この記述は自己完結していることは保証されておらず（例えば、チェスなどの有名な他のゲームのルールに言及することがあるため）、\n",
    "# あいまいだったり、完全でなかったりする場合があります。\n",
    "# 種類の数は、1328\n",
    "# GameRulesetNameと同じ数かと思ったが、異なる。つまり、同じEnglishRuleのものでも、GameNameは異なるものがある？\n",
    "####\n",
    "print(category_data['EnglishRules'].nunique())"
   ]
  },
  {
   "cell_type": "code",
   "execution_count": 32,
   "id": "414bda25-444c-494f-ade5-5a44a2c8a087",
   "metadata": {
    "tags": []
   },
   "outputs": [
    {
     "data": {
      "text/plain": [
       "array([\"2x5 board with one store on either end. The store to the right of the player belongs to the player. Play begins with five counters in each regular hole, with one larger stone in each store, but one is slightly smaller than the other. Game can be played with two or four players. With four players, two players control the larger stones, but cannot move the regular counters. Players throw out a finger (index, little, or thumb) to determine who plays first. Index beats thumb, thumb beats little finger, little finger beats index. This happens at the start of each round. Counters are taken from any of the holes in the player's row, sowing them in either direction, including the stores. When the last counter of a sowing is dropped in a hole, sowing continues by picking up the counters in the next hole and continuing to sow in that direction. If the hole following the last seed of a sowing is empty, the counters in the hole following this empty hole are captured. If there is an empty hole following the captured hole, and then an occupied hole immediately after it, the counters in the occupied hole are also captured, and so forth until there are two occupied or two empty holes in a row. Moves may not begin from stores. Both stores are sown into normally by both players. Stores are considered to be empty, except when its large stone remains in it, then the large stone only can be sown or captured and not any other counters that may have accumulated there. Large stones can be sown in any order a player chooses during a sowing. If a player has no counters in their holes, they may opt to place one counter in each of their holes, taking counters from their store and continue play (called huelshe). If they opt not to, the opponent takes all the remaining stones on the board. If one of the large stones remains in its original store, the player cannot opt out. If the player doesn't have enough stones for all of the holes, they may choose which holes in their row to place the counters, but they must form a continuous sequence of holes with counters. When the round ends, players must buy back their large stones if they no longer have them, at a price determined in the beginning of the game (usually seven for the larger stone and six for the smaller). Players then attempt to refill their holes with the original number of counters. The player that has fewer than the original number of counters must borrow counters from the opponent. Debt accumulates over subsequent rounds. When the debt reaches five, the player must sell one of their holes to the opponent. The selling player can choose which holes to sell. The seller then receives five counters to either repay debt or fill holes as long as debt does not exceed four.\"],\n",
       "      dtype=object)"
      ]
     },
     "execution_count": 32,
     "metadata": {},
     "output_type": "execute_result"
    }
   ],
   "source": [
    "game_name='CeelkoqyuqkoqijiEagle_Observed'\n",
    "train[train['GameRulesetName']==game_name]['EnglishRules'].unique()"
   ]
  },
  {
   "cell_type": "code",
   "execution_count": 33,
   "id": "358f27bd-60c8-495c-b703-2a37e1d6074d",
   "metadata": {
    "tags": []
   },
   "outputs": [
    {
     "data": {
      "text/plain": [
       "(233234, 822)"
      ]
     },
     "execution_count": 33,
     "metadata": {},
     "output_type": "execute_result"
    }
   ],
   "source": [
    "train.shape"
   ]
  },
  {
   "cell_type": "code",
   "execution_count": 34,
   "id": "12da17b5-11e7-4e1c-ac39-dfda6a800ef7",
   "metadata": {
    "tags": []
   },
   "outputs": [
    {
     "data": {
      "text/plain": [
       "<module 'utils' from '/notebooks/UM_utilities/utils.py'>"
      ]
     },
     "execution_count": 34,
     "metadata": {},
     "output_type": "execute_result"
    }
   ],
   "source": [
    "sys.path.append('UM_utilities')\n",
    "import utils as my_utils\n",
    "importlib.reload(my_utils)\n"
   ]
  },
  {
   "cell_type": "markdown",
   "id": "06a4479f-eb4c-44c0-92f7-68ff3f1cc895",
   "metadata": {
    "tags": []
   },
   "source": [
    "## LudRules"
   ]
  },
  {
   "cell_type": "code",
   "execution_count": 45,
   "id": "7f85bd91-9ec9-401f-8dfe-6c5ea8154322",
   "metadata": {
    "tags": []
   },
   "outputs": [
    {
     "name": "stdout",
     "output_type": "stream",
     "text": [
      "1373\n"
     ]
    }
   ],
   "source": [
    "####\n",
    "# LudRules - （文字列）Ludiiのゲーム記述言語で記述されたゲームの説明です。\n",
    "# この記述は、Ludii内部でゲームをコンパイルしシミュレーションを実行するために使用されたものなので、常に100%完全かつ明確です。\n",
    "# ただし、これは形式言語であり、既存の大規模言語モデルやファウンデーションモデルがこれまでにほとんど、もしくは全く触れていない可能性が高いです。\n",
    "# 種類の数は、1373. GameRulesetNameの数は1377なので、異なるGameRulesetNameで同じLudRulesとなっているものが存在する。\n",
    "# GameRulesetNameと同じ数かと思ったが、これも異なる。English Rulesの数とも異なる。\n",
    "####\n",
    "\n",
    "print(category_data['LudRules'].nunique())"
   ]
  },
  {
   "cell_type": "code",
   "execution_count": 46,
   "id": "e5d8f0a7-b767-4a19-bb7c-61a05e3e2e43",
   "metadata": {
    "tags": []
   },
   "outputs": [
    {
     "name": "stdout",
     "output_type": "stream",
     "text": [
      "\u001b[31m[2 2 2 2]\u001b[0m\n",
      "\n",
      "['CeelkoqyuqkoqijiEagle_Observed' 'CeelkoqyuqkoqijiEqual_Cost_Observed']\n",
      "\n",
      "['Ludus_CoriovalliHaretavl_Switch_Starting_Position_-_No_Extension_No_Joined_Diagonal_Suggested'\n",
      " 'Ludus_CoriovalliHaretavl_Switch_Two_Dogs_Starting_Position_1_-_No_Extension_No_Joined_Diagonal_Suggested']\n",
      "\n",
      "['Ludus_CoriovalliHaretavl_Switch_Starting_Position_-_No_Extension_Joined_Diagonal_Suggested'\n",
      " 'Ludus_CoriovalliHaretavl_Switch_Two_Dogs_Starting_Position_-_No_Extension_Joined_Diagonal_Suggested']\n",
      "\n",
      "['ShonoChildren_Observed' 'ShonoShono_Observed']\n"
     ]
    }
   ],
   "source": [
    "####\n",
    "# GameRulesetNameの数は1377なので、異なるGameRulesetNameで同じLudRulesとなっているものが存在する。\n",
    "# その該当するGameNameは下記の通り、下記セットのGameNameは、GameNameが異なるのに、同一のLudRulesとなっている。\n",
    "# Gameの名前は異なるが、ルールは同じなのか？\n",
    "\n",
    "# ['CeelkoqyuqkoqijiEagle_Observed' 'CeelkoqyuqkoqijiEqual_Cost_Observed']\n",
    "#　['Ludus_CoriovalliHaretavl_Switch_Starting_Position_-_No_Extension_No_Joined_Diagonal_Suggested'\n",
    "# 'Ludus_CoriovalliHaretavl_Switch_Two_Dogs_Starting_Position_1_-_No_Extension_No_Joined_Diagonal_Suggested']\n",
    "\n",
    "#['Ludus_CoriovalliHaretavl_Switch_Starting_Position_-_No_Extension_Joined_Diagonal_Suggested'\n",
    "#'Ludus_CoriovalliHaretavl_Switch_Two_Dogs_Starting_Position_-_No_Extension_Joined_Diagonal_Suggested']\n",
    "\n",
    "# ['ShonoChildren_Observed' 'ShonoShono_Observed']\n",
    "####\n",
    "\n",
    "ludrules_count_per_game = train.groupby('LudRules')['GameRulesetName'].nunique()\n",
    "ludrules_multiple = ludrules_count_per_game[ludrules_count_per_game != 1]\n",
    "print(red(ludrules_multiple.values))\n",
    "for i in ludrules_multiple.index:\n",
    "    print('')\n",
    "    print(train[train['LudRules']==i]['GameRulesetName'].unique())"
   ]
  },
  {
   "cell_type": "code",
   "execution_count": 47,
   "id": "7c24d0b8-5eef-4717-aced-6233ca74a17e",
   "metadata": {
    "tags": []
   },
   "outputs": [
    {
     "data": {
      "text/plain": [
       "'(game \"Ludus Coriovalli\" (players 2) (equipment { (board (add (merge { (scale 2 1 (rectangle 1 3)) (rectangle 2 1) (shift 4 0 (rectangle 2 1)) (shift 4 1.5 (rectangle 2 1)) (shift 0 1.5 (rectangle 2 1)) (scale 2 1 (shift 0 2.5 (rectangle 1 3))) } ) edges:{ {3 7} {5 4} {9 1} {3 1} {1 4} {5 9} {9 7} } ) use:Vertex ) (piece \"Dog\" P2 (move Step (to if:(is Empty (to))))) (piece \"Hare\" P1 (move Step (to if:(is Empty (to))))) } ) (rules (start { (place \"Hare1\" (sites {\"B1\"})) (place \"Dog2\" (sites {\"A4\" \"B4\" \"C4\"})) } ) (play (forEach Piece)) (end { (if (no Moves P1) (result P2 Win)) (if (or (>= (count Moves) (- (value MoveLimit) 10)) (>= (count Turns) (- (value TurnLimit) 5)) ) (result P1 Win) ) } ) ) )'"
      ]
     },
     "execution_count": 47,
     "metadata": {},
     "output_type": "execute_result"
    }
   ],
   "source": [
    "game_name='Ludus_CoriovalliHaretavl_Switch_Two_Dogs_Starting_Position_-_No_Extension_Joined_Diagonal_Suggested'\n",
    "train[train['GameRulesetName']==game_name]['LudRules'].unique()[0]"
   ]
  },
  {
   "cell_type": "code",
   "execution_count": 48,
   "id": "7d74afe9-b429-4c44-b56a-f2ca4aec0ff6",
   "metadata": {
    "tags": []
   },
   "outputs": [],
   "source": [
    "game_name='Ludus_CoriovalliHaretavl_Switch_Starting_Position_-_No_Extension_Joined_Diagonal_Suggested'\n",
    "a = train[train['GameRulesetName']==game_name]['LudRules'].unique()[0]\n",
    "# displa(a)"
   ]
  },
  {
   "cell_type": "code",
   "execution_count": 49,
   "id": "de3ab0e1-47f3-4fc9-8002-06f15fce2b6c",
   "metadata": {
    "tags": []
   },
   "outputs": [],
   "source": [
    "game_name='CeelkoqyuqkoqijiEqual_Cost_Observed'\n",
    "b = train[train['GameRulesetName']==game_name]['LudRules'].unique()[0]"
   ]
  },
  {
   "cell_type": "code",
   "execution_count": 50,
   "id": "9b7b6e7c-56a9-4711-9f92-a132ff7f1c98",
   "metadata": {
    "tags": []
   },
   "outputs": [],
   "source": [
    "game_name='CeelkoqyuqkoqijiEagle_Observed'\n",
    "a = train[train['GameRulesetName']==game_name]['LudRules'].unique()[0]"
   ]
  },
  {
   "cell_type": "code",
   "execution_count": 51,
   "id": "cff58a3d-0678-4904-8bbf-5e7a777e0dd4",
   "metadata": {
    "tags": []
   },
   "outputs": [
    {
     "data": {
      "text/plain": [
       "set()"
      ]
     },
     "execution_count": 51,
     "metadata": {},
     "output_type": "execute_result"
    }
   ],
   "source": [
    "set(a) - set(b)"
   ]
  },
  {
   "cell_type": "code",
   "execution_count": 52,
   "id": "e3fd37a3-2ada-44bd-a1b9-2b0f3fc57c2f",
   "metadata": {
    "tags": []
   },
   "outputs": [
    {
     "name": "stdout",
     "output_type": "stream",
     "text": [
      "fe9 Done! DATA Shape:(233234, 824)\n"
     ]
    }
   ],
   "source": [
    "FE = my_utils.UM_FE()\n",
    "# data = FE.fe1(train.copy())\n",
    "# data = FE.fe2(data)\n",
    "# data = FE.fe3(data)\n",
    "# data = FE.fe4(data)\n",
    "# data = FE.fe5(data)\n",
    "# FE = my_utils.UM_FE()\n",
    "data = FE.fe9(train)\n",
    "# data = FE.drop_cols(train)\n",
    "\n",
    "# print(f'train:{red(data.shape)}')"
   ]
  },
  {
   "cell_type": "code",
   "execution_count": 53,
   "id": "6780ca28-1728-45a0-8a7f-eab0bc1a1572",
   "metadata": {
    "tags": []
   },
   "outputs": [
    {
     "data": {
      "text/plain": [
       "array(['board', 'mancalaBoard', 'boardless', 'piece', 'surakartaBoard'],\n",
       "      dtype=object)"
      ]
     },
     "execution_count": 53,
     "metadata": {},
     "output_type": "execute_result"
    }
   ],
   "source": [
    "data['game_equipment'].unique()"
   ]
  },
  {
   "cell_type": "code",
   "execution_count": null,
   "id": "8edae9b2-2f87-453b-be67-071ade8f6a8d",
   "metadata": {
    "tags": []
   },
   "outputs": [],
   "source": []
  },
  {
   "cell_type": "code",
   "execution_count": 54,
   "id": "d9ae3b26-a5eb-4c4d-9c0a-9311985c9e7f",
   "metadata": {
    "tags": []
   },
   "outputs": [
    {
     "data": {
      "text/plain": [
       "'(game \"1D Chess\" (players 2) (equipment { (board (rectangle 1 8)) (piece \"Rook\" Each (move Slide Orthogonal (to if:(is Enemy (who at:(to))) (apply (remove (to)))) ) ) (piece \"King\" Each (move Step (to if:(not (is Friend (who at:(to)))) (apply (if (is Enemy (who at:(to))) (remove (to)))) ) ) ) (piece \"Knight\" Each (move Leap { { F F } } (to if:(not (is Friend (who at:(to)))) (apply (if (is Enemy (who at:(to))) (remove (to)))) ) ) ) } ) (rules (start { (place \"Rook1\" coord:\"C1\") (place \"Knight1\" coord:\"B1\") (place \"King1\" coord:\"A1\") (place \"Rook2\" coord:\"F1\") (place \"Knight2\" coord:\"G1\") (place \"King2\" coord:\"H1\") } ) (play (do (forEach Piece) ifAfterwards:(not (is Threatened (id \"King\" Mover))) ) ) (end { (if (and (is Threatened (id \"King\" Next)) (not (can Move (do (forEach Piece Next) ifAfterwards:(not (is Threatened (id \"King\" Next)) ) ) ) ) ) (result Mover Win) ) (if (or (no Moves Mover) (= (counter) 100)) (result Mover Draw) ) } ) ) )'"
      ]
     },
     "execution_count": 54,
     "metadata": {},
     "output_type": "execute_result"
    }
   ],
   "source": [
    "data[data['game_name']=='1D Chess']['LudRules'].unique()[0]"
   ]
  },
  {
   "cell_type": "code",
   "execution_count": 55,
   "id": "32cb63f1-9af6-4ade-a02f-d55278d650d3",
   "metadata": {
    "tags": []
   },
   "outputs": [
    {
     "data": {
      "text/plain": [
       "1373"
      ]
     },
     "execution_count": 55,
     "metadata": {},
     "output_type": "execute_result"
    }
   ],
   "source": [
    "train['LudRules'].nunique()"
   ]
  },
  {
   "cell_type": "code",
   "execution_count": 56,
   "id": "0645a3a1-f116-4c97-912f-6a5ff8e17a79",
   "metadata": {
    "tags": []
   },
   "outputs": [
    {
     "data": {
      "text/plain": [
       "1030"
      ]
     },
     "execution_count": 56,
     "metadata": {},
     "output_type": "execute_result"
    }
   ],
   "source": [
    "data['game_name'].nunique()"
   ]
  },
  {
   "cell_type": "code",
   "execution_count": null,
   "id": "eef679d8-2c67-4a1f-946e-8457ea4b901d",
   "metadata": {
    "tags": []
   },
   "outputs": [],
   "source": [
    "from collections import defaultdict\n",
    "\n",
    "# クラスタを格納する辞書を初期化\n",
    "game_clusters = defaultdict(list)\n",
    "game_names = data['game_name'].unique().tolist()\n",
    "# 各単語に対して、その単語が他のゲーム名に含まれるかをチェック\n",
    "for game in game_names:\n",
    "    added_to_cluster = False\n",
    "    for key in game_clusters.keys():\n",
    "        if key in game or game in key:\n",
    "            game_clusters[key].append(game)\n",
    "            added_to_cluster = True\n",
    "            break\n",
    "    if not added_to_cluster:\n",
    "        game_clusters[game].append(game)\n",
    "\n",
    "game_cluster_mapping = {}\n",
    "for cluster_key, cluster_games in game_clusters.items():\n",
    "    for game in cluster_games:\n",
    "        game_cluster_mapping[game] = cluster_key\n",
    "for cluster_key, cluster_games in game_clusters.items():\n",
    "    if len(cluster_games) > 1:  # 複数のゲームが含まれるクラスタのみ表示\n",
    "        print(f\"Cluster '{cluster_key}': {cluster_games}\")"
   ]
  },
  {
   "cell_type": "code",
   "execution_count": null,
   "id": "f7b18b31-35ac-4b5c-9fe1-600f7c7927ea",
   "metadata": {
    "tags": []
   },
   "outputs": [],
   "source": [
    "df['Cluster'].nunique()"
   ]
  },
  {
   "cell_type": "code",
   "execution_count": null,
   "id": "f9e886dd-0a86-41cd-8e98-2af102d83f68",
   "metadata": {
    "tags": []
   },
   "outputs": [],
   "source": [
    "df['Game Name'].nunique()"
   ]
  },
  {
   "cell_type": "code",
   "execution_count": null,
   "id": "c2e4935a-6f79-4494-a4c8-019604651d51",
   "metadata": {
    "tags": []
   },
   "outputs": [],
   "source": [
    "train['GameRulesetName'].nunique()"
   ]
  },
  {
   "cell_type": "code",
   "execution_count": null,
   "id": "4f635100-9f8a-4da5-b6e9-486d2e203de1",
   "metadata": {
    "tags": []
   },
   "outputs": [],
   "source": [
    "def find_common_substring(s1, s2, min_length=4):\n",
    "    len_s1 = len(s1)\n",
    "    for i in range(len_s1 - min_length + 1):\n",
    "        substring = s1[i:i + min_length]\n",
    "        if substring in s2:\n",
    "            return True\n",
    "    return False\n",
    "\n",
    "for game in game_names:\n",
    "    added_to_cluster = False\n",
    "    for key in game_clusters.keys():\n",
    "        if find_common_substring(key, game):\n",
    "            game_clusters[key].append(game)\n",
    "            added_to_cluster = True\n",
    "            break\n",
    "    if not added_to_cluster:\n",
    "        game_clusters[game].append(game)\n",
    "\n",
    "# クラスタ情報を持つ新しいデータフレームを作成\n",
    "game_cluster_mapping = {}\n",
    "for cluster_key, cluster_games in game_clusters.items():\n",
    "    for game in cluster_games:\n",
    "        game_cluster_mapping[game] = cluster_key\n",
    "\n",
    "df = pd.DataFrame(game_names, columns=['Game Name'])\n",
    "df['Cluster'] = df['Game Name'].map(game_cluster_mapping)\n",
    "\n",
    "# データフレームを表示\n",
    "print(df)\n",
    "\n",
    "# クラスタの結果を表示\n",
    "for cluster_key, cluster_games in game_clusters.items():\n",
    "    if len(cluster_games) > 1:  # 複数のゲームが含まれるクラスタのみ表示\n",
    "        print(f\"Cluster '{cluster_key}': {cluster_games}\")"
   ]
  },
  {
   "cell_type": "code",
   "execution_count": null,
   "id": "bcdff33a-3167-494d-88bf-b159c83282b9",
   "metadata": {
    "tags": []
   },
   "outputs": [],
   "source": [
    "def find_common_substring(s1, s2, min_length=4):\n",
    "    len_s1 = len(s1)\n",
    "    for i in range(len_s1 - min_length + 1):\n",
    "        substring = s1[i:i + min_length]\n",
    "        if substring in s2:\n",
    "            return True\n",
    "    return False\n",
    "\n",
    "cleaned_game_names = [re.sub(r'\\(.*?\\)', '', game).strip() for game in game_names]\n",
    "for game in cleaned_game_names:\n",
    "    added_to_cluster = False\n",
    "    for key in game_clusters.keys():\n",
    "        if find_common_substring(key, game):\n",
    "            game_clusters[key].append(game)\n",
    "            added_to_cluster = True\n",
    "            break\n",
    "    if not added_to_cluster:\n",
    "        game_clusters[game].append(game)\n",
    "\n",
    "# クラスタ情報を持つ新しいデータフレームを作成\n",
    "game_cluster_mapping = {}\n",
    "for cluster_key, cluster_games in game_clusters.items():\n",
    "    for game in cluster_games:\n",
    "        game_cluster_mapping[game] = cluster_key\n",
    "\n",
    "df = pd.DataFrame(game_names, columns=['Game Name'])\n",
    "df['Cleaned Game Name'] = df['Game Name'].apply(lambda x: re.sub(r'\\(.*?\\)', '', x).strip())\n",
    "df['Cluster'] = df['Cleaned Game Name'].map(game_cluster_mapping)\n",
    "\n",
    "# データフレームを表示\n",
    "print(df)\n",
    "\n",
    "# クラスタの結果を表示\n",
    "for cluster_key, cluster_games in game_clusters.items():\n",
    "    if len(cluster_games) > 1:  # 複数のゲームが含まれるクラスタのみ表示\n",
    "        print(f\"Cluster '{cluster_key}': {cluster_games}\")"
   ]
  },
  {
   "cell_type": "markdown",
   "id": "103b0871-2d8c-4186-91e3-a042bec0b68c",
   "metadata": {},
   "source": [
    "# **PCA**"
   ]
  },
  {
   "cell_type": "code",
   "execution_count": null,
   "id": "99394ed0-e064-4268-8e72-eb10ea6f2924",
   "metadata": {
    "tags": []
   },
   "outputs": [],
   "source": [
    "sys.path.append('UM_utilities')\n",
    "sys.path.append('mlp_config')\n",
    "\n",
    "import mlp_config as my_config\n",
    "import utils as my_utils\n",
    "data=train.copy()"
   ]
  },
  {
   "cell_type": "code",
   "execution_count": null,
   "id": "977f8c70-2327-4f06-872f-ea0dd09411a5",
   "metadata": {
    "tags": []
   },
   "outputs": [],
   "source": [
    "print(f'INITIAL DATA Shape:{red(data.shape)}')\n",
    "print('')\n",
    "FE = my_utils.UM_FE()\n",
    "data = FE.fe1(data.copy())\n",
    "data = FE.fe2(data.copy())\n",
    "data = FE.fe3(data.copy())\n",
    "# data = FE.fe9(data.copy())\n",
    "# data = FE.fe4(data.copy())\n",
    "# data = FE.fe5(data.copy())\n",
    "# data = FE.fe6(data.copy())\n",
    "# data = FE.fe7(data.copy())\n",
    "# data = FE.fe8(data.copy())\n",
    "\n",
    "# Drop Data\n",
    "data = FE.drop_cols(data, game_drop=True)\n",
    "\n",
    "# Trains Obj => Categorical data\n",
    "data, _ = FE.trans_obj_cate(data)\n",
    "\n",
    "print('')\n",
    "print(f'Final DATA Shape:{red(data.shape)}')"
   ]
  },
  {
   "cell_type": "markdown",
   "id": "81b6b3b5-43bd-41a7-9f8f-9897a60ee2a3",
   "metadata": {
    "tags": []
   },
   "source": [
    "## **CONCAT OOF PREDICTIONS**"
   ]
  },
  {
   "cell_type": "code",
   "execution_count": null,
   "id": "d893f445-4805-4960-be7c-1a7b4a5d4c0b",
   "metadata": {
    "tags": []
   },
   "outputs": [],
   "source": [
    "USE_OOF = True\n",
    "EXP_NUM_LIST = ['EXP-37', 'EXP-39', 'EXP-40', 'EXP-43', 'EXP-44', 'EXP-45']\n",
    "\n",
    "predictions={}\n",
    "for EXP_NUM in EXP_NUM_LIST:\n",
    "    SAVE_PATH = f'{my_config.general.model_save_path}/TREE_{EXP_NUM}'\n",
    "    oof_preds = joblib.load(f'{SAVE_PATH}/oof_preds_{EXP_NUM}.pkl')\n",
    "    oof_preds = {key: np.clip(value, a_min=-1.0, a_max=1.0) for key, value in oof_preds.items()}\n",
    "    oof_preds = {model: oof_preds[model].flatten() for model in oof_preds}\n",
    "    \n",
    "    cols = [f\"{col.split('_')[0]}-{EXP_NUM}\" for col in oof_preds]\n",
    "    oof_preds_df = pd.DataFrame(oof_preds)\n",
    "    oof_preds_df.columns = cols\n",
    "    predictions[EXP_NUM]=(oof_preds_df)\n",
    "\n",
    "true = train['utility_agent1'].copy()\n",
    "print(len(predictions))"
   ]
  },
  {
   "cell_type": "code",
   "execution_count": null,
   "id": "41b22530-12e5-4a00-85f1-99f34ca037c6",
   "metadata": {
    "tags": []
   },
   "outputs": [],
   "source": [
    "predictions_df = pd.DataFrame()\n",
    "for col in predictions:\n",
    "    tmp_df = predictions[col]\n",
    "    predictions_df = pd.concat([predictions_df, tmp_df], axis=1)\n",
    "predictions_df = predictions_df.astype('float64')\n",
    "\n",
    "if USE_OOF:\n",
    "    data = pd.concat([data, predictions_df], axis=1)\n",
    "    # data = FE.fe6(data.copy())\n",
    "    # exp_num = 'EXP-38'\n",
    "    # data = FE.drop_cols_fi3(data.copy(), \n",
    "    #                       save_path='model', \n",
    "    #                       exp_num=f'TREE_{exp_num}', \n",
    "    #                       topn=500)\n",
    "\n",
    "# data.replace([np.inf, -np.inf], np.nan, inplace=True)"
   ]
  },
  {
   "cell_type": "markdown",
   "id": "63c51acd-e196-4e7d-a75f-750d06ea63a9",
   "metadata": {
    "tags": []
   },
   "source": [
    "## **CHECK DATA**"
   ]
  },
  {
   "cell_type": "code",
   "execution_count": null,
   "id": "74263f12-50d9-4d4e-b2ba-7f06efb0609f",
   "metadata": {
    "tags": []
   },
   "outputs": [],
   "source": [
    "#######\n",
    "# Categorycal dataは、['GameRulesetName', 'agent1', 'agent2', 'EnglishRules', 'LudRules']の5つ\n",
    "#######\n",
    "categorical_cols = data.select_dtypes(include=['object', 'category']).columns.to_list()\n",
    "num_cols = data.drop(columns=TARGETS).select_dtypes(include=['number']).columns.to_list()\n",
    "\n",
    "# display(categorical_cols)\n",
    "print(f'category_col: {red(len(categorical_cols))}')\n",
    "print(f'numeric_col: {red(len(num_cols))}')"
   ]
  },
  {
   "cell_type": "code",
   "execution_count": null,
   "id": "7d398090-53e1-4b62-b7d7-9c2150868a32",
   "metadata": {
    "tags": []
   },
   "outputs": [],
   "source": [
    "# NN Modelの場合はIDをvalで使用するのでconcatする。\n",
    "data = pd.concat([data, train['Id']], axis=1)\n",
    "data = FE.clip_outliers(data.copy())\n",
    "\n",
    "# Trainsform Feature\n",
    "if my_config.general.scaler=='standard':\n",
    "    data = FE.standard_scaler(data.copy())\n",
    "elif my_config.general.scaler=='robust':\n",
    "    data = FE.robust_scaler(data.copy())\n",
    "elif my_config.general.scaler=='quant':\n",
    "    data = FE.quant_trans(data.copy())\n",
    "else:\n",
    "    data = FE.log_trans(data.copy())\n",
    "\n",
    "# data = FE.label_encoder(data.copy())\n",
    "data[num_cols] = data[num_cols].astype(np.float64)\n",
    "# data.drop(categorical_cols, axis=1, inplace=True)\n",
    "\n",
    "FEATURES = data.drop(TARGETS, axis=1).columns.tolist()\n",
    "len(FEATURES)"
   ]
  },
  {
   "cell_type": "code",
   "execution_count": null,
   "id": "e3dfebed-ecdc-4305-9f2b-99a1b2601889",
   "metadata": {
    "tags": []
   },
   "outputs": [],
   "source": [
    "data[num_cols]"
   ]
  },
  {
   "cell_type": "code",
   "execution_count": null,
   "id": "4e828a49-be31-4165-8749-c10eaaac454a",
   "metadata": {
    "tags": []
   },
   "outputs": [],
   "source": [
    "from sklearn.decomposition import PCA\n",
    "\n",
    "n_com = 50\n",
    "pca = PCA(n_components=n_com)\n",
    "data_pca = pca.fit_transform(data[num_cols])\n",
    "print(data_pca)"
   ]
  },
  {
   "cell_type": "code",
   "execution_count": null,
   "id": "e400d0fb-4487-4469-bac7-9b5e33cba787",
   "metadata": {
    "tags": []
   },
   "outputs": [],
   "source": [
    "data_pca_df = pd.DataFrame(data_pca)\n",
    "columns = [f'PC{i}' for i in range(0, n_com)]\n",
    "data_pca_df.columns = columns\n",
    "data_pca_df = pd.concat([data_pca_df, data[categorical_cols]], axis=1)\n",
    "data_pca_df = pd.concat([data_pca_df, train[TARGETS]], axis=1)\n"
   ]
  },
  {
   "cell_type": "code",
   "execution_count": null,
   "id": "b74642e8-40fd-4508-a483-68bae99f7d43",
   "metadata": {
    "tags": []
   },
   "outputs": [],
   "source": [
    "data_pca_df.to_csv('pca/pca_150.csv', index=False)\n",
    "joblib.dump(categorical_cols, 'pca/categorical_cols.joblib')\n",
    "joblib.dump(pca, 'pca/pca_model.joblib')"
   ]
  },
  {
   "cell_type": "code",
   "execution_count": null,
   "id": "8eb220ac-fb67-47d9-baae-e6e9c669f27a",
   "metadata": {
    "tags": []
   },
   "outputs": [],
   "source": [
    "joblib.dump(categorical_cols, 'model/NN_EXP-44/categorical_cols_pca.joblib')\n",
    "joblib.dump(pca, 'model/NN_EXP-44/pca_model.joblib')\n",
    "joblib.dump(EXP_NUM_LIST, 'model/NN_EXP-44/pca_oof_list')"
   ]
  },
  {
   "cell_type": "code",
   "execution_count": null,
   "id": "720d1196-9dab-4bc9-ae5a-8022ff5c699e",
   "metadata": {
    "tags": []
   },
   "outputs": [],
   "source": [
    "data_pca_df[]"
   ]
  },
  {
   "cell_type": "code",
   "execution_count": null,
   "id": "03cf0f45-2d2b-42ba-a0db-8c905cd1a6cc",
   "metadata": {
    "tags": []
   },
   "outputs": [],
   "source": [
    "plt.figure(figsize=(8, 6))\n",
    "plt.scatter(data_pca[:, 0], data_pca[:, 1], alpha=0.5)\n",
    "plt.xlabel('Principal Component 1')\n",
    "plt.ylabel('Principal Component 2')\n",
    "plt.title('2D PCA Visualization')\n",
    "plt.show()"
   ]
  },
  {
   "cell_type": "markdown",
   "id": "60cf56b0-23c9-4cfb-8cd0-08f60dd54af7",
   "metadata": {
    "jp-MarkdownHeadingCollapsed": true,
    "tags": []
   },
   "source": [
    "# DEBUG"
   ]
  },
  {
   "cell_type": "code",
   "execution_count": null,
   "id": "8e93955c-4657-454e-a183-36041e06b521",
   "metadata": {},
   "outputs": [],
   "source": [
    "print(f'INITIAL DATA Shape:{red(data.shape)}')\n",
    "print('')\n",
    "FE = my_utils.UM_FE()\n",
    "data = FE.fe1(data.copy())\n",
    "data = FE.fe2(data.copy())\n",
    "data = FE.fe3(data.copy())\n",
    "# data = FE.fe9(data.copy())\n",
    "# data = FE.fe4(data.copy())\n",
    "# data = FE.fe5(data.copy())\n",
    "# data = FE.fe6(data.copy())\n",
    "# data = FE.fe7(data.copy())\n",
    "# data = FE.fe8(data.copy())\n",
    "\n",
    "# Drop Data\n",
    "data = FE.drop_cols(data, game_drop=True)\n",
    "\n",
    "# exp_num = 'EXP-21'\n",
    "# data = FE.drop_cols_fi3(data.copy(), \n",
    "#                       save_path='model', \n",
    "#                       exp_num=f'TREE_{exp_num}', \n",
    "#                       topn=300)\n",
    "\n",
    "# Trains Obj => Categorical data\n",
    "data, _ = FE.trans_obj_cate(data)\n",
    "\n",
    "print('')\n",
    "print(f'Final DATA Shape:{red(data.shape)}')"
   ]
  },
  {
   "cell_type": "code",
   "execution_count": null,
   "id": "e64c7c23-12dd-4802-ab36-7af5b5ff848c",
   "metadata": {},
   "outputs": [],
   "source": [
    "USE_OOF = True\n",
    "EXP_NUM_LIST = ['EXP-8', 'EXP-12', 'EXP-14', 'EXP-26']\n",
    "\n",
    "predictions={}\n",
    "for EXP_NUM in EXP_NUM_LIST:\n",
    "    SAVE_PATH = f'{my_config.general.model_save_path}/TREE_{EXP_NUM}'\n",
    "    oof_preds = joblib.load(f'{SAVE_PATH}/oof_preds_{EXP_NUM}.pkl')\n",
    "    oof_preds = {key: np.clip(value, a_min=-1.0, a_max=1.0) for key, value in oof_preds.items()}\n",
    "    oof_preds = {model: oof_preds[model].flatten() for model in oof_preds}\n",
    "    \n",
    "    cols = [f\"{col.split('_')[0]}-{EXP_NUM}\" for col in oof_preds]\n",
    "    oof_preds_df = pd.DataFrame(oof_preds)\n",
    "    oof_preds_df.columns = cols\n",
    "    predictions[EXP_NUM]=(oof_preds_df)\n",
    "\n",
    "true = train['utility_agent1'].copy()\n",
    "print(len(predictions))"
   ]
  },
  {
   "cell_type": "code",
   "execution_count": null,
   "id": "66c4ed2e-7042-43d8-831c-2b883eeb3c00",
   "metadata": {},
   "outputs": [],
   "source": [
    "predictions_df = pd.DataFrame()\n",
    "for col in predictions:\n",
    "    tmp_df = predictions[col]\n",
    "    predictions_df = pd.concat([predictions_df, tmp_df], axis=1)\n",
    "predictions_df = predictions_df.astype('float64')\n",
    "\n",
    "if USE_OOF:\n",
    "    data = pd.concat([data, predictions_df], axis=1)"
   ]
  },
  {
   "cell_type": "code",
   "execution_count": null,
   "id": "ae0c9cb9-02b6-48df-9a88-f238e8483e22",
   "metadata": {},
   "outputs": [],
   "source": [
    "EXP_NUM = 'EXP-19'\n",
    "SAVE_PATH = f'{my_config.general.model_save_path}/TREE_{EXP_NUM}'\n",
    "\n",
    "\n",
    "i=0\n",
    "model = joblib.load(f'{SAVE_PATH}/CAT_{EXP_NUM}_f{i}.pkl')\n",
    "cat_feature_indices = model.get_cat_feature_indices()\n",
    "cat_columns = data[FEATURES].columns[cat_feature_indices]"
   ]
  },
  {
   "cell_type": "code",
   "execution_count": null,
   "id": "ed5ad841-cea4-4027-9c32-653afade90bd",
   "metadata": {},
   "outputs": [],
   "source": [
    "column_name = 'p1_selection'\n",
    "column_index = data[FEATURES].columns.get_loc(column_name)\n",
    "column_index"
   ]
  },
  {
   "cell_type": "code",
   "execution_count": null,
   "id": "e36327f3-ad1b-47ad-9378-d3055883db0b",
   "metadata": {},
   "outputs": [],
   "source": [
    "cat_feature_indices"
   ]
  }
 ],
 "metadata": {
  "kernelspec": {
   "display_name": "Python 3 (ipykernel)",
   "language": "python",
   "name": "python3"
  },
  "language_info": {
   "codemirror_mode": {
    "name": "ipython",
    "version": 3
   },
   "file_extension": ".py",
   "mimetype": "text/x-python",
   "name": "python",
   "nbconvert_exporter": "python",
   "pygments_lexer": "ipython3",
   "version": "3.11.7"
  },
  "toc-autonumbering": true,
  "toc-showcode": false
 },
 "nbformat": 4,
 "nbformat_minor": 5
}
