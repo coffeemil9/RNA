{
 "cells": [
  {
   "cell_type": "code",
   "execution_count": 3,
   "id": "ecc206d3-8f04-45b1-b401-d1184a1b7229",
   "metadata": {
    "tags": []
   },
   "outputs": [],
   "source": [
    "import sys\n",
    "import wandb # type: ignore\n",
    "import pandas as pd\n",
    "import joblib\n",
    "import shutil\n",
    "import os\n",
    "from pathlib import Path"
   ]
  },
  {
   "cell_type": "code",
   "execution_count": 4,
   "id": "962cc940-8e5d-48e4-815e-451246651634",
   "metadata": {
    "tags": []
   },
   "outputs": [
    {
     "name": "stdout",
     "output_type": "stream",
     "text": [
      "lgb version:4.2.0\n",
      "catboost version:1.2.7\n",
      "xgboost version:2.0.3\n",
      "lgb version:4.2.0\n",
      "catboost version:1.2.7\n",
      "xgboost version:2.0.3\n"
     ]
    }
   ],
   "source": [
    "sys.path.append('/notebooks/CIBMTR/utils')\n",
    "sys.path.append('/notebooks/CIBMTR/train')\n",
    "\n",
    "import tuning\n",
    "import utils as my_utils\n",
    "import metric\n",
    "from metric import score\n",
    "from utils import clr\n",
    "import train as trainer\n",
    "import config"
   ]
  },
  {
   "cell_type": "markdown",
   "id": "6984ff2d-1ba2-4b31-859b-450330fe4366",
   "metadata": {
    "tags": []
   },
   "source": [
    "# Kaggle API"
   ]
  },
  {
   "cell_type": "code",
   "execution_count": 5,
   "id": "373e52df-c0b2-4244-9c29-96d524457987",
   "metadata": {
    "tags": []
   },
   "outputs": [],
   "source": [
    "%%capture\n",
    "!pip install kaggle"
   ]
  },
  {
   "cell_type": "code",
   "execution_count": 6,
   "id": "2ad220fd-f4b3-4d25-892c-159e0b8ea89f",
   "metadata": {
    "tags": []
   },
   "outputs": [],
   "source": [
    "!mkdir -p ~/.kaggle\n",
    "!cp kaggle.json ~/.kaggle/\n",
    "!chmod 600 ~/.kaggle/kaggle.json"
   ]
  },
  {
   "cell_type": "code",
   "execution_count": 7,
   "id": "91775b6e-5308-4c61-8ea9-e0a9bcccf083",
   "metadata": {
    "tags": []
   },
   "outputs": [],
   "source": [
    "# EXP_NUM = 'EXP-50'\n",
    "# score = 0.428\n",
    "# wandb.init(project=\"UM\", group=f'{EXP_NUM}', name=f'{EXP_NUM} LB', tags=['LB'])\n",
    "# wandb.log({'LB':score})\n",
    "# wandb.finish()"
   ]
  },
  {
   "cell_type": "code",
   "execution_count": 8,
   "id": "4f9461a8-79fc-472a-9b06-8615da4b9bbc",
   "metadata": {
    "tags": []
   },
   "outputs": [],
   "source": [
    "# f='CIBMTR'\n",
    "# shutil.rmtree(f)\n",
    "# os.remove(f)"
   ]
  },
  {
   "cell_type": "code",
   "execution_count": 9,
   "id": "fe53618c-7dde-4537-8091-e73163ba9591",
   "metadata": {
    "tags": []
   },
   "outputs": [],
   "source": [
    "# import os\n",
    "\n",
    "# # # 削除したいzipファイルのパス\n",
    "# zip_file_path = 'isic-2024-challenge.zip'\n",
    "\n",
    "# # # ファイルが存在するか確認して削除\n",
    "# if os.path.exists(zip_file_path):\n",
    "#     os.remove(zip_file_path)\n",
    "#     print(f'{zip_file_path} を削除しました。')\n",
    "# else:\n",
    "#     print(f'{zip_file_path} が見つかりません。')"
   ]
  },
  {
   "cell_type": "code",
   "execution_count": 10,
   "id": "eb48e37c-ab44-4f0c-97e3-e2c01addf8f5",
   "metadata": {
    "tags": []
   },
   "outputs": [],
   "source": [
    "# # ファイルを移動する\n",
    "# source = 'data/EEG_Spectrograms_CWT_nodbscale'\n",
    "# destination = '/datasets/datasets/'\n",
    "\n",
    "\n",
    "\n",
    "# # ファイルを移動\n",
    "# shutil.move(source, destination)"
   ]
  },
  {
   "cell_type": "markdown",
   "id": "97bc6247-1bd4-4b20-b777-c3b9f940060c",
   "metadata": {
    "tags": []
   },
   "source": [
    "## Upload Datasets to Kaggle\n",
    "1. !kaggle datasets init -p Path　（Pathはkaggleにアップロードしたいファイルが格納されているフォルダのパス）\n",
    "2. 1でできた、dataset-metadata.jsonの中の、titleとidを変更する。titleはkaggleにアップロードした際のファイル名となる。\n",
    "3. !kaggle datasets create -p Path　（Pathはkaggleにアップデートしたいファイルが格納されているフォルダのパス）　でアップロード。"
   ]
  },
  {
   "cell_type": "code",
   "execution_count": 38,
   "id": "fbadda4b-fa76-4813-b8c3-8c78609b4b13",
   "metadata": {
    "tags": []
   },
   "outputs": [
    {
     "name": "stdout",
     "output_type": "stream",
     "text": [
      "Data package template written to: /notebooks/CIBMTR/output/EXP-4/dataset-metadata.json\n"
     ]
    }
   ],
   "source": [
    "# !kaggle datasets init -p '/notebooks/CIBMTR/inference'\n",
    "!kaggle datasets init -p '/notebooks/CIBMTR/output/EXP-4'\n",
    "# !kaggle datasets init -p 'model/NN_EXP-77'"
   ]
  },
  {
   "cell_type": "code",
   "execution_count": 39,
   "id": "73ac7d6e-6ba1-46ed-9028-c60ccd3478e2",
   "metadata": {
    "tags": []
   },
   "outputs": [
    {
     "name": "stdout",
     "output_type": "stream",
     "text": [
      "Starting upload for file CAT_EXP-4_f3.pkl\n",
      "100%|██████████████████████████████████████| 1.44M/1.44M [00:00<00:00, 4.04MB/s]\n",
      "Upload successful: CAT_EXP-4_f3.pkl (1MB)\n",
      "Starting upload for file train.py\n",
      "100%|██████████████████████████████████████| 4.55k/4.55k [00:00<00:00, 13.7kB/s]\n",
      "Upload successful: train.py (5KB)\n",
      "Starting upload for file params.json\n",
      "100%|██████████████████████████████████████████| 348/348 [00:00<00:00, 1.02kB/s]\n",
      "Upload successful: params.json (348B)\n",
      "Starting upload for file CAT_EXP-4_f4.pkl\n",
      "100%|████████████████████████████████████████| 985k/985k [00:00<00:00, 3.03MB/s]\n",
      "Upload successful: CAT_EXP-4_f4.pkl (985KB)\n",
      "Starting upload for file CAT_EXP-4_f0.pkl\n",
      "100%|████████████████████████████████████████| 925k/925k [00:00<00:00, 2.78MB/s]\n",
      "Upload successful: CAT_EXP-4_f0.pkl (925KB)\n",
      "Starting upload for file CAT_EXP-4_f1.pkl\n",
      "100%|██████████████████████████████████████| 1.21M/1.21M [00:00<00:00, 3.61MB/s]\n",
      "Upload successful: CAT_EXP-4_f1.pkl (1MB)\n",
      "Starting upload for file numerical_cols.pkl\n",
      "100%|██████████████████████████████████████████| 408/408 [00:00<00:00, 1.21kB/s]\n",
      "Upload successful: numerical_cols.pkl (408B)\n",
      "Starting upload for file categorical_cols.pkl\n",
      "100%|██████████████████████████████████████████| 510/510 [00:00<00:00, 1.36kB/s]\n",
      "Upload successful: categorical_cols.pkl (510B)\n",
      "Starting upload for file CAT_EXP-4_f2.pkl\n",
      "100%|████████████████████████████████████████| 985k/985k [00:00<00:00, 2.83MB/s]\n",
      "Upload successful: CAT_EXP-4_f2.pkl (985KB)\n",
      "Starting upload for file features.pkl\n",
      "100%|██████████████████████████████████████████| 895/895 [00:00<00:00, 2.80kB/s]\n",
      "Upload successful: features.pkl (895B)\n",
      "Starting upload for file oof_preds_EXP-4.pkl\n",
      "100%|█████████████████████████████████████████| 225k/225k [00:00<00:00, 716kB/s]\n",
      "Upload successful: oof_preds_EXP-4.pkl (225KB)\n",
      "Starting upload for file config.py\n",
      "100%|██████████████████████████████████████| 1.80k/1.80k [00:00<00:00, 5.70kB/s]\n",
      "Upload successful: config.py (2KB)\n",
      "Skipping folder: .ipynb_checkpoints; use '--dir-mode' to upload folders\n",
      "Your private Dataset is being created. Please check progress at https://www.kaggle.com/datasets/haruki741/TREE-EXP-4\n"
     ]
    }
   ],
   "source": [
    "# !kaggle datasets create -p 'model/DTNN_EXP-17' --dir-mode zip\n",
    "!kaggle datasets create -p '/notebooks/CIBMTR/output/EXP-4'\n",
    "# !kaggle datasets create -p '/notebooks/CIBMTR/inference'"
   ]
  },
  {
   "cell_type": "markdown",
   "id": "74c5b0a0-aaaa-446f-879b-423ce496ef7d",
   "metadata": {
    "tags": []
   },
   "source": [
    "## UPDATE"
   ]
  },
  {
   "cell_type": "code",
   "execution_count": 51,
   "id": "9852ea2e-c0aa-4efe-83cc-26235d22eded",
   "metadata": {
    "tags": []
   },
   "outputs": [],
   "source": [
    "# !kaggle datasets init -p 'UM_utilities'"
   ]
  },
  {
   "cell_type": "code",
   "execution_count": 52,
   "id": "d7680963-0ea9-45b3-ac32-8f3e64b13097",
   "metadata": {
    "tags": []
   },
   "outputs": [],
   "source": [
    "# !kaggle datasets create -p 'UM_utilities'"
   ]
  },
  {
   "cell_type": "code",
   "execution_count": 37,
   "id": "033362b6-a1b7-4cd3-a695-42de5b554734",
   "metadata": {
    "tags": []
   },
   "outputs": [
    {
     "name": "stdout",
     "output_type": "stream",
     "text": [
      "Starting upload for file inference.py\n",
      "100%|██████████████████████████████████████| 3.42k/3.42k [00:00<00:00, 9.58kB/s]\n",
      "Upload successful: inference.py (3KB)\n",
      "Skipping folder: .ipynb_checkpoints; use '--dir-mode' to upload folders\n",
      "Dataset version is being created. Please check progress at https://www.kaggle.com/haruki741/inference\n"
     ]
    }
   ],
   "source": [
    "!kaggle datasets version -p '/notebooks/CIBMTR/inference' -m \"Add New\""
   ]
  },
  {
   "cell_type": "code",
   "execution_count": 54,
   "id": "763db345-50db-4c49-bc5e-733019bf7d7d",
   "metadata": {
    "tags": []
   },
   "outputs": [],
   "source": [
    "# !kaggle datasets version -p 'UM_tfidf' -m \"Add New\""
   ]
  },
  {
   "cell_type": "code",
   "execution_count": 55,
   "id": "11e0a3f5-9c43-4069-97e7-79ae142e7b27",
   "metadata": {
    "tags": []
   },
   "outputs": [],
   "source": [
    "# !kaggle datasets version -p 'model/NN_EXP-68' -m \"Add New\"\n",
    "# !kaggle datasets version -p 'model/TREE_EXP-1000' -m \"Add New\" --dir-mode zip"
   ]
  },
  {
   "cell_type": "markdown",
   "id": "67b244c4-09ac-4f84-8ad9-dd5ed9efc454",
   "metadata": {
    "tags": []
   },
   "source": [
    "## DOWNLOAD"
   ]
  },
  {
   "cell_type": "code",
   "execution_count": 56,
   "id": "33d1f208-d2a9-4317-99a0-537011e19424",
   "metadata": {
    "tags": []
   },
   "outputs": [],
   "source": [
    "# !kaggle kernels output haruki741/fix-deeptables-b4f56b -p tensorflow\n",
    "# !kaggle kernels output peilwang/fix-deeptables -p fix_deeptables"
   ]
  },
  {
   "cell_type": "code",
   "execution_count": 57,
   "id": "c145c0dd-ddd6-44f9-a8ba-557a3dc060a2",
   "metadata": {
    "tags": []
   },
   "outputs": [
    {
     "name": "stdout",
     "output_type": "stream",
     "text": [
      "Downloading equity-post-HCT-survival-predictions.zip to /notebooks\n",
      "  0%|                                               | 0.00/1.27M [00:00<?, ?B/s]\n",
      "100%|██████████████████████████████████████| 1.27M/1.27M [00:00<00:00, 32.7MB/s]\n"
     ]
    }
   ],
   "source": [
    "!kaggle competitions download -c equity-post-HCT-survival-predictions"
   ]
  },
  {
   "cell_type": "markdown",
   "id": "f4f4f217-99cf-4ce9-9626-f0256e5f82ff",
   "metadata": {
    "jp-MarkdownHeadingCollapsed": true,
    "tags": []
   },
   "source": [
    "# **ZIP**"
   ]
  },
  {
   "cell_type": "code",
   "execution_count": 31,
   "id": "107428ad-9cc7-4e89-a849-0af4f23c1ec1",
   "metadata": {
    "tags": []
   },
   "outputs": [],
   "source": [
    "import zipfile\n",
    "import os"
   ]
  },
  {
   "cell_type": "code",
   "execution_count": 21,
   "id": "07ad750a-8e1a-4092-b799-bde453e39980",
   "metadata": {
    "tags": []
   },
   "outputs": [],
   "source": [
    "# # Zipファイルのパス\n",
    "# zip_file_path = \"data/equity-post-HCT-survival-predictions.zip\"\n",
    "\n",
    "# # 解凍先ディレクトリのパス\n",
    "# extract_dir = \"/Users/haruki/Desktop/CIBMTR/data/\"\n",
    "\n",
    "# # Zipファイルを解凍\n",
    "# with zipfile.ZipFile(zip_file_path, 'r') as zip_ref:\n",
    "#     zip_ref.extractall(extract_dir)"
   ]
  },
  {
   "cell_type": "markdown",
   "id": "292d1de4",
   "metadata": {
    "jp-MarkdownHeadingCollapsed": true,
    "tags": []
   },
   "source": [
    "# **GIT**"
   ]
  },
  {
   "cell_type": "code",
   "execution_count": 22,
   "id": "5b4d3b39",
   "metadata": {
    "tags": []
   },
   "outputs": [],
   "source": [
    "# !cd CIBMTR\n",
    "# !git add /notebooks/CIBMTR/kaggle/kaggle.txt\n",
    "# !git config --global user.name coffeemil9\n",
    "# !git config --global user.email \"oneok.ash@gmail.com\"\n",
    "# !git commit -m \"Add new file\""
   ]
  },
  {
   "cell_type": "code",
   "execution_count": 23,
   "id": "8d8d9560",
   "metadata": {
    "tags": []
   },
   "outputs": [],
   "source": [
    "# !git push origin main"
   ]
  },
  {
   "cell_type": "code",
   "execution_count": null,
   "id": "a25a3381-9984-45b7-854c-d451dc98e96e",
   "metadata": {},
   "outputs": [],
   "source": []
  }
 ],
 "metadata": {
  "kernelspec": {
   "display_name": "Python 3 (ipykernel)",
   "language": "python",
   "name": "python3"
  },
  "language_info": {
   "codemirror_mode": {
    "name": "ipython",
    "version": 3
   },
   "file_extension": ".py",
   "mimetype": "text/x-python",
   "name": "python",
   "nbconvert_exporter": "python",
   "pygments_lexer": "ipython3",
   "version": "3.11.7"
  }
 },
 "nbformat": 4,
 "nbformat_minor": 5
}
