{
 "cells": [
  {
   "cell_type": "code",
   "execution_count": 8,
   "id": "ecc206d3-8f04-45b1-b401-d1184a1b7229",
   "metadata": {
    "tags": []
   },
   "outputs": [],
   "source": [
    "import sys\n",
    "import wandb # type: ignore\n",
    "import pandas as pd\n",
    "import joblib\n",
    "import shutil\n",
    "import os\n",
    "from matplotlib.colors import ListedColormap, LinearSegmentedColormap # type: ignore\n",
    "# sys.path.append('utilities.py')\n",
    "# sys.path.append('optimizer.py')\n",
    "# sys.path.append('scheduler.py')\n",
    "# sys.path.append('cofig.py')\n",
    "# sys.path.append('model.py')\n",
    "\n",
    "from pathlib import Path\n",
    "# import utilities as my_util\n",
    "# import optimizer as my_opt\n",
    "# import scheduler as my_scheduler\n",
    "# import config as my_cfg\n",
    "# import models as my_model\n",
    "\n",
    "class clr:\n",
    "    BLACK     = '\\033[30m'\n",
    "    RED       = '\\033[31m'\n",
    "    GREEN     = '\\033[32m'\n",
    "    YELLOW    = '\\033[33m'\n",
    "    BLUE      = '\\033[34m'\n",
    "    PURPLE    = '\\033[35m'\n",
    "    CYAN      = '\\033[36m'\n",
    "    WHITE     = '\\033[37m'\n",
    "    END       = '\\033[0m'\n",
    "    BOLD      = '\\033[1m'\n",
    "    UNDERLINE = '\\033[4m'\n",
    "    INVISIBLE = '\\033[08m'\n",
    "    REVERCE   = '\\033[07m'\n",
    "    S = '\\033[1m' + '\\033[95m'\n",
    "    E = '\\033[0m'\n",
    "\n",
    "my_colors = [\"#761D80\", \"#9926A6\", \"#9C69C9\",\n",
    "            \"#6C91BF\", \"#58BCC6\", \"#4AD1B2\",\n",
    "            \"#4BF1B2\"]\n",
    "\n",
    "CMAP1 = ListedColormap(my_colors)\n"
   ]
  },
  {
   "cell_type": "code",
   "execution_count": null,
   "id": "68053a6f",
   "metadata": {},
   "outputs": [],
   "source": []
  },
  {
   "cell_type": "markdown",
   "id": "6984ff2d-1ba2-4b31-859b-450330fe4366",
   "metadata": {
    "tags": []
   },
   "source": [
    "# Kaggle API"
   ]
  },
  {
   "cell_type": "code",
   "execution_count": 11,
   "id": "12ed9eb0-7677-4ae2-bdf8-dd936c77d8ee",
   "metadata": {
    "tags": []
   },
   "outputs": [
    {
     "name": "stdout",
     "output_type": "stream",
     "text": [
      "Thu Jan  2 08:55:22 2025       \n",
      "+-----------------------------------------------------------------------------+\n",
      "| NVIDIA-SMI 525.116.04   Driver Version: 525.116.04   CUDA Version: 12.0     |\n",
      "|-------------------------------+----------------------+----------------------+\n",
      "| GPU  Name        Persistence-M| Bus-Id        Disp.A | Volatile Uncorr. ECC |\n",
      "| Fan  Temp  Perf  Pwr:Usage/Cap|         Memory-Usage | GPU-Util  Compute M. |\n",
      "|                               |                      |               MIG M. |\n",
      "|===============================+======================+======================|\n",
      "|   0  Quadro P5000        Off  | 00000000:00:05.0 Off |                  Off |\n",
      "| 26%   31C    P8     6W / 180W |      2MiB / 16384MiB |      0%      Default |\n",
      "|                               |                      |                  N/A |\n",
      "+-------------------------------+----------------------+----------------------+\n",
      "                                                                               \n",
      "+-----------------------------------------------------------------------------+\n",
      "| Processes:                                                                  |\n",
      "|  GPU   GI   CI        PID   Type   Process name                  GPU Memory |\n",
      "|        ID   ID                                                   Usage      |\n",
      "|=============================================================================|\n",
      "|  No running processes found                                                 |\n",
      "+-----------------------------------------------------------------------------+\n"
     ]
    }
   ],
   "source": [
    "!nvidia-smi"
   ]
  },
  {
   "cell_type": "code",
   "execution_count": 21,
   "id": "373e52df-c0b2-4244-9c29-96d524457987",
   "metadata": {
    "tags": []
   },
   "outputs": [],
   "source": [
    "%%capture\n",
    "!pip install kaggle\n",
    "!pip install transformers==4.39.3"
   ]
  },
  {
   "cell_type": "code",
   "execution_count": 44,
   "id": "2ad220fd-f4b3-4d25-892c-159e0b8ea89f",
   "metadata": {
    "tags": []
   },
   "outputs": [],
   "source": [
    "!mkdir -p ~/.kaggle\n",
    "!cp kaggle.json ~/.kaggle/\n",
    "!chmod 600 ~/.kaggle/kaggle.json"
   ]
  },
  {
   "cell_type": "code",
   "execution_count": 45,
   "id": "91775b6e-5308-4c61-8ea9-e0a9bcccf083",
   "metadata": {
    "tags": []
   },
   "outputs": [],
   "source": [
    "# EXP_NUM = 'EXP-50'\n",
    "# score = 0.428\n",
    "# wandb.init(project=\"UM\", group=f'{EXP_NUM}', name=f'{EXP_NUM} LB', tags=['LB'])\n",
    "# wandb.log({'LB':score})\n",
    "# wandb.finish()"
   ]
  },
  {
   "cell_type": "code",
   "execution_count": null,
   "id": "4f9461a8-79fc-472a-9b06-8615da4b9bbc",
   "metadata": {
    "tags": []
   },
   "outputs": [
    {
     "ename": "FileNotFoundError",
     "evalue": "[Errno 2] No such file or directory: 'CIBMTR'",
     "output_type": "error",
     "traceback": [
      "\u001b[0;31m---------------------------------------------------------------------------\u001b[0m",
      "\u001b[0;31mFileNotFoundError\u001b[0m                         Traceback (most recent call last)",
      "Cell \u001b[0;32mIn[9], line 3\u001b[0m\n\u001b[1;32m      1\u001b[0m f\u001b[38;5;241m=\u001b[39m\u001b[38;5;124m'\u001b[39m\u001b[38;5;124mCIBMTR\u001b[39m\u001b[38;5;124m'\u001b[39m\n\u001b[1;32m      2\u001b[0m shutil\u001b[38;5;241m.\u001b[39mrmtree(f)\n\u001b[0;32m----> 3\u001b[0m \u001b[43mos\u001b[49m\u001b[38;5;241;43m.\u001b[39;49m\u001b[43mremove\u001b[49m\u001b[43m(\u001b[49m\u001b[43mf\u001b[49m\u001b[43m)\u001b[49m\n",
      "\u001b[0;31mFileNotFoundError\u001b[0m: [Errno 2] No such file or directory: 'CIBMTR'"
     ]
    }
   ],
   "source": [
    "f='CIBMTR'\n",
    "shutil.rmtree(f)\n",
    "# os.remove(f)"
   ]
  },
  {
   "cell_type": "code",
   "execution_count": 47,
   "id": "fe53618c-7dde-4537-8091-e73163ba9591",
   "metadata": {
    "tags": []
   },
   "outputs": [],
   "source": [
    "# import os\n",
    "\n",
    "# # # 削除したいzipファイルのパス\n",
    "# zip_file_path = 'isic-2024-challenge.zip'\n",
    "\n",
    "# # # ファイルが存在するか確認して削除\n",
    "# if os.path.exists(zip_file_path):\n",
    "#     os.remove(zip_file_path)\n",
    "#     print(f'{zip_file_path} を削除しました。')\n",
    "# else:\n",
    "#     print(f'{zip_file_path} が見つかりません。')"
   ]
  },
  {
   "cell_type": "code",
   "execution_count": 48,
   "id": "eb48e37c-ab44-4f0c-97e3-e2c01addf8f5",
   "metadata": {
    "tags": []
   },
   "outputs": [],
   "source": [
    "# # ファイルを移動する\n",
    "# source = 'data/EEG_Spectrograms_CWT_nodbscale'\n",
    "# destination = '/datasets/datasets/'\n",
    "\n",
    "\n",
    "\n",
    "# # ファイルを移動\n",
    "# shutil.move(source, destination)"
   ]
  },
  {
   "cell_type": "markdown",
   "id": "97bc6247-1bd4-4b20-b777-c3b9f940060c",
   "metadata": {
    "tags": []
   },
   "source": [
    "## Upload Datasets to Kaggle\n",
    "1. !kaggle datasets init -p Path　（Pathはkaggleにアップロードしたいファイルが格納されているフォルダのパス）\n",
    "2. 1でできた、dataset-metadata.jsonの中の、titleとidを変更する。titleはkaggleにアップロードした際のファイル名となる。\n",
    "3. !kaggle datasets create -p Path　（Pathはkaggleにアップデートしたいファイルが格納されているフォルダのパス）　でアップロード。"
   ]
  },
  {
   "cell_type": "code",
   "execution_count": 49,
   "id": "fbadda4b-fa76-4813-b8c3-8c78609b4b13",
   "metadata": {
    "tags": []
   },
   "outputs": [],
   "source": [
    "# !kaggle datasets init -p 'model/DTNN_EXP-17'\n",
    "# !kaggle datasets init -p 'model/TREE_EXP-1002'\n",
    "# !kaggle datasets init -p 'model/NN_EXP-77'"
   ]
  },
  {
   "cell_type": "code",
   "execution_count": 50,
   "id": "73ac7d6e-6ba1-46ed-9028-c60ccd3478e2",
   "metadata": {
    "tags": []
   },
   "outputs": [],
   "source": [
    "# !kaggle datasets create -p 'model/DTNN_EXP-17' --dir-mode zip\n",
    "# !kaggle datasets create -p 'model/NN_EXP-100'\n",
    "# !kaggle datasets create -p 'model/TREE_EXP-1002'"
   ]
  },
  {
   "cell_type": "markdown",
   "id": "74c5b0a0-aaaa-446f-879b-423ce496ef7d",
   "metadata": {
    "tags": []
   },
   "source": [
    "## UPDATE"
   ]
  },
  {
   "cell_type": "code",
   "execution_count": 51,
   "id": "9852ea2e-c0aa-4efe-83cc-26235d22eded",
   "metadata": {
    "tags": []
   },
   "outputs": [],
   "source": [
    "# !kaggle datasets init -p 'UM_utilities'"
   ]
  },
  {
   "cell_type": "code",
   "execution_count": 52,
   "id": "d7680963-0ea9-45b3-ac32-8f3e64b13097",
   "metadata": {
    "tags": []
   },
   "outputs": [],
   "source": [
    "# !kaggle datasets create -p 'UM_utilities'"
   ]
  },
  {
   "cell_type": "code",
   "execution_count": 53,
   "id": "033362b6-a1b7-4cd3-a695-42de5b554734",
   "metadata": {
    "tags": []
   },
   "outputs": [],
   "source": [
    "# !kaggle datasets version -p 'UM_utilities' -m \"Add New\""
   ]
  },
  {
   "cell_type": "code",
   "execution_count": 54,
   "id": "763db345-50db-4c49-bc5e-733019bf7d7d",
   "metadata": {
    "tags": []
   },
   "outputs": [],
   "source": [
    "# !kaggle datasets version -p 'UM_tfidf' -m \"Add New\""
   ]
  },
  {
   "cell_type": "code",
   "execution_count": 55,
   "id": "11e0a3f5-9c43-4069-97e7-79ae142e7b27",
   "metadata": {
    "tags": []
   },
   "outputs": [],
   "source": [
    "# !kaggle datasets version -p 'model/NN_EXP-68' -m \"Add New\"\n",
    "# !kaggle datasets version -p 'model/TREE_EXP-1000' -m \"Add New\" --dir-mode zip"
   ]
  },
  {
   "cell_type": "markdown",
   "id": "67b244c4-09ac-4f84-8ad9-dd5ed9efc454",
   "metadata": {
    "tags": []
   },
   "source": [
    "## DOWNLOAD"
   ]
  },
  {
   "cell_type": "code",
   "execution_count": 56,
   "id": "33d1f208-d2a9-4317-99a0-537011e19424",
   "metadata": {
    "tags": []
   },
   "outputs": [],
   "source": [
    "# !kaggle kernels output haruki741/fix-deeptables-b4f56b -p tensorflow\n",
    "# !kaggle kernels output peilwang/fix-deeptables -p fix_deeptables"
   ]
  },
  {
   "cell_type": "code",
   "execution_count": 57,
   "id": "c145c0dd-ddd6-44f9-a8ba-557a3dc060a2",
   "metadata": {
    "tags": []
   },
   "outputs": [
    {
     "name": "stdout",
     "output_type": "stream",
     "text": [
      "Downloading equity-post-HCT-survival-predictions.zip to /notebooks\n",
      "  0%|                                               | 0.00/1.27M [00:00<?, ?B/s]\n",
      "100%|██████████████████████████████████████| 1.27M/1.27M [00:00<00:00, 32.7MB/s]\n"
     ]
    }
   ],
   "source": [
    "!kaggle competitions download -c equity-post-HCT-survival-predictions"
   ]
  },
  {
   "cell_type": "markdown",
   "id": "f4f4f217-99cf-4ce9-9626-f0256e5f82ff",
   "metadata": {
    "tags": []
   },
   "source": [
    "# **ZIP**"
   ]
  },
  {
   "cell_type": "code",
   "execution_count": 31,
   "id": "107428ad-9cc7-4e89-a849-0af4f23c1ec1",
   "metadata": {
    "tags": []
   },
   "outputs": [],
   "source": [
    "import zipfile\n",
    "import os"
   ]
  },
  {
   "cell_type": "code",
   "execution_count": 43,
   "id": "229c25f4",
   "metadata": {},
   "outputs": [
    {
     "name": "stdout",
     "output_type": "stream",
     "text": [
      "README.md  kaggle  quick_start_pytorch.ipynb  quick_start_pytorch_images\n"
     ]
    }
   ],
   "source": [
    "!ls"
   ]
  },
  {
   "cell_type": "code",
   "execution_count": 36,
   "id": "07ad750a-8e1a-4092-b799-bde453e39980",
   "metadata": {
    "tags": []
   },
   "outputs": [
    {
     "ename": "FileNotFoundError",
     "evalue": "[Errno 2] No such file or directory: 'data/equity-post-HCT-survival-predictions.zip'",
     "output_type": "error",
     "traceback": [
      "\u001b[0;31m---------------------------------------------------------------------------\u001b[0m",
      "\u001b[0;31mFileNotFoundError\u001b[0m                         Traceback (most recent call last)",
      "Cell \u001b[0;32mIn[36], line 8\u001b[0m\n\u001b[1;32m      5\u001b[0m extract_dir \u001b[38;5;241m=\u001b[39m \u001b[38;5;124m\"\u001b[39m\u001b[38;5;124m/Users/haruki/Desktop/CIBMTR/data/\u001b[39m\u001b[38;5;124m\"\u001b[39m\n\u001b[1;32m      7\u001b[0m \u001b[38;5;66;03m# Zipファイルを解凍\u001b[39;00m\n\u001b[0;32m----> 8\u001b[0m \u001b[38;5;28;01mwith\u001b[39;00m \u001b[43mzipfile\u001b[49m\u001b[38;5;241;43m.\u001b[39;49m\u001b[43mZipFile\u001b[49m\u001b[43m(\u001b[49m\u001b[43mzip_file_path\u001b[49m\u001b[43m,\u001b[49m\u001b[43m \u001b[49m\u001b[38;5;124;43m'\u001b[39;49m\u001b[38;5;124;43mr\u001b[39;49m\u001b[38;5;124;43m'\u001b[39;49m\u001b[43m)\u001b[49m \u001b[38;5;28;01mas\u001b[39;00m zip_ref:\n\u001b[1;32m      9\u001b[0m     zip_ref\u001b[38;5;241m.\u001b[39mextractall(extract_dir)\n",
      "File \u001b[0;32m/usr/lib/python3.11/zipfile.py:1284\u001b[0m, in \u001b[0;36mZipFile.__init__\u001b[0;34m(self, file, mode, compression, allowZip64, compresslevel, strict_timestamps, metadata_encoding)\u001b[0m\n\u001b[1;32m   1282\u001b[0m \u001b[38;5;28;01mwhile\u001b[39;00m \u001b[38;5;28;01mTrue\u001b[39;00m:\n\u001b[1;32m   1283\u001b[0m     \u001b[38;5;28;01mtry\u001b[39;00m:\n\u001b[0;32m-> 1284\u001b[0m         \u001b[38;5;28mself\u001b[39m\u001b[38;5;241m.\u001b[39mfp \u001b[38;5;241m=\u001b[39m \u001b[43mio\u001b[49m\u001b[38;5;241;43m.\u001b[39;49m\u001b[43mopen\u001b[49m\u001b[43m(\u001b[49m\u001b[43mfile\u001b[49m\u001b[43m,\u001b[49m\u001b[43m \u001b[49m\u001b[43mfilemode\u001b[49m\u001b[43m)\u001b[49m\n\u001b[1;32m   1285\u001b[0m     \u001b[38;5;28;01mexcept\u001b[39;00m \u001b[38;5;167;01mOSError\u001b[39;00m:\n\u001b[1;32m   1286\u001b[0m         \u001b[38;5;28;01mif\u001b[39;00m filemode \u001b[38;5;129;01min\u001b[39;00m modeDict:\n",
      "\u001b[0;31mFileNotFoundError\u001b[0m: [Errno 2] No such file or directory: 'data/equity-post-HCT-survival-predictions.zip'"
     ]
    }
   ],
   "source": [
    "# Zipファイルのパス\n",
    "zip_file_path = \"data/equity-post-HCT-survival-predictions.zip\"\n",
    "\n",
    "# 解凍先ディレクトリのパス\n",
    "extract_dir = \"/Users/haruki/Desktop/CIBMTR/data/\"\n",
    "\n",
    "# Zipファイルを解凍\n",
    "with zipfile.ZipFile(zip_file_path, 'r') as zip_ref:\n",
    "    zip_ref.extractall(extract_dir)"
   ]
  },
  {
   "cell_type": "markdown",
   "id": "292d1de4",
   "metadata": {},
   "source": [
    "# **GIT**"
   ]
  },
  {
   "cell_type": "code",
   "execution_count": null,
   "id": "5b4d3b39",
   "metadata": {},
   "outputs": [
    {
     "name": "stdout",
     "output_type": "stream",
     "text": [
      "Author identity unknown\n",
      "\n",
      "*** Please tell me who you are.\n",
      "\n",
      "Run\n",
      "\n",
      "  git config --global user.email \"you@example.com\"\n",
      "  git config --global user.name \"Your Name\"\n",
      "\n",
      "to set your account's default identity.\n",
      "Omit --global to set the identity only in this repository.\n",
      "\n",
      "fatal: unable to auto-detect email address (got 'root@nexpjb0jdn.(none)')\n"
     ]
    }
   ],
   "source": [
    "!cd CIBMTR\n",
    "!git add /notebooks/CIBMTR/kaggle/kaggle.txt\n",
    "!git config --global user.name coffeemil9\n",
    "!git config --global user.email \"oneok.ash@gmail.com\"\n",
    "!git commit -m \"Add new file\""
   ]
  },
  {
   "cell_type": "code",
   "execution_count": 12,
   "id": "8d8d9560",
   "metadata": {},
   "outputs": [
    {
     "name": "stdout",
     "output_type": "stream",
     "text": [
      "Username for 'https://github.com': ^C\n"
     ]
    }
   ],
   "source": [
    "!git push origin main"
   ]
  }
 ],
 "metadata": {
  "kernelspec": {
   "display_name": "Python 3 (ipykernel)",
   "language": "python",
   "name": "python3"
  },
  "language_info": {
   "codemirror_mode": {
    "name": "ipython",
    "version": 3
   },
   "file_extension": ".py",
   "mimetype": "text/x-python",
   "name": "python",
   "nbconvert_exporter": "python",
   "pygments_lexer": "ipython3",
   "version": "3.11.7"
  }
 },
 "nbformat": 4,
 "nbformat_minor": 5
}
