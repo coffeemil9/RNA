{
 "cells": [
  {
   "cell_type": "markdown",
   "id": "5870ceeb-a460-4c46-b0b1-6591bea1d7a2",
   "metadata": {
    "tags": []
   },
   "source": [
    "# **Dependincies**"
   ]
  },
  {
   "cell_type": "code",
   "execution_count": 149,
   "id": "019feaaa-8896-4046-8b1d-3ae7e840fba6",
   "metadata": {
    "tags": []
   },
   "outputs": [],
   "source": [
    "%%capture\n",
    "!pip install polars\n",
    "!pip install lightgbm==4.2.0\n",
    "!pip install catboost==1.2.7\n",
    "!pip install xgboost==2.0.3\n",
    "!pip install optuna\n",
    "!pip install lifelines"
   ]
  },
  {
   "cell_type": "code",
   "execution_count": 150,
   "id": "46c37c15-fc68-40cd-8dcb-9a1b23bf8cf9",
   "metadata": {
    "tags": []
   },
   "outputs": [
    {
     "name": "stdout",
     "output_type": "stream",
     "text": [
      "4.2.0\n",
      "1.2.7\n",
      "2.0.3\n"
     ]
    }
   ],
   "source": [
    "import shutil\n",
    "import pandas as pd\n",
    "import numpy as np\n",
    "import re\n",
    "import gc\n",
    "import os\n",
    "import math\n",
    "import importlib\n",
    "import random\n",
    "import warnings\n",
    "import pickle\n",
    "import joblib\n",
    "from tqdm import tqdm\n",
    "import sys\n",
    "\n",
    "from scipy.stats import skew, kurtosis\n",
    "from collections import Counter,defaultdict\n",
    "from matplotlib.colors import ListedColormap, LinearSegmentedColormap\n",
    "import lightgbm as lgb\n",
    "import catboost as cat, gc\n",
    "import xgboost as xgb\n",
    "\n",
    "print(lgb.__version__)\n",
    "print(cat.__version__)\n",
    "print(xgb.__version__)\n",
    "\n",
    "from lightgbm import LGBMRegressor, LGBMClassifier\n",
    "from catboost import CatBoostRegressor, CatBoostClassifier, Pool\n",
    "from sklearn.svm import SVR\n",
    "from xgboost import XGBRegressor, XGBClassifier\n",
    "\n",
    "import optuna\n",
    "\n",
    "from sklearn.model_selection import KFold, StratifiedKFold, GroupKFold\n",
    "from sklearn.preprocessing import MinMaxScaler, OneHotEncoder, LabelEncoder\n",
    "from sklearn.impute import SimpleImputer\n",
    "from sklearn.metrics import mean_squared_error\n",
    "from sklearn.metrics import log_loss\n",
    "\n",
    "\n",
    "import torch\n",
    "import torch.nn as nn\n",
    "import torch.optim as optim\n",
    "from torch.optim.lr_scheduler import ReduceLROnPlateau, CosineAnnealingWarmRestarts\n",
    "import torch.nn.functional as F\n",
    "\n",
    "from transformers import AutoModel,AutoTokenizer\n",
    "\n",
    "warnings.simplefilter('ignore')\n",
    "warnings.filterwarnings('ignore')\n",
    "\n",
    "warnings.simplefilter('ignore')\n",
    "warnings.filterwarnings('ignore')\n",
    "sys.path.append('/notebooks/CIBMTR/utils')\n",
    "sys.path.append('/notebooks/CIBMTR/train')"
   ]
  },
  {
   "cell_type": "code",
   "execution_count": 151,
   "id": "d335fecf-203d-4b2b-9c5f-84b8d1cbccfb",
   "metadata": {
    "tags": []
   },
   "outputs": [],
   "source": [
    "import tuning\n",
    "import utils as my_utils\n",
    "import metric\n",
    "from metric import score\n",
    "from utils import clr\n",
    "import train as trainer\n",
    "import config"
   ]
  },
  {
   "cell_type": "markdown",
   "id": "2a11c8e8-a978-404a-b830-0ec4641c48f9",
   "metadata": {
    "jp-MarkdownHeadingCollapsed": true,
    "tags": []
   },
   "source": [
    "# **LOAD DATA**"
   ]
  },
  {
   "cell_type": "code",
   "execution_count": 152,
   "id": "25421f99-c8ae-49f8-bcb0-0025180e7cb3",
   "metadata": {
    "tags": []
   },
   "outputs": [],
   "source": [
    "train_path = '/notebooks/CIBMTR/data/train.csv'\n",
    "train_dic_path = '/notebooks/CIBMTR/data/data_dictionary.csv'\n",
    "\n",
    "test_path = '/notebooks/CIBMTR/data/test.csv'\n",
    "sub_path = '/notebooks/CIBMTR/data/sample_submission.csv'"
   ]
  },
  {
   "cell_type": "code",
   "execution_count": 153,
   "id": "c55bd604-3f76-4384-b6f0-2f9d1e9ed511",
   "metadata": {
    "tags": []
   },
   "outputs": [],
   "source": [
    "train = pd.read_csv(train_path)\n",
    "# dictionary_tow = pd.read_csv(train_dic_path)\n",
    "dictionary = pd.read_csv('/notebooks/CIBMTR/output/dictionary.csv', encoding='cp932').drop('Unnamed: 0', axis=1)\n",
    "test = pd.read_csv(test_path)\n",
    "submission = pd.read_csv(sub_path)"
   ]
  },
  {
   "cell_type": "code",
   "execution_count": 154,
   "id": "c9f66dc8-3568-4151-9456-57dafb8372dc",
   "metadata": {
    "tags": []
   },
   "outputs": [],
   "source": [
    "TARGETS = ['efs_time', 'efs']"
   ]
  },
  {
   "cell_type": "markdown",
   "id": "375061f4-d1d1-47f5-93ef-7a89d0b66a21",
   "metadata": {
    "jp-MarkdownHeadingCollapsed": true,
    "tags": []
   },
   "source": [
    "# **UM FEATURE ENGINNERING**"
   ]
  },
  {
   "cell_type": "markdown",
   "id": "e9f0f3e0-8dcd-4d83-ad55-462d03db8c6c",
   "metadata": {
    "jp-MarkdownHeadingCollapsed": true,
    "tags": []
   },
   "source": [
    "## **FE FUNCTIONS**"
   ]
  },
  {
   "cell_type": "code",
   "execution_count": 155,
   "id": "de45e683-d021-4bc1-9c5d-3c7fd454a479",
   "metadata": {
    "tags": []
   },
   "outputs": [
    {
     "data": {
      "text/plain": [
       "<module 'config' from '/notebooks/CIBMTR/utils/config.py'>"
      ]
     },
     "execution_count": 155,
     "metadata": {},
     "output_type": "execute_result"
    }
   ],
   "source": [
    "data=train\n",
    "importlib.reload(my_utils)\n",
    "importlib.reload(config)"
   ]
  },
  {
   "cell_type": "code",
   "execution_count": 156,
   "id": "478f8a6d-f6fe-459a-a613-f8a7a054c5dd",
   "metadata": {
    "tags": []
   },
   "outputs": [
    {
     "name": "stdout",
     "output_type": "stream",
     "text": [
      "INITIAL DATA Shape:(28800, 60)\n",
      "\n",
      "\n",
      "Final DATA Shape:(28800, 60)\n"
     ]
    }
   ],
   "source": [
    "print(f'INITIAL DATA Shape:{data.shape}')\n",
    "print('')\n",
    "FE = my_utils.CIBMTR_FE(mode='train')\n",
    "data, _ = FE.trans_obj_cate(data)\n",
    "\n",
    "print('')\n",
    "print(f'Final DATA Shape:{data.shape}')"
   ]
  },
  {
   "cell_type": "markdown",
   "id": "87abcd24-b274-4031-a16e-208350068205",
   "metadata": {
    "jp-MarkdownHeadingCollapsed": true,
    "tags": []
   },
   "source": [
    "## **CONCAT OOF PREDICTIONS**"
   ]
  },
  {
   "cell_type": "code",
   "execution_count": 157,
   "id": "3568b9b4-6793-4e05-be50-0e61e70e21ad",
   "metadata": {
    "tags": []
   },
   "outputs": [],
   "source": [
    "# ####\n",
    "# # USING GDBT MODEL OOF\n",
    "# ####\n",
    "# EXP_NUM_LIST = ['EXP-39','EXP-40','EXP-43']\n",
    "# predictions={}\n",
    "# for EXP_NUM in EXP_NUM_LIST:\n",
    "#     SAVE_PATH = f'{my_config.general.model_save_path}/TREE_{EXP_NUM}'\n",
    "#     oof_preds = joblib.load(f'{SAVE_PATH}/oof_preds_{EXP_NUM}.pkl')\n",
    "#     oof_preds = {key: np.clip(value, a_min=-1.0, a_max=1.0) for key, value in oof_preds.items()}\n",
    "#     oof_preds = {model: oof_preds[model].flatten() for model in oof_preds}\n",
    "    \n",
    "#     cols = [f\"{col.split('_')[0]}-{EXP_NUM}\" for col in oof_preds]\n",
    "#     oof_preds_df = pd.DataFrame(oof_preds)\n",
    "#     oof_preds_df.columns = cols\n",
    "#     predictions[EXP_NUM]=(oof_preds_df)\n",
    "\n",
    "# predictions_df = pd.DataFrame()\n",
    "# for col in predictions:\n",
    "#     tmp_df = predictions[col]\n",
    "#     predictions_df = pd.concat([predictions_df, tmp_df], axis=1)\n",
    "# predictions_df = predictions_df.astype('float64')\n",
    "\n",
    "# true = train['utility_agent1'].copy()\n",
    "# print(len(predictions))"
   ]
  },
  {
   "cell_type": "code",
   "execution_count": 158,
   "id": "b4334a9a-4825-48d6-89e5-bfc858c874e7",
   "metadata": {
    "tags": []
   },
   "outputs": [],
   "source": [
    "# ####\n",
    "# # USING NN MODEL OOF\n",
    "# ####\n",
    "\n",
    "# # EXP_NUM_NN_LIST = 0\n",
    "# # EXP_NUM_NN_LIST = ['EXP-50', 'EXP-68']\n",
    "# EXP_NUM_NN_LIST = []\n",
    "# if len(EXP_NUM_NN_LIST)!=0:\n",
    "#     for EXP_NUM in EXP_NUM_NN_LIST:\n",
    "#         SAVE_PATH = f'{my_config.general.model_save_path}/NN_{EXP_NUM}'\n",
    "#         oof_preds = pd.read_csv(f'{SAVE_PATH}/oof.csv')\n",
    "#         predictions_df[f'nn-{EXP_NUM}'] = oof_preds['pred']\n",
    "# predictions_df.head(3)\n",
    "\n",
    "# ####\n",
    "# # USING DTNN MODEL OOF\n",
    "# ####\n",
    "# # EXP_NUM_NN_LIST = 0\n",
    "# # EXP_NUM_NN_LIST = ['EXP-17']\n",
    "# EXP_NUM_NN_LIST = []\n",
    "# if len(EXP_NUM_NN_LIST)!=0:\n",
    "#     for EXP_NUM in EXP_NUM_NN_LIST:\n",
    "#         oof_preds = joblib.load(f'model/DTNN_{EXP_NUM}/oof_preds_{EXP_NUM}.pkl')\n",
    "#         oof_preds = pd.DataFrame(oof_preds['dtnn'], columns=['pred'])\n",
    "#         predictions_df[f'dtnn-{EXP_NUM}'] = oof_preds['pred']\n",
    "# predictions_df.head(3)"
   ]
  },
  {
   "cell_type": "code",
   "execution_count": 159,
   "id": "4e246191-6fad-4cfe-914c-4e204e0caf39",
   "metadata": {
    "tags": []
   },
   "outputs": [],
   "source": [
    "# USE_OOF = False\n",
    "\n",
    "# if USE_OOF:\n",
    "#     data = pd.concat([data, predictions_df], axis=1)\n",
    "#     # data = FE.fe6(data.copy())\n",
    "#     # exp_num = 'EXP-35'\n",
    "#     # data = FE.drop_cols_fi3(data.copy(), \n",
    "#     #                       save_path='model', \n",
    "#     #                       exp_num=f'TREE_{exp_num}', \n",
    "#     #                       topn=25)\n",
    "\n",
    "# data.replace([np.inf, -np.inf], np.nan, inplace=True)"
   ]
  },
  {
   "cell_type": "code",
   "execution_count": 160,
   "id": "702af597-6ae6-4db2-989d-df2f1785539f",
   "metadata": {
    "tags": []
   },
   "outputs": [],
   "source": [
    "# exp_num = 'EXP-48'\n",
    "# data = FE.drop_cols_fi3(data.copy(), \n",
    "#                       save_path='model', \n",
    "#                       exp_num=f'TREE_{exp_num}', \n",
    "#                       topn=30)"
   ]
  },
  {
   "cell_type": "markdown",
   "id": "5aba0ae1-434c-49d1-9d9e-b3cecef02816",
   "metadata": {
    "jp-MarkdownHeadingCollapsed": true,
    "tags": []
   },
   "source": [
    "# **OOF**"
   ]
  },
  {
   "cell_type": "code",
   "execution_count": 166,
   "id": "7735e2d1-229f-4713-b85f-43421cc76ea4",
   "metadata": {
    "tags": []
   },
   "outputs": [],
   "source": [
    "N_SPLITS=config.general.n_splits\n",
    "SEED = config.general.seed"
   ]
  },
  {
   "cell_type": "code",
   "execution_count": 167,
   "id": "491ad5c2-1e78-4ad8-8983-445acf5c9983",
   "metadata": {
    "tags": []
   },
   "outputs": [
    {
     "data": {
      "text/html": [
       "<div>\n",
       "<style scoped>\n",
       "    .dataframe tbody tr th:only-of-type {\n",
       "        vertical-align: middle;\n",
       "    }\n",
       "\n",
       "    .dataframe tbody tr th {\n",
       "        vertical-align: top;\n",
       "    }\n",
       "\n",
       "    .dataframe thead th {\n",
       "        text-align: right;\n",
       "    }\n",
       "</style>\n",
       "<table border=\"1\" class=\"dataframe\">\n",
       "  <thead>\n",
       "    <tr style=\"text-align: right;\">\n",
       "      <th></th>\n",
       "      <th>ID</th>\n",
       "      <th>dri_score</th>\n",
       "      <th>psych_disturb</th>\n",
       "      <th>cyto_score</th>\n",
       "      <th>diabetes</th>\n",
       "      <th>hla_match_c_high</th>\n",
       "      <th>hla_high_res_8</th>\n",
       "      <th>tbi_status</th>\n",
       "      <th>arrhythmia</th>\n",
       "      <th>hla_low_res_6</th>\n",
       "      <th>...</th>\n",
       "      <th>donor_related</th>\n",
       "      <th>melphalan_dose</th>\n",
       "      <th>hla_low_res_8</th>\n",
       "      <th>cardiac</th>\n",
       "      <th>hla_match_drb1_high</th>\n",
       "      <th>pulm_moderate</th>\n",
       "      <th>hla_low_res_10</th>\n",
       "      <th>efs</th>\n",
       "      <th>efs_time</th>\n",
       "      <th>fold</th>\n",
       "    </tr>\n",
       "  </thead>\n",
       "  <tbody>\n",
       "    <tr>\n",
       "      <th>0</th>\n",
       "      <td>0</td>\n",
       "      <td>N/A - non-malignant indication</td>\n",
       "      <td>No</td>\n",
       "      <td>NaN</td>\n",
       "      <td>No</td>\n",
       "      <td>NaN</td>\n",
       "      <td>NaN</td>\n",
       "      <td>No TBI</td>\n",
       "      <td>No</td>\n",
       "      <td>6.0</td>\n",
       "      <td>...</td>\n",
       "      <td>Unrelated</td>\n",
       "      <td>N/A, Mel not given</td>\n",
       "      <td>8.0</td>\n",
       "      <td>No</td>\n",
       "      <td>2.0</td>\n",
       "      <td>No</td>\n",
       "      <td>10.0</td>\n",
       "      <td>0.0</td>\n",
       "      <td>42.356</td>\n",
       "      <td>0.0</td>\n",
       "    </tr>\n",
       "    <tr>\n",
       "      <th>1</th>\n",
       "      <td>1</td>\n",
       "      <td>Intermediate</td>\n",
       "      <td>No</td>\n",
       "      <td>Intermediate</td>\n",
       "      <td>No</td>\n",
       "      <td>2.0</td>\n",
       "      <td>8.0</td>\n",
       "      <td>TBI +- Other, &gt;cGy</td>\n",
       "      <td>No</td>\n",
       "      <td>6.0</td>\n",
       "      <td>...</td>\n",
       "      <td>Related</td>\n",
       "      <td>N/A, Mel not given</td>\n",
       "      <td>8.0</td>\n",
       "      <td>No</td>\n",
       "      <td>2.0</td>\n",
       "      <td>Yes</td>\n",
       "      <td>10.0</td>\n",
       "      <td>1.0</td>\n",
       "      <td>4.672</td>\n",
       "      <td>1.0</td>\n",
       "    </tr>\n",
       "    <tr>\n",
       "      <th>2</th>\n",
       "      <td>2</td>\n",
       "      <td>N/A - non-malignant indication</td>\n",
       "      <td>No</td>\n",
       "      <td>NaN</td>\n",
       "      <td>No</td>\n",
       "      <td>2.0</td>\n",
       "      <td>8.0</td>\n",
       "      <td>No TBI</td>\n",
       "      <td>No</td>\n",
       "      <td>6.0</td>\n",
       "      <td>...</td>\n",
       "      <td>Related</td>\n",
       "      <td>N/A, Mel not given</td>\n",
       "      <td>8.0</td>\n",
       "      <td>No</td>\n",
       "      <td>2.0</td>\n",
       "      <td>No</td>\n",
       "      <td>10.0</td>\n",
       "      <td>0.0</td>\n",
       "      <td>19.793</td>\n",
       "      <td>3.0</td>\n",
       "    </tr>\n",
       "  </tbody>\n",
       "</table>\n",
       "<p>3 rows × 61 columns</p>\n",
       "</div>"
      ],
      "text/plain": [
       "   ID                       dri_score psych_disturb    cyto_score diabetes  \\\n",
       "0   0  N/A - non-malignant indication            No           NaN       No   \n",
       "1   1                    Intermediate            No  Intermediate       No   \n",
       "2   2  N/A - non-malignant indication            No           NaN       No   \n",
       "\n",
       "   hla_match_c_high  hla_high_res_8          tbi_status arrhythmia  \\\n",
       "0               NaN             NaN              No TBI         No   \n",
       "1               2.0             8.0  TBI +- Other, >cGy         No   \n",
       "2               2.0             8.0              No TBI         No   \n",
       "\n",
       "   hla_low_res_6  ... donor_related      melphalan_dose hla_low_res_8 cardiac  \\\n",
       "0            6.0  ...     Unrelated  N/A, Mel not given           8.0      No   \n",
       "1            6.0  ...       Related  N/A, Mel not given           8.0      No   \n",
       "2            6.0  ...       Related  N/A, Mel not given           8.0      No   \n",
       "\n",
       "  hla_match_drb1_high  pulm_moderate hla_low_res_10  efs  efs_time fold  \n",
       "0                 2.0             No           10.0  0.0    42.356  0.0  \n",
       "1                 2.0            Yes           10.0  1.0     4.672  1.0  \n",
       "2                 2.0             No           10.0  0.0    19.793  3.0  \n",
       "\n",
       "[3 rows x 61 columns]"
      ]
     },
     "execution_count": 167,
     "metadata": {},
     "output_type": "execute_result"
    }
   ],
   "source": [
    "kf = StratifiedKFold(n_splits=N_SPLITS, \n",
    "                     shuffle=True, \n",
    "                     random_state=SEED)\n",
    "for i, (_, val_index) in enumerate(kf.split(data, data.race_group)):\n",
    "    data.loc[val_index, \"fold\"] = i\n",
    "data.head(3)"
   ]
  },
  {
   "cell_type": "markdown",
   "id": "c1f1b2a9-047a-461d-aec2-41000cafb854",
   "metadata": {
    "tags": []
   },
   "source": [
    "## **CHECK DATA**"
   ]
  },
  {
   "cell_type": "code",
   "execution_count": 168,
   "id": "3cf082ea-92ea-482d-9884-4967f78bf99d",
   "metadata": {
    "tags": []
   },
   "outputs": [
    {
     "data": {
      "text/plain": [
       "57"
      ]
     },
     "execution_count": 168,
     "metadata": {},
     "output_type": "execute_result"
    }
   ],
   "source": [
    "FEATURES = data.drop(TARGETS+['fold']+['ID'], axis=1).columns.tolist()\n",
    "len(FEATURES)"
   ]
  },
  {
   "cell_type": "code",
   "execution_count": 169,
   "id": "93abefc8-488c-4fd8-b4b3-2d1d706ab95f",
   "metadata": {
    "tags": []
   },
   "outputs": [
    {
     "name": "stdout",
     "output_type": "stream",
     "text": [
      "\u001b[31mcategorical_cols : 35\n",
      "\u001b[31mnum_cols : 23\n"
     ]
    }
   ],
   "source": [
    "categorical_cols = data.drop(columns=TARGETS + ['ID']).select_dtypes(include=['object', 'category']).columns.to_list()\n",
    "numerical_cols = data.drop(columns=TARGETS + ['ID']).select_dtypes(include=['number']).columns.to_list()\n",
    "\n",
    "print(clr.RED + f'categorical_cols : {len(categorical_cols)}')\n",
    "print(clr.RED + f'num_cols : {len(numerical_cols)}')\n",
    "\n",
    "data[categorical_cols] = data[categorical_cols].astype(str).astype('category')\n",
    "data = FE.create_target4(data)"
   ]
  },
  {
   "cell_type": "markdown",
   "id": "868b1e87-f1c6-4aca-b131-a4c2f3e0c7b1",
   "metadata": {
    "tags": []
   },
   "source": [
    "# **TUENING HYPERPARAMETER**"
   ]
  },
  {
   "cell_type": "code",
   "execution_count": 174,
   "id": "cbc3b44f-50c4-4239-b707-a3c9df53d4d8",
   "metadata": {
    "tags": []
   },
   "outputs": [
    {
     "name": "stdout",
     "output_type": "stream",
     "text": [
      "lgb version:4.2.0\n",
      "catboost version:1.2.7\n",
      "xgboost version:2.0.3\n",
      "lgb version:4.2.0\n",
      "catboost version:1.2.7\n",
      "xgboost version:2.0.3\n"
     ]
    },
    {
     "data": {
      "text/plain": [
       "<module 'config' from '/notebooks/CIBMTR/utils/config.py'>"
      ]
     },
     "execution_count": 174,
     "metadata": {},
     "output_type": "execute_result"
    }
   ],
   "source": [
    "importlib.reload(my_utils)\n",
    "importlib.reload(metric)\n",
    "importlib.reload(tuning)\n",
    "importlib.reload(trainer)\n",
    "importlib.reload(config)"
   ]
  },
  {
   "cell_type": "code",
   "execution_count": 176,
   "id": "e3e3c794-4717-48ec-940e-30e9404931ef",
   "metadata": {
    "tags": []
   },
   "outputs": [],
   "source": [
    "EXP_NUM='EXP-1'\n",
    "MODEL_NAME = config.training.model_name\n",
    "TARGET_TYPE = config.training.target_type\n",
    "N_SPLITS=config.general.n_splits\n",
    "SEED = config.general.seed\n",
    "N_TRIALS = 20\n",
    "SAVE_PATH = f'/notebooks/CIBMTR/output/{EXP_NUM}'"
   ]
  },
  {
   "cell_type": "code",
   "execution_count": 177,
   "id": "4c1673d8-5745-4b02-b0d6-4ed2d6204633",
   "metadata": {
    "tags": []
   },
   "outputs": [
    {
     "name": "stderr",
     "output_type": "stream",
     "text": [
      "[I 2025-01-13 10:34:46,877] A new study created in memory with name: Optimize boosting hyperparameters\n"
     ]
    },
    {
     "name": "stdout",
     "output_type": "stream",
     "text": [
      "target_type:target4\n",
      "0:\tlearn: -119947.1259468\ttest: -26187.1540912\tbest: -26187.1540912 (0)\ttotal: 71.7ms\tremaining: 1m 46s\n",
      "500:\tlearn: -114624.2434783\ttest: -25687.5266091\tbest: -25628.5448383 (164)\ttotal: 34.4s\tremaining: 1m 7s\n",
      "Stopped by overfitting detector  (400 iterations wait)\n",
      "\n",
      "bestTest = -25628.54484\n",
      "bestIteration = 164\n",
      "\n",
      "Shrink model to first 165 iterations.\n",
      "\u001b[31mC-index-American Indian or Alaska Native : 0.677\n",
      "\u001b[31mC-index-Asian : 0.703\n",
      "\u001b[31mC-index-Black or African-American : 0.669\n",
      "\u001b[31mC-index-More than one race : 0.681\n",
      "\u001b[31mC-index-Native Hawaiian or other Pacific Islander : 0.643\n",
      "\u001b[31mC-index-White : 0.658\n",
      "\u001b[31mOverall fold-0 C-index : 0.653\u001b[0m\n",
      "0:\tlearn: -121083.3500474\ttest: -25207.5373259\tbest: -25207.5373259 (0)\ttotal: 61.5ms\tremaining: 1m 31s\n",
      "500:\tlearn: -115789.4793470\ttest: -24710.7338703\tbest: -24677.2050896 (198)\ttotal: 35.4s\tremaining: 1m 9s\n",
      "Stopped by overfitting detector  (400 iterations wait)\n",
      "\n",
      "bestTest = -24677.20509\n",
      "bestIteration = 198\n",
      "\n",
      "Shrink model to first 199 iterations.\n",
      "\u001b[31mC-index-American Indian or Alaska Native : 0.677\n",
      "\u001b[31mC-index-Asian : 0.680\n",
      "\u001b[31mC-index-Black or African-American : 0.670\n",
      "\u001b[31mC-index-More than one race : 0.684\n",
      "\u001b[31mC-index-Native Hawaiian or other Pacific Islander : 0.661\n",
      "\u001b[31mC-index-White : 0.668\n",
      "\u001b[31mOverall fold-1 C-index : 0.666\u001b[0m\n",
      "0:\tlearn: -120299.3298990\ttest: -25844.7395039\tbest: -25844.7395039 (0)\ttotal: 60.4ms\tremaining: 1m 29s\n",
      "500:\tlearn: -114925.4241149\ttest: -25347.9140192\tbest: -25325.3215117 (280)\ttotal: 37.3s\tremaining: 1m 13s\n",
      "Stopped by overfitting detector  (400 iterations wait)\n",
      "\n",
      "bestTest = -25325.32151\n",
      "bestIteration = 280\n",
      "\n",
      "Shrink model to first 281 iterations.\n",
      "\u001b[31mC-index-American Indian or Alaska Native : 0.693\n",
      "\u001b[31mC-index-Asian : 0.688\n",
      "\u001b[31mC-index-Black or African-American : 0.654\n",
      "\u001b[31mC-index-More than one race : 0.663\n",
      "\u001b[31mC-index-Native Hawaiian or other Pacific Islander : 0.665\n",
      "\u001b[31mC-index-White : 0.641\n",
      "\u001b[31mOverall fold-2 C-index : 0.649\u001b[0m\n",
      "0:\tlearn: -120514.8035303\ttest: -25705.2612448\tbest: -25705.2612448 (0)\ttotal: 66.7ms\tremaining: 1m 39s\n",
      "500:\tlearn: -115243.4792531\ttest: -25129.5260350\tbest: -25122.0003217 (333)\ttotal: 37.6s\tremaining: 1m 13s\n",
      "Stopped by overfitting detector  (400 iterations wait)\n",
      "\n",
      "bestTest = -25122.00032\n",
      "bestIteration = 333\n",
      "\n",
      "Shrink model to first 334 iterations.\n",
      "\u001b[31mC-index-American Indian or Alaska Native : 0.681\n",
      "\u001b[31mC-index-Asian : 0.697\n",
      "\u001b[31mC-index-Black or African-American : 0.682\n",
      "\u001b[31mC-index-More than one race : 0.682\n",
      "\u001b[31mC-index-Native Hawaiian or other Pacific Islander : 0.682\n",
      "\u001b[31mC-index-White : 0.661\n",
      "\u001b[31mOverall fold-3 C-index : 0.67\u001b[0m\n",
      "0:\tlearn: -120091.4972969\ttest: -26021.9575444\tbest: -26021.9575444 (0)\ttotal: 72.4ms\tremaining: 1m 47s\n",
      "500:\tlearn: -114850.2293278\ttest: -25557.7342969\tbest: -25538.0829067 (222)\ttotal: 33.8s\tremaining: 1m 6s\n",
      "Stopped by overfitting detector  (400 iterations wait)\n",
      "\n",
      "bestTest = -25538.08291\n",
      "bestIteration = 222\n",
      "\n",
      "Shrink model to first 223 iterations.\n",
      "\u001b[31mC-index-American Indian or Alaska Native : 0.674\n",
      "\u001b[31mC-index-Asian : 0.673\n",
      "\u001b[31mC-index-Black or African-American : 0.648\n",
      "\u001b[31mC-index-More than one race : 0.670\n",
      "\u001b[31mC-index-Native Hawaiian or other Pacific Islander : 0.676\n",
      "\u001b[31mC-index-White : 0.635\n",
      "\u001b[31mOverall fold-4 C-index : 0.647\u001b[0m\n"
     ]
    },
    {
     "name": "stderr",
     "output_type": "stream",
     "text": [
      "[I 2025-01-13 10:38:40,896] Trial 0 finished with value: 0.6571832575257621 and parameters: {'n_estimators': 1485, 'learning_rate': 0.057422332919881865, 'max_depth': 7, 'colsample_bylevel': 0.8113997553951137, 'min_child_samples': 13, 'l2_leaf_reg': 0.05269258150421971, 'subsample': 0.10287781631661821}. Best is trial 0 with value: 0.6571832575257621.\n"
     ]
    },
    {
     "name": "stdout",
     "output_type": "stream",
     "text": [
      "----------------------------------------------------------------------\n",
      "-[INFO] Trial OOF(Log Loss): 0.6571832575257621\n",
      "-[INFO] Trial All Fold(Log Loss): [0.6533266052290035, 0.665911614855135, 0.6490757695619528, 0.6704774805103275, 0.6471248174723925]\n",
      "----------------------------------------------------------------------\n",
      "----------------------------------------------------------------------\n",
      "- Best Trial OOF: 0.6571832575257621\n",
      "Best trial parameters:\n",
      "    n_estimators: 1485\n",
      "    learning_rate: 0.057422332919881865\n",
      "    max_depth: 7\n",
      "    colsample_bylevel: 0.8113997553951137\n",
      "    min_child_samples: 13\n",
      "    l2_leaf_reg: 0.05269258150421971\n",
      "    subsample: 0.10287781631661821\n",
      "Best parameters saved to /notebooks/CIBMTR/output/EXP-1/params.json\n"
     ]
    }
   ],
   "source": [
    "optuna=True\n",
    "if optuna:\n",
    "    if not os.path.exists(SAVE_PATH):\n",
    "        os.makedirs(SAVE_PATH)\n",
    "        print(f\"Directory {SAVE_PATH} created.\")\n",
    "        \n",
    "    shutil.copy('/notebooks/CIBMTR/utils/config.py', f'{SAVE_PATH}/')\n",
    "    joblib.dump(FEATURES, f'{SAVE_PATH}/features.pkl')\n",
    "    joblib.dump(categorical_cols, f'{SAVE_PATH}/categorical_cols.pkl')\n",
    "    joblib.dump(numerical_cols, f'{SAVE_PATH}/numerical_cols.pkl')\n",
    "    \n",
    "    tuning.optimize_params(\n",
    "                    data=data,\n",
    "                    features=FEATURES,\n",
    "                    target_type=TARGET_TYPE,\n",
    "                    n_split=N_SPLITS, \n",
    "                    cat_cols=categorical_cols,\n",
    "                    cv_fold_func=np.average, \n",
    "                    model_name=MODEL_NAME,\n",
    "                    n_trials=N_TRIALS,\n",
    "                    exp=EXP_NUM,\n",
    "                    seed=SEED)"
   ]
  },
  {
   "cell_type": "code",
   "execution_count": 181,
   "id": "f69cbbdb-36d7-4380-af18-0ce357c4dbc2",
   "metadata": {
    "tags": []
   },
   "outputs": [
    {
     "name": "stdout",
     "output_type": "stream",
     "text": [
      "lgb version:4.2.0\n",
      "catboost version:1.2.7\n",
      "xgboost version:2.0.3\n"
     ]
    },
    {
     "data": {
      "text/plain": [
       "<module 'train' from '/notebooks/CIBMTR/train/train.py'>"
      ]
     },
     "execution_count": 181,
     "metadata": {},
     "output_type": "execute_result"
    }
   ],
   "source": [
    "importlib.reload(trainer)"
   ]
  },
  {
   "cell_type": "code",
   "execution_count": null,
   "id": "9d62410f-088b-4777-8cb9-808cc4a5d618",
   "metadata": {},
   "outputs": [],
   "source": [
    "EXP_NUM='EXP-1'\n",
    "sys.path.append(f'/notebooks/CIBMTR/output/{EXP_NUM}')\n",
    "import config"
   ]
  },
  {
   "cell_type": "code",
   "execution_count": 185,
   "id": "5957d93e-6874-4292-8cb8-c97bdc5478f4",
   "metadata": {
    "tags": []
   },
   "outputs": [],
   "source": [
    "MODEL_NAME = config.training.model_name\n",
    "TARGET_TYPE = config.training.target_type\n",
    "N_SPLITS=config.general.n_splits\n",
    "SEED = config.general.seed\n",
    "\n",
    "SAVE_PATH = f'/notebooks/CIBMTR/output/{EXP_NUM}'\n",
    "FEATURES = joblib.load(f'{SAVE_PATH}/features.pkl')\n",
    "CATE_COLS = joblib.load(f'{SAVE_PATH}/categorical_cols.pkl')"
   ]
  },
  {
   "cell_type": "code",
   "execution_count": 186,
   "id": "0ba553f2-fa24-4080-b077-8982743ef9c8",
   "metadata": {
    "tags": []
   },
   "outputs": [
    {
     "name": "stdout",
     "output_type": "stream",
     "text": [
      "\n",
      "\u001b[32m#########################\u001b[0m\n",
      "\u001b[32m### Fold 1\u001b[0m\n",
      "\u001b[32m#########################\u001b[0m\n",
      "\n",
      "0:\tlearn: -119947.1259468\ttest: -26187.1540912\tbest: -26187.1540912 (0)\ttotal: 76.3ms\tremaining: 1m 53s\n",
      "400:\tlearn: -115128.5390070\ttest: -25671.8293621\tbest: -25628.5448383 (164)\ttotal: 31.6s\tremaining: 1m 25s\n",
      "Stopped by overfitting detector  (400 iterations wait)\n",
      "\n",
      "bestTest = -25628.54484\n",
      "bestIteration = 164\n",
      "\n",
      "Shrink model to first 165 iterations.\n",
      "\u001b[31mC-index-American Indian or Alaska Native : 0.677\n",
      "\u001b[31mC-index-Asian : 0.703\n",
      "\u001b[31mC-index-Black or African-American : 0.669\n",
      "\u001b[31mC-index-More than one race : 0.681\n",
      "\u001b[31mC-index-Native Hawaiian or other Pacific Islander : 0.643\n",
      "\u001b[31mC-index-White : 0.658\n",
      "\u001b[31mOverall fold-0 C-index : 0.653\u001b[0m\n",
      "\n",
      "\u001b[32m#########################\u001b[0m\n",
      "\u001b[32m### Fold 2\u001b[0m\n",
      "\u001b[32m#########################\u001b[0m\n",
      "\n",
      "0:\tlearn: -121083.3500474\ttest: -25207.5373259\tbest: -25207.5373259 (0)\ttotal: 74.8ms\tremaining: 1m 51s\n",
      "400:\tlearn: -116294.5072646\ttest: -24694.6424467\tbest: -24677.2050896 (198)\ttotal: 25.9s\tremaining: 1m 10s\n",
      "Stopped by overfitting detector  (400 iterations wait)\n",
      "\n",
      "bestTest = -24677.20509\n",
      "bestIteration = 198\n",
      "\n",
      "Shrink model to first 199 iterations.\n",
      "\u001b[31mC-index-American Indian or Alaska Native : 0.677\n",
      "\u001b[31mC-index-Asian : 0.680\n",
      "\u001b[31mC-index-Black or African-American : 0.670\n",
      "\u001b[31mC-index-More than one race : 0.684\n",
      "\u001b[31mC-index-Native Hawaiian or other Pacific Islander : 0.661\n",
      "\u001b[31mC-index-White : 0.668\n",
      "\u001b[31mOverall fold-1 C-index : 0.666\u001b[0m\n",
      "\n",
      "\u001b[32m#########################\u001b[0m\n",
      "\u001b[32m### Fold 3\u001b[0m\n",
      "\u001b[32m#########################\u001b[0m\n",
      "\n",
      "0:\tlearn: -120299.3298990\ttest: -25844.7395039\tbest: -25844.7395039 (0)\ttotal: 79.5ms\tremaining: 1m 58s\n",
      "400:\tlearn: -115483.4111100\ttest: -25335.0644100\tbest: -25325.3215117 (280)\ttotal: 28.5s\tremaining: 1m 16s\n",
      "Stopped by overfitting detector  (400 iterations wait)\n",
      "\n",
      "bestTest = -25325.32151\n",
      "bestIteration = 280\n",
      "\n",
      "Shrink model to first 281 iterations.\n",
      "\u001b[31mC-index-American Indian or Alaska Native : 0.693\n",
      "\u001b[31mC-index-Asian : 0.688\n",
      "\u001b[31mC-index-Black or African-American : 0.654\n"
     ]
    },
    {
     "ename": "KeyboardInterrupt",
     "evalue": "",
     "output_type": "error",
     "traceback": [
      "\u001b[0;31m---------------------------------------------------------------------------\u001b[0m",
      "\u001b[0;31mKeyboardInterrupt\u001b[0m                         Traceback (most recent call last)",
      "Cell \u001b[0;32mIn[186], line 2\u001b[0m\n\u001b[1;32m      1\u001b[0m shutil\u001b[38;5;241m.\u001b[39mcopy(\u001b[38;5;124m'\u001b[39m\u001b[38;5;124m/notebooks/CIBMTR/train/train.py\u001b[39m\u001b[38;5;124m'\u001b[39m, \u001b[38;5;124mf\u001b[39m\u001b[38;5;124m'\u001b[39m\u001b[38;5;132;01m{\u001b[39;00mSAVE_PATH\u001b[38;5;132;01m}\u001b[39;00m\u001b[38;5;124m/\u001b[39m\u001b[38;5;124m'\u001b[39m)\n\u001b[0;32m----> 2\u001b[0m \u001b[43mtrainer\u001b[49m\u001b[38;5;241;43m.\u001b[39;49m\u001b[43mtrain\u001b[49m\u001b[43m(\u001b[49m\u001b[43mdata\u001b[49m\u001b[38;5;241;43m=\u001b[39;49m\u001b[43mdata\u001b[49m\u001b[43m,\u001b[49m\n\u001b[1;32m      3\u001b[0m \u001b[43m            \u001b[49m\u001b[43mfeatures\u001b[49m\u001b[38;5;241;43m=\u001b[39;49m\u001b[43mFEATURES\u001b[49m\u001b[43m,\u001b[49m\n\u001b[1;32m      4\u001b[0m \u001b[43m            \u001b[49m\u001b[43mtarget_type\u001b[49m\u001b[38;5;241;43m=\u001b[39;49m\u001b[38;5;124;43m'\u001b[39;49m\u001b[38;5;124;43mtarget4\u001b[39;49m\u001b[38;5;124;43m'\u001b[39;49m\u001b[43m,\u001b[49m\n\u001b[1;32m      5\u001b[0m \u001b[43m            \u001b[49m\u001b[43mn_split\u001b[49m\u001b[38;5;241;43m=\u001b[39;49m\u001b[43mN_SPLITS\u001b[49m\u001b[43m,\u001b[49m\u001b[43m \u001b[49m\n\u001b[1;32m      6\u001b[0m \u001b[43m            \u001b[49m\u001b[43mcat_cols\u001b[49m\u001b[38;5;241;43m=\u001b[39;49m\u001b[43mCATE_COLS\u001b[49m\u001b[43m,\u001b[49m\n\u001b[1;32m      7\u001b[0m \u001b[43m            \u001b[49m\u001b[43mmodel_name\u001b[49m\u001b[38;5;241;43m=\u001b[39;49m\u001b[43mMODEL_NAME\u001b[49m\u001b[43m,\u001b[49m\n\u001b[1;32m      8\u001b[0m \u001b[43m            \u001b[49m\u001b[43mexp\u001b[49m\u001b[38;5;241;43m=\u001b[39;49m\u001b[43mEXP_NUM\u001b[49m\u001b[43m)\u001b[49m\n",
      "File \u001b[0;32m/notebooks/CIBMTR/train/train.py:141\u001b[0m, in \u001b[0;36mtrain\u001b[0;34m(data, features, target_type, n_split, cat_cols, model_name, exp)\u001b[0m\n\u001b[1;32m    139\u001b[0m y_pred_fold \u001b[38;5;241m=\u001b[39m data\u001b[38;5;241m.\u001b[39miloc[val_idx][[\u001b[38;5;124m'\u001b[39m\u001b[38;5;124mID\u001b[39m\u001b[38;5;124m'\u001b[39m]]\u001b[38;5;241m.\u001b[39mcopy()\n\u001b[1;32m    140\u001b[0m y_pred_fold[\u001b[38;5;124m'\u001b[39m\u001b[38;5;124mprediction\u001b[39m\u001b[38;5;124m'\u001b[39m] \u001b[38;5;241m=\u001b[39m oof_preds[val_idx]\n\u001b[0;32m--> 141\u001b[0m loss_val \u001b[38;5;241m=\u001b[39m \u001b[43mscore\u001b[49m\u001b[43m(\u001b[49m\u001b[43my_true_fold\u001b[49m\u001b[43m,\u001b[49m\u001b[43m \u001b[49m\u001b[43my_pred_fold\u001b[49m\u001b[43m,\u001b[49m\u001b[43m \u001b[49m\u001b[38;5;124;43m'\u001b[39;49m\u001b[38;5;124;43mID\u001b[39;49m\u001b[38;5;124;43m'\u001b[39;49m\u001b[43m)\u001b[49m\n\u001b[1;32m    142\u001b[0m \u001b[38;5;28mprint\u001b[39m(clr\u001b[38;5;241m.\u001b[39mRED \u001b[38;5;241m+\u001b[39m \u001b[38;5;124mf\u001b[39m\u001b[38;5;124m'\u001b[39m\u001b[38;5;124mOverall fold-\u001b[39m\u001b[38;5;132;01m{\u001b[39;00mfold\u001b[38;5;132;01m}\u001b[39;00m\u001b[38;5;124m C-index : \u001b[39m\u001b[38;5;132;01m{\u001b[39;00mloss_val\u001b[38;5;132;01m:\u001b[39;00m\u001b[38;5;124m.3\u001b[39m\u001b[38;5;132;01m}\u001b[39;00m\u001b[38;5;124m'\u001b[39m \u001b[38;5;241m+\u001b[39m clr\u001b[38;5;241m.\u001b[39mEND)\n\u001b[1;32m    144\u001b[0m \u001b[38;5;28;01mdel\u001b[39;00m X_train, X_val, y_train, y_val, model\n",
      "File \u001b[0;32m/notebooks/CIBMTR/utils/metric.py:70\u001b[0m, in \u001b[0;36mscore\u001b[0;34m(solution, submission, row_id_column_name)\u001b[0m\n\u001b[1;32m     68\u001b[0m merged_df_race \u001b[38;5;241m=\u001b[39m merged_df\u001b[38;5;241m.\u001b[39miloc[indices]\n\u001b[1;32m     69\u001b[0m \u001b[38;5;66;03m# Calculate the concordance index\u001b[39;00m\n\u001b[0;32m---> 70\u001b[0m c_index_race \u001b[38;5;241m=\u001b[39m \u001b[43mconcordance_index\u001b[49m\u001b[43m(\u001b[49m\n\u001b[1;32m     71\u001b[0m \u001b[43m                \u001b[49m\u001b[43mmerged_df_race\u001b[49m\u001b[43m[\u001b[49m\u001b[43minterval_label\u001b[49m\u001b[43m]\u001b[49m\u001b[43m,\u001b[49m\n\u001b[1;32m     72\u001b[0m \u001b[43m                \u001b[49m\u001b[38;5;241;43m-\u001b[39;49m\u001b[43mmerged_df_race\u001b[49m\u001b[43m[\u001b[49m\u001b[43mprediction_label\u001b[49m\u001b[43m]\u001b[49m\u001b[43m,\u001b[49m\n\u001b[1;32m     73\u001b[0m \u001b[43m                \u001b[49m\u001b[43mmerged_df_race\u001b[49m\u001b[43m[\u001b[49m\u001b[43mevent_label\u001b[49m\u001b[43m]\u001b[49m\u001b[43m)\u001b[49m\n\u001b[1;32m     74\u001b[0m \u001b[38;5;28mprint\u001b[39m(clr\u001b[38;5;241m.\u001b[39mRED \u001b[38;5;241m+\u001b[39m \u001b[38;5;124mf\u001b[39m\u001b[38;5;124m'\u001b[39m\u001b[38;5;124mC-index-\u001b[39m\u001b[38;5;132;01m{\u001b[39;00mrace\u001b[38;5;132;01m}\u001b[39;00m\u001b[38;5;124m : \u001b[39m\u001b[38;5;132;01m{\u001b[39;00mc_index_race\u001b[38;5;132;01m:\u001b[39;00m\u001b[38;5;124m.3f\u001b[39m\u001b[38;5;132;01m}\u001b[39;00m\u001b[38;5;124m'\u001b[39m)   \n\u001b[1;32m     75\u001b[0m metric_list\u001b[38;5;241m.\u001b[39mappend(c_index_race)\n",
      "File \u001b[0;32m/usr/local/lib/python3.11/dist-packages/lifelines/utils/concordance.py:92\u001b[0m, in \u001b[0;36mconcordance_index\u001b[0;34m(event_times, predicted_scores, event_observed)\u001b[0m\n\u001b[1;32m     37\u001b[0m \u001b[38;5;250m\u001b[39m\u001b[38;5;124;03m\"\"\"\u001b[39;00m\n\u001b[1;32m     38\u001b[0m \u001b[38;5;124;03mCalculates the concordance index (C-index) between a series\u001b[39;00m\n\u001b[1;32m     39\u001b[0m \u001b[38;5;124;03mof event times and a predicted score. The first is the real survival times from\u001b[39;00m\n\u001b[0;32m   (...)\u001b[0m\n\u001b[1;32m     89\u001b[0m \n\u001b[1;32m     90\u001b[0m \u001b[38;5;124;03m\"\"\"\u001b[39;00m\n\u001b[1;32m     91\u001b[0m event_times, predicted_scores, event_observed \u001b[38;5;241m=\u001b[39m _preprocess_scoring_data(event_times, predicted_scores, event_observed)\n\u001b[0;32m---> 92\u001b[0m num_correct, num_tied, num_pairs \u001b[38;5;241m=\u001b[39m \u001b[43m_concordance_summary_statistics\u001b[49m\u001b[43m(\u001b[49m\u001b[43mevent_times\u001b[49m\u001b[43m,\u001b[49m\u001b[43m \u001b[49m\u001b[43mpredicted_scores\u001b[49m\u001b[43m,\u001b[49m\u001b[43m \u001b[49m\u001b[43mevent_observed\u001b[49m\u001b[43m)\u001b[49m\n\u001b[1;32m     94\u001b[0m \u001b[38;5;28;01mreturn\u001b[39;00m _concordance_ratio(num_correct, num_tied, num_pairs)\n",
      "File \u001b[0;32m/usr/local/lib/python3.11/dist-packages/lifelines/utils/concordance.py:176\u001b[0m, in \u001b[0;36m_concordance_summary_statistics\u001b[0;34m(event_times, predicted_event_times, event_observed)\u001b[0m\n\u001b[1;32m    174\u001b[0m     censored_ix \u001b[38;5;241m=\u001b[39m next_ix\n\u001b[1;32m    175\u001b[0m \u001b[38;5;28;01melif\u001b[39;00m has_more_died \u001b[38;5;129;01mand\u001b[39;00m (\u001b[38;5;129;01mnot\u001b[39;00m has_more_censored \u001b[38;5;129;01mor\u001b[39;00m died_truth[died_ix] \u001b[38;5;241m<\u001b[39m\u001b[38;5;241m=\u001b[39m censored_truth[censored_ix]):\n\u001b[0;32m--> 176\u001b[0m     pairs, correct, tied, next_ix \u001b[38;5;241m=\u001b[39m \u001b[43m_handle_pairs\u001b[49m\u001b[43m(\u001b[49m\u001b[43mdied_truth\u001b[49m\u001b[43m,\u001b[49m\u001b[43m \u001b[49m\u001b[43mdied_pred\u001b[49m\u001b[43m,\u001b[49m\u001b[43m \u001b[49m\u001b[43mdied_ix\u001b[49m\u001b[43m,\u001b[49m\u001b[43m \u001b[49m\u001b[43mtimes_to_compare\u001b[49m\u001b[43m)\u001b[49m\n\u001b[1;32m    177\u001b[0m     \u001b[38;5;28;01mfor\u001b[39;00m pred \u001b[38;5;129;01min\u001b[39;00m died_pred[died_ix:next_ix]:\n\u001b[1;32m    178\u001b[0m         times_to_compare\u001b[38;5;241m.\u001b[39minsert(pred)\n",
      "File \u001b[0;32m/usr/local/lib/python3.11/dist-packages/lifelines/utils/concordance.py:211\u001b[0m, in \u001b[0;36m_handle_pairs\u001b[0;34m(truth, pred, first_ix, times_to_compare)\u001b[0m\n\u001b[1;32m    209\u001b[0m     rank, count \u001b[38;5;241m=\u001b[39m times_to_compare\u001b[38;5;241m.\u001b[39mrank(pred[i])\n\u001b[1;32m    210\u001b[0m     correct \u001b[38;5;241m+\u001b[39m\u001b[38;5;241m=\u001b[39m rank\n\u001b[0;32m--> 211\u001b[0m     tied \u001b[38;5;241m+\u001b[39m\u001b[38;5;241m=\u001b[39m count\n\u001b[1;32m    213\u001b[0m \u001b[38;5;28;01mreturn\u001b[39;00m (pairs, correct, tied, next_ix)\n",
      "\u001b[0;31mKeyboardInterrupt\u001b[0m: "
     ]
    }
   ],
   "source": [
    "shutil.copy('/notebooks/CIBMTR/train/train.py', f'{SAVE_PATH}/')\n",
    "trainer.train(data=data,\n",
    "            features=FEATURES,\n",
    "            target_type='target4',\n",
    "            n_split=N_SPLITS, \n",
    "            cat_cols=CATE_COLS,\n",
    "            model_name=MODEL_NAME,\n",
    "            exp=EXP_NUM)"
   ]
  },
  {
   "cell_type": "code",
   "execution_count": null,
   "id": "7c01c9e0-0be0-4ee7-ad05-d308392762d5",
   "metadata": {
    "tags": []
   },
   "outputs": [],
   "source": [
    "EXP_NUM = 'EXP-48'\n",
    "SAVE_PATH = f'{my_config.general.model_save_path}/TREE_{EXP_NUM}'\n",
    "shutil.copy('config.py', SAVE_PATH)\n",
    "\n",
    "oof_preds = joblib.load(f'{SAVE_PATH}/oof_preds_{EXP_NUM}.pkl')\n",
    "all_true = train['utility_agent1']\n",
    "# all_true.columns = range(all_true.shape[1])"
   ]
  },
  {
   "cell_type": "code",
   "execution_count": null,
   "id": "ef7060e5-a115-439f-bd0b-b5449d23fb11",
   "metadata": {
    "tags": []
   },
   "outputs": [],
   "source": [
    "for model_name in oof_preds:\n",
    "    oof = pd.DataFrame(oof_preds[f'{model_name}'].copy(), columns=['pred'])\n",
    "    oof['id'] = np.arange(len(oof))\n",
    "\n",
    "    true = pd.DataFrame(all_true.copy())\n",
    "    true['id'] = np.arange(len(true))\n",
    "    \n",
    "    cv = RMSE(true['utility_agent1'], oof['pred'])\n",
    "    print(clr.RED + f'RMSE for {model_name} = {cv}' + clr.END)"
   ]
  },
  {
   "cell_type": "code",
   "execution_count": null,
   "id": "a26823c0-d9ce-4913-aca5-6dad2fe9c363",
   "metadata": {
    "tags": []
   },
   "outputs": [],
   "source": [
    "EXP_NUM = 'EXP-19'\n",
    "SAVE_PATH = f'{my_config.general.model_save_path}/TREE_{EXP_NUM}'\n",
    "\n",
    "\n",
    "i=0\n",
    "model = joblib.load(f'{SAVE_PATH}/CAT_{EXP_NUM}_f{i}.pkl')\n",
    "cat_feature_indices = model.get_cat_feature_indices()\n",
    "cat_columns = data[FEATURES].columns[cat_feature_indices]"
   ]
  },
  {
   "cell_type": "code",
   "execution_count": null,
   "id": "471f75e3-0e1e-46ae-b2d2-e15b2add0e5b",
   "metadata": {
    "tags": []
   },
   "outputs": [],
   "source": [
    "cat_columns"
   ]
  },
  {
   "cell_type": "code",
   "execution_count": null,
   "id": "5be75c58-7749-4636-971e-dec99ab6cb89",
   "metadata": {
    "tags": []
   },
   "outputs": [],
   "source": [
    "column_name = 'p1_selection'\n",
    "column_index = data[FEATURES].columns.get_loc(column_name)\n",
    "column_index"
   ]
  },
  {
   "cell_type": "code",
   "execution_count": null,
   "id": "f411bce9-0e58-413e-949c-a0f0dabb0f95",
   "metadata": {
    "tags": []
   },
   "outputs": [],
   "source": [
    "cat_feature_indices"
   ]
  },
  {
   "cell_type": "code",
   "execution_count": null,
   "id": "b4402e08-d870-41e5-9e56-3b9a8f153713",
   "metadata": {},
   "outputs": [],
   "source": []
  }
 ],
 "metadata": {
  "kernelspec": {
   "display_name": "Python 3 (ipykernel)",
   "language": "python",
   "name": "python3"
  },
  "language_info": {
   "codemirror_mode": {
    "name": "ipython",
    "version": 3
   },
   "file_extension": ".py",
   "mimetype": "text/x-python",
   "name": "python",
   "nbconvert_exporter": "python",
   "pygments_lexer": "ipython3",
   "version": "3.11.7"
  }
 },
 "nbformat": 4,
 "nbformat_minor": 5
}
