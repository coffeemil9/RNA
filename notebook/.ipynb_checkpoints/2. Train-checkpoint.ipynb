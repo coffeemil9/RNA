{
 "cells": [
  {
   "cell_type": "markdown",
   "id": "5870ceeb-a460-4c46-b0b1-6591bea1d7a2",
   "metadata": {
    "tags": []
   },
   "source": [
    "# **Dependincies**"
   ]
  },
  {
   "cell_type": "code",
   "execution_count": 1,
   "id": "019feaaa-8896-4046-8b1d-3ae7e840fba6",
   "metadata": {
    "tags": []
   },
   "outputs": [],
   "source": [
    "%%capture\n",
    "!pip install polars\n",
    "!pip install lightgbm==4.2.0\n",
    "!pip install catboost==1.2.7\n",
    "!pip install xgboost==2.0.3\n",
    "!pip install optuna\n",
    "!pip install lifelines"
   ]
  },
  {
   "cell_type": "code",
   "execution_count": 2,
   "id": "46c37c15-fc68-40cd-8dcb-9a1b23bf8cf9",
   "metadata": {
    "tags": []
   },
   "outputs": [
    {
     "name": "stdout",
     "output_type": "stream",
     "text": [
      "4.2.0\n",
      "1.2.7\n",
      "2.0.3\n"
     ]
    }
   ],
   "source": [
    "import shutil\n",
    "import pandas as pd\n",
    "import numpy as np\n",
    "import re\n",
    "import gc\n",
    "import os\n",
    "import math\n",
    "import importlib\n",
    "import random\n",
    "import warnings\n",
    "import pickle\n",
    "import joblib\n",
    "from tqdm import tqdm\n",
    "import sys\n",
    "\n",
    "from scipy.stats import skew, kurtosis\n",
    "from collections import Counter,defaultdict\n",
    "from matplotlib.colors import ListedColormap, LinearSegmentedColormap\n",
    "import lightgbm as lgb\n",
    "import catboost as cat, gc\n",
    "import xgboost as xgb\n",
    "\n",
    "print(lgb.__version__)\n",
    "print(cat.__version__)\n",
    "print(xgb.__version__)\n",
    "\n",
    "from lightgbm import LGBMRegressor, LGBMClassifier\n",
    "from catboost import CatBoostRegressor, CatBoostClassifier, Pool\n",
    "from sklearn.svm import SVR\n",
    "from xgboost import XGBRegressor, XGBClassifier\n",
    "\n",
    "import optuna\n",
    "\n",
    "from sklearn.model_selection import KFold, StratifiedKFold, GroupKFold\n",
    "from sklearn.preprocessing import MinMaxScaler, OneHotEncoder, LabelEncoder\n",
    "from sklearn.impute import SimpleImputer\n",
    "from sklearn.metrics import mean_squared_error\n",
    "from sklearn.metrics import log_loss\n",
    "\n",
    "\n",
    "import torch\n",
    "import torch.nn as nn\n",
    "import torch.optim as optim\n",
    "from torch.optim.lr_scheduler import ReduceLROnPlateau, CosineAnnealingWarmRestarts\n",
    "import torch.nn.functional as F\n",
    "\n",
    "from transformers import AutoModel,AutoTokenizer\n",
    "\n",
    "warnings.simplefilter('ignore')\n",
    "warnings.filterwarnings('ignore')\n",
    "\n",
    "warnings.simplefilter('ignore')\n",
    "warnings.filterwarnings('ignore')\n",
    "sys.path.append('/notebooks/CIBMTR/utils')\n",
    "sys.path.append('/notebooks/CIBMTR/train')"
   ]
  },
  {
   "cell_type": "code",
   "execution_count": 3,
   "id": "d335fecf-203d-4b2b-9c5f-84b8d1cbccfb",
   "metadata": {
    "tags": []
   },
   "outputs": [
    {
     "name": "stdout",
     "output_type": "stream",
     "text": [
      "lgb version:4.2.0\n",
      "catboost version:1.2.7\n",
      "xgboost version:2.0.3\n",
      "lgb version:4.2.0\n",
      "catboost version:1.2.7\n",
      "xgboost version:2.0.3\n"
     ]
    }
   ],
   "source": [
    "import tuning\n",
    "import utils as my_utils\n",
    "import metric\n",
    "from metric import score\n",
    "from utils import clr\n",
    "import train as trainer\n",
    "import config"
   ]
  },
  {
   "cell_type": "markdown",
   "id": "2a11c8e8-a978-404a-b830-0ec4641c48f9",
   "metadata": {
    "tags": []
   },
   "source": [
    "# **LOAD DATA**"
   ]
  },
  {
   "cell_type": "code",
   "execution_count": 4,
   "id": "25421f99-c8ae-49f8-bcb0-0025180e7cb3",
   "metadata": {
    "tags": []
   },
   "outputs": [],
   "source": [
    "train_path = '/notebooks/CIBMTR/data/train.csv'\n",
    "train_dic_path = '/notebooks/CIBMTR/data/data_dictionary.csv'\n",
    "\n",
    "test_path = '/notebooks/CIBMTR/data/test.csv'\n",
    "sub_path = '/notebooks/CIBMTR/data/sample_submission.csv'"
   ]
  },
  {
   "cell_type": "code",
   "execution_count": 5,
   "id": "c55bd604-3f76-4384-b6f0-2f9d1e9ed511",
   "metadata": {
    "tags": []
   },
   "outputs": [],
   "source": [
    "train = pd.read_csv(train_path)\n",
    "# dictionary_tow = pd.read_csv(train_dic_path)\n",
    "dictionary = pd.read_csv('/notebooks/CIBMTR/output/dictionary.csv', encoding='cp932').drop('Unnamed: 0', axis=1)\n",
    "test = pd.read_csv(test_path)\n",
    "submission = pd.read_csv(sub_path)"
   ]
  },
  {
   "cell_type": "code",
   "execution_count": 6,
   "id": "c9f66dc8-3568-4151-9456-57dafb8372dc",
   "metadata": {
    "tags": []
   },
   "outputs": [],
   "source": [
    "TARGETS = ['efs_time', 'efs']"
   ]
  },
  {
   "cell_type": "markdown",
   "id": "375061f4-d1d1-47f5-93ef-7a89d0b66a21",
   "metadata": {
    "tags": []
   },
   "source": [
    "# **UM FEATURE ENGINNERING**"
   ]
  },
  {
   "cell_type": "markdown",
   "id": "e9f0f3e0-8dcd-4d83-ad55-462d03db8c6c",
   "metadata": {
    "tags": []
   },
   "source": [
    "## **FE FUNCTIONS**"
   ]
  },
  {
   "cell_type": "code",
   "execution_count": 7,
   "id": "de45e683-d021-4bc1-9c5d-3c7fd454a479",
   "metadata": {
    "tags": []
   },
   "outputs": [
    {
     "data": {
      "text/plain": [
       "<module 'config' from '/notebooks/CIBMTR/utils/config.py'>"
      ]
     },
     "execution_count": 7,
     "metadata": {},
     "output_type": "execute_result"
    }
   ],
   "source": [
    "data=train\n",
    "importlib.reload(my_utils)\n",
    "importlib.reload(config)"
   ]
  },
  {
   "cell_type": "code",
   "execution_count": 8,
   "id": "478f8a6d-f6fe-459a-a613-f8a7a054c5dd",
   "metadata": {
    "tags": []
   },
   "outputs": [
    {
     "name": "stdout",
     "output_type": "stream",
     "text": [
      "INITIAL DATA Shape:(28800, 60)\n",
      "\n",
      "\n",
      "Final DATA Shape:(28800, 61)\n"
     ]
    }
   ],
   "source": [
    "print(f'INITIAL DATA Shape:{data.shape}')\n",
    "print('')\n",
    "FE = my_utils.CIBMTR_FE(mode='train')\n",
    "data, _ = FE.trans_obj_cate(data)\n",
    "data = FE.create_target4(data)\n",
    "\n",
    "print('')\n",
    "print(f'Final DATA Shape:{data.shape}')"
   ]
  },
  {
   "cell_type": "code",
   "execution_count": 9,
   "id": "e68eec28-afdb-4088-8962-56e2072c0037",
   "metadata": {},
   "outputs": [
    {
     "name": "stdout",
     "output_type": "stream",
     "text": [
      "\u001b[31mcategorical_cols : 35\n",
      "\u001b[31mnum_cols : 23\n"
     ]
    }
   ],
   "source": [
    "categorical_cols = data.drop(columns=TARGETS + ['ID']).select_dtypes(include=['object', 'category']).columns.to_list()\n",
    "numerical_cols = data.drop(columns=TARGETS + ['ID']).select_dtypes(include=['number']).columns.to_list()\n",
    "\n",
    "print(clr.RED + f'categorical_cols : {len(categorical_cols)}')\n",
    "print(clr.RED + f'num_cols : {len(numerical_cols)}')\n",
    "\n",
    "data[categorical_cols] = data[categorical_cols].astype(str).astype('category')\n"
   ]
  },
  {
   "cell_type": "markdown",
   "id": "87abcd24-b274-4031-a16e-208350068205",
   "metadata": {
    "jp-MarkdownHeadingCollapsed": true,
    "tags": []
   },
   "source": [
    "## **CONCAT OOF PREDICTIONS**"
   ]
  },
  {
   "cell_type": "code",
   "execution_count": 10,
   "id": "3568b9b4-6793-4e05-be50-0e61e70e21ad",
   "metadata": {
    "tags": []
   },
   "outputs": [],
   "source": [
    "# ####\n",
    "# # USING GDBT MODEL OOF\n",
    "# ####\n",
    "# EXP_NUM_LIST = ['EXP-39','EXP-40','EXP-43']\n",
    "# predictions={}\n",
    "# for EXP_NUM in EXP_NUM_LIST:\n",
    "#     SAVE_PATH = f'{my_config.general.model_save_path}/TREE_{EXP_NUM}'\n",
    "#     oof_preds = joblib.load(f'{SAVE_PATH}/oof_preds_{EXP_NUM}.pkl')\n",
    "#     oof_preds = {key: np.clip(value, a_min=-1.0, a_max=1.0) for key, value in oof_preds.items()}\n",
    "#     oof_preds = {model: oof_preds[model].flatten() for model in oof_preds}\n",
    "    \n",
    "#     cols = [f\"{col.split('_')[0]}-{EXP_NUM}\" for col in oof_preds]\n",
    "#     oof_preds_df = pd.DataFrame(oof_preds)\n",
    "#     oof_preds_df.columns = cols\n",
    "#     predictions[EXP_NUM]=(oof_preds_df)\n",
    "\n",
    "# predictions_df = pd.DataFrame()\n",
    "# for col in predictions:\n",
    "#     tmp_df = predictions[col]\n",
    "#     predictions_df = pd.concat([predictions_df, tmp_df], axis=1)\n",
    "# predictions_df = predictions_df.astype('float64')\n",
    "\n",
    "# true = train['utility_agent1'].copy()\n",
    "# print(len(predictions))"
   ]
  },
  {
   "cell_type": "code",
   "execution_count": 11,
   "id": "b4334a9a-4825-48d6-89e5-bfc858c874e7",
   "metadata": {
    "tags": []
   },
   "outputs": [],
   "source": [
    "# ####\n",
    "# # USING NN MODEL OOF\n",
    "# ####\n",
    "\n",
    "# # EXP_NUM_NN_LIST = 0\n",
    "# # EXP_NUM_NN_LIST = ['EXP-50', 'EXP-68']\n",
    "# EXP_NUM_NN_LIST = []\n",
    "# if len(EXP_NUM_NN_LIST)!=0:\n",
    "#     for EXP_NUM in EXP_NUM_NN_LIST:\n",
    "#         SAVE_PATH = f'{my_config.general.model_save_path}/NN_{EXP_NUM}'\n",
    "#         oof_preds = pd.read_csv(f'{SAVE_PATH}/oof.csv')\n",
    "#         predictions_df[f'nn-{EXP_NUM}'] = oof_preds['pred']\n",
    "# predictions_df.head(3)\n",
    "\n",
    "# ####\n",
    "# # USING DTNN MODEL OOF\n",
    "# ####\n",
    "# # EXP_NUM_NN_LIST = 0\n",
    "# # EXP_NUM_NN_LIST = ['EXP-17']\n",
    "# EXP_NUM_NN_LIST = []\n",
    "# if len(EXP_NUM_NN_LIST)!=0:\n",
    "#     for EXP_NUM in EXP_NUM_NN_LIST:\n",
    "#         oof_preds = joblib.load(f'model/DTNN_{EXP_NUM}/oof_preds_{EXP_NUM}.pkl')\n",
    "#         oof_preds = pd.DataFrame(oof_preds['dtnn'], columns=['pred'])\n",
    "#         predictions_df[f'dtnn-{EXP_NUM}'] = oof_preds['pred']\n",
    "# predictions_df.head(3)"
   ]
  },
  {
   "cell_type": "code",
   "execution_count": 12,
   "id": "4e246191-6fad-4cfe-914c-4e204e0caf39",
   "metadata": {
    "tags": []
   },
   "outputs": [],
   "source": [
    "# USE_OOF = False\n",
    "\n",
    "# if USE_OOF:\n",
    "#     data = pd.concat([data, predictions_df], axis=1)\n",
    "#     # data = FE.fe6(data.copy())\n",
    "#     # exp_num = 'EXP-35'\n",
    "#     # data = FE.drop_cols_fi3(data.copy(), \n",
    "#     #                       save_path='model', \n",
    "#     #                       exp_num=f'TREE_{exp_num}', \n",
    "#     #                       topn=25)\n",
    "\n",
    "# data.replace([np.inf, -np.inf], np.nan, inplace=True)"
   ]
  },
  {
   "cell_type": "code",
   "execution_count": 13,
   "id": "702af597-6ae6-4db2-989d-df2f1785539f",
   "metadata": {
    "tags": []
   },
   "outputs": [],
   "source": [
    "# exp_num = 'EXP-48'\n",
    "# data = FE.drop_cols_fi3(data.copy(), \n",
    "#                       save_path='model', \n",
    "#                       exp_num=f'TREE_{exp_num}', \n",
    "#                       topn=30)"
   ]
  },
  {
   "cell_type": "markdown",
   "id": "5aba0ae1-434c-49d1-9d9e-b3cecef02816",
   "metadata": {
    "tags": []
   },
   "source": [
    "# **OOF**"
   ]
  },
  {
   "cell_type": "code",
   "execution_count": 14,
   "id": "7735e2d1-229f-4713-b85f-43421cc76ea4",
   "metadata": {
    "tags": []
   },
   "outputs": [],
   "source": [
    "N_SPLITS=config.general.n_splits\n",
    "SEED = config.general.seed"
   ]
  },
  {
   "cell_type": "code",
   "execution_count": 15,
   "id": "491ad5c2-1e78-4ad8-8983-445acf5c9983",
   "metadata": {
    "tags": []
   },
   "outputs": [
    {
     "data": {
      "text/html": [
       "<div>\n",
       "<style scoped>\n",
       "    .dataframe tbody tr th:only-of-type {\n",
       "        vertical-align: middle;\n",
       "    }\n",
       "\n",
       "    .dataframe tbody tr th {\n",
       "        vertical-align: top;\n",
       "    }\n",
       "\n",
       "    .dataframe thead th {\n",
       "        text-align: right;\n",
       "    }\n",
       "</style>\n",
       "<table border=\"1\" class=\"dataframe\">\n",
       "  <thead>\n",
       "    <tr style=\"text-align: right;\">\n",
       "      <th></th>\n",
       "      <th>ID</th>\n",
       "      <th>dri_score</th>\n",
       "      <th>psych_disturb</th>\n",
       "      <th>cyto_score</th>\n",
       "      <th>diabetes</th>\n",
       "      <th>hla_match_c_high</th>\n",
       "      <th>hla_high_res_8</th>\n",
       "      <th>tbi_status</th>\n",
       "      <th>arrhythmia</th>\n",
       "      <th>hla_low_res_6</th>\n",
       "      <th>...</th>\n",
       "      <th>melphalan_dose</th>\n",
       "      <th>hla_low_res_8</th>\n",
       "      <th>cardiac</th>\n",
       "      <th>hla_match_drb1_high</th>\n",
       "      <th>pulm_moderate</th>\n",
       "      <th>hla_low_res_10</th>\n",
       "      <th>efs</th>\n",
       "      <th>efs_time</th>\n",
       "      <th>target4</th>\n",
       "      <th>fold</th>\n",
       "    </tr>\n",
       "  </thead>\n",
       "  <tbody>\n",
       "    <tr>\n",
       "      <th>0</th>\n",
       "      <td>0</td>\n",
       "      <td>N/A - non-malignant indication</td>\n",
       "      <td>No</td>\n",
       "      <td>nan</td>\n",
       "      <td>No</td>\n",
       "      <td>NaN</td>\n",
       "      <td>NaN</td>\n",
       "      <td>No TBI</td>\n",
       "      <td>No</td>\n",
       "      <td>6.0</td>\n",
       "      <td>...</td>\n",
       "      <td>N/A, Mel not given</td>\n",
       "      <td>8.0</td>\n",
       "      <td>No</td>\n",
       "      <td>2.0</td>\n",
       "      <td>No</td>\n",
       "      <td>10.0</td>\n",
       "      <td>0.0</td>\n",
       "      <td>42.356</td>\n",
       "      <td>-42.356</td>\n",
       "      <td>0.0</td>\n",
       "    </tr>\n",
       "    <tr>\n",
       "      <th>1</th>\n",
       "      <td>1</td>\n",
       "      <td>Intermediate</td>\n",
       "      <td>No</td>\n",
       "      <td>Intermediate</td>\n",
       "      <td>No</td>\n",
       "      <td>2.0</td>\n",
       "      <td>8.0</td>\n",
       "      <td>TBI +- Other, &gt;cGy</td>\n",
       "      <td>No</td>\n",
       "      <td>6.0</td>\n",
       "      <td>...</td>\n",
       "      <td>N/A, Mel not given</td>\n",
       "      <td>8.0</td>\n",
       "      <td>No</td>\n",
       "      <td>2.0</td>\n",
       "      <td>Yes</td>\n",
       "      <td>10.0</td>\n",
       "      <td>1.0</td>\n",
       "      <td>4.672</td>\n",
       "      <td>4.672</td>\n",
       "      <td>1.0</td>\n",
       "    </tr>\n",
       "    <tr>\n",
       "      <th>2</th>\n",
       "      <td>2</td>\n",
       "      <td>N/A - non-malignant indication</td>\n",
       "      <td>No</td>\n",
       "      <td>nan</td>\n",
       "      <td>No</td>\n",
       "      <td>2.0</td>\n",
       "      <td>8.0</td>\n",
       "      <td>No TBI</td>\n",
       "      <td>No</td>\n",
       "      <td>6.0</td>\n",
       "      <td>...</td>\n",
       "      <td>N/A, Mel not given</td>\n",
       "      <td>8.0</td>\n",
       "      <td>No</td>\n",
       "      <td>2.0</td>\n",
       "      <td>No</td>\n",
       "      <td>10.0</td>\n",
       "      <td>0.0</td>\n",
       "      <td>19.793</td>\n",
       "      <td>-19.793</td>\n",
       "      <td>3.0</td>\n",
       "    </tr>\n",
       "  </tbody>\n",
       "</table>\n",
       "<p>3 rows × 62 columns</p>\n",
       "</div>"
      ],
      "text/plain": [
       "   ID                       dri_score psych_disturb    cyto_score diabetes  \\\n",
       "0   0  N/A - non-malignant indication            No           nan       No   \n",
       "1   1                    Intermediate            No  Intermediate       No   \n",
       "2   2  N/A - non-malignant indication            No           nan       No   \n",
       "\n",
       "   hla_match_c_high  hla_high_res_8          tbi_status arrhythmia  \\\n",
       "0               NaN             NaN              No TBI         No   \n",
       "1               2.0             8.0  TBI +- Other, >cGy         No   \n",
       "2               2.0             8.0              No TBI         No   \n",
       "\n",
       "   hla_low_res_6  ...      melphalan_dose hla_low_res_8 cardiac  \\\n",
       "0            6.0  ...  N/A, Mel not given           8.0      No   \n",
       "1            6.0  ...  N/A, Mel not given           8.0      No   \n",
       "2            6.0  ...  N/A, Mel not given           8.0      No   \n",
       "\n",
       "  hla_match_drb1_high pulm_moderate  hla_low_res_10  efs  efs_time  target4  \\\n",
       "0                 2.0            No            10.0  0.0    42.356  -42.356   \n",
       "1                 2.0           Yes            10.0  1.0     4.672    4.672   \n",
       "2                 2.0            No            10.0  0.0    19.793  -19.793   \n",
       "\n",
       "  fold  \n",
       "0  0.0  \n",
       "1  1.0  \n",
       "2  3.0  \n",
       "\n",
       "[3 rows x 62 columns]"
      ]
     },
     "execution_count": 15,
     "metadata": {},
     "output_type": "execute_result"
    }
   ],
   "source": [
    "kf = StratifiedKFold(n_splits=N_SPLITS, \n",
    "                     shuffle=True, \n",
    "                     random_state=SEED)\n",
    "for i, (_, val_index) in enumerate(kf.split(data, data.race_group)):\n",
    "    data.loc[val_index, \"fold\"] = i\n",
    "data.head(3)"
   ]
  },
  {
   "cell_type": "code",
   "execution_count": 16,
   "id": "3cf082ea-92ea-482d-9884-4967f78bf99d",
   "metadata": {
    "tags": []
   },
   "outputs": [
    {
     "data": {
      "text/plain": [
       "58"
      ]
     },
     "execution_count": 16,
     "metadata": {},
     "output_type": "execute_result"
    }
   ],
   "source": [
    "FEATURES = data.drop(TARGETS+['fold']+['ID'], axis=1).columns.tolist()\n",
    "len(FEATURES)"
   ]
  },
  {
   "cell_type": "code",
   "execution_count": 17,
   "id": "93abefc8-488c-4fd8-b4b3-2d1d706ab95f",
   "metadata": {
    "tags": []
   },
   "outputs": [
    {
     "name": "stdout",
     "output_type": "stream",
     "text": [
      "\u001b[31mcategorical_cols : 35\n",
      "\u001b[31mnum_cols : 24\n"
     ]
    }
   ],
   "source": [
    "categorical_cols = data.drop(columns=TARGETS + ['ID']).select_dtypes(include=['object', 'category']).columns.to_list()\n",
    "numerical_cols = data.drop(columns=TARGETS + ['ID']).select_dtypes(include=['number']).columns.to_list()\n",
    "\n",
    "print(clr.RED + f'categorical_cols : {len(categorical_cols)}')\n",
    "print(clr.RED + f'num_cols : {len(numerical_cols)}')\n",
    "\n"
   ]
  },
  {
   "cell_type": "markdown",
   "id": "66569739-1a96-4942-9387-c5141fc4ce8d",
   "metadata": {
    "tags": []
   },
   "source": [
    "# **Train**"
   ]
  },
  {
   "cell_type": "code",
   "execution_count": 22,
   "id": "f69cbbdb-36d7-4380-af18-0ce357c4dbc2",
   "metadata": {
    "tags": []
   },
   "outputs": [
    {
     "name": "stdout",
     "output_type": "stream",
     "text": [
      "lgb version:4.2.0\n",
      "catboost version:1.2.7\n",
      "xgboost version:2.0.3\n",
      "lgb version:4.2.0\n",
      "catboost version:1.2.7\n",
      "xgboost version:2.0.3\n"
     ]
    },
    {
     "data": {
      "text/plain": [
       "<module 'config' from '/notebooks/CIBMTR/utils/config.py'>"
      ]
     },
     "execution_count": 22,
     "metadata": {},
     "output_type": "execute_result"
    }
   ],
   "source": [
    "importlib.reload(my_utils)\n",
    "importlib.reload(metric)\n",
    "importlib.reload(tuning)\n",
    "importlib.reload(trainer)\n",
    "importlib.reload(config)"
   ]
  },
  {
   "cell_type": "code",
   "execution_count": 23,
   "id": "9d62410f-088b-4777-8cb9-808cc4a5d618",
   "metadata": {
    "tags": []
   },
   "outputs": [],
   "source": [
    "EXP_NUM='EXP-3'\n",
    "sys.path.append(f'/notebooks/CIBMTR/output/{EXP_NUM}')\n",
    "import config"
   ]
  },
  {
   "cell_type": "code",
   "execution_count": 24,
   "id": "5957d93e-6874-4292-8cb8-c97bdc5478f4",
   "metadata": {
    "tags": []
   },
   "outputs": [],
   "source": [
    "MODEL_NAME = config.training.model_name\n",
    "TARGET_TYPE = config.training.target_type\n",
    "N_SPLITS=config.general.n_splits\n",
    "SEED = config.general.seed\n",
    "\n",
    "SAVE_PATH = f'/notebooks/CIBMTR/output/{EXP_NUM}'\n",
    "FEATURES = joblib.load(f'{SAVE_PATH}/features.pkl')\n",
    "CATE_COLS = joblib.load(f'{SAVE_PATH}/categorical_cols.pkl')"
   ]
  },
  {
   "cell_type": "code",
   "execution_count": 25,
   "id": "0ba553f2-fa24-4080-b077-8982743ef9c8",
   "metadata": {
    "tags": []
   },
   "outputs": [
    {
     "name": "stdout",
     "output_type": "stream",
     "text": [
      "\n",
      "\u001b[32m#########################\u001b[0m\n",
      "\u001b[32m### Fold 1\u001b[0m\n",
      "\u001b[32m#########################\u001b[0m\n",
      "\n",
      "0:\tlearn: -119988.3793745\ttest: -26198.1427475\tbest: -26198.1427475 (0)\ttotal: 17.1ms\tremaining: 29.6s\n",
      "400:\tlearn: -117103.1118019\ttest: -25574.1795819\tbest: -25573.0082363 (379)\ttotal: 5.09s\tremaining: 16.9s\n",
      "800:\tlearn: -116537.5385398\ttest: -25558.5588736\tbest: -25558.4910105 (796)\ttotal: 10.1s\tremaining: 11.7s\n",
      "1200:\tlearn: -116112.8628627\ttest: -25557.8899652\tbest: -25554.2623852 (1089)\ttotal: 15.2s\tremaining: 6.76s\n",
      "Stopped by overfitting detector  (400 iterations wait)\n",
      "\n",
      "bestTest = -25554.26239\n",
      "bestIteration = 1089\n",
      "\n",
      "Shrink model to first 1090 iterations.\n",
      "\u001b[31mC-index-American Indian or Alaska Native : 0.685\n",
      "\u001b[31mC-index-Asian : 0.715\n",
      "\u001b[31mC-index-Black or African-American : 0.670\n",
      "\u001b[31mC-index-More than one race : 0.693\n",
      "\u001b[31mC-index-Native Hawaiian or other Pacific Islander : 0.658\n",
      "\u001b[31mC-index-White : 0.662\n",
      "\u001b[31mOverall fold-0 C-index : 0.661\u001b[0m\n",
      "\n",
      "\u001b[32m#########################\u001b[0m\n",
      "\u001b[32m### Fold 2\u001b[0m\n",
      "\u001b[32m#########################\u001b[0m\n",
      "\n",
      "0:\tlearn: -121122.2707519\ttest: -25213.9001676\tbest: -25213.9001676 (0)\ttotal: 29.4ms\tremaining: 51s\n",
      "400:\tlearn: -118306.7453059\ttest: -24628.0050054\tbest: -24628.0050054 (400)\ttotal: 5.4s\tremaining: 18s\n",
      "800:\tlearn: -117759.6008721\ttest: -24601.1521978\tbest: -24600.3245322 (779)\ttotal: 10.6s\tremaining: 12.4s\n",
      "1200:\tlearn: -117328.0469753\ttest: -24596.1050268\tbest: -24595.0817789 (1182)\ttotal: 15.8s\tremaining: 7.05s\n",
      "1600:\tlearn: -116958.0906121\ttest: -24599.1564165\tbest: -24594.9370004 (1239)\ttotal: 21s\tremaining: 1.77s\n",
      "Stopped by overfitting detector  (400 iterations wait)\n",
      "\n",
      "bestTest = -24594.937\n",
      "bestIteration = 1239\n",
      "\n",
      "Shrink model to first 1240 iterations.\n",
      "\u001b[31mC-index-American Indian or Alaska Native : 0.682\n",
      "\u001b[31mC-index-Asian : 0.687\n",
      "\u001b[31mC-index-Black or African-American : 0.676\n",
      "\u001b[31mC-index-More than one race : 0.690\n",
      "\u001b[31mC-index-Native Hawaiian or other Pacific Islander : 0.672\n",
      "\u001b[31mC-index-White : 0.683\n",
      "\u001b[31mOverall fold-1 C-index : 0.676\u001b[0m\n",
      "\n",
      "\u001b[32m#########################\u001b[0m\n",
      "\u001b[32m### Fold 3\u001b[0m\n",
      "\u001b[32m#########################\u001b[0m\n",
      "\n",
      "0:\tlearn: -120410.3481783\ttest: -25868.7964095\tbest: -25868.7964095 (0)\ttotal: 16.5ms\tremaining: 28.7s\n",
      "400:\tlearn: -117477.0268662\ttest: -25294.2352830\tbest: -25294.1231382 (398)\ttotal: 5.1s\tremaining: 17s\n",
      "800:\tlearn: -116910.2130356\ttest: -25266.0842010\tbest: -25266.0842010 (800)\ttotal: 10.3s\tremaining: 12s\n",
      "1200:\tlearn: -116471.0159860\ttest: -25258.5076172\tbest: -25258.3260686 (1198)\ttotal: 15.5s\tremaining: 6.89s\n",
      "1600:\tlearn: -116083.0478888\ttest: -25258.4512848\tbest: -25255.1801012 (1398)\ttotal: 20.7s\tremaining: 1.74s\n",
      "1735:\tlearn: -115969.3367054\ttest: -25257.2898735\tbest: -25255.1801012 (1398)\ttotal: 22.5s\tremaining: 0us\n",
      "\n",
      "bestTest = -25255.1801\n",
      "bestIteration = 1398\n",
      "\n",
      "Shrink model to first 1399 iterations.\n",
      "\u001b[31mC-index-American Indian or Alaska Native : 0.697\n",
      "\u001b[31mC-index-Asian : 0.693\n",
      "\u001b[31mC-index-Black or African-American : 0.662\n",
      "\u001b[31mC-index-More than one race : 0.672\n",
      "\u001b[31mC-index-Native Hawaiian or other Pacific Islander : 0.679\n",
      "\u001b[31mC-index-White : 0.654\n",
      "\u001b[31mOverall fold-2 C-index : 0.661\u001b[0m\n",
      "\n",
      "\u001b[32m#########################\u001b[0m\n",
      "\u001b[32m### Fold 4\u001b[0m\n",
      "\u001b[32m#########################\u001b[0m\n",
      "\n",
      "0:\tlearn: -120553.6589917\ttest: -25713.0391449\tbest: -25713.0391449 (0)\ttotal: 17.3ms\tremaining: 30.1s\n",
      "400:\tlearn: -117737.4760392\ttest: -25111.3608768\tbest: -25111.2408027 (398)\ttotal: 5.29s\tremaining: 17.6s\n",
      "800:\tlearn: -117200.9370653\ttest: -25071.6955578\tbest: -25071.6147959 (795)\ttotal: 10.4s\tremaining: 12.2s\n",
      "1200:\tlearn: -116778.8948969\ttest: -25054.6478194\tbest: -25054.5195166 (1194)\ttotal: 15.7s\tremaining: 6.99s\n",
      "1600:\tlearn: -116400.5401324\ttest: -25044.7542170\tbest: -25044.4031082 (1586)\ttotal: 20.8s\tremaining: 1.75s\n",
      "1735:\tlearn: -116286.1035919\ttest: -25044.9707990\tbest: -25044.3743247 (1705)\ttotal: 22.5s\tremaining: 0us\n",
      "\n",
      "bestTest = -25044.37432\n",
      "bestIteration = 1705\n",
      "\n",
      "Shrink model to first 1706 iterations.\n",
      "\u001b[31mC-index-American Indian or Alaska Native : 0.686\n",
      "\u001b[31mC-index-Asian : 0.701\n",
      "\u001b[31mC-index-Black or African-American : 0.689\n",
      "\u001b[31mC-index-More than one race : 0.692\n",
      "\u001b[31mC-index-Native Hawaiian or other Pacific Islander : 0.685\n",
      "\u001b[31mC-index-White : 0.675\n",
      "\u001b[31mOverall fold-3 C-index : 0.68\u001b[0m\n",
      "\n",
      "\u001b[32m#########################\u001b[0m\n",
      "\u001b[32m### Fold 5\u001b[0m\n",
      "\u001b[32m#########################\u001b[0m\n",
      "\n",
      "0:\tlearn: -120156.6545986\ttest: -26036.2936990\tbest: -26036.2936990 (0)\ttotal: 17.3ms\tremaining: 30s\n",
      "400:\tlearn: -117250.0447653\ttest: -25504.6301881\tbest: -25504.1674812 (398)\ttotal: 5.18s\tremaining: 17.3s\n",
      "800:\tlearn: -116694.3462155\ttest: -25477.2197188\tbest: -25477.2197188 (800)\ttotal: 10.2s\tremaining: 11.9s\n",
      "1200:\tlearn: -116238.7626085\ttest: -25466.9312770\tbest: -25466.9044829 (1198)\ttotal: 15.4s\tremaining: 6.86s\n",
      "1600:\tlearn: -115851.6473910\ttest: -25466.2686453\tbest: -25463.4362647 (1413)\ttotal: 20.6s\tremaining: 1.74s\n",
      "1735:\tlearn: -115732.4514130\ttest: -25466.2946839\tbest: -25463.4362647 (1413)\ttotal: 22.4s\tremaining: 0us\n",
      "\n",
      "bestTest = -25463.43626\n",
      "bestIteration = 1413\n",
      "\n",
      "Shrink model to first 1414 iterations.\n",
      "\u001b[31mC-index-American Indian or Alaska Native : 0.678\n",
      "\u001b[31mC-index-Asian : 0.682\n",
      "\u001b[31mC-index-Black or African-American : 0.653\n",
      "\u001b[31mC-index-More than one race : 0.680\n",
      "\u001b[31mC-index-Native Hawaiian or other Pacific Islander : 0.677\n",
      "\u001b[31mC-index-White : 0.646\n",
      "\u001b[31mOverall fold-4 C-index : 0.655\u001b[0m\n"
     ]
    }
   ],
   "source": [
    "shutil.copy('/notebooks/CIBMTR/train/train.py', f'{SAVE_PATH}/')\n",
    "trainer.train(data=data,\n",
    "            features=FEATURES,\n",
    "            target_type='target4',\n",
    "            n_split=N_SPLITS, \n",
    "            cat_cols=CATE_COLS,\n",
    "            model_name=MODEL_NAME,\n",
    "            exp=EXP_NUM)"
   ]
  },
  {
   "cell_type": "code",
   "execution_count": null,
   "id": "7c01c9e0-0be0-4ee7-ad05-d308392762d5",
   "metadata": {
    "tags": []
   },
   "outputs": [],
   "source": [
    "EXP_NUM = 'EXP-3'\n",
    "SAVE_PATH = f'/notebooks/CIBMTR/output/{EXP_NUM}'\n",
    "\n",
    "oof_preds = joblib.load(f'{SAVE_PATH}/oof_preds_{EXP_NUM}.pkl')\n"
   ]
  },
  {
   "cell_type": "code",
   "execution_count": null,
   "id": "ef7060e5-a115-439f-bd0b-b5449d23fb11",
   "metadata": {
    "tags": []
   },
   "outputs": [],
   "source": []
  }
 ],
 "metadata": {
  "kernelspec": {
   "display_name": "Python 3 (ipykernel)",
   "language": "python",
   "name": "python3"
  },
  "language_info": {
   "codemirror_mode": {
    "name": "ipython",
    "version": 3
   },
   "file_extension": ".py",
   "mimetype": "text/x-python",
   "name": "python",
   "nbconvert_exporter": "python",
   "pygments_lexer": "ipython3",
   "version": "3.11.7"
  }
 },
 "nbformat": 4,
 "nbformat_minor": 5
}
