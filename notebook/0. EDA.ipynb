{
 "cells": [
  {
   "cell_type": "markdown",
   "id": "5870ceeb-a460-4c46-b0b1-6591bea1d7a2",
   "metadata": {
    "tags": []
   },
   "source": [
    "# **Dependincies**"
   ]
  },
  {
   "cell_type": "code",
   "execution_count": 1,
   "id": "abf157b6-97e0-4f4a-87e4-9a569cccea82",
   "metadata": {
    "tags": []
   },
   "outputs": [],
   "source": [
    "%%capture\n",
    "!pip install lightgbm==3.3.2\n",
    "!pip install catboost==1.2.2\n",
    "!pip install xgboost==2.0.3\n",
    "!pip install optuna\n",
    "!pip install timm\n",
    "!pip install pyspellchecker\n",
    "!pip install lifelines"
   ]
  },
  {
   "cell_type": "code",
   "execution_count": 2,
   "id": "46c37c15-fc68-40cd-8dcb-9a1b23bf8cf9",
   "metadata": {
    "tags": []
   },
   "outputs": [
    {
     "name": "stdout",
     "output_type": "stream",
     "text": [
      "3.3.2\n",
      "1.2.2\n",
      "2.0.3\n"
     ]
    },
    {
     "name": "stderr",
     "output_type": "stream",
     "text": [
      "2025-03-31 12:34:33.727141: E external/local_xla/xla/stream_executor/cuda/cuda_dnn.cc:9261] Unable to register cuDNN factory: Attempting to register factory for plugin cuDNN when one has already been registered\n",
      "2025-03-31 12:34:33.727227: E external/local_xla/xla/stream_executor/cuda/cuda_fft.cc:607] Unable to register cuFFT factory: Attempting to register factory for plugin cuFFT when one has already been registered\n",
      "2025-03-31 12:34:33.834183: E external/local_xla/xla/stream_executor/cuda/cuda_blas.cc:1515] Unable to register cuBLAS factory: Attempting to register factory for plugin cuBLAS when one has already been registered\n",
      "2025-03-31 12:34:34.050544: I tensorflow/core/platform/cpu_feature_guard.cc:182] This TensorFlow binary is optimized to use available CPU instructions in performance-critical operations.\n",
      "To enable the following instructions: AVX2 FMA, in other operations, rebuild TensorFlow with the appropriate compiler flags.\n",
      "2025-03-31 12:34:35.589169: W tensorflow/compiler/tf2tensorrt/utils/py_utils.cc:38] TF-TRT Warning: Could not find TensorRT\n"
     ]
    }
   ],
   "source": [
    "import pandas as pd\n",
    "import numpy as np\n",
    "from time import time\n",
    "import re\n",
    "import gc\n",
    "import shutil\n",
    "import os\n",
    "import math\n",
    "import random\n",
    "import importlib\n",
    "import warnings\n",
    "import pickle\n",
    "import joblib\n",
    "from tqdm import tqdm\n",
    "import sys\n",
    "from pathlib import Path\n",
    "import string\n",
    "\n",
    "from scipy.stats import skew, kurtosis\n",
    "from collections import Counter,defaultdict\n",
    "from matplotlib.colors import ListedColormap, LinearSegmentedColormap\n",
    "import matplotlib.pyplot as plt\n",
    "\n",
    "import lightgbm as lgb\n",
    "import catboost as cat, gc\n",
    "import xgboost\n",
    "\n",
    "print(lgb.__version__)\n",
    "print(cat.__version__)\n",
    "print(xgboost.__version__)\n",
    "\n",
    "from lightgbm import LGBMRegressor, LGBMClassifier\n",
    "from catboost import CatBoostRegressor, CatBoostClassifier, Pool\n",
    "from sklearn.svm import SVR\n",
    "from xgboost import XGBRegressor, XGBClassifier\n",
    "\n",
    "import optuna\n",
    "\n",
    "from sklearn.model_selection import KFold, StratifiedKFold, GroupKFold, StratifiedGroupKFold\n",
    "from sklearn.preprocessing import MinMaxScaler\n",
    "from sklearn.impute import SimpleImputer\n",
    "from sklearn.metrics import mean_squared_error\n",
    "from sklearn.metrics import log_loss\n",
    "\n",
    "from sklearn.feature_extraction.text import CountVectorizer,TfidfVectorizer, HashingVectorizer\n",
    "\n",
    "import timm\n",
    "import torch\n",
    "import torch.nn as nn\n",
    "import torch.optim as optim\n",
    "from torch.optim import lr_scheduler\n",
    "from torch.cuda import amp\n",
    "import torch.nn.functional as F\n",
    "\n",
    "from transformers import AutoModel,AutoTokenizer\n",
    "from transformers import AutoModel, AutoTokenizer, AdamW, DataCollatorWithPadding\n",
    "\n",
    "warnings.simplefilter('ignore')\n",
    "warnings.filterwarnings('ignore')\n",
    "\n",
    "compe_name = 'RNA'\n",
    "sys.path.append(f'/notebooks/{compe_name}/utils')"
   ]
  },
  {
   "cell_type": "code",
   "execution_count": 3,
   "id": "8f5cdaf4-3986-440b-886d-7cc09ef1d3fa",
   "metadata": {
    "tags": []
   },
   "outputs": [],
   "source": [
    "import utils as my_utils\n",
    "from utils import clr\n",
    "from metric import score"
   ]
  },
  {
   "cell_type": "code",
   "execution_count": 4,
   "id": "82f2379e-6252-4338-be82-692fb498be14",
   "metadata": {
    "tags": []
   },
   "outputs": [],
   "source": [
    "# FE = my_utils.CIBMTR_FE(mode='train')"
   ]
  },
  {
   "cell_type": "markdown",
   "id": "2a11c8e8-a978-404a-b830-0ec4641c48f9",
   "metadata": {
    "tags": []
   },
   "source": [
    "# **CONFIG**"
   ]
  },
  {
   "cell_type": "code",
   "execution_count": 5,
   "id": "25421f99-c8ae-49f8-bcb0-0025180e7cb3",
   "metadata": {
    "tags": []
   },
   "outputs": [],
   "source": [
    "train_seq_path = f'/notebooks/{compe_name}/data/train_sequences.csv'\n",
    "train_labels_path = f'/notebooks/{compe_name}/data/train_labels.csv'\n",
    "\n",
    "val_seq_path = f'/notebooks/{compe_name}/data/validation_sequences.csv'\n",
    "val_labels_path = f'/notebooks/{compe_name}/data/validation_labels.csv'\n",
    "\n",
    "test_seq_path = f'/notebooks/{compe_name}/data/test_sequences.csv'\n",
    "sub_path = f'/notebooks/{compe_name}/data/sample_submission.csv'"
   ]
  },
  {
   "cell_type": "code",
   "execution_count": 6,
   "id": "3d06bdb8-22cb-44a8-8b79-5c6864722241",
   "metadata": {
    "tags": []
   },
   "outputs": [],
   "source": [
    "train_seq = pd.read_csv(train_seq_path)\n",
    "train_labels = pd.read_csv(train_labels_path)\n",
    "train_labels[\"pdb_id\"] = train_labels[\"ID\"].apply(lambda x: x.split(\"_\")[0]+'_'+x.split(\"_\")[1])\n",
    "\n",
    "val_seq = pd.read_csv(val_seq_path)\n",
    "val_labels = pd.read_csv(val_labels_path)\n",
    "val_labels[\"pdb_id\"] = val_labels[\"ID\"].apply(lambda x: x.split(\"_\")[0])\n",
    "\n",
    "test_seq = pd.read_csv(test_seq_path)\n",
    "submission = pd.read_csv(sub_path)"
   ]
  },
  {
   "cell_type": "code",
   "execution_count": 7,
   "id": "ec4d8a7e-2bd6-4289-91ae-26273dc328a0",
   "metadata": {
    "tags": []
   },
   "outputs": [
    {
     "name": "stdout",
     "output_type": "stream",
     "text": [
      "train_sequence shape: (844, 5)\n",
      "val_sequence shape: (12, 5)\n",
      "test_sequence shape: (12, 5)\n",
      "\n",
      "train_labels shape: (137095, 7)\n",
      "val_labels shape: (2515, 124)\n"
     ]
    }
   ],
   "source": [
    "print(f'train_sequence shape: {train_seq.shape}')\n",
    "print(f'val_sequence shape: {val_seq.shape}')\n",
    "print(f'test_sequence shape: {test_seq.shape}')\n",
    "print('')\n",
    "print(f'train_labels shape: {train_labels.shape}')\n",
    "print(f'val_labels shape: {val_labels.shape}')"
   ]
  },
  {
   "cell_type": "code",
   "execution_count": 8,
   "id": "a1c9035f-5c9c-41a8-afe2-932963704028",
   "metadata": {
    "tags": []
   },
   "outputs": [
    {
     "name": "stderr",
     "output_type": "stream",
     "text": [
      "100%|██████████| 844/844 [00:05<00:00, 156.66it/s]\n"
     ]
    }
   ],
   "source": [
    "all_xyz=[]\n",
    "\n",
    "for pdb_id in tqdm(train_seq['target_id']):\n",
    "    df = train_labels[train_labels[\"pdb_id\"]==pdb_id]\n",
    "    #break\n",
    "    xyz=df[['x_1','y_1','z_1']].to_numpy().astype('float32')\n",
    "    xyz[xyz<-1e17]=float('Nan');\n",
    "    all_xyz.append(xyz)"
   ]
  },
  {
   "cell_type": "code",
   "execution_count": 9,
   "id": "0d475f41-c25f-4df9-b941-f920d259ac82",
   "metadata": {
    "tags": []
   },
   "outputs": [],
   "source": [
    "# all_xyz"
   ]
  },
  {
   "cell_type": "markdown",
   "id": "e7f60cf3-29b7-4c4a-99ec-7b39a0215f5b",
   "metadata": {
    "tags": []
   },
   "source": [
    "# **SEQUENCE DATA**\n",
    "* Validataion_sequences:2022年の CASP15 コンペティション からの12のターゲットが含まれており、RNAモデリング分野で広く使用されているテストセットです,\n",
    "* test_sequencesとValidataion_sequencesは全く同じ\n"
   ]
  },
  {
   "cell_type": "code",
   "execution_count": 10,
   "id": "855d38e1-cb2a-44af-acb5-4d7f87f47f74",
   "metadata": {
    "tags": []
   },
   "outputs": [
    {
     "data": {
      "text/html": [
       "<div>\n",
       "<style scoped>\n",
       "    .dataframe tbody tr th:only-of-type {\n",
       "        vertical-align: middle;\n",
       "    }\n",
       "\n",
       "    .dataframe tbody tr th {\n",
       "        vertical-align: top;\n",
       "    }\n",
       "\n",
       "    .dataframe thead th {\n",
       "        text-align: right;\n",
       "    }\n",
       "</style>\n",
       "<table border=\"1\" class=\"dataframe\">\n",
       "  <thead>\n",
       "    <tr style=\"text-align: right;\">\n",
       "      <th></th>\n",
       "      <th>target_id</th>\n",
       "      <th>sequence</th>\n",
       "      <th>temporal_cutoff</th>\n",
       "      <th>description</th>\n",
       "      <th>all_sequences</th>\n",
       "    </tr>\n",
       "  </thead>\n",
       "  <tbody>\n",
       "    <tr>\n",
       "      <th>0</th>\n",
       "      <td>1SCL_A</td>\n",
       "      <td>GGGUGCUCAGUACGAGAGGAACCGCACCC</td>\n",
       "      <td>1995-01-26</td>\n",
       "      <td>THE SARCIN-RICIN LOOP, A MODULAR RNA</td>\n",
       "      <td>&gt;1SCL_1|Chain A|RNA SARCIN-RICIN LOOP|Rattus n...</td>\n",
       "    </tr>\n",
       "    <tr>\n",
       "      <th>1</th>\n",
       "      <td>1RNK_A</td>\n",
       "      <td>GGCGCAGUGGGCUAGCGCCACUCAAAAGGCCCAU</td>\n",
       "      <td>1995-02-27</td>\n",
       "      <td>THE STRUCTURE OF AN RNA PSEUDOKNOT THAT CAUSES...</td>\n",
       "      <td>&gt;1RNK_1|Chain A|RNA PSEUDOKNOT|null\\nGGCGCAGUG...</td>\n",
       "    </tr>\n",
       "    <tr>\n",
       "      <th>2</th>\n",
       "      <td>1RHT_A</td>\n",
       "      <td>GGGACUGACGAUCACGCAGUCUAU</td>\n",
       "      <td>1995-06-03</td>\n",
       "      <td>24-MER RNA HAIRPIN COAT PROTEIN BINDING SITE F...</td>\n",
       "      <td>&gt;1RHT_1|Chain A|RNA (5'-R(P*GP*GP*GP*AP*CP*UP*...</td>\n",
       "    </tr>\n",
       "  </tbody>\n",
       "</table>\n",
       "</div>"
      ],
      "text/plain": [
       "  target_id                            sequence temporal_cutoff  \\\n",
       "0    1SCL_A       GGGUGCUCAGUACGAGAGGAACCGCACCC      1995-01-26   \n",
       "1    1RNK_A  GGCGCAGUGGGCUAGCGCCACUCAAAAGGCCCAU      1995-02-27   \n",
       "2    1RHT_A            GGGACUGACGAUCACGCAGUCUAU      1995-06-03   \n",
       "\n",
       "                                         description  \\\n",
       "0               THE SARCIN-RICIN LOOP, A MODULAR RNA   \n",
       "1  THE STRUCTURE OF AN RNA PSEUDOKNOT THAT CAUSES...   \n",
       "2  24-MER RNA HAIRPIN COAT PROTEIN BINDING SITE F...   \n",
       "\n",
       "                                       all_sequences  \n",
       "0  >1SCL_1|Chain A|RNA SARCIN-RICIN LOOP|Rattus n...  \n",
       "1  >1RNK_1|Chain A|RNA PSEUDOKNOT|null\\nGGCGCAGUG...  \n",
       "2  >1RHT_1|Chain A|RNA (5'-R(P*GP*GP*GP*AP*CP*UP*...  "
      ]
     },
     "execution_count": 10,
     "metadata": {},
     "output_type": "execute_result"
    }
   ],
   "source": [
    "train_seq.head(3)"
   ]
  },
  {
   "cell_type": "code",
   "execution_count": 11,
   "id": "da2980fe-fc46-4b57-aab7-0950c4955f1a",
   "metadata": {
    "tags": []
   },
   "outputs": [
    {
     "data": {
      "text/html": [
       "<div>\n",
       "<style scoped>\n",
       "    .dataframe tbody tr th:only-of-type {\n",
       "        vertical-align: middle;\n",
       "    }\n",
       "\n",
       "    .dataframe tbody tr th {\n",
       "        vertical-align: top;\n",
       "    }\n",
       "\n",
       "    .dataframe thead th {\n",
       "        text-align: right;\n",
       "    }\n",
       "</style>\n",
       "<table border=\"1\" class=\"dataframe\">\n",
       "  <thead>\n",
       "    <tr style=\"text-align: right;\">\n",
       "      <th></th>\n",
       "      <th>target_id</th>\n",
       "      <th>sequence</th>\n",
       "      <th>temporal_cutoff</th>\n",
       "      <th>description</th>\n",
       "      <th>all_sequences</th>\n",
       "    </tr>\n",
       "  </thead>\n",
       "  <tbody>\n",
       "    <tr>\n",
       "      <th>0</th>\n",
       "      <td>R1107</td>\n",
       "      <td>GGGGGCCACAGCAGAAGCGUUCACGUCGCAGCCCCUGUCAGCCAUU...</td>\n",
       "      <td>2022-05-28</td>\n",
       "      <td>CPEB3 ribozyme\\nHuman\\nhuman CPEB3 HDV-like ri...</td>\n",
       "      <td>&gt;7QR4_1|Chain A|U1 small nuclear ribonucleopro...</td>\n",
       "    </tr>\n",
       "    <tr>\n",
       "      <th>1</th>\n",
       "      <td>R1108</td>\n",
       "      <td>GGGGGCCACAGCAGAAGCGUUCACGUCGCGGCCCCUGUCAGCCAUU...</td>\n",
       "      <td>2022-05-27</td>\n",
       "      <td>CPEB3 ribozyme\\nChimpanzee\\nChimpanzee CPEB3 H...</td>\n",
       "      <td>&gt;7QR3_1|Chains A, B|U1 small nuclear ribonucle...</td>\n",
       "    </tr>\n",
       "    <tr>\n",
       "      <th>2</th>\n",
       "      <td>R1116</td>\n",
       "      <td>CGCCCGGAUAGCUCAGUCGGUAGAGCAGCGGCUAAAACAGCUCUGG...</td>\n",
       "      <td>2022-06-04</td>\n",
       "      <td>Cloverleaf RNA\\nPoliovirus\\nCrystal Structure ...</td>\n",
       "      <td>&gt;8S95_1|Chain A[auth C]|Lysine tRNA scaffold,P...</td>\n",
       "    </tr>\n",
       "  </tbody>\n",
       "</table>\n",
       "</div>"
      ],
      "text/plain": [
       "  target_id                                           sequence  \\\n",
       "0     R1107  GGGGGCCACAGCAGAAGCGUUCACGUCGCAGCCCCUGUCAGCCAUU...   \n",
       "1     R1108  GGGGGCCACAGCAGAAGCGUUCACGUCGCGGCCCCUGUCAGCCAUU...   \n",
       "2     R1116  CGCCCGGAUAGCUCAGUCGGUAGAGCAGCGGCUAAAACAGCUCUGG...   \n",
       "\n",
       "  temporal_cutoff                                        description  \\\n",
       "0      2022-05-28  CPEB3 ribozyme\\nHuman\\nhuman CPEB3 HDV-like ri...   \n",
       "1      2022-05-27  CPEB3 ribozyme\\nChimpanzee\\nChimpanzee CPEB3 H...   \n",
       "2      2022-06-04  Cloverleaf RNA\\nPoliovirus\\nCrystal Structure ...   \n",
       "\n",
       "                                       all_sequences  \n",
       "0  >7QR4_1|Chain A|U1 small nuclear ribonucleopro...  \n",
       "1  >7QR3_1|Chains A, B|U1 small nuclear ribonucle...  \n",
       "2  >8S95_1|Chain A[auth C]|Lysine tRNA scaffold,P...  "
      ]
     },
     "execution_count": 11,
     "metadata": {},
     "output_type": "execute_result"
    }
   ],
   "source": [
    "val_seq.head(3)"
   ]
  },
  {
   "cell_type": "code",
   "execution_count": 12,
   "id": "620a5e39-db02-4e45-95fa-575da1ea5bd4",
   "metadata": {
    "tags": []
   },
   "outputs": [
    {
     "data": {
      "text/html": [
       "<div>\n",
       "<style scoped>\n",
       "    .dataframe tbody tr th:only-of-type {\n",
       "        vertical-align: middle;\n",
       "    }\n",
       "\n",
       "    .dataframe tbody tr th {\n",
       "        vertical-align: top;\n",
       "    }\n",
       "\n",
       "    .dataframe thead th {\n",
       "        text-align: right;\n",
       "    }\n",
       "</style>\n",
       "<table border=\"1\" class=\"dataframe\">\n",
       "  <thead>\n",
       "    <tr style=\"text-align: right;\">\n",
       "      <th></th>\n",
       "      <th>target_id</th>\n",
       "      <th>sequence</th>\n",
       "      <th>temporal_cutoff</th>\n",
       "      <th>description</th>\n",
       "      <th>all_sequences</th>\n",
       "    </tr>\n",
       "  </thead>\n",
       "  <tbody>\n",
       "    <tr>\n",
       "      <th>0</th>\n",
       "      <td>R1107</td>\n",
       "      <td>GGGGGCCACAGCAGAAGCGUUCACGUCGCAGCCCCUGUCAGCCAUU...</td>\n",
       "      <td>2022-05-28</td>\n",
       "      <td>CPEB3 ribozyme\\nHuman\\nhuman CPEB3 HDV-like ri...</td>\n",
       "      <td>&gt;7QR4_1|Chain A|U1 small nuclear ribonucleopro...</td>\n",
       "    </tr>\n",
       "    <tr>\n",
       "      <th>1</th>\n",
       "      <td>R1108</td>\n",
       "      <td>GGGGGCCACAGCAGAAGCGUUCACGUCGCGGCCCCUGUCAGCCAUU...</td>\n",
       "      <td>2022-05-27</td>\n",
       "      <td>CPEB3 ribozyme\\nChimpanzee\\nChimpanzee CPEB3 H...</td>\n",
       "      <td>&gt;7QR3_1|Chains A, B|U1 small nuclear ribonucle...</td>\n",
       "    </tr>\n",
       "    <tr>\n",
       "      <th>2</th>\n",
       "      <td>R1116</td>\n",
       "      <td>CGCCCGGAUAGCUCAGUCGGUAGAGCAGCGGCUAAAACAGCUCUGG...</td>\n",
       "      <td>2022-06-04</td>\n",
       "      <td>Cloverleaf RNA\\nPoliovirus\\nCrystal Structure ...</td>\n",
       "      <td>&gt;8S95_1|Chain A[auth C]|Lysine tRNA scaffold,P...</td>\n",
       "    </tr>\n",
       "  </tbody>\n",
       "</table>\n",
       "</div>"
      ],
      "text/plain": [
       "  target_id                                           sequence  \\\n",
       "0     R1107  GGGGGCCACAGCAGAAGCGUUCACGUCGCAGCCCCUGUCAGCCAUU...   \n",
       "1     R1108  GGGGGCCACAGCAGAAGCGUUCACGUCGCGGCCCCUGUCAGCCAUU...   \n",
       "2     R1116  CGCCCGGAUAGCUCAGUCGGUAGAGCAGCGGCUAAAACAGCUCUGG...   \n",
       "\n",
       "  temporal_cutoff                                        description  \\\n",
       "0      2022-05-28  CPEB3 ribozyme\\nHuman\\nhuman CPEB3 HDV-like ri...   \n",
       "1      2022-05-27  CPEB3 ribozyme\\nChimpanzee\\nChimpanzee CPEB3 H...   \n",
       "2      2022-06-04  Cloverleaf RNA\\nPoliovirus\\nCrystal Structure ...   \n",
       "\n",
       "                                       all_sequences  \n",
       "0  >7QR4_1|Chain A|U1 small nuclear ribonucleopro...  \n",
       "1  >7QR3_1|Chains A, B|U1 small nuclear ribonucle...  \n",
       "2  >8S95_1|Chain A[auth C]|Lysine tRNA scaffold,P...  "
      ]
     },
     "execution_count": 12,
     "metadata": {},
     "output_type": "execute_result"
    }
   ],
   "source": [
    "'''\n",
    "【リークに関しての警告】\n",
    "提供された12の CASP15 ターゲットをバリデーションに使用する場合、test_sequencesの\n",
    "temporal_cutoff（2022-05-27）以前に公開された train_sequences.csv のみを学習に使用してください\n",
    "2022-05-27以降の train_sequences.csv は、追加のバリデーションセットとして使用することが可能です。\n",
    "'''\n",
    "test_seq.head(3)"
   ]
  },
  {
   "cell_type": "code",
   "execution_count": 13,
   "id": "2020f31d-e36e-4389-bf03-c548f2833761",
   "metadata": {
    "tags": []
   },
   "outputs": [
    {
     "name": "stdout",
     "output_type": "stream",
     "text": [
      "train_sequence shape: (844, 5)\n",
      "val_sequence shape: (12, 5)\n",
      "val_sequence shape: (12, 5)\n"
     ]
    }
   ],
   "source": [
    "print(f'train_sequence shape: {train_seq.shape}')\n",
    "print(f'val_sequence shape: {val_seq.shape}')\n",
    "print(f'val_sequence shape: {test_seq.shape}')"
   ]
  },
  {
   "cell_type": "markdown",
   "id": "50b933d0-df3f-4ac0-b05e-08da0df0da2b",
   "metadata": {
    "tags": []
   },
   "source": [
    "## **Sequence**"
   ]
  },
  {
   "cell_type": "code",
   "execution_count": 14,
   "id": "f817df6c-9a0f-4a1a-a4a2-1b6ca58f96a6",
   "metadata": {
    "tags": []
   },
   "outputs": [],
   "source": [
    "train_seq[\"sequence_length\"] = train_seq[\"sequence\"].apply(lambda x: len(x))"
   ]
  },
  {
   "cell_type": "code",
   "execution_count": 15,
   "id": "e1ae01f1-3611-4cd3-aa44-9541ae7cee88",
   "metadata": {
    "tags": []
   },
   "outputs": [
    {
     "data": {
      "image/png": "[encoded data removed]",
      "text/plain": [
       "<Figure size 1200x500 with 2 Axes>"
      ]
     },
     "metadata": {},
     "output_type": "display_data"
    }
   ],
   "source": [
    "tmp = train_seq[\"sequence_length\"]\n",
    "# 最小値と最大値を計算\n",
    "min_val = tmp.min()\n",
    "max_val = tmp.max()\n",
    "\n",
    "# 1行2列のグラフ領域を作成\n",
    "fig, axes = plt.subplots(1, 2, figsize=(12, 5))\n",
    "\n",
    "# 左側：ヒストグラム\n",
    "axes[0].hist(tmp, bins=100, edgecolor='black')\n",
    "axes[0].axvline(min_val, color='red', linestyle='dashed', linewidth=1)\n",
    "axes[0].axvline(max_val, color='green', linestyle='dashed', linewidth=1)\n",
    "ymax = axes[0].get_ylim()[1]\n",
    "axes[0].text(min_val, ymax * 0.9, f'Min: {min_val}', color='red', rotation=90, va='center')\n",
    "axes[0].text(max_val, ymax * 0.9, f'Max: {max_val}', color='green', rotation=90, va='center')\n",
    "axes[0].set_title(\"Histgram (sequence_length) \")\n",
    "axes[0].set_xlabel(\"Sequence Length\")\n",
    "axes[0].set_ylabel(\"Frequency\")\n",
    "\n",
    "# 右側：ボックスプロット\n",
    "axes[1].boxplot(tmp)\n",
    "axes[1].set_title(\"Boxplot (sequence_length)\")\n",
    "axes[1].set_ylabel(\"Length\")\n",
    "\n",
    "plt.tight_layout()\n",
    "plt.show()"
   ]
  },
  {
   "cell_type": "code",
   "execution_count": 16,
   "id": "ef2e27e6-75d4-4abc-bca5-62c645c48efb",
   "metadata": {
    "tags": []
   },
   "outputs": [
    {
     "name": "stdout",
     "output_type": "stream",
     "text": [
      "Max train_sequence: CGCGACCUCAGAUCAGACGUGGCGACCCGCUGAAUUUAAGCAUAUUAGUCAGCGGAGGAGAAGAAACUAACCAGGAUUCCCUCAGUAACGGCGAGUGAACAGGGAAGAGCCCAGCGCCGAAUCCCCGCCCCGCGGCGGGGCGCGGGACAUGUGGCGUACGGAAGACCCGCUCCCCGGCGCCGCUCGUGGGGGGCCCAAGUCCUUCUGAUCGAGGCCCAGCCCGUGGACGGUGUGAGGCCGGUAGCGGCCCCCGGCGCGCCGGGCCCGGGUCUUCCCGGAGUCGGGUUGCUUGGGAAUGCAGCCCAAAGCGGGUGGUAAACUCCAUCUAAGGCUAAAUACCGGCACGAGACCGAUAGUCAACAAGUACCGUAAGGGAAAGUUGAAAAGAACUUUGAAGAGAGAGUUCAAGAGGGCGUGAAACCGUUAAGAGGUAAACGGGUGGGGUCCGCGCAGUCCGCCCGGAGGAUUCAACCCGGCGGCGGGUCCGGCCGUGUCGGCGGCCCGGCGGAUCUUUCCCGCCCCCCGUUCCUCCCGACCCCUCCACCCGCCCUCCCUUCCCCCGCCGCCCCGGGCUCCGGCGGGUGCGGGGGUGGGCGGGCGGGGCCGGGGGUGGGGUCGGCGGGGGACCGUCCCCCGACCGGCGACCGGCCGCCGCCGGGCGCAUUUCCACCGCGGCGGUGCGCCGCGACCGGCUCCGGGACGGCUGGGAAGGCCCGGCGGGGAAGGUGGCUCGGGGGGCCCCGUCCGUCCGUCCGGCGGCGGCGGCGGCGGCGGGACCGAAACCCCCCCCGAGUGUUACAGCCCCCCCGGCAGCAGCACUCGCCGAAUCCCGGGGCCGAGGGAGCGAGACCCGUCGCCGCGCUCUCCCCCCUCCCGGCGCCCACCCCCGCGGGGACUCCCCCGCGGGGGCGCGCCGGCGUCUCCUCGUGGGGGGGCCGGGCCACCCCUCCCACGGCGCGACCGCUCUCCCACCCCUCCUCCCCGCGCCCCCGGGGUGCCGCGCGCGGGUCGGGGGGCGGGGCGGACUGUCCCCAGUGCGCCCCGGGCGGGUCGCGCCGUCGGGCCCGGGGGAGGUUCUCUCGGGGCCACGCGCGCGUCCCCCGAAGAGGGGGACGGCGGAGCGAGCGCACGGGGUCGGCGGCGACGUCGGCUACCCACCCGACCCGUCUUGAAACACGGACCAAGGAGUCUAACACGUGCGCGAGUCGGGGGCUCGCACGAAAGCCGCCGUGGCGCAAUGAAGGUGAAGGCCGGCGCGCUCGCCGGCCGAGGUGGGAUCCCGAGGCCUCUCCAGUCCGCCGAGGGCGCACCACCGGCCCGUCUCGCCCGCCGCGCCGGGGAGGUGGAGCACGAGCGCACGUGUUAGGACCCGAAAGAUGGUGAACUAUGCCUGGGCAGGGCGAAGCCAGAGGAAACUCUGGUGGAGGUCCGUAGCGGUCCUGACGUGCAAAUCGGUCGUCCGACCUGGGUAUAGGGGCGAAAGACUAAUCGAACCAUCUAGUAGCUGGUUCCCUCCGAAGUUUCCCUCAGGAUAGCUGGCGCUCUCGCAGACCCGACGCACCCCCGCCACGCAGUUUUAUCCGGUAAAGCGAAUGAUUAGAGGUCUUGGGGCCGAAACGAUCUCAACCUAUUCUCAAACUUUAAAUGGGUAAGAAGCCCGGCUCGCUGGCGUGGAGCCGGGCGUGGAAUGCGAGUGCCUAGUGGGCCACUUUUGGUAAGCAGAACUGGCGCUGCGGGAUGAACCGAACGCCGGGUUAAGGCGCCCGAUGCCGACGCUCAUCAGACCCCAGAAAAGGUGUUGGUUGAUAUAGACAGCAGGACGGUGGCCAUGGAAGUCGGAAUCCGCUAAGGAGUGUGUAACAACUCACCUGCCGAAUCAACUAGCCCUGAAAAUGGAUGGCGCUGGAGCGUCGGGCCCAUACCCGGCCGUCGCCGGCAGUCGAGAGUGGACGGGAGCGGCGGGGGCGGCGCGCGCGCGCGCGCGUGUGGUGUGCGUCGGAGGGCGGCCUCCUCCCGCCCACGCCCCGCUCCCCGCCCCCGGAGCCCCGCGGACGCUACGCCGCGACGAGUAGGAGGGCCGCUGCGGUGAGCCUUGAAGCCUAGGGCGCGGGCCCGGGUGGAGCCGCCGCAGGUGCAGAUCUUGGUGGUAGUAGCAAAUAUUCAAACGAGAACUUUGAAGGCCGAAGUGGAGAAGGGUUCCAUGUGAACAGCAGUUGAACAUGGGUCAGUCGGUCCUGAGAGAUGGGCGAGCGCCGUUCCGAAGGGACGGGCGAUGGCCUCCGUUGCCCUCGGCCGAUCGAAAGGGAGUCGGGUUCAGAUCCCCGAAUCCGGAGUGGCGGAGAUGGGCGCCGCGAGGCGUCCAGUGCGGUAACGCGACCGAUCCCGGAGAAGCCGGCGGGAGCCCCGGGGAGAGUUCUCUUUUCUUUGUGAAGGGCAGGGCGCCCUGGAAUGGGUUCGCCCCGAGAGAGGGGCCCGUGCCUUGGAAAGCGUCGCGGUUCCGGCGGCGUCCGGUGAGCUCUCGCUGGCCCUUGAAAAUCCGGGGGAGAGGGUGUAAAUCUCGCGCCGGGCCGUACCCAUAUCCGCAGCAGGUCUCCAAGGUGAACAGCCUCUGGCAUGUUGGAACAAUGUAGGUAAGGGAAGUCGGCAAGCCGGAUCCGUAACUUCGGGAUAAGGAUUGGCUCUAAGGGCUGGGUCGGUCGGGCUGGGGCGCGAAGCGGGGCUGGGCGCGCGCCGCGGCUGGAUCUGGACGCGAGCCGGGCCCUUCCCGUGGAUCGCCCCAGCUGCGGCGGGCGUCGCGGCCGCGCGGUUCCGCGCGGCGCCUCGCCUCGGCCGGCGCCUAGCAGCCGACUUAGAACUGGUGCGGACCAGGGGAAUCCGACUGUUUAAUUAAAACAAAGCAUCGCGAAGGCCCGCGGCGGGUGUUGACGCGAUGUGAUUUCUGCCCAGUGCUCUGAAUGUCAAAGUGAAGAAAUUCAAUGAAGCGCGGGUAAACGGCGGGAGUAACUAUGACUCUCUUAAGGUAGCCAAAUGCCUCGUCAUCUAAUUAGUGACGCGCAUGAAUGGAUGAACGAGAUUCCCACUGUCCCUACCUACUAUCCAGCGAAACCACAGCCAAGGGAACGGGCUUGGCGGAAUCAGCGGGGAAAGAAGACCCUGUUGAGCUUGACUCUAGUCUGGCACGGUGAAGAGACAUGAGAGGUGUAGAAUAAGUGGGAGGCCCCCGGCGCCCCCCCGGUGUCCCCGCGAGGGGCCCGGGGCGGGGUCCGCCGGCCCUGCGGGCCGCCGGUGAAAUACCACUACUCUGAUCGUUUUUUCACUGACCCGGUGAGGCGGGGGGGCGAGCCCCGAGGGGCUCUCGCUUCUGGCGCCAAGCGCCCGGCCGCGCGCCGGCCGGGCGCGACCCGCUCCGGGGACAGUGCCAGGUGGGGAGUUUGACUGGGGCGGUACACCUGUCAAACGGUAACGCAGGUGUCCUAAGGCGAGCUCAGGGAGGACAGAAACCUCCCGUGGAGCAGAAGGGCAAAAGCUCGCUUGAUCUUGAUUUUCAGUACGAAUACAGACCGUGAAAGCGGGGCCUCACGAUCCUUCUGACCUUUUGGGUUUUAAGCAGGAGGUGUCAGAAAAGUUACCACAGGGAUAACUGGCUUGUGGCGGCCAAGCGUUCAUAGCGACGUCGCUUUUUGAUCCUUCGAUGUCGGCUCUUCCUAUCAUUGUGAAGCAGAAUUCACCAAGCGUUGGAUUGUUCACCCACUAAUAGGGAACGUGAGCUGGGUUUAGACCGUCGUGAGACAGGUUAGUUUUACCCUACUGAUGAUGUGUUGUUGCCAUGGUAAUCCUGCUCAGUACGAGAGGAACCGCAGGUUCAGACAUUUGGUGUAUGUGCUUGGCUGAGGAGCCAAUGGGGCGAAGCUACCAUCUGUGGGAUUAUGACUGAACGCCUCUAAGUCAGAAUCCCGCCCAGGCGGAACGAUACGGCAGCGCCGCGGAGCCUCGGUUGGCCUCGGAUAGCCGGUCCCCCGCCUGUCCCCGCCGGCGGGCCGCCCCCCCCCUCCACGGGAGGGCGCGUGCCCCGCCGCGCGCCGGGACCGGGGUCCGGUGCGGAGUGCCCUUCGUCCUGGGAAACGGGGCGCGGCCGGAGAGGCGGCCGCCCCCUCGCCCGUCACGCACCGCACGUUCGUGGGGAACCUGGCGCUAAACCAUUCGUAGACGACCUGCUUCUGGGUCGGGGUUUCGUACGUAGCAGAGCAGCUCCCUCGCUGCGAUCUAUUGAAAGUCAGCCCUCGACACAAGGGUUUGUC\n",
      "length of Max train_sequence shape: 4298\n",
      "target_id of Max train_sequence shape: 4V6X_A5\n",
      "\n"
     ]
    }
   ],
   "source": [
    "\"\"\"\n",
    "trainとvalでsequence(RNA配列)の最大を抜き出した。\n",
    "trainは最大4298の長さのRNA１配列があり(target_id=4V6X_A5)、valは最大30の長さのRNA配列がある。\n",
    "\"\"\"\n",
    "max_length = train_seq[\"sequence_length\"].max()\n",
    "longest_sequences = train_seq[train_seq[\"sequence_length\"] == max_length]\n",
    "\n",
    "print(f'Max train_sequence: {longest_sequences[\"sequence\"].item()}')\n",
    "print(f'length of Max train_sequence shape: {len(longest_sequences[\"sequence\"].item())}')\n",
    "print(f'target_id of Max train_sequence shape: {longest_sequences[\"target_id\"].item()}')\n",
    "print('')\n",
    "\n",
    "# print(f'Max val_sequence: {val_seq[\"sequence\"].max()}')\n",
    "# print(f'length of Max val_sequence: {len(val_seq[\"sequence\"].max())}')"
   ]
  },
  {
   "cell_type": "code",
   "execution_count": 17,
   "id": "0fc1b184-ddfa-4baf-a882-5c719dc88c43",
   "metadata": {
    "tags": []
   },
   "outputs": [
    {
     "name": "stdout",
     "output_type": "stream",
     "text": [
      "train_seqの重複が確認されるRNA配列の種類数： 45\n",
      "最大の重複数: 5\n"
     ]
    },
    {
     "data": {
      "text/html": [
       "<div>\n",
       "<style scoped>\n",
       "    .dataframe tbody tr th:only-of-type {\n",
       "        vertical-align: middle;\n",
       "    }\n",
       "\n",
       "    .dataframe tbody tr th {\n",
       "        vertical-align: top;\n",
       "    }\n",
       "\n",
       "    .dataframe thead th {\n",
       "        text-align: right;\n",
       "    }\n",
       "</style>\n",
       "<table border=\"1\" class=\"dataframe\">\n",
       "  <thead>\n",
       "    <tr style=\"text-align: right;\">\n",
       "      <th></th>\n",
       "      <th>target_id</th>\n",
       "      <th>sequence</th>\n",
       "      <th>temporal_cutoff</th>\n",
       "      <th>description</th>\n",
       "      <th>all_sequences</th>\n",
       "      <th>sequence_length</th>\n",
       "    </tr>\n",
       "  </thead>\n",
       "  <tbody>\n",
       "    <tr>\n",
       "      <th>0</th>\n",
       "      <td>1ZDI_S</td>\n",
       "      <td>ACAUGAGGAUUACCCAUGU</td>\n",
       "      <td>1997-04-21</td>\n",
       "      <td>RNA BACTERIOPHAGE MS2 COAT PROTEIN/RNA COMPLEX</td>\n",
       "      <td>&gt;1ZDI_1|Chains A[auth R], B[auth S]|RNA (5'-R(...</td>\n",
       "      <td>19</td>\n",
       "    </tr>\n",
       "    <tr>\n",
       "      <th>1</th>\n",
       "      <td>2BQ5_S</td>\n",
       "      <td>ACAUGAGGAUUACCCAUGU</td>\n",
       "      <td>2006-03-22</td>\n",
       "      <td>MS2 (N87AE89K mutant) - RNA hairpin complex</td>\n",
       "      <td>&gt;2BQ5_1|Chains A, B, C|COAT PROTEIN|BACTERIOPH...</td>\n",
       "      <td>19</td>\n",
       "    </tr>\n",
       "    <tr>\n",
       "      <th>2</th>\n",
       "      <td>2BQ5_R</td>\n",
       "      <td>ACAUGAGGAUUACCCAUGU</td>\n",
       "      <td>2006-03-22</td>\n",
       "      <td>MS2 (N87AE89K mutant) - RNA hairpin complex</td>\n",
       "      <td>&gt;2BQ5_1|Chains A, B, C|COAT PROTEIN|BACTERIOPH...</td>\n",
       "      <td>19</td>\n",
       "    </tr>\n",
       "    <tr>\n",
       "      <th>3</th>\n",
       "      <td>2B2E_R</td>\n",
       "      <td>ACAUGAGGAUUACCCAUGU</td>\n",
       "      <td>2006-05-09</td>\n",
       "      <td>RNA stemloop from bacteriophage MS2 complexed ...</td>\n",
       "      <td>&gt;2B2E_1|Chains A[auth R], B[auth S]|5'-R(*AP*C...</td>\n",
       "      <td>19</td>\n",
       "    </tr>\n",
       "    <tr>\n",
       "      <th>4</th>\n",
       "      <td>2B2E_S</td>\n",
       "      <td>ACAUGAGGAUUACCCAUGU</td>\n",
       "      <td>2006-05-09</td>\n",
       "      <td>RNA stemloop from bacteriophage MS2 complexed ...</td>\n",
       "      <td>&gt;2B2E_1|Chains A[auth R], B[auth S]|5'-R(*AP*C...</td>\n",
       "      <td>19</td>\n",
       "    </tr>\n",
       "    <tr>\n",
       "      <th>5</th>\n",
       "      <td>8SFO_B</td>\n",
       "      <td>UUUUUAAUUUCUACUCUUGUAGAUGUGAUAAGUGGAAUGCCAUGUGGA</td>\n",
       "      <td>2024-07-03</td>\n",
       "      <td>WT CRISPR-Cas12a with a 20bp R-loop and nontar...</td>\n",
       "      <td>&gt;8SFO_1|Chain A|CRISPR-associated endonuclease...</td>\n",
       "      <td>48</td>\n",
       "    </tr>\n",
       "    <tr>\n",
       "      <th>6</th>\n",
       "      <td>8SFI_B</td>\n",
       "      <td>UUUUUAAUUUCUACUCUUGUAGAUGUGAUAAGUGGAAUGCCAUGUGGA</td>\n",
       "      <td>2024-07-03</td>\n",
       "      <td>WT CRISPR-Cas12a with a 8bp R-loop</td>\n",
       "      <td>&gt;8SFI_1|Chain A|CRISPR-associated endonuclease...</td>\n",
       "      <td>48</td>\n",
       "    </tr>\n",
       "    <tr>\n",
       "      <th>7</th>\n",
       "      <td>8SFL_B</td>\n",
       "      <td>UUUUUAAUUUCUACUCUUGUAGAUGUGAUAAGUGGAAUGCCAUGUGGA</td>\n",
       "      <td>2024-07-03</td>\n",
       "      <td>WT CRISPR-Cas12a with a 15bp R-loop</td>\n",
       "      <td>&gt;8SFL_1|Chain A|CRISPR-associated endonuclease...</td>\n",
       "      <td>48</td>\n",
       "    </tr>\n",
       "    <tr>\n",
       "      <th>8</th>\n",
       "      <td>8SFN_B</td>\n",
       "      <td>UUUUUAAUUUCUACUCUUGUAGAUGUGAUAAGUGGAAUGCCAUGUGGA</td>\n",
       "      <td>2024-07-03</td>\n",
       "      <td>WT CRISPR-Cas12a with a 16bp R-loop and nontar...</td>\n",
       "      <td>&gt;8SFN_1|Chain A|CRISPR-associated endonuclease...</td>\n",
       "      <td>48</td>\n",
       "    </tr>\n",
       "    <tr>\n",
       "      <th>9</th>\n",
       "      <td>8SFJ_B</td>\n",
       "      <td>UUUUUAAUUUCUACUCUUGUAGAUGUGAUAAGUGGAAUGCCAUGUGGA</td>\n",
       "      <td>2024-07-03</td>\n",
       "      <td>WT CRISPR-Cas12a with a 10bp R-loop</td>\n",
       "      <td>&gt;8SFJ_1|Chain A|CRISPR-associated endonuclease...</td>\n",
       "      <td>48</td>\n",
       "    </tr>\n",
       "  </tbody>\n",
       "</table>\n",
       "</div>"
      ],
      "text/plain": [
       "  target_id                                          sequence temporal_cutoff  \\\n",
       "0    1ZDI_S                               ACAUGAGGAUUACCCAUGU      1997-04-21   \n",
       "1    2BQ5_S                               ACAUGAGGAUUACCCAUGU      2006-03-22   \n",
       "2    2BQ5_R                               ACAUGAGGAUUACCCAUGU      2006-03-22   \n",
       "3    2B2E_R                               ACAUGAGGAUUACCCAUGU      2006-05-09   \n",
       "4    2B2E_S                               ACAUGAGGAUUACCCAUGU      2006-05-09   \n",
       "5    8SFO_B  UUUUUAAUUUCUACUCUUGUAGAUGUGAUAAGUGGAAUGCCAUGUGGA      2024-07-03   \n",
       "6    8SFI_B  UUUUUAAUUUCUACUCUUGUAGAUGUGAUAAGUGGAAUGCCAUGUGGA      2024-07-03   \n",
       "7    8SFL_B  UUUUUAAUUUCUACUCUUGUAGAUGUGAUAAGUGGAAUGCCAUGUGGA      2024-07-03   \n",
       "8    8SFN_B  UUUUUAAUUUCUACUCUUGUAGAUGUGAUAAGUGGAAUGCCAUGUGGA      2024-07-03   \n",
       "9    8SFJ_B  UUUUUAAUUUCUACUCUUGUAGAUGUGAUAAGUGGAAUGCCAUGUGGA      2024-07-03   \n",
       "\n",
       "                                         description  \\\n",
       "0     RNA BACTERIOPHAGE MS2 COAT PROTEIN/RNA COMPLEX   \n",
       "1        MS2 (N87AE89K mutant) - RNA hairpin complex   \n",
       "2        MS2 (N87AE89K mutant) - RNA hairpin complex   \n",
       "3  RNA stemloop from bacteriophage MS2 complexed ...   \n",
       "4  RNA stemloop from bacteriophage MS2 complexed ...   \n",
       "5  WT CRISPR-Cas12a with a 20bp R-loop and nontar...   \n",
       "6                 WT CRISPR-Cas12a with a 8bp R-loop   \n",
       "7                WT CRISPR-Cas12a with a 15bp R-loop   \n",
       "8  WT CRISPR-Cas12a with a 16bp R-loop and nontar...   \n",
       "9                WT CRISPR-Cas12a with a 10bp R-loop   \n",
       "\n",
       "                                       all_sequences  sequence_length  \n",
       "0  >1ZDI_1|Chains A[auth R], B[auth S]|RNA (5'-R(...               19  \n",
       "1  >2BQ5_1|Chains A, B, C|COAT PROTEIN|BACTERIOPH...               19  \n",
       "2  >2BQ5_1|Chains A, B, C|COAT PROTEIN|BACTERIOPH...               19  \n",
       "3  >2B2E_1|Chains A[auth R], B[auth S]|5'-R(*AP*C...               19  \n",
       "4  >2B2E_1|Chains A[auth R], B[auth S]|5'-R(*AP*C...               19  \n",
       "5  >8SFO_1|Chain A|CRISPR-associated endonuclease...               48  \n",
       "6  >8SFI_1|Chain A|CRISPR-associated endonuclease...               48  \n",
       "7  >8SFL_1|Chain A|CRISPR-associated endonuclease...               48  \n",
       "8  >8SFN_1|Chain A|CRISPR-associated endonuclease...               48  \n",
       "9  >8SFJ_1|Chain A|CRISPR-associated endonuclease...               48  "
      ]
     },
     "execution_count": 17,
     "metadata": {},
     "output_type": "execute_result"
    }
   ],
   "source": [
    "\"\"\"\n",
    "train_seqには、重複するものが45種類、存在する。\n",
    "また、最大5個重複しているRNA配列が存在するが、それぞれはtarget_id、temporal_cutoffなどが異なる。\n",
    "\"\"\"\n",
    "tmp=train_seq[train_seq.duplicated(subset=['sequence'], keep=False)]\n",
    "print(f'train_seqの重複が確認されるRNA配列の種類数： {tmp[\"sequence\"].nunique()}')\n",
    "\n",
    "sequence_counts = train_seq['sequence'].value_counts()\n",
    "max_count = sequence_counts.max()\n",
    "most_duplicated_sequences = sequence_counts[sequence_counts == max_count].index.tolist()\n",
    "most_duplicated_rows = train_seq[train_seq['sequence'].isin(most_duplicated_sequences)].reset_index(drop=True)\n",
    "print(f\"最大の重複数: {max_count}\")\n",
    "most_duplicated_rows.head(10)"
   ]
  },
  {
   "cell_type": "code",
   "execution_count": 18,
   "id": "f3fc7fcc-ebbc-4885-a185-6ce494ace9db",
   "metadata": {
    "tags": []
   },
   "outputs": [
    {
     "name": "stdout",
     "output_type": "stream",
     "text": [
      "target_id : 1ZDI_S\n",
      "temporal_cutoff : 1997-04-21\n",
      "description : RNA BACTERIOPHAGE MS2 COAT PROTEIN/RNA COMPLEX\n",
      "\u001b[31mall_sequences\u001b[0m\n",
      "\u001b[31m>1ZDI_1|Chains A[auth R], B[auth S]|RNA (5'-R(*AP*CP*AP*UP*GP*AP*GP*GP*AP*UP*UP*AP*CP*CP*CP*AP*U P*GP*U)-3')|\n",
      "ACAUGAGGAUUACCCAUGU\n",
      ">1ZDI_2|Chains C[auth A], D[auth B], E[auth C]|PROTEIN (RNA BACTERIOPHAGE MS2 COAT PROTEIN)|Enterobacterio phage MS2 (12022)\n",
      "ASNFTQFVLVDNGGTGDVTVAPSNFANGVAEWISSNSRSQAYKVTCSVRQSSAQNRKYTIKVEVPKVATQTVGGVELPVAAWRSYLNMELTIPIFATNSDCELIVKAMQGLLKDGNPIPSAIAANSGIY\n",
      "\u001b[0m\n",
      "\n",
      "target_id : 2BQ5_S\n",
      "temporal_cutoff : 2006-03-22\n",
      "description : MS2 (N87AE89K mutant) - RNA hairpin complex\n",
      "\u001b[31mall_sequences\u001b[0m\n",
      "\u001b[31m>2BQ5_1|Chains A, B, C|COAT PROTEIN|BACTERIOPHAGE MS2 (12022)\n",
      "ASNFTQFVLVDNGGTGDVTVAPSNFANGVAEWISSNSRSQAYKVTCSVRQSSAQNRKYTIKVEVPKVATQTVGGVELPVAAWRSYLAMKLTIPIFATNSDCELIVKAMQGLLKDGNPIPSAIAANSGIY\n",
      ">2BQ5_2|Chains D[auth R], E[auth S]|5'-R(*AP*CP*AP*UP*GP*AP*GP*GP*AP*UP *UP*AP*CP*CP*CP*AP*UP*GP*U)-3'|BACTERIOPHAGE MS2 (12022)\n",
      "ACAUGAGGAUUACCCAUGU\n",
      "\u001b[0m\n",
      "\n",
      "target_id : 2BQ5_R\n",
      "temporal_cutoff : 2006-03-22\n",
      "description : MS2 (N87AE89K mutant) - RNA hairpin complex\n",
      "\u001b[31mall_sequences\u001b[0m\n",
      "\u001b[31m>2BQ5_1|Chains A, B, C|COAT PROTEIN|BACTERIOPHAGE MS2 (12022)\n",
      "ASNFTQFVLVDNGGTGDVTVAPSNFANGVAEWISSNSRSQAYKVTCSVRQSSAQNRKYTIKVEVPKVATQTVGGVELPVAAWRSYLAMKLTIPIFATNSDCELIVKAMQGLLKDGNPIPSAIAANSGIY\n",
      ">2BQ5_2|Chains D[auth R], E[auth S]|5'-R(*AP*CP*AP*UP*GP*AP*GP*GP*AP*UP *UP*AP*CP*CP*CP*AP*UP*GP*U)-3'|BACTERIOPHAGE MS2 (12022)\n",
      "ACAUGAGGAUUACCCAUGU\n",
      "\u001b[0m\n",
      "\n",
      "target_id : 2B2E_R\n",
      "temporal_cutoff : 2006-05-09\n",
      "description : RNA stemloop from bacteriophage MS2 complexed with an N87S,E89K mutant MS2 capsid\n",
      "\u001b[31mall_sequences\u001b[0m\n",
      "\u001b[31m>2B2E_1|Chains A[auth R], B[auth S]|5'-R(*AP*CP*AP*UP*GP*AP*GP*GP*AP*UP*UP*AP*CP*CP*CP*AP*UP*GP*U)-3'|\n",
      "ACAUGAGGAUUACCCAUGU\n",
      ">2B2E_2|Chains C[auth A], D[auth B], E[auth C]|Coat protein|Enterobacterio phage MS2 (12022)\n",
      "ASNFTQFVLVDNGGTGDVTVAPSNFANGVAEWISSNSRSQAYKVTCSVRQSSAQNRKYTIKVEVPKVATQTVGGVELPVAAWRSYLSMKLTIPIFATNSDCELIVKAMQGLLKDGNPIPSAIAANSGIY\n",
      "\u001b[0m\n",
      "\n",
      "target_id : 2B2E_S\n",
      "temporal_cutoff : 2006-05-09\n",
      "description : RNA stemloop from bacteriophage MS2 complexed with an N87S,E89K mutant MS2 capsid\n",
      "\u001b[31mall_sequences\u001b[0m\n",
      "\u001b[31m>2B2E_1|Chains A[auth R], B[auth S]|5'-R(*AP*CP*AP*UP*GP*AP*GP*GP*AP*UP*UP*AP*CP*CP*CP*AP*UP*GP*U)-3'|\n",
      "ACAUGAGGAUUACCCAUGU\n",
      ">2B2E_2|Chains C[auth A], D[auth B], E[auth C]|Coat protein|Enterobacterio phage MS2 (12022)\n",
      "ASNFTQFVLVDNGGTGDVTVAPSNFANGVAEWISSNSRSQAYKVTCSVRQSSAQNRKYTIKVEVPKVATQTVGGVELPVAAWRSYLSMKLTIPIFATNSDCELIVKAMQGLLKDGNPIPSAIAANSGIY\n",
      "\u001b[0m\n",
      "\n",
      "True\n",
      "True\n"
     ]
    }
   ],
   "source": [
    "'''\n",
    "5つ重複があるsequenceである、'ACAUGAGGAUUACCCAUGU'を例にする。\n",
    ">target_id 全て異なる。\n",
    ">temporal_cutoff 重複する場合もある。\n",
    ">description 重複する場合もある。\n",
    ">all_sequences 重複する場合もある。\n",
    ">'2BQ5_S'と'2BQ5_R'については、target_id以外は全て同じ。\n",
    ">'2B2E_R'と'2B2E_S'についても、target_id以外は全て同じ。\n",
    "'''\n",
    "\n",
    "duplicated_seq = 'ACAUGAGGAUUACCCAUGU'\n",
    "tmp=most_duplicated_rows[most_duplicated_rows['sequence']==duplicated_seq]\n",
    "for i in range(len(tmp)):\n",
    "    # display(tmp.head())\n",
    "    print(f'target_id : {tmp.loc[i, \"target_id\"]}')\n",
    "    print(f'temporal_cutoff : {tmp.loc[i, \"temporal_cutoff\"]}')\n",
    "    print(f'description : {tmp.loc[i, \"description\"]}')\n",
    "    print(clr.RED + f'all_sequences' + clr.END)\n",
    "    print(clr.RED + f'{tmp.loc[i, \"all_sequences\"]}' + clr.END)\n",
    "    print('')\n",
    "\n",
    "# '2BQ5_S'と'2BQ5_R'の'all_sequences'の照合結果\n",
    "match1=train_seq[train_seq['target_id']=='2BQ5_S']['all_sequences'].item() == train_seq[train_seq['target_id']=='2BQ5_R']['all_sequences'].item()\n",
    "print(match1)\n",
    "\n",
    "# '2B2E_R'と'2B2E_S'の'all_sequences'の照合結果\n",
    "match2=train_seq[train_seq['target_id']=='2B2E_R']['all_sequences'].item() == train_seq[train_seq['target_id']=='2B2E_S']['all_sequences'].item()\n",
    "print(match2)"
   ]
  },
  {
   "cell_type": "markdown",
   "id": "1e034e23-f69b-438c-9a6a-900bfc665998",
   "metadata": {
    "tags": []
   },
   "source": [
    "## **all sequence**\n",
    "* all_sequences（文字列）：その実験的に解明された構造に含まれる全分子のFASTA形式配列。\n",
    "* 場合によっては、ターゲットRNAの複数コピーや、RNA・タンパク質・DNAなどの相互作用分子を含むことがあります（Chainsという単語がヘッダーに含まれる）。\n",
    "* 予測が必要なのはsequenceのみです。もし他の分子を予測した場合でも、sequenceに対応する予測のみ提出してください。\n",
    "* 一部のエントリーでは、このカラムが空白のこともあります。"
   ]
  },
  {
   "cell_type": "code",
   "execution_count": 19,
   "id": "0ee5f65c-180d-4d9e-8231-0b7b46b43940",
   "metadata": {
    "tags": []
   },
   "outputs": [
    {
     "name": "stdout",
     "output_type": "stream",
     "text": [
      "\u001b[32m1SCL_A\u001b[0m\n",
      "\u001b[31mGGGUGCUCAGUACGAGAGGAACCGCACCC\u001b[0m\n",
      ">1SCL_1|Chain A|RNA SARCIN-RICIN LOOP|Rattus norvegicus (10116)\n",
      "GGGUGCUCAGUACGAGAGGAACCGCACCC\n",
      "\n",
      "\u001b[32m1RNK_A\u001b[0m\n",
      "\u001b[31mGGCGCAGUGGGCUAGCGCCACUCAAAAGGCCCAU\u001b[0m\n",
      ">1RNK_1|Chain A|RNA PSEUDOKNOT|null\n",
      "GGCGCAGUGGGCUAGCGCCACUCAAAAGGCCCAU\n",
      "\n",
      "\u001b[32m1RHT_A\u001b[0m\n",
      "\u001b[31mGGGACUGACGAUCACGCAGUCUAU\u001b[0m\n",
      ">1RHT_1|Chain A|RNA (5'-R(P*GP*GP*GP*AP*CP*UP*GP*AP*CP*GP*AP*UP*CP*AP*CP*GP*CP*AP*GP*UP*CP*UP*AP*U)-3')|null\n",
      "GGGACUGACGAUCACGCAGUCUAU\n",
      "\n",
      "\u001b[32m1HLX_A\u001b[0m\n",
      "\u001b[31mGGGAUAACUUCGGUUGUCCC\u001b[0m\n",
      ">1HLX_1|Chain A|RNA (5'-R(*GP*GP*GP*AP*UP*AP*AP*CP*UP*UP*CP*GP*GP*UP*UP*GP*UP*CP*CP*C)-3')|null\n",
      "GGGAUAACUUCGGUUGUCCC\n",
      "\n",
      "\u001b[32m1HMH_E\u001b[0m\n",
      "\u001b[31mGGCGACCCUGAUGAGGCCGAAAGGCCGAAACCGU\u001b[0m\n",
      ">1HMH_1|Chains A, C, E|HAMMERHEAD RIBOZYME-RNA STRAND|\n",
      "GGCGACCCUGAUGAGGCCGAAAGGCCGAAACCGU\n",
      ">1HMH_2|Chains B, D, F|HAMMERHEAD RIBOZYME-DNA STRAND|\n",
      "ACGGTCGGTCGCC\n",
      "\n"
     ]
    }
   ],
   "source": [
    "for i in range(5):\n",
    "    print(clr.GREEN + train_seq['target_id'][i] + clr.END)\n",
    "    print(clr.RED + train_seq['sequence'][i] + clr.END)\n",
    "    print(train_seq['all_sequences'][i])"
   ]
  },
  {
   "cell_type": "markdown",
   "id": "3edfa52b-9927-410b-80eb-4cacf271e7bc",
   "metadata": {},
   "source": [
    "# **LABEL DATA**"
   ]
  },
  {
   "cell_type": "code",
   "execution_count": 20,
   "id": "29ab5f59-a872-49e3-8eac-5f7aab70669e",
   "metadata": {
    "tags": []
   },
   "outputs": [
    {
     "data": {
      "text/html": [
       "<div>\n",
       "<style scoped>\n",
       "    .dataframe tbody tr th:only-of-type {\n",
       "        vertical-align: middle;\n",
       "    }\n",
       "\n",
       "    .dataframe tbody tr th {\n",
       "        vertical-align: top;\n",
       "    }\n",
       "\n",
       "    .dataframe thead th {\n",
       "        text-align: right;\n",
       "    }\n",
       "</style>\n",
       "<table border=\"1\" class=\"dataframe\">\n",
       "  <thead>\n",
       "    <tr style=\"text-align: right;\">\n",
       "      <th></th>\n",
       "      <th>ID</th>\n",
       "      <th>resname</th>\n",
       "      <th>resid</th>\n",
       "      <th>x_1</th>\n",
       "      <th>y_1</th>\n",
       "      <th>z_1</th>\n",
       "      <th>pdb_id</th>\n",
       "    </tr>\n",
       "  </thead>\n",
       "  <tbody>\n",
       "    <tr>\n",
       "      <th>0</th>\n",
       "      <td>1SCL_A_1</td>\n",
       "      <td>G</td>\n",
       "      <td>1</td>\n",
       "      <td>13.760</td>\n",
       "      <td>-25.974001</td>\n",
       "      <td>0.102</td>\n",
       "      <td>1SCL_A</td>\n",
       "    </tr>\n",
       "    <tr>\n",
       "      <th>1</th>\n",
       "      <td>1SCL_A_2</td>\n",
       "      <td>G</td>\n",
       "      <td>2</td>\n",
       "      <td>9.310</td>\n",
       "      <td>-29.638000</td>\n",
       "      <td>2.669</td>\n",
       "      <td>1SCL_A</td>\n",
       "    </tr>\n",
       "    <tr>\n",
       "      <th>2</th>\n",
       "      <td>1SCL_A_3</td>\n",
       "      <td>G</td>\n",
       "      <td>3</td>\n",
       "      <td>5.529</td>\n",
       "      <td>-27.813000</td>\n",
       "      <td>5.878</td>\n",
       "      <td>1SCL_A</td>\n",
       "    </tr>\n",
       "    <tr>\n",
       "      <th>3</th>\n",
       "      <td>1SCL_A_4</td>\n",
       "      <td>U</td>\n",
       "      <td>4</td>\n",
       "      <td>2.678</td>\n",
       "      <td>-24.900999</td>\n",
       "      <td>9.793</td>\n",
       "      <td>1SCL_A</td>\n",
       "    </tr>\n",
       "    <tr>\n",
       "      <th>4</th>\n",
       "      <td>1SCL_A_5</td>\n",
       "      <td>G</td>\n",
       "      <td>5</td>\n",
       "      <td>1.827</td>\n",
       "      <td>-20.136000</td>\n",
       "      <td>11.793</td>\n",
       "      <td>1SCL_A</td>\n",
       "    </tr>\n",
       "  </tbody>\n",
       "</table>\n",
       "</div>"
      ],
      "text/plain": [
       "         ID resname  resid     x_1        y_1     z_1  pdb_id\n",
       "0  1SCL_A_1       G      1  13.760 -25.974001   0.102  1SCL_A\n",
       "1  1SCL_A_2       G      2   9.310 -29.638000   2.669  1SCL_A\n",
       "2  1SCL_A_3       G      3   5.529 -27.813000   5.878  1SCL_A\n",
       "3  1SCL_A_4       U      4   2.678 -24.900999   9.793  1SCL_A\n",
       "4  1SCL_A_5       G      5   1.827 -20.136000  11.793  1SCL_A"
      ]
     },
     "execution_count": 20,
     "metadata": {},
     "output_type": "execute_result"
    }
   ],
   "source": [
    "train_labels.head()"
   ]
  },
  {
   "cell_type": "code",
   "execution_count": 21,
   "id": "e198353f-3f02-41cd-9341-102ea1bb88dd",
   "metadata": {
    "tags": []
   },
   "outputs": [
    {
     "data": {
      "text/html": [
       "<div>\n",
       "<style scoped>\n",
       "    .dataframe tbody tr th:only-of-type {\n",
       "        vertical-align: middle;\n",
       "    }\n",
       "\n",
       "    .dataframe tbody tr th {\n",
       "        vertical-align: top;\n",
       "    }\n",
       "\n",
       "    .dataframe thead th {\n",
       "        text-align: right;\n",
       "    }\n",
       "</style>\n",
       "<table border=\"1\" class=\"dataframe\">\n",
       "  <thead>\n",
       "    <tr style=\"text-align: right;\">\n",
       "      <th></th>\n",
       "      <th>ID</th>\n",
       "      <th>resname</th>\n",
       "      <th>resid</th>\n",
       "      <th>x_1</th>\n",
       "      <th>y_1</th>\n",
       "      <th>z_1</th>\n",
       "      <th>x_2</th>\n",
       "      <th>y_2</th>\n",
       "      <th>z_2</th>\n",
       "      <th>x_3</th>\n",
       "      <th>...</th>\n",
       "      <th>x_38</th>\n",
       "      <th>y_38</th>\n",
       "      <th>z_38</th>\n",
       "      <th>x_39</th>\n",
       "      <th>y_39</th>\n",
       "      <th>z_39</th>\n",
       "      <th>x_40</th>\n",
       "      <th>y_40</th>\n",
       "      <th>z_40</th>\n",
       "      <th>pdb_id</th>\n",
       "    </tr>\n",
       "  </thead>\n",
       "  <tbody>\n",
       "    <tr>\n",
       "      <th>0</th>\n",
       "      <td>R1107_1</td>\n",
       "      <td>G</td>\n",
       "      <td>1</td>\n",
       "      <td>-5.499</td>\n",
       "      <td>8.520000</td>\n",
       "      <td>8.605000</td>\n",
       "      <td>-1.000000e+18</td>\n",
       "      <td>-1.000000e+18</td>\n",
       "      <td>-1.000000e+18</td>\n",
       "      <td>-1.000000e+18</td>\n",
       "      <td>...</td>\n",
       "      <td>-1.000000e+18</td>\n",
       "      <td>-1.000000e+18</td>\n",
       "      <td>-1.000000e+18</td>\n",
       "      <td>-1.000000e+18</td>\n",
       "      <td>-1.000000e+18</td>\n",
       "      <td>-1.000000e+18</td>\n",
       "      <td>-1.000000e+18</td>\n",
       "      <td>-1.000000e+18</td>\n",
       "      <td>-1.000000e+18</td>\n",
       "      <td>R1107</td>\n",
       "    </tr>\n",
       "    <tr>\n",
       "      <th>1</th>\n",
       "      <td>R1107_2</td>\n",
       "      <td>G</td>\n",
       "      <td>2</td>\n",
       "      <td>-5.826</td>\n",
       "      <td>10.453000</td>\n",
       "      <td>14.010000</td>\n",
       "      <td>-1.000000e+18</td>\n",
       "      <td>-1.000000e+18</td>\n",
       "      <td>-1.000000e+18</td>\n",
       "      <td>-1.000000e+18</td>\n",
       "      <td>...</td>\n",
       "      <td>-1.000000e+18</td>\n",
       "      <td>-1.000000e+18</td>\n",
       "      <td>-1.000000e+18</td>\n",
       "      <td>-1.000000e+18</td>\n",
       "      <td>-1.000000e+18</td>\n",
       "      <td>-1.000000e+18</td>\n",
       "      <td>-1.000000e+18</td>\n",
       "      <td>-1.000000e+18</td>\n",
       "      <td>-1.000000e+18</td>\n",
       "      <td>R1107</td>\n",
       "    </tr>\n",
       "    <tr>\n",
       "      <th>2</th>\n",
       "      <td>R1107_3</td>\n",
       "      <td>G</td>\n",
       "      <td>3</td>\n",
       "      <td>-5.849</td>\n",
       "      <td>14.768000</td>\n",
       "      <td>17.584999</td>\n",
       "      <td>-1.000000e+18</td>\n",
       "      <td>-1.000000e+18</td>\n",
       "      <td>-1.000000e+18</td>\n",
       "      <td>-1.000000e+18</td>\n",
       "      <td>...</td>\n",
       "      <td>-1.000000e+18</td>\n",
       "      <td>-1.000000e+18</td>\n",
       "      <td>-1.000000e+18</td>\n",
       "      <td>-1.000000e+18</td>\n",
       "      <td>-1.000000e+18</td>\n",
       "      <td>-1.000000e+18</td>\n",
       "      <td>-1.000000e+18</td>\n",
       "      <td>-1.000000e+18</td>\n",
       "      <td>-1.000000e+18</td>\n",
       "      <td>R1107</td>\n",
       "    </tr>\n",
       "    <tr>\n",
       "      <th>3</th>\n",
       "      <td>R1107_4</td>\n",
       "      <td>G</td>\n",
       "      <td>4</td>\n",
       "      <td>-5.784</td>\n",
       "      <td>19.985001</td>\n",
       "      <td>18.666000</td>\n",
       "      <td>-1.000000e+18</td>\n",
       "      <td>-1.000000e+18</td>\n",
       "      <td>-1.000000e+18</td>\n",
       "      <td>-1.000000e+18</td>\n",
       "      <td>...</td>\n",
       "      <td>-1.000000e+18</td>\n",
       "      <td>-1.000000e+18</td>\n",
       "      <td>-1.000000e+18</td>\n",
       "      <td>-1.000000e+18</td>\n",
       "      <td>-1.000000e+18</td>\n",
       "      <td>-1.000000e+18</td>\n",
       "      <td>-1.000000e+18</td>\n",
       "      <td>-1.000000e+18</td>\n",
       "      <td>-1.000000e+18</td>\n",
       "      <td>R1107</td>\n",
       "    </tr>\n",
       "    <tr>\n",
       "      <th>4</th>\n",
       "      <td>R1107_5</td>\n",
       "      <td>G</td>\n",
       "      <td>5</td>\n",
       "      <td>-5.755</td>\n",
       "      <td>25.533001</td>\n",
       "      <td>17.132999</td>\n",
       "      <td>-1.000000e+18</td>\n",
       "      <td>-1.000000e+18</td>\n",
       "      <td>-1.000000e+18</td>\n",
       "      <td>-1.000000e+18</td>\n",
       "      <td>...</td>\n",
       "      <td>-1.000000e+18</td>\n",
       "      <td>-1.000000e+18</td>\n",
       "      <td>-1.000000e+18</td>\n",
       "      <td>-1.000000e+18</td>\n",
       "      <td>-1.000000e+18</td>\n",
       "      <td>-1.000000e+18</td>\n",
       "      <td>-1.000000e+18</td>\n",
       "      <td>-1.000000e+18</td>\n",
       "      <td>-1.000000e+18</td>\n",
       "      <td>R1107</td>\n",
       "    </tr>\n",
       "  </tbody>\n",
       "</table>\n",
       "<p>5 rows × 124 columns</p>\n",
       "</div>"
      ],
      "text/plain": [
       "        ID resname  resid    x_1        y_1        z_1           x_2  \\\n",
       "0  R1107_1       G      1 -5.499   8.520000   8.605000 -1.000000e+18   \n",
       "1  R1107_2       G      2 -5.826  10.453000  14.010000 -1.000000e+18   \n",
       "2  R1107_3       G      3 -5.849  14.768000  17.584999 -1.000000e+18   \n",
       "3  R1107_4       G      4 -5.784  19.985001  18.666000 -1.000000e+18   \n",
       "4  R1107_5       G      5 -5.755  25.533001  17.132999 -1.000000e+18   \n",
       "\n",
       "            y_2           z_2           x_3  ...          x_38          y_38  \\\n",
       "0 -1.000000e+18 -1.000000e+18 -1.000000e+18  ... -1.000000e+18 -1.000000e+18   \n",
       "1 -1.000000e+18 -1.000000e+18 -1.000000e+18  ... -1.000000e+18 -1.000000e+18   \n",
       "2 -1.000000e+18 -1.000000e+18 -1.000000e+18  ... -1.000000e+18 -1.000000e+18   \n",
       "3 -1.000000e+18 -1.000000e+18 -1.000000e+18  ... -1.000000e+18 -1.000000e+18   \n",
       "4 -1.000000e+18 -1.000000e+18 -1.000000e+18  ... -1.000000e+18 -1.000000e+18   \n",
       "\n",
       "           z_38          x_39          y_39          z_39          x_40  \\\n",
       "0 -1.000000e+18 -1.000000e+18 -1.000000e+18 -1.000000e+18 -1.000000e+18   \n",
       "1 -1.000000e+18 -1.000000e+18 -1.000000e+18 -1.000000e+18 -1.000000e+18   \n",
       "2 -1.000000e+18 -1.000000e+18 -1.000000e+18 -1.000000e+18 -1.000000e+18   \n",
       "3 -1.000000e+18 -1.000000e+18 -1.000000e+18 -1.000000e+18 -1.000000e+18   \n",
       "4 -1.000000e+18 -1.000000e+18 -1.000000e+18 -1.000000e+18 -1.000000e+18   \n",
       "\n",
       "           y_40          z_40  pdb_id  \n",
       "0 -1.000000e+18 -1.000000e+18   R1107  \n",
       "1 -1.000000e+18 -1.000000e+18   R1107  \n",
       "2 -1.000000e+18 -1.000000e+18   R1107  \n",
       "3 -1.000000e+18 -1.000000e+18   R1107  \n",
       "4 -1.000000e+18 -1.000000e+18   R1107  \n",
       "\n",
       "[5 rows x 124 columns]"
      ]
     },
     "execution_count": 21,
     "metadata": {},
     "output_type": "execute_result"
    }
   ],
   "source": [
    "val_labels.head()"
   ]
  },
  {
   "cell_type": "code",
   "execution_count": 22,
   "id": "e0ceccf1-7100-4e33-8b91-41d1260d2634",
   "metadata": {
    "tags": []
   },
   "outputs": [
    {
     "name": "stdout",
     "output_type": "stream",
     "text": [
      "12\n"
     ]
    }
   ],
   "source": [
    "print(val_labels['pdb_id'].nunique())"
   ]
  },
  {
   "cell_type": "code",
   "execution_count": null,
   "id": "97dec3c3-2710-48b6-a96f-b8b8e67238c4",
   "metadata": {},
   "outputs": [],
   "source": []
  }
 ],
 "metadata": {
  "kernelspec": {
   "display_name": "Python 3 (ipykernel)",
   "language": "python",
   "name": "python3"
  },
  "language_info": {
   "codemirror_mode": {
    "name": "ipython",
    "version": 3
   },
   "file_extension": ".py",
   "mimetype": "text/x-python",
   "name": "python",
   "nbconvert_exporter": "python",
   "pygments_lexer": "ipython3",
   "version": "3.11.7"
  },
  "toc-autonumbering": true,
  "toc-showcode": false
 },
 "nbformat": 4,
 "nbformat_minor": 5
}
