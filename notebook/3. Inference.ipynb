{
 "cells": [
  {
   "cell_type": "code",
   "execution_count": 1,
   "id": "bdf18fbe-f53c-4e83-8333-1a4208101307",
   "metadata": {
    "tags": []
   },
   "outputs": [],
   "source": [
    "%%capture\n",
    "!pip install polars\n",
    "!pip install lightgbm==4.2.0\n",
    "!pip install catboost==1.2.7\n",
    "!pip install xgboost==2.0.3\n",
    "!pip install optuna\n",
    "!pip install lifelines"
   ]
  },
  {
   "cell_type": "code",
   "execution_count": 2,
   "id": "50ed33ca-8b24-4b9b-944a-8d5b2cab780b",
   "metadata": {
    "tags": []
   },
   "outputs": [
    {
     "name": "stdout",
     "output_type": "stream",
     "text": [
      "4.2.0\n",
      "1.2.7\n",
      "2.0.3\n"
     ]
    }
   ],
   "source": [
    "import shutil\n",
    "import pandas as pd\n",
    "import numpy as np\n",
    "import re\n",
    "import gc\n",
    "import os\n",
    "import math\n",
    "import importlib\n",
    "import random\n",
    "import warnings\n",
    "import pickle\n",
    "import joblib\n",
    "from tqdm import tqdm\n",
    "import sys\n",
    "\n",
    "from scipy.stats import skew, kurtosis\n",
    "from collections import Counter,defaultdict\n",
    "from matplotlib.colors import ListedColormap, LinearSegmentedColormap\n",
    "import lightgbm as lgb\n",
    "import catboost as cat, gc\n",
    "import xgboost as xgb\n",
    "\n",
    "print(lgb.__version__)\n",
    "print(cat.__version__)\n",
    "print(xgb.__version__)\n",
    "\n",
    "from lightgbm import LGBMRegressor, LGBMClassifier\n",
    "from catboost import CatBoostRegressor, CatBoostClassifier, Pool\n",
    "from sklearn.svm import SVR\n",
    "from xgboost import XGBRegressor, XGBClassifier\n",
    "\n",
    "import optuna\n",
    "\n",
    "from sklearn.model_selection import KFold, StratifiedKFold, GroupKFold\n",
    "from sklearn.preprocessing import MinMaxScaler, OneHotEncoder, LabelEncoder\n",
    "from sklearn.impute import SimpleImputer\n",
    "from sklearn.metrics import mean_squared_error\n",
    "from sklearn.metrics import log_loss\n",
    "\n",
    "\n",
    "import torch\n",
    "import torch.nn as nn\n",
    "import torch.optim as optim\n",
    "from torch.optim.lr_scheduler import ReduceLROnPlateau, CosineAnnealingWarmRestarts\n",
    "import torch.nn.functional as F\n",
    "\n",
    "from transformers import AutoModel,AutoTokenizer\n",
    "\n",
    "warnings.simplefilter('ignore')\n",
    "warnings.filterwarnings('ignore')\n",
    "warnings.simplefilter('ignore')\n",
    "warnings.filterwarnings('ignore')\n"
   ]
  },
  {
   "cell_type": "code",
   "execution_count": 29,
   "id": "3e9a24b4-cdef-43d0-a53e-0189cef29dca",
   "metadata": {
    "tags": []
   },
   "outputs": [],
   "source": [
    "sys.path.append('/notebooks/CIBMTR/utils')\n",
    "sys.path.append('/notebooks/CIBMTR/train')\n",
    "\n",
    "import tuning\n",
    "import utils as my_utils\n",
    "import metric\n",
    "from metric import score\n",
    "from utils import clr\n",
    "import train as trainer\n",
    "import config"
   ]
  },
  {
   "cell_type": "markdown",
   "id": "f15a3437-e2a8-49d3-8e71-9c29df442fa4",
   "metadata": {},
   "source": [
    "# **LOAD DATA**"
   ]
  },
  {
   "cell_type": "code",
   "execution_count": 6,
   "id": "72aaf2be-36d2-4d55-870f-508281c39e12",
   "metadata": {
    "tags": []
   },
   "outputs": [],
   "source": [
    "train_path = '/notebooks/CIBMTR/data/train.csv'\n",
    "train_dic_path = '/notebooks/CIBMTR/data/data_dictionary.csv'\n",
    "\n",
    "test_path = '/notebooks/CIBMTR/data/test.csv'\n",
    "sub_path = '/notebooks/CIBMTR/data/sample_submission.csv'"
   ]
  },
  {
   "cell_type": "code",
   "execution_count": 7,
   "id": "8ee28843-2ba9-48d2-9027-3d41ac016197",
   "metadata": {
    "tags": []
   },
   "outputs": [],
   "source": [
    "train = pd.read_csv(train_path)\n",
    "# dictionary_tow = pd.read_csv(train_dic_path)\n",
    "dictionary = pd.read_csv('/notebooks/CIBMTR/output/dictionary.csv', encoding='cp932').drop('Unnamed: 0', axis=1)\n",
    "test = pd.read_csv(test_path)\n",
    "submission = pd.read_csv(sub_path)"
   ]
  },
  {
   "cell_type": "markdown",
   "id": "f6918695-569a-4dfe-87d9-061d42f96d45",
   "metadata": {},
   "source": [
    "# **CALCULATE CV**"
   ]
  },
  {
   "cell_type": "code",
   "execution_count": 24,
   "id": "799371f1-8a97-478d-a9a3-46e425ffd5a2",
   "metadata": {
    "tags": []
   },
   "outputs": [],
   "source": [
    "data = train"
   ]
  },
  {
   "cell_type": "code",
   "execution_count": 27,
   "id": "f512d9fa-7841-4e8c-bad3-a9d8f7dcac56",
   "metadata": {
    "tags": []
   },
   "outputs": [
    {
     "data": {
      "text/plain": [
       "(28800,)"
      ]
     },
     "execution_count": 27,
     "metadata": {},
     "output_type": "execute_result"
    }
   ],
   "source": [
    "EXP_NUM = 'EXP-3'\n",
    "SAVE_PATH = f'/notebooks/CIBMTR/output/{EXP_NUM}'\n",
    "\n",
    "oof_preds = joblib.load(f'{SAVE_PATH}/oof_preds_{EXP_NUM}.pkl')\n",
    "oof_preds.shape"
   ]
  },
  {
   "cell_type": "code",
   "execution_count": 28,
   "id": "c162d8b1-3ef0-4290-b4a0-50e1562eca1e",
   "metadata": {
    "tags": []
   },
   "outputs": [
    {
     "name": "stdout",
     "output_type": "stream",
     "text": [
      "\u001b[31mC-index-American Indian or Alaska Native : 0.686\n",
      "\u001b[31mC-index-Asian : 0.695\n",
      "\u001b[31mC-index-Black or African-American : 0.670\n",
      "\u001b[31mC-index-More than one race : 0.686\n",
      "\u001b[31mC-index-Native Hawaiian or other Pacific Islander : 0.674\n",
      "\u001b[31mC-index-White : 0.664\n",
      "\u001b[31mOverall C-index : 0.6686\u001b[0m\n"
     ]
    }
   ],
   "source": [
    "y_true_fold = data[['ID', 'efs', 'efs_time', 'race_group']].copy()\n",
    "y_pred_fold = data[['ID']].copy()\n",
    "y_pred_fold['prediction'] = oof_preds\n",
    "loss_val = score(y_true_fold, y_pred_fold, 'ID')\n",
    "print(clr.RED + f'Overall C-index : {loss_val:.4}' + clr.END)"
   ]
  },
  {
   "cell_type": "code",
   "execution_count": null,
   "id": "44615d12-77ae-4474-896a-0705d168dd44",
   "metadata": {},
   "outputs": [],
   "source": []
  }
 ],
 "metadata": {
  "kernelspec": {
   "display_name": "Python 3 (ipykernel)",
   "language": "python",
   "name": "python3"
  },
  "language_info": {
   "codemirror_mode": {
    "name": "ipython",
    "version": 3
   },
   "file_extension": ".py",
   "mimetype": "text/x-python",
   "name": "python",
   "nbconvert_exporter": "python",
   "pygments_lexer": "ipython3",
   "version": "3.11.7"
  }
 },
 "nbformat": 4,
 "nbformat_minor": 5
}
