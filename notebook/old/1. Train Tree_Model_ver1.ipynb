{
 "cells": [
  {
   "cell_type": "markdown",
   "id": "5870ceeb-a460-4c46-b0b1-6591bea1d7a2",
   "metadata": {
    "tags": []
   },
   "source": [
    "# **Dependincies**"
   ]
  },
  {
   "cell_type": "code",
   "execution_count": 1,
   "id": "019feaaa-8896-4046-8b1d-3ae7e840fba6",
   "metadata": {
    "tags": []
   },
   "outputs": [],
   "source": [
    "%%capture\n",
    "!pip install polars\n",
    "!pip install lightgbm==4.2.0\n",
    "!pip install catboost==1.2.7\n",
    "!pip install xgboost==2.0.3\n",
    "!pip install optuna\n",
    "!pip install lifelines"
   ]
  },
  {
   "cell_type": "code",
   "execution_count": 2,
   "id": "bbda39fb-5c62-4803-8ca2-b62d06154da5",
   "metadata": {
    "tags": []
   },
   "outputs": [],
   "source": [
    "# from pytorch_tabnet.metrics import Metric\n",
    "# from pytorch_tabnet.tab_model import TabNetRegressor"
   ]
  },
  {
   "cell_type": "code",
   "execution_count": 41,
   "id": "46c37c15-fc68-40cd-8dcb-9a1b23bf8cf9",
   "metadata": {
    "tags": []
   },
   "outputs": [
    {
     "name": "stdout",
     "output_type": "stream",
     "text": [
      "4.2.0\n",
      "1.2.7\n",
      "2.0.3\n"
     ]
    }
   ],
   "source": [
    "import shutil\n",
    "import pandas as pd\n",
    "import numpy as np\n",
    "import re\n",
    "import gc\n",
    "import os\n",
    "import math\n",
    "import importlib\n",
    "import random\n",
    "import warnings\n",
    "import pickle\n",
    "import joblib\n",
    "from tqdm import tqdm\n",
    "import sys\n",
    "\n",
    "from scipy.stats import skew, kurtosis\n",
    "from collections import Counter,defaultdict\n",
    "from matplotlib.colors import ListedColormap, LinearSegmentedColormap\n",
    "import lightgbm as lgb\n",
    "import catboost as cat, gc\n",
    "import xgboost as xgb\n",
    "\n",
    "print(lgb.__version__)\n",
    "print(cat.__version__)\n",
    "print(xgb.__version__)\n",
    "\n",
    "from lightgbm import LGBMRegressor, LGBMClassifier\n",
    "from catboost import CatBoostRegressor, CatBoostClassifier, Pool\n",
    "from sklearn.svm import SVR\n",
    "from xgboost import XGBRegressor, XGBClassifier\n",
    "\n",
    "import optuna\n",
    "\n",
    "from sklearn.model_selection import KFold, StratifiedKFold, GroupKFold\n",
    "from sklearn.preprocessing import MinMaxScaler, OneHotEncoder, LabelEncoder\n",
    "from sklearn.impute import SimpleImputer\n",
    "from sklearn.metrics import mean_squared_error\n",
    "from sklearn.metrics import log_loss\n",
    "\n",
    "\n",
    "import torch\n",
    "import torch.nn as nn\n",
    "import torch.optim as optim\n",
    "from torch.optim.lr_scheduler import ReduceLROnPlateau, CosineAnnealingWarmRestarts\n",
    "import torch.nn.functional as F\n",
    "\n",
    "from transformers import AutoModel,AutoTokenizer\n",
    "\n",
    "warnings.simplefilter('ignore')\n",
    "warnings.filterwarnings('ignore')\n",
    "\n",
    "warnings.simplefilter('ignore')\n",
    "warnings.filterwarnings('ignore')\n",
    "sys.path.append('/notebooks/CIBMTR/utils')\n",
    "sys.path.append('/notebooks/CIBMTR/py')"
   ]
  },
  {
   "cell_type": "code",
   "execution_count": 49,
   "id": "d335fecf-203d-4b2b-9c5f-84b8d1cbccfb",
   "metadata": {
    "tags": []
   },
   "outputs": [
    {
     "name": "stdout",
     "output_type": "stream",
     "text": [
      "4.2.0\n",
      "1.2.7\n",
      "2.0.3\n"
     ]
    },
    {
     "data": {
      "text/plain": [
       "<module 'tuning' from '/notebooks/CIBMTR/py/tuning.py'>"
      ]
     },
     "execution_count": 49,
     "metadata": {},
     "output_type": "execute_result"
    }
   ],
   "source": [
    "import tuning\n",
    "import utils as my_utils\n",
    "from metric import score\n",
    "from utils import clr\n",
    "importlib.reload(my_utils)\n",
    "importlib.reload(tuning)"
   ]
  },
  {
   "cell_type": "code",
   "execution_count": 50,
   "id": "3ea1463a-ca39-4718-9fda-9dc80b7b3fe9",
   "metadata": {
    "tags": []
   },
   "outputs": [],
   "source": [
    "# class clr:\n",
    "#     BLACK     = '\\033[30m'\n",
    "#     RED       = '\\033[31m'\n",
    "#     GREEN     = '\\033[32m'\n",
    "#     YELLOW    = '\\033[33m'\n",
    "#     BLUE      = '\\033[34m'\n",
    "#     PURPLE    = '\\033[35m'\n",
    "#     CYAN      = '\\033[36m'\n",
    "#     WHITE     = '\\033[37m'\n",
    "#     END       = '\\033[0m'\n",
    "#     BOLD      = '\\033[1m'\n",
    "#     UNDERLINE = '\\033[4m'\n",
    "#     INVISIBLE = '\\033[08m'\n",
    "#     REVERCE   = '\\033[07m'\n",
    "#     S = '\\033[1m' + '\\033[95m'\n",
    "#     E = '\\033[0m'\n",
    "\n",
    "# my_colors = [\"#761D80\", \"#9926A6\", \"#9C69C9\",\n",
    "#              \"#6C91BF\", \"#58BCC6\", \"#4AD1B2\",\n",
    "#              \"#4BF1B2\"]\n",
    "\n",
    "# CMAP1 = ListedColormap(my_colors)"
   ]
  },
  {
   "cell_type": "markdown",
   "id": "2a11c8e8-a978-404a-b830-0ec4641c48f9",
   "metadata": {
    "tags": []
   },
   "source": [
    "# **Config**"
   ]
  },
  {
   "cell_type": "code",
   "execution_count": 51,
   "id": "25421f99-c8ae-49f8-bcb0-0025180e7cb3",
   "metadata": {
    "tags": []
   },
   "outputs": [],
   "source": [
    "train_path = '/notebooks/CIBMTR/data/train.csv'\n",
    "train_dic_path = '/notebooks/CIBMTR/data/data_dictionary.csv'\n",
    "\n",
    "test_path = '/notebooks/CIBMTR/data/test.csv'\n",
    "sub_path = '/notebooks/CIBMTR/data/sample_submission.csv'"
   ]
  },
  {
   "cell_type": "code",
   "execution_count": 52,
   "id": "c55bd604-3f76-4384-b6f0-2f9d1e9ed511",
   "metadata": {
    "tags": []
   },
   "outputs": [],
   "source": [
    "train = pd.read_csv(train_path)\n",
    "# dictionary_tow = pd.read_csv(train_dic_path)\n",
    "dictionary = pd.read_csv('/notebooks/CIBMTR/output/dictionary.csv', encoding='cp932').drop('Unnamed: 0', axis=1)\n",
    "test = pd.read_csv(test_path)\n",
    "submission = pd.read_csv(sub_path)"
   ]
  },
  {
   "cell_type": "code",
   "execution_count": 53,
   "id": "c9f66dc8-3568-4151-9456-57dafb8372dc",
   "metadata": {
    "tags": []
   },
   "outputs": [],
   "source": [
    "TARGETS = ['efs_time', 'efs']"
   ]
  },
  {
   "cell_type": "markdown",
   "id": "375061f4-d1d1-47f5-93ef-7a89d0b66a21",
   "metadata": {
    "tags": []
   },
   "source": [
    "# **UM FEATURE ENGINNERING**"
   ]
  },
  {
   "cell_type": "markdown",
   "id": "e9f0f3e0-8dcd-4d83-ad55-462d03db8c6c",
   "metadata": {},
   "source": [
    "## **FE FUNCTIONS**"
   ]
  },
  {
   "cell_type": "code",
   "execution_count": 54,
   "id": "de45e683-d021-4bc1-9c5d-3c7fd454a479",
   "metadata": {
    "tags": []
   },
   "outputs": [
    {
     "data": {
      "text/plain": [
       "<module 'utils' from '/notebooks/CIBMTR/utils/utils.py'>"
      ]
     },
     "execution_count": 54,
     "metadata": {},
     "output_type": "execute_result"
    }
   ],
   "source": [
    "data=train\n",
    "importlib.reload(my_utils)"
   ]
  },
  {
   "cell_type": "code",
   "execution_count": 55,
   "id": "478f8a6d-f6fe-459a-a613-f8a7a054c5dd",
   "metadata": {
    "tags": []
   },
   "outputs": [
    {
     "name": "stdout",
     "output_type": "stream",
     "text": [
      "INITIAL DATA Shape:(28800, 60)\n",
      "\n",
      "\n",
      "Final DATA Shape:(28800, 60)\n"
     ]
    }
   ],
   "source": [
    "print(f'INITIAL DATA Shape:{data.shape}')\n",
    "print('')\n",
    "FE = my_utils.CIBMTR_FE(mode='train')\n",
    "data, _ = FE.trans_obj_cate(data)\n",
    "\n",
    "print('')\n",
    "print(f'Final DATA Shape:{data.shape}')"
   ]
  },
  {
   "cell_type": "markdown",
   "id": "87abcd24-b274-4031-a16e-208350068205",
   "metadata": {
    "tags": []
   },
   "source": [
    "## **CONCAT OOF PREDICTIONS**"
   ]
  },
  {
   "cell_type": "code",
   "execution_count": 56,
   "id": "3568b9b4-6793-4e05-be50-0e61e70e21ad",
   "metadata": {
    "tags": []
   },
   "outputs": [],
   "source": [
    "# ####\n",
    "# # USING GDBT MODEL OOF\n",
    "# ####\n",
    "# EXP_NUM_LIST = ['EXP-39','EXP-40','EXP-43']\n",
    "# predictions={}\n",
    "# for EXP_NUM in EXP_NUM_LIST:\n",
    "#     SAVE_PATH = f'{my_config.general.model_save_path}/TREE_{EXP_NUM}'\n",
    "#     oof_preds = joblib.load(f'{SAVE_PATH}/oof_preds_{EXP_NUM}.pkl')\n",
    "#     oof_preds = {key: np.clip(value, a_min=-1.0, a_max=1.0) for key, value in oof_preds.items()}\n",
    "#     oof_preds = {model: oof_preds[model].flatten() for model in oof_preds}\n",
    "    \n",
    "#     cols = [f\"{col.split('_')[0]}-{EXP_NUM}\" for col in oof_preds]\n",
    "#     oof_preds_df = pd.DataFrame(oof_preds)\n",
    "#     oof_preds_df.columns = cols\n",
    "#     predictions[EXP_NUM]=(oof_preds_df)\n",
    "\n",
    "# predictions_df = pd.DataFrame()\n",
    "# for col in predictions:\n",
    "#     tmp_df = predictions[col]\n",
    "#     predictions_df = pd.concat([predictions_df, tmp_df], axis=1)\n",
    "# predictions_df = predictions_df.astype('float64')\n",
    "\n",
    "# true = train['utility_agent1'].copy()\n",
    "# print(len(predictions))"
   ]
  },
  {
   "cell_type": "code",
   "execution_count": 57,
   "id": "b4334a9a-4825-48d6-89e5-bfc858c874e7",
   "metadata": {
    "tags": []
   },
   "outputs": [],
   "source": [
    "# ####\n",
    "# # USING NN MODEL OOF\n",
    "# ####\n",
    "\n",
    "# # EXP_NUM_NN_LIST = 0\n",
    "# # EXP_NUM_NN_LIST = ['EXP-50', 'EXP-68']\n",
    "# EXP_NUM_NN_LIST = []\n",
    "# if len(EXP_NUM_NN_LIST)!=0:\n",
    "#     for EXP_NUM in EXP_NUM_NN_LIST:\n",
    "#         SAVE_PATH = f'{my_config.general.model_save_path}/NN_{EXP_NUM}'\n",
    "#         oof_preds = pd.read_csv(f'{SAVE_PATH}/oof.csv')\n",
    "#         predictions_df[f'nn-{EXP_NUM}'] = oof_preds['pred']\n",
    "# predictions_df.head(3)\n",
    "\n",
    "# ####\n",
    "# # USING DTNN MODEL OOF\n",
    "# ####\n",
    "# # EXP_NUM_NN_LIST = 0\n",
    "# # EXP_NUM_NN_LIST = ['EXP-17']\n",
    "# EXP_NUM_NN_LIST = []\n",
    "# if len(EXP_NUM_NN_LIST)!=0:\n",
    "#     for EXP_NUM in EXP_NUM_NN_LIST:\n",
    "#         oof_preds = joblib.load(f'model/DTNN_{EXP_NUM}/oof_preds_{EXP_NUM}.pkl')\n",
    "#         oof_preds = pd.DataFrame(oof_preds['dtnn'], columns=['pred'])\n",
    "#         predictions_df[f'dtnn-{EXP_NUM}'] = oof_preds['pred']\n",
    "# predictions_df.head(3)"
   ]
  },
  {
   "cell_type": "code",
   "execution_count": 58,
   "id": "4e246191-6fad-4cfe-914c-4e204e0caf39",
   "metadata": {
    "tags": []
   },
   "outputs": [],
   "source": [
    "# USE_OOF = False\n",
    "\n",
    "# if USE_OOF:\n",
    "#     data = pd.concat([data, predictions_df], axis=1)\n",
    "#     # data = FE.fe6(data.copy())\n",
    "#     # exp_num = 'EXP-35'\n",
    "#     # data = FE.drop_cols_fi3(data.copy(), \n",
    "#     #                       save_path='model', \n",
    "#     #                       exp_num=f'TREE_{exp_num}', \n",
    "#     #                       topn=25)\n",
    "\n",
    "# data.replace([np.inf, -np.inf], np.nan, inplace=True)"
   ]
  },
  {
   "cell_type": "code",
   "execution_count": 59,
   "id": "702af597-6ae6-4db2-989d-df2f1785539f",
   "metadata": {
    "tags": []
   },
   "outputs": [],
   "source": [
    "# exp_num = 'EXP-48'\n",
    "# data = FE.drop_cols_fi3(data.copy(), \n",
    "#                       save_path='model', \n",
    "#                       exp_num=f'TREE_{exp_num}', \n",
    "#                       topn=30)"
   ]
  },
  {
   "cell_type": "markdown",
   "id": "5aba0ae1-434c-49d1-9d9e-b3cecef02816",
   "metadata": {
    "tags": []
   },
   "source": [
    "# **OOF**"
   ]
  },
  {
   "cell_type": "code",
   "execution_count": 60,
   "id": "491ad5c2-1e78-4ad8-8983-445acf5c9983",
   "metadata": {
    "tags": []
   },
   "outputs": [
    {
     "data": {
      "text/html": [
       "<div>\n",
       "<style scoped>\n",
       "    .dataframe tbody tr th:only-of-type {\n",
       "        vertical-align: middle;\n",
       "    }\n",
       "\n",
       "    .dataframe tbody tr th {\n",
       "        vertical-align: top;\n",
       "    }\n",
       "\n",
       "    .dataframe thead th {\n",
       "        text-align: right;\n",
       "    }\n",
       "</style>\n",
       "<table border=\"1\" class=\"dataframe\">\n",
       "  <thead>\n",
       "    <tr style=\"text-align: right;\">\n",
       "      <th></th>\n",
       "      <th>ID</th>\n",
       "      <th>dri_score</th>\n",
       "      <th>psych_disturb</th>\n",
       "      <th>cyto_score</th>\n",
       "      <th>diabetes</th>\n",
       "      <th>hla_match_c_high</th>\n",
       "      <th>hla_high_res_8</th>\n",
       "      <th>tbi_status</th>\n",
       "      <th>arrhythmia</th>\n",
       "      <th>hla_low_res_6</th>\n",
       "      <th>...</th>\n",
       "      <th>donor_related</th>\n",
       "      <th>melphalan_dose</th>\n",
       "      <th>hla_low_res_8</th>\n",
       "      <th>cardiac</th>\n",
       "      <th>hla_match_drb1_high</th>\n",
       "      <th>pulm_moderate</th>\n",
       "      <th>hla_low_res_10</th>\n",
       "      <th>efs</th>\n",
       "      <th>efs_time</th>\n",
       "      <th>fold</th>\n",
       "    </tr>\n",
       "  </thead>\n",
       "  <tbody>\n",
       "    <tr>\n",
       "      <th>0</th>\n",
       "      <td>0</td>\n",
       "      <td>N/A - non-malignant indication</td>\n",
       "      <td>No</td>\n",
       "      <td>NaN</td>\n",
       "      <td>No</td>\n",
       "      <td>NaN</td>\n",
       "      <td>NaN</td>\n",
       "      <td>No TBI</td>\n",
       "      <td>No</td>\n",
       "      <td>6.0</td>\n",
       "      <td>...</td>\n",
       "      <td>Unrelated</td>\n",
       "      <td>N/A, Mel not given</td>\n",
       "      <td>8.0</td>\n",
       "      <td>No</td>\n",
       "      <td>2.0</td>\n",
       "      <td>No</td>\n",
       "      <td>10.0</td>\n",
       "      <td>0.0</td>\n",
       "      <td>42.356</td>\n",
       "      <td>0.0</td>\n",
       "    </tr>\n",
       "    <tr>\n",
       "      <th>1</th>\n",
       "      <td>1</td>\n",
       "      <td>Intermediate</td>\n",
       "      <td>No</td>\n",
       "      <td>Intermediate</td>\n",
       "      <td>No</td>\n",
       "      <td>2.0</td>\n",
       "      <td>8.0</td>\n",
       "      <td>TBI +- Other, &gt;cGy</td>\n",
       "      <td>No</td>\n",
       "      <td>6.0</td>\n",
       "      <td>...</td>\n",
       "      <td>Related</td>\n",
       "      <td>N/A, Mel not given</td>\n",
       "      <td>8.0</td>\n",
       "      <td>No</td>\n",
       "      <td>2.0</td>\n",
       "      <td>Yes</td>\n",
       "      <td>10.0</td>\n",
       "      <td>1.0</td>\n",
       "      <td>4.672</td>\n",
       "      <td>1.0</td>\n",
       "    </tr>\n",
       "    <tr>\n",
       "      <th>2</th>\n",
       "      <td>2</td>\n",
       "      <td>N/A - non-malignant indication</td>\n",
       "      <td>No</td>\n",
       "      <td>NaN</td>\n",
       "      <td>No</td>\n",
       "      <td>2.0</td>\n",
       "      <td>8.0</td>\n",
       "      <td>No TBI</td>\n",
       "      <td>No</td>\n",
       "      <td>6.0</td>\n",
       "      <td>...</td>\n",
       "      <td>Related</td>\n",
       "      <td>N/A, Mel not given</td>\n",
       "      <td>8.0</td>\n",
       "      <td>No</td>\n",
       "      <td>2.0</td>\n",
       "      <td>No</td>\n",
       "      <td>10.0</td>\n",
       "      <td>0.0</td>\n",
       "      <td>19.793</td>\n",
       "      <td>1.0</td>\n",
       "    </tr>\n",
       "  </tbody>\n",
       "</table>\n",
       "<p>3 rows × 61 columns</p>\n",
       "</div>"
      ],
      "text/plain": [
       "   ID                       dri_score psych_disturb    cyto_score diabetes  \\\n",
       "0   0  N/A - non-malignant indication            No           NaN       No   \n",
       "1   1                    Intermediate            No  Intermediate       No   \n",
       "2   2  N/A - non-malignant indication            No           NaN       No   \n",
       "\n",
       "   hla_match_c_high  hla_high_res_8          tbi_status arrhythmia  \\\n",
       "0               NaN             NaN              No TBI         No   \n",
       "1               2.0             8.0  TBI +- Other, >cGy         No   \n",
       "2               2.0             8.0              No TBI         No   \n",
       "\n",
       "   hla_low_res_6  ... donor_related      melphalan_dose hla_low_res_8 cardiac  \\\n",
       "0            6.0  ...     Unrelated  N/A, Mel not given           8.0      No   \n",
       "1            6.0  ...       Related  N/A, Mel not given           8.0      No   \n",
       "2            6.0  ...       Related  N/A, Mel not given           8.0      No   \n",
       "\n",
       "  hla_match_drb1_high  pulm_moderate hla_low_res_10  efs  efs_time fold  \n",
       "0                 2.0             No           10.0  0.0    42.356  0.0  \n",
       "1                 2.0            Yes           10.0  1.0     4.672  1.0  \n",
       "2                 2.0             No           10.0  0.0    19.793  1.0  \n",
       "\n",
       "[3 rows x 61 columns]"
      ]
     },
     "execution_count": 60,
     "metadata": {},
     "output_type": "execute_result"
    }
   ],
   "source": [
    "N_SPLITS=5\n",
    "# kf = KFold(n_splits=N_SPLITS, shuffle=True, random_state=42)\n",
    "kf = StratifiedKFold(n_splits=N_SPLITS, shuffle=True, random_state=1)\n",
    "for i, (_, val_index) in enumerate(kf.split(data, data.race_group)):\n",
    "    data.loc[val_index, \"fold\"] = i\n",
    "data.head(3)"
   ]
  },
  {
   "cell_type": "markdown",
   "id": "c1f1b2a9-047a-461d-aec2-41000cafb854",
   "metadata": {
    "tags": []
   },
   "source": [
    "## **CHECK DATA**"
   ]
  },
  {
   "cell_type": "code",
   "execution_count": 61,
   "id": "3cf082ea-92ea-482d-9884-4967f78bf99d",
   "metadata": {
    "tags": []
   },
   "outputs": [
    {
     "data": {
      "text/plain": [
       "57"
      ]
     },
     "execution_count": 61,
     "metadata": {},
     "output_type": "execute_result"
    }
   ],
   "source": [
    "FEATURES = data.drop(TARGETS+['fold']+['ID'], axis=1).columns.tolist()\n",
    "len(FEATURES)"
   ]
  },
  {
   "cell_type": "code",
   "execution_count": 62,
   "id": "93abefc8-488c-4fd8-b4b3-2d1d706ab95f",
   "metadata": {
    "tags": []
   },
   "outputs": [
    {
     "name": "stdout",
     "output_type": "stream",
     "text": [
      "\u001b[31mcategorical_cols : 35\n",
      "\u001b[31mnum_cols : 23\n"
     ]
    }
   ],
   "source": [
    "categorical_cols = data.drop(columns=TARGETS + ['ID']).select_dtypes(include=['object', 'category']).columns.to_list()\n",
    "numerical_cols = data.drop(columns=TARGETS + ['ID']).select_dtypes(include=['number']).columns.to_list()\n",
    "\n",
    "print(clr.RED + f'categorical_cols : {len(categorical_cols)}')\n",
    "print(clr.RED + f'num_cols : {len(numerical_cols)}')"
   ]
  },
  {
   "cell_type": "code",
   "execution_count": 63,
   "id": "f9082c25-7234-4e6e-99cb-22700d9277b9",
   "metadata": {
    "tags": []
   },
   "outputs": [],
   "source": [
    "data[categorical_cols] = data[categorical_cols].astype(str).astype('category')"
   ]
  },
  {
   "cell_type": "code",
   "execution_count": 64,
   "id": "f693ba20-5b59-4c36-84b9-343905a366fa",
   "metadata": {
    "tags": []
   },
   "outputs": [],
   "source": [
    "data = FE.create_target4(data)"
   ]
  },
  {
   "cell_type": "markdown",
   "id": "868b1e87-f1c6-4aca-b131-a4c2f3e0c7b1",
   "metadata": {
    "tags": []
   },
   "source": [
    "# **TUENING HYPERPARAMETER**"
   ]
  },
  {
   "cell_type": "code",
   "execution_count": 98,
   "id": "cbc3b44f-50c4-4239-b707-a3c9df53d4d8",
   "metadata": {
    "tags": []
   },
   "outputs": [
    {
     "name": "stdout",
     "output_type": "stream",
     "text": [
      "4.2.0\n",
      "1.2.7\n",
      "2.0.3\n"
     ]
    },
    {
     "data": {
      "text/plain": [
       "<module 'tuning' from '/notebooks/CIBMTR/py/tuning.py'>"
      ]
     },
     "execution_count": 98,
     "metadata": {},
     "output_type": "execute_result"
    }
   ],
   "source": [
    "from scipy.stats import rankdata\n",
    "import metric\n",
    "from metric import score\n",
    "importlib.reload(metric)\n",
    "importlib.reload(tuning)"
   ]
  },
  {
   "cell_type": "code",
   "execution_count": 99,
   "id": "4dc1a59a-8f9c-49f0-9467-7720aabbcef2",
   "metadata": {
    "tags": []
   },
   "outputs": [],
   "source": [
    "# use_optuna = True"
   ]
  },
  {
   "cell_type": "code",
   "execution_count": 100,
   "id": "4c1673d8-5745-4b02-b0d6-4ed2d6204633",
   "metadata": {
    "tags": []
   },
   "outputs": [
    {
     "name": "stderr",
     "output_type": "stream",
     "text": [
      "[I 2025-01-13 06:27:23,880] A new study created in memory with name: Optimize boosting hyperparameters\n"
     ]
    },
    {
     "name": "stdout",
     "output_type": "stream",
     "text": [
      "target4\n",
      "0:\tlearn: -120317.5009902\ttest: -25868.5502842\tbest: -25868.5502842 (0)\ttotal: 47.1ms\tremaining: 4m 31s\n",
      "500:\tlearn: -115525.2494858\ttest: -25256.7017910\tbest: -25254.5183981 (462)\ttotal: 20.4s\tremaining: 3m 34s\n",
      "Stopped by overfitting detector  (400 iterations wait)\n",
      "\n",
      "bestTest = -25254.5184\n",
      "bestIteration = 462\n",
      "\n",
      "Shrink model to first 463 iterations.\n",
      "American Indian or Alaska Native\n",
      "0.6842452538403758\n",
      "Asian\n",
      "0.7019189616234593\n",
      "Black or African-American\n",
      "0.6717925980596\n",
      "More than one race\n",
      "0.6886024118743957\n",
      "Native Hawaiian or other Pacific Islander\n",
      "0.6669903947849993\n",
      "White\n",
      "0.6414982294315927\n",
      "\u001b[31mfold0 C-index:0.65674639682316\u001b[0m\n",
      "target4\n",
      "0:\tlearn: -120663.1250082\ttest: -25588.3746119\tbest: -25588.3746119 (0)\ttotal: 44.1ms\tremaining: 4m 14s\n",
      "500:\tlearn: -115745.5129933\ttest: -25046.0323118\tbest: -25038.4219521 (412)\ttotal: 18.3s\tremaining: 3m 12s\n",
      "Stopped by overfitting detector  (400 iterations wait)\n",
      "\n",
      "bestTest = -25038.42195\n",
      "bestIteration = 412\n",
      "\n",
      "Shrink model to first 413 iterations.\n",
      "American Indian or Alaska Native\n",
      "0.6920510543651255\n",
      "Asian\n",
      "0.6848668362334639\n",
      "Black or African-American\n",
      "0.6570129651456474\n",
      "More than one race\n",
      "0.6849799415244442\n",
      "Native Hawaiian or other Pacific Islander\n",
      "0.6739623664823658\n",
      "White\n",
      "0.64949730583843\n",
      "\u001b[31mfold1 C-index:0.6581667705197367\u001b[0m\n",
      "target4\n",
      "0:\tlearn: -120275.4589773\ttest: -25913.2320371\tbest: -25913.2320371 (0)\ttotal: 42.7ms\tremaining: 4m 6s\n",
      "500:\tlearn: -115483.3029788\ttest: -25358.2741592\tbest: -25354.6195204 (432)\ttotal: 20.7s\tremaining: 3m 37s\n",
      "Stopped by overfitting detector  (400 iterations wait)\n",
      "\n",
      "bestTest = -25354.61952\n",
      "bestIteration = 432\n",
      "\n",
      "Shrink model to first 433 iterations.\n",
      "American Indian or Alaska Native\n",
      "0.696544143214474\n",
      "Asian\n",
      "0.6818604676246384\n",
      "Black or African-American\n",
      "0.6665000706222363\n",
      "More than one race\n",
      "0.6781611870140523\n",
      "Native Hawaiian or other Pacific Islander\n",
      "0.6654371528126978\n",
      "White\n",
      "0.6682669263601574\n",
      "\u001b[31mfold2 C-index:0.665154099851218\u001b[0m\n",
      "target4\n",
      "0:\tlearn: -120350.0245013\ttest: -25836.3745578\tbest: -25836.3745578 (0)\ttotal: 40.6ms\tremaining: 3m 54s\n"
     ]
    },
    {
     "name": "stderr",
     "output_type": "stream",
     "text": [
      "[W 2025-01-13 06:29:21,721] Trial 0 failed with parameters: {'n_estimators': 5765, 'learning_rate': 0.056591927557044425, 'max_depth': 7, 'l2_leaf_reg': 0.17219666765365393, 'min_child_samples': 9} because of the following error: KeyboardInterrupt('').\n",
      "Traceback (most recent call last):\n",
      "  File \"/usr/local/lib/python3.11/dist-packages/optuna/study/_optimize.py\", line 197, in _run_trial\n",
      "    value_or_values = func(trial)\n",
      "                      ^^^^^^^^^^^\n",
      "  File \"/notebooks/CIBMTR/py/tuning.py\", line 164, in <lambda>\n",
      "    study.optimize(lambda trial: objective(trial, data, features, target_type, n_split, cat_cols, cv_fold_func, model_name),\n",
      "                                ^^^^^^^^^^^^^^^^^^^^^^^^^^^^^^^^^^^^^^^^^^^^^^^^^^^^^^^^^^^^^^^^^^^^^^^^^^^^^^^^^^^^^^^^^^\n",
      "  File \"/notebooks/CIBMTR/py/tuning.py\", line 119, in objective\n",
      "    model.fit(X_train,\n",
      "  File \"/usr/local/lib/python3.11/dist-packages/catboost/core.py\", line 5873, in fit\n",
      "    return self._fit(X, y, cat_features, text_features, embedding_features, None, graph, sample_weight, None, None, None, None, baseline,\n",
      "           ^^^^^^^^^^^^^^^^^^^^^^^^^^^^^^^^^^^^^^^^^^^^^^^^^^^^^^^^^^^^^^^^^^^^^^^^^^^^^^^^^^^^^^^^^^^^^^^^^^^^^^^^^^^^^^^^^^^^^^^^^^^^^^\n",
      "  File \"/usr/local/lib/python3.11/dist-packages/catboost/core.py\", line 2410, in _fit\n",
      "    self._train(\n",
      "  File \"/usr/local/lib/python3.11/dist-packages/catboost/core.py\", line 1790, in _train\n",
      "    self._object._train(train_pool, test_pool, params, allow_clear_pool, init_model._object if init_model else None)\n",
      "  File \"_catboost.pyx\", line 5017, in _catboost._CatBoost._train\n",
      "  File \"_catboost.pyx\", line 5066, in _catboost._CatBoost._train\n",
      "KeyboardInterrupt\n",
      "[W 2025-01-13 06:29:21,726] Trial 0 failed with value None.\n"
     ]
    },
    {
     "ename": "KeyboardInterrupt",
     "evalue": "",
     "output_type": "error",
     "traceback": [
      "\u001b[0;31m---------------------------------------------------------------------------\u001b[0m",
      "\u001b[0;31mKeyboardInterrupt\u001b[0m                         Traceback (most recent call last)",
      "Cell \u001b[0;32mIn[100], line 1\u001b[0m\n\u001b[0;32m----> 1\u001b[0m \u001b[43mtuning\u001b[49m\u001b[38;5;241;43m.\u001b[39;49m\u001b[43moptimize_params\u001b[49m\u001b[43m(\u001b[49m\n\u001b[1;32m      2\u001b[0m \u001b[43m                \u001b[49m\u001b[43mdata\u001b[49m\u001b[38;5;241;43m=\u001b[39;49m\u001b[43mdata\u001b[49m\u001b[43m,\u001b[49m\n\u001b[1;32m      3\u001b[0m \u001b[43m                \u001b[49m\u001b[43mfeatures\u001b[49m\u001b[38;5;241;43m=\u001b[39;49m\u001b[43mFEATURES\u001b[49m\u001b[43m,\u001b[49m\n\u001b[1;32m      4\u001b[0m \u001b[43m                \u001b[49m\u001b[43mtarget_type\u001b[49m\u001b[38;5;241;43m=\u001b[39;49m\u001b[38;5;124;43m'\u001b[39;49m\u001b[38;5;124;43mtarget4\u001b[39;49m\u001b[38;5;124;43m'\u001b[39;49m\u001b[43m,\u001b[49m\n\u001b[1;32m      5\u001b[0m \u001b[43m                \u001b[49m\u001b[43mn_split\u001b[49m\u001b[38;5;241;43m=\u001b[39;49m\u001b[43mN_SPLITS\u001b[49m\u001b[43m,\u001b[49m\u001b[43m \u001b[49m\n\u001b[1;32m      6\u001b[0m \u001b[43m                \u001b[49m\u001b[43mcat_cols\u001b[49m\u001b[38;5;241;43m=\u001b[39;49m\u001b[43mcategorical_cols\u001b[49m\u001b[43m,\u001b[49m\n\u001b[1;32m      7\u001b[0m \u001b[43m                \u001b[49m\u001b[43mcv_fold_func\u001b[49m\u001b[38;5;241;43m=\u001b[39;49m\u001b[43mnp\u001b[49m\u001b[38;5;241;43m.\u001b[39;49m\u001b[43maverage\u001b[49m\u001b[43m,\u001b[49m\u001b[43m \u001b[49m\n\u001b[1;32m      8\u001b[0m \u001b[43m                \u001b[49m\u001b[43mmodel_name\u001b[49m\u001b[38;5;241;43m=\u001b[39;49m\u001b[38;5;124;43m'\u001b[39;49m\u001b[38;5;124;43mcat\u001b[39;49m\u001b[38;5;124;43m'\u001b[39;49m\u001b[43m)\u001b[49m\n",
      "File \u001b[0;32m/notebooks/CIBMTR/py/tuning.py:164\u001b[0m, in \u001b[0;36moptimize_params\u001b[0;34m(data, features, target_type, n_split, cat_cols, cv_fold_func, model_name)\u001b[0m\n\u001b[1;32m    155\u001b[0m \u001b[38;5;28;01mdef\u001b[39;00m \u001b[38;5;21moptimize_params\u001b[39m(data, \n\u001b[1;32m    156\u001b[0m                     features, \n\u001b[1;32m    157\u001b[0m                     target_type, \n\u001b[0;32m   (...)\u001b[0m\n\u001b[1;32m    160\u001b[0m                     cv_fold_func\u001b[38;5;241m=\u001b[39mnp\u001b[38;5;241m.\u001b[39maverage, \n\u001b[1;32m    161\u001b[0m                     model_name\u001b[38;5;241m=\u001b[39m\u001b[38;5;124m'\u001b[39m\u001b[38;5;124mcat\u001b[39m\u001b[38;5;124m'\u001b[39m):\n\u001b[1;32m    162\u001b[0m     study \u001b[38;5;241m=\u001b[39m optuna\u001b[38;5;241m.\u001b[39mcreate_study(direction\u001b[38;5;241m=\u001b[39m\u001b[38;5;124m'\u001b[39m\u001b[38;5;124mmaximize\u001b[39m\u001b[38;5;124m'\u001b[39m, \n\u001b[1;32m    163\u001b[0m                                 study_name\u001b[38;5;241m=\u001b[39m\u001b[38;5;124m'\u001b[39m\u001b[38;5;124mOptimize boosting hyperparameters\u001b[39m\u001b[38;5;124m'\u001b[39m)\n\u001b[0;32m--> 164\u001b[0m     \u001b[43mstudy\u001b[49m\u001b[38;5;241;43m.\u001b[39;49m\u001b[43moptimize\u001b[49m\u001b[43m(\u001b[49m\u001b[38;5;28;43;01mlambda\u001b[39;49;00m\u001b[43m \u001b[49m\u001b[43mtrial\u001b[49m\u001b[43m:\u001b[49m\u001b[43m \u001b[49m\u001b[43mobjective\u001b[49m\u001b[43m(\u001b[49m\u001b[43mtrial\u001b[49m\u001b[43m,\u001b[49m\u001b[43m \u001b[49m\u001b[43mdata\u001b[49m\u001b[43m,\u001b[49m\u001b[43m \u001b[49m\u001b[43mfeatures\u001b[49m\u001b[43m,\u001b[49m\u001b[43m \u001b[49m\u001b[43mtarget_type\u001b[49m\u001b[43m,\u001b[49m\u001b[43m \u001b[49m\u001b[43mn_split\u001b[49m\u001b[43m,\u001b[49m\u001b[43m \u001b[49m\u001b[43mcat_cols\u001b[49m\u001b[43m,\u001b[49m\u001b[43m \u001b[49m\u001b[43mcv_fold_func\u001b[49m\u001b[43m,\u001b[49m\u001b[43m \u001b[49m\u001b[43mmodel_name\u001b[49m\u001b[43m)\u001b[49m\u001b[43m,\u001b[49m\u001b[43m \u001b[49m\n\u001b[1;32m    165\u001b[0m \u001b[43m                   \u001b[49m\u001b[43mn_trials\u001b[49m\u001b[38;5;241;43m=\u001b[39;49m\u001b[38;5;241;43m100\u001b[39;49m\u001b[43m)\u001b[49m\n\u001b[1;32m    167\u001b[0m     trial \u001b[38;5;241m=\u001b[39m study\u001b[38;5;241m.\u001b[39mbest_trial\n\u001b[1;32m    168\u001b[0m     \u001b[38;5;28mprint\u001b[39m(\u001b[38;5;124m'\u001b[39m\u001b[38;5;124m-\u001b[39m\u001b[38;5;124m'\u001b[39m \u001b[38;5;241m*\u001b[39m \u001b[38;5;241m70\u001b[39m)\n",
      "File \u001b[0;32m/usr/local/lib/python3.11/dist-packages/optuna/study/study.py:475\u001b[0m, in \u001b[0;36mStudy.optimize\u001b[0;34m(self, func, n_trials, timeout, n_jobs, catch, callbacks, gc_after_trial, show_progress_bar)\u001b[0m\n\u001b[1;32m    373\u001b[0m \u001b[38;5;28;01mdef\u001b[39;00m \u001b[38;5;21moptimize\u001b[39m(\n\u001b[1;32m    374\u001b[0m     \u001b[38;5;28mself\u001b[39m,\n\u001b[1;32m    375\u001b[0m     func: ObjectiveFuncType,\n\u001b[0;32m   (...)\u001b[0m\n\u001b[1;32m    382\u001b[0m     show_progress_bar: \u001b[38;5;28mbool\u001b[39m \u001b[38;5;241m=\u001b[39m \u001b[38;5;28;01mFalse\u001b[39;00m,\n\u001b[1;32m    383\u001b[0m ) \u001b[38;5;241m-\u001b[39m\u001b[38;5;241m>\u001b[39m \u001b[38;5;28;01mNone\u001b[39;00m:\n\u001b[1;32m    384\u001b[0m \u001b[38;5;250m    \u001b[39m\u001b[38;5;124;03m\"\"\"Optimize an objective function.\u001b[39;00m\n\u001b[1;32m    385\u001b[0m \n\u001b[1;32m    386\u001b[0m \u001b[38;5;124;03m    Optimization is done by choosing a suitable set of hyperparameter values from a given\u001b[39;00m\n\u001b[0;32m   (...)\u001b[0m\n\u001b[1;32m    473\u001b[0m \u001b[38;5;124;03m            If nested invocation of this method occurs.\u001b[39;00m\n\u001b[1;32m    474\u001b[0m \u001b[38;5;124;03m    \"\"\"\u001b[39;00m\n\u001b[0;32m--> 475\u001b[0m     \u001b[43m_optimize\u001b[49m\u001b[43m(\u001b[49m\n\u001b[1;32m    476\u001b[0m \u001b[43m        \u001b[49m\u001b[43mstudy\u001b[49m\u001b[38;5;241;43m=\u001b[39;49m\u001b[38;5;28;43mself\u001b[39;49m\u001b[43m,\u001b[49m\n\u001b[1;32m    477\u001b[0m \u001b[43m        \u001b[49m\u001b[43mfunc\u001b[49m\u001b[38;5;241;43m=\u001b[39;49m\u001b[43mfunc\u001b[49m\u001b[43m,\u001b[49m\n\u001b[1;32m    478\u001b[0m \u001b[43m        \u001b[49m\u001b[43mn_trials\u001b[49m\u001b[38;5;241;43m=\u001b[39;49m\u001b[43mn_trials\u001b[49m\u001b[43m,\u001b[49m\n\u001b[1;32m    479\u001b[0m \u001b[43m        \u001b[49m\u001b[43mtimeout\u001b[49m\u001b[38;5;241;43m=\u001b[39;49m\u001b[43mtimeout\u001b[49m\u001b[43m,\u001b[49m\n\u001b[1;32m    480\u001b[0m \u001b[43m        \u001b[49m\u001b[43mn_jobs\u001b[49m\u001b[38;5;241;43m=\u001b[39;49m\u001b[43mn_jobs\u001b[49m\u001b[43m,\u001b[49m\n\u001b[1;32m    481\u001b[0m \u001b[43m        \u001b[49m\u001b[43mcatch\u001b[49m\u001b[38;5;241;43m=\u001b[39;49m\u001b[38;5;28;43mtuple\u001b[39;49m\u001b[43m(\u001b[49m\u001b[43mcatch\u001b[49m\u001b[43m)\u001b[49m\u001b[43m \u001b[49m\u001b[38;5;28;43;01mif\u001b[39;49;00m\u001b[43m \u001b[49m\u001b[38;5;28;43misinstance\u001b[39;49m\u001b[43m(\u001b[49m\u001b[43mcatch\u001b[49m\u001b[43m,\u001b[49m\u001b[43m \u001b[49m\u001b[43mIterable\u001b[49m\u001b[43m)\u001b[49m\u001b[43m \u001b[49m\u001b[38;5;28;43;01melse\u001b[39;49;00m\u001b[43m \u001b[49m\u001b[43m(\u001b[49m\u001b[43mcatch\u001b[49m\u001b[43m,\u001b[49m\u001b[43m)\u001b[49m\u001b[43m,\u001b[49m\n\u001b[1;32m    482\u001b[0m \u001b[43m        \u001b[49m\u001b[43mcallbacks\u001b[49m\u001b[38;5;241;43m=\u001b[39;49m\u001b[43mcallbacks\u001b[49m\u001b[43m,\u001b[49m\n\u001b[1;32m    483\u001b[0m \u001b[43m        \u001b[49m\u001b[43mgc_after_trial\u001b[49m\u001b[38;5;241;43m=\u001b[39;49m\u001b[43mgc_after_trial\u001b[49m\u001b[43m,\u001b[49m\n\u001b[1;32m    484\u001b[0m \u001b[43m        \u001b[49m\u001b[43mshow_progress_bar\u001b[49m\u001b[38;5;241;43m=\u001b[39;49m\u001b[43mshow_progress_bar\u001b[49m\u001b[43m,\u001b[49m\n\u001b[1;32m    485\u001b[0m \u001b[43m    \u001b[49m\u001b[43m)\u001b[49m\n",
      "File \u001b[0;32m/usr/local/lib/python3.11/dist-packages/optuna/study/_optimize.py:63\u001b[0m, in \u001b[0;36m_optimize\u001b[0;34m(study, func, n_trials, timeout, n_jobs, catch, callbacks, gc_after_trial, show_progress_bar)\u001b[0m\n\u001b[1;32m     61\u001b[0m \u001b[38;5;28;01mtry\u001b[39;00m:\n\u001b[1;32m     62\u001b[0m     \u001b[38;5;28;01mif\u001b[39;00m n_jobs \u001b[38;5;241m==\u001b[39m \u001b[38;5;241m1\u001b[39m:\n\u001b[0;32m---> 63\u001b[0m         \u001b[43m_optimize_sequential\u001b[49m\u001b[43m(\u001b[49m\n\u001b[1;32m     64\u001b[0m \u001b[43m            \u001b[49m\u001b[43mstudy\u001b[49m\u001b[43m,\u001b[49m\n\u001b[1;32m     65\u001b[0m \u001b[43m            \u001b[49m\u001b[43mfunc\u001b[49m\u001b[43m,\u001b[49m\n\u001b[1;32m     66\u001b[0m \u001b[43m            \u001b[49m\u001b[43mn_trials\u001b[49m\u001b[43m,\u001b[49m\n\u001b[1;32m     67\u001b[0m \u001b[43m            \u001b[49m\u001b[43mtimeout\u001b[49m\u001b[43m,\u001b[49m\n\u001b[1;32m     68\u001b[0m \u001b[43m            \u001b[49m\u001b[43mcatch\u001b[49m\u001b[43m,\u001b[49m\n\u001b[1;32m     69\u001b[0m \u001b[43m            \u001b[49m\u001b[43mcallbacks\u001b[49m\u001b[43m,\u001b[49m\n\u001b[1;32m     70\u001b[0m \u001b[43m            \u001b[49m\u001b[43mgc_after_trial\u001b[49m\u001b[43m,\u001b[49m\n\u001b[1;32m     71\u001b[0m \u001b[43m            \u001b[49m\u001b[43mreseed_sampler_rng\u001b[49m\u001b[38;5;241;43m=\u001b[39;49m\u001b[38;5;28;43;01mFalse\u001b[39;49;00m\u001b[43m,\u001b[49m\n\u001b[1;32m     72\u001b[0m \u001b[43m            \u001b[49m\u001b[43mtime_start\u001b[49m\u001b[38;5;241;43m=\u001b[39;49m\u001b[38;5;28;43;01mNone\u001b[39;49;00m\u001b[43m,\u001b[49m\n\u001b[1;32m     73\u001b[0m \u001b[43m            \u001b[49m\u001b[43mprogress_bar\u001b[49m\u001b[38;5;241;43m=\u001b[39;49m\u001b[43mprogress_bar\u001b[49m\u001b[43m,\u001b[49m\n\u001b[1;32m     74\u001b[0m \u001b[43m        \u001b[49m\u001b[43m)\u001b[49m\n\u001b[1;32m     75\u001b[0m     \u001b[38;5;28;01melse\u001b[39;00m:\n\u001b[1;32m     76\u001b[0m         \u001b[38;5;28;01mif\u001b[39;00m n_jobs \u001b[38;5;241m==\u001b[39m \u001b[38;5;241m-\u001b[39m\u001b[38;5;241m1\u001b[39m:\n",
      "File \u001b[0;32m/usr/local/lib/python3.11/dist-packages/optuna/study/_optimize.py:160\u001b[0m, in \u001b[0;36m_optimize_sequential\u001b[0;34m(study, func, n_trials, timeout, catch, callbacks, gc_after_trial, reseed_sampler_rng, time_start, progress_bar)\u001b[0m\n\u001b[1;32m    157\u001b[0m         \u001b[38;5;28;01mbreak\u001b[39;00m\n\u001b[1;32m    159\u001b[0m \u001b[38;5;28;01mtry\u001b[39;00m:\n\u001b[0;32m--> 160\u001b[0m     frozen_trial \u001b[38;5;241m=\u001b[39m \u001b[43m_run_trial\u001b[49m\u001b[43m(\u001b[49m\u001b[43mstudy\u001b[49m\u001b[43m,\u001b[49m\u001b[43m \u001b[49m\u001b[43mfunc\u001b[49m\u001b[43m,\u001b[49m\u001b[43m \u001b[49m\u001b[43mcatch\u001b[49m\u001b[43m)\u001b[49m\n\u001b[1;32m    161\u001b[0m \u001b[38;5;28;01mfinally\u001b[39;00m:\n\u001b[1;32m    162\u001b[0m     \u001b[38;5;66;03m# The following line mitigates memory problems that can be occurred in some\u001b[39;00m\n\u001b[1;32m    163\u001b[0m     \u001b[38;5;66;03m# environments (e.g., services that use computing containers such as GitHub Actions).\u001b[39;00m\n\u001b[1;32m    164\u001b[0m     \u001b[38;5;66;03m# Please refer to the following PR for further details:\u001b[39;00m\n\u001b[1;32m    165\u001b[0m     \u001b[38;5;66;03m# https://github.com/optuna/optuna/pull/325.\u001b[39;00m\n\u001b[1;32m    166\u001b[0m     \u001b[38;5;28;01mif\u001b[39;00m gc_after_trial:\n",
      "File \u001b[0;32m/usr/local/lib/python3.11/dist-packages/optuna/study/_optimize.py:248\u001b[0m, in \u001b[0;36m_run_trial\u001b[0;34m(study, func, catch)\u001b[0m\n\u001b[1;32m    241\u001b[0m         \u001b[38;5;28;01massert\u001b[39;00m \u001b[38;5;28;01mFalse\u001b[39;00m, \u001b[38;5;124m\"\u001b[39m\u001b[38;5;124mShould not reach.\u001b[39m\u001b[38;5;124m\"\u001b[39m\n\u001b[1;32m    243\u001b[0m \u001b[38;5;28;01mif\u001b[39;00m (\n\u001b[1;32m    244\u001b[0m     frozen_trial\u001b[38;5;241m.\u001b[39mstate \u001b[38;5;241m==\u001b[39m TrialState\u001b[38;5;241m.\u001b[39mFAIL\n\u001b[1;32m    245\u001b[0m     \u001b[38;5;129;01mand\u001b[39;00m func_err \u001b[38;5;129;01mis\u001b[39;00m \u001b[38;5;129;01mnot\u001b[39;00m \u001b[38;5;28;01mNone\u001b[39;00m\n\u001b[1;32m    246\u001b[0m     \u001b[38;5;129;01mand\u001b[39;00m \u001b[38;5;129;01mnot\u001b[39;00m \u001b[38;5;28misinstance\u001b[39m(func_err, catch)\n\u001b[1;32m    247\u001b[0m ):\n\u001b[0;32m--> 248\u001b[0m     \u001b[38;5;28;01mraise\u001b[39;00m func_err\n\u001b[1;32m    249\u001b[0m \u001b[38;5;28;01mreturn\u001b[39;00m frozen_trial\n",
      "File \u001b[0;32m/usr/local/lib/python3.11/dist-packages/optuna/study/_optimize.py:197\u001b[0m, in \u001b[0;36m_run_trial\u001b[0;34m(study, func, catch)\u001b[0m\n\u001b[1;32m    195\u001b[0m \u001b[38;5;28;01mwith\u001b[39;00m get_heartbeat_thread(trial\u001b[38;5;241m.\u001b[39m_trial_id, study\u001b[38;5;241m.\u001b[39m_storage):\n\u001b[1;32m    196\u001b[0m     \u001b[38;5;28;01mtry\u001b[39;00m:\n\u001b[0;32m--> 197\u001b[0m         value_or_values \u001b[38;5;241m=\u001b[39m \u001b[43mfunc\u001b[49m\u001b[43m(\u001b[49m\u001b[43mtrial\u001b[49m\u001b[43m)\u001b[49m\n\u001b[1;32m    198\u001b[0m     \u001b[38;5;28;01mexcept\u001b[39;00m exceptions\u001b[38;5;241m.\u001b[39mTrialPruned \u001b[38;5;28;01mas\u001b[39;00m e:\n\u001b[1;32m    199\u001b[0m         \u001b[38;5;66;03m# TODO(mamu): Handle multi-objective cases.\u001b[39;00m\n\u001b[1;32m    200\u001b[0m         state \u001b[38;5;241m=\u001b[39m TrialState\u001b[38;5;241m.\u001b[39mPRUNED\n",
      "File \u001b[0;32m/notebooks/CIBMTR/py/tuning.py:164\u001b[0m, in \u001b[0;36moptimize_params.<locals>.<lambda>\u001b[0;34m(trial)\u001b[0m\n\u001b[1;32m    155\u001b[0m \u001b[38;5;28;01mdef\u001b[39;00m \u001b[38;5;21moptimize_params\u001b[39m(data, \n\u001b[1;32m    156\u001b[0m                     features, \n\u001b[1;32m    157\u001b[0m                     target_type, \n\u001b[0;32m   (...)\u001b[0m\n\u001b[1;32m    160\u001b[0m                     cv_fold_func\u001b[38;5;241m=\u001b[39mnp\u001b[38;5;241m.\u001b[39maverage, \n\u001b[1;32m    161\u001b[0m                     model_name\u001b[38;5;241m=\u001b[39m\u001b[38;5;124m'\u001b[39m\u001b[38;5;124mcat\u001b[39m\u001b[38;5;124m'\u001b[39m):\n\u001b[1;32m    162\u001b[0m     study \u001b[38;5;241m=\u001b[39m optuna\u001b[38;5;241m.\u001b[39mcreate_study(direction\u001b[38;5;241m=\u001b[39m\u001b[38;5;124m'\u001b[39m\u001b[38;5;124mmaximize\u001b[39m\u001b[38;5;124m'\u001b[39m, \n\u001b[1;32m    163\u001b[0m                                 study_name\u001b[38;5;241m=\u001b[39m\u001b[38;5;124m'\u001b[39m\u001b[38;5;124mOptimize boosting hyperparameters\u001b[39m\u001b[38;5;124m'\u001b[39m)\n\u001b[0;32m--> 164\u001b[0m     study\u001b[38;5;241m.\u001b[39moptimize(\u001b[38;5;28;01mlambda\u001b[39;00m trial: \u001b[43mobjective\u001b[49m\u001b[43m(\u001b[49m\u001b[43mtrial\u001b[49m\u001b[43m,\u001b[49m\u001b[43m \u001b[49m\u001b[43mdata\u001b[49m\u001b[43m,\u001b[49m\u001b[43m \u001b[49m\u001b[43mfeatures\u001b[49m\u001b[43m,\u001b[49m\u001b[43m \u001b[49m\u001b[43mtarget_type\u001b[49m\u001b[43m,\u001b[49m\u001b[43m \u001b[49m\u001b[43mn_split\u001b[49m\u001b[43m,\u001b[49m\u001b[43m \u001b[49m\u001b[43mcat_cols\u001b[49m\u001b[43m,\u001b[49m\u001b[43m \u001b[49m\u001b[43mcv_fold_func\u001b[49m\u001b[43m,\u001b[49m\u001b[43m \u001b[49m\u001b[43mmodel_name\u001b[49m\u001b[43m)\u001b[49m, \n\u001b[1;32m    165\u001b[0m                    n_trials\u001b[38;5;241m=\u001b[39m\u001b[38;5;241m100\u001b[39m)\n\u001b[1;32m    167\u001b[0m     trial \u001b[38;5;241m=\u001b[39m study\u001b[38;5;241m.\u001b[39mbest_trial\n\u001b[1;32m    168\u001b[0m     \u001b[38;5;28mprint\u001b[39m(\u001b[38;5;124m'\u001b[39m\u001b[38;5;124m-\u001b[39m\u001b[38;5;124m'\u001b[39m \u001b[38;5;241m*\u001b[39m \u001b[38;5;241m70\u001b[39m)\n",
      "File \u001b[0;32m/notebooks/CIBMTR/py/tuning.py:119\u001b[0m, in \u001b[0;36mobjective\u001b[0;34m(trial, data, features, target_type, n_split, cat_cols, cv_fold_func, model_name)\u001b[0m\n\u001b[1;32m    117\u001b[0m \u001b[38;5;28;01melif\u001b[39;00m model_name\u001b[38;5;241m==\u001b[39m\u001b[38;5;124m'\u001b[39m\u001b[38;5;124mcat\u001b[39m\u001b[38;5;124m'\u001b[39m:\n\u001b[1;32m    118\u001b[0m     model \u001b[38;5;241m=\u001b[39m CatBoostRegressor(\u001b[38;5;241m*\u001b[39m\u001b[38;5;241m*\u001b[39mparams, cat_features\u001b[38;5;241m=\u001b[39mcat_cols)\n\u001b[0;32m--> 119\u001b[0m     \u001b[43mmodel\u001b[49m\u001b[38;5;241;43m.\u001b[39;49m\u001b[43mfit\u001b[49m\u001b[43m(\u001b[49m\u001b[43mX_train\u001b[49m\u001b[43m,\u001b[49m\n\u001b[1;32m    120\u001b[0m \u001b[43m              \u001b[49m\u001b[43mY_train\u001b[49m\u001b[43m,\u001b[49m\n\u001b[1;32m    121\u001b[0m \u001b[43m              \u001b[49m\u001b[43meval_set\u001b[49m\u001b[38;5;241;43m=\u001b[39;49m\u001b[43m[\u001b[49m\u001b[43m(\u001b[49m\u001b[43mX_val\u001b[49m\u001b[43m,\u001b[49m\u001b[43m \u001b[49m\u001b[43mY_val\u001b[49m\u001b[43m)\u001b[49m\u001b[43m]\u001b[49m\u001b[43m,\u001b[49m\n\u001b[1;32m    122\u001b[0m \u001b[43m              \u001b[49m\u001b[43mearly_stopping_rounds\u001b[49m\u001b[38;5;241;43m=\u001b[39;49m\u001b[38;5;241;43m400\u001b[39;49m\u001b[43m)\u001b[49m\n\u001b[1;32m    124\u001b[0m \u001b[38;5;28;01melif\u001b[39;00m model_name \u001b[38;5;241m==\u001b[39m \u001b[38;5;124m'\u001b[39m\u001b[38;5;124mxgb\u001b[39m\u001b[38;5;124m'\u001b[39m:\n\u001b[1;32m    125\u001b[0m     model \u001b[38;5;241m=\u001b[39m XGBRegressor(\u001b[38;5;241m*\u001b[39m\u001b[38;5;241m*\u001b[39mparam, \n\u001b[1;32m    126\u001b[0m                          enable_categorical\u001b[38;5;241m=\u001b[39m\u001b[38;5;28;01mTrue\u001b[39;00m,\n\u001b[1;32m    127\u001b[0m                          tree_method\u001b[38;5;241m=\u001b[39m\u001b[38;5;124m'\u001b[39m\u001b[38;5;124mgpu_hist\u001b[39m\u001b[38;5;124m'\u001b[39m)\n",
      "File \u001b[0;32m/usr/local/lib/python3.11/dist-packages/catboost/core.py:5873\u001b[0m, in \u001b[0;36mCatBoostRegressor.fit\u001b[0;34m(self, X, y, cat_features, text_features, embedding_features, graph, sample_weight, baseline, use_best_model, eval_set, verbose, logging_level, plot, plot_file, column_description, verbose_eval, metric_period, silent, early_stopping_rounds, save_snapshot, snapshot_file, snapshot_interval, init_model, callbacks, log_cout, log_cerr)\u001b[0m\n\u001b[1;32m   5871\u001b[0m \u001b[38;5;28;01mif\u001b[39;00m \u001b[38;5;124m'\u001b[39m\u001b[38;5;124mloss_function\u001b[39m\u001b[38;5;124m'\u001b[39m \u001b[38;5;129;01min\u001b[39;00m params:\n\u001b[1;32m   5872\u001b[0m     CatBoostRegressor\u001b[38;5;241m.\u001b[39m_check_is_compatible_loss(params[\u001b[38;5;124m'\u001b[39m\u001b[38;5;124mloss_function\u001b[39m\u001b[38;5;124m'\u001b[39m])\n\u001b[0;32m-> 5873\u001b[0m \u001b[38;5;28;01mreturn\u001b[39;00m \u001b[38;5;28;43mself\u001b[39;49m\u001b[38;5;241;43m.\u001b[39;49m\u001b[43m_fit\u001b[49m\u001b[43m(\u001b[49m\u001b[43mX\u001b[49m\u001b[43m,\u001b[49m\u001b[43m \u001b[49m\u001b[43my\u001b[49m\u001b[43m,\u001b[49m\u001b[43m \u001b[49m\u001b[43mcat_features\u001b[49m\u001b[43m,\u001b[49m\u001b[43m \u001b[49m\u001b[43mtext_features\u001b[49m\u001b[43m,\u001b[49m\u001b[43m \u001b[49m\u001b[43membedding_features\u001b[49m\u001b[43m,\u001b[49m\u001b[43m \u001b[49m\u001b[38;5;28;43;01mNone\u001b[39;49;00m\u001b[43m,\u001b[49m\u001b[43m \u001b[49m\u001b[43mgraph\u001b[49m\u001b[43m,\u001b[49m\u001b[43m \u001b[49m\u001b[43msample_weight\u001b[49m\u001b[43m,\u001b[49m\u001b[43m \u001b[49m\u001b[38;5;28;43;01mNone\u001b[39;49;00m\u001b[43m,\u001b[49m\u001b[43m \u001b[49m\u001b[38;5;28;43;01mNone\u001b[39;49;00m\u001b[43m,\u001b[49m\u001b[43m \u001b[49m\u001b[38;5;28;43;01mNone\u001b[39;49;00m\u001b[43m,\u001b[49m\u001b[43m \u001b[49m\u001b[38;5;28;43;01mNone\u001b[39;49;00m\u001b[43m,\u001b[49m\u001b[43m \u001b[49m\u001b[43mbaseline\u001b[49m\u001b[43m,\u001b[49m\n\u001b[1;32m   5874\u001b[0m \u001b[43m                 \u001b[49m\u001b[43muse_best_model\u001b[49m\u001b[43m,\u001b[49m\u001b[43m \u001b[49m\u001b[43meval_set\u001b[49m\u001b[43m,\u001b[49m\u001b[43m \u001b[49m\u001b[43mverbose\u001b[49m\u001b[43m,\u001b[49m\u001b[43m \u001b[49m\u001b[43mlogging_level\u001b[49m\u001b[43m,\u001b[49m\u001b[43m \u001b[49m\u001b[43mplot\u001b[49m\u001b[43m,\u001b[49m\u001b[43m \u001b[49m\u001b[43mplot_file\u001b[49m\u001b[43m,\u001b[49m\u001b[43m \u001b[49m\u001b[43mcolumn_description\u001b[49m\u001b[43m,\u001b[49m\n\u001b[1;32m   5875\u001b[0m \u001b[43m                 \u001b[49m\u001b[43mverbose_eval\u001b[49m\u001b[43m,\u001b[49m\u001b[43m \u001b[49m\u001b[43mmetric_period\u001b[49m\u001b[43m,\u001b[49m\u001b[43m \u001b[49m\u001b[43msilent\u001b[49m\u001b[43m,\u001b[49m\u001b[43m \u001b[49m\u001b[43mearly_stopping_rounds\u001b[49m\u001b[43m,\u001b[49m\n\u001b[1;32m   5876\u001b[0m \u001b[43m                 \u001b[49m\u001b[43msave_snapshot\u001b[49m\u001b[43m,\u001b[49m\u001b[43m \u001b[49m\u001b[43msnapshot_file\u001b[49m\u001b[43m,\u001b[49m\u001b[43m \u001b[49m\u001b[43msnapshot_interval\u001b[49m\u001b[43m,\u001b[49m\u001b[43m \u001b[49m\u001b[43minit_model\u001b[49m\u001b[43m,\u001b[49m\u001b[43m \u001b[49m\u001b[43mcallbacks\u001b[49m\u001b[43m,\u001b[49m\u001b[43m \u001b[49m\u001b[43mlog_cout\u001b[49m\u001b[43m,\u001b[49m\u001b[43m \u001b[49m\u001b[43mlog_cerr\u001b[49m\u001b[43m)\u001b[49m\n",
      "File \u001b[0;32m/usr/local/lib/python3.11/dist-packages/catboost/core.py:2410\u001b[0m, in \u001b[0;36mCatBoost._fit\u001b[0;34m(self, X, y, cat_features, text_features, embedding_features, pairs, graph, sample_weight, group_id, group_weight, subgroup_id, pairs_weight, baseline, use_best_model, eval_set, verbose, logging_level, plot, plot_file, column_description, verbose_eval, metric_period, silent, early_stopping_rounds, save_snapshot, snapshot_file, snapshot_interval, init_model, callbacks, log_cout, log_cerr)\u001b[0m\n\u001b[1;32m   2407\u001b[0m allow_clear_pool \u001b[38;5;241m=\u001b[39m train_params[\u001b[38;5;124m\"\u001b[39m\u001b[38;5;124mallow_clear_pool\u001b[39m\u001b[38;5;124m\"\u001b[39m]\n\u001b[1;32m   2409\u001b[0m \u001b[38;5;28;01mwith\u001b[39;00m plot_wrapper(plot, plot_file, \u001b[38;5;124m'\u001b[39m\u001b[38;5;124mTraining plots\u001b[39m\u001b[38;5;124m'\u001b[39m, [_get_train_dir(\u001b[38;5;28mself\u001b[39m\u001b[38;5;241m.\u001b[39mget_params())]):\n\u001b[0;32m-> 2410\u001b[0m     \u001b[38;5;28;43mself\u001b[39;49m\u001b[38;5;241;43m.\u001b[39;49m\u001b[43m_train\u001b[49m\u001b[43m(\u001b[49m\n\u001b[1;32m   2411\u001b[0m \u001b[43m        \u001b[49m\u001b[43mtrain_pool\u001b[49m\u001b[43m,\u001b[49m\n\u001b[1;32m   2412\u001b[0m \u001b[43m        \u001b[49m\u001b[43mtrain_params\u001b[49m\u001b[43m[\u001b[49m\u001b[38;5;124;43m\"\u001b[39;49m\u001b[38;5;124;43meval_sets\u001b[39;49m\u001b[38;5;124;43m\"\u001b[39;49m\u001b[43m]\u001b[49m\u001b[43m,\u001b[49m\n\u001b[1;32m   2413\u001b[0m \u001b[43m        \u001b[49m\u001b[43mparams\u001b[49m\u001b[43m,\u001b[49m\n\u001b[1;32m   2414\u001b[0m \u001b[43m        \u001b[49m\u001b[43mallow_clear_pool\u001b[49m\u001b[43m,\u001b[49m\n\u001b[1;32m   2415\u001b[0m \u001b[43m        \u001b[49m\u001b[43mtrain_params\u001b[49m\u001b[43m[\u001b[49m\u001b[38;5;124;43m\"\u001b[39;49m\u001b[38;5;124;43minit_model\u001b[39;49m\u001b[38;5;124;43m\"\u001b[39;49m\u001b[43m]\u001b[49m\n\u001b[1;32m   2416\u001b[0m \u001b[43m    \u001b[49m\u001b[43m)\u001b[49m\n\u001b[1;32m   2418\u001b[0m \u001b[38;5;66;03m# Have property feature_importance possibly set\u001b[39;00m\n\u001b[1;32m   2419\u001b[0m loss \u001b[38;5;241m=\u001b[39m \u001b[38;5;28mself\u001b[39m\u001b[38;5;241m.\u001b[39m_object\u001b[38;5;241m.\u001b[39m_get_loss_function_name()\n",
      "File \u001b[0;32m/usr/local/lib/python3.11/dist-packages/catboost/core.py:1790\u001b[0m, in \u001b[0;36m_CatBoostBase._train\u001b[0;34m(self, train_pool, test_pool, params, allow_clear_pool, init_model)\u001b[0m\n\u001b[1;32m   1789\u001b[0m \u001b[38;5;28;01mdef\u001b[39;00m \u001b[38;5;21m_train\u001b[39m(\u001b[38;5;28mself\u001b[39m, train_pool, test_pool, params, allow_clear_pool, init_model):\n\u001b[0;32m-> 1790\u001b[0m     \u001b[38;5;28;43mself\u001b[39;49m\u001b[38;5;241;43m.\u001b[39;49m\u001b[43m_object\u001b[49m\u001b[38;5;241;43m.\u001b[39;49m\u001b[43m_train\u001b[49m\u001b[43m(\u001b[49m\u001b[43mtrain_pool\u001b[49m\u001b[43m,\u001b[49m\u001b[43m \u001b[49m\u001b[43mtest_pool\u001b[49m\u001b[43m,\u001b[49m\u001b[43m \u001b[49m\u001b[43mparams\u001b[49m\u001b[43m,\u001b[49m\u001b[43m \u001b[49m\u001b[43mallow_clear_pool\u001b[49m\u001b[43m,\u001b[49m\u001b[43m \u001b[49m\u001b[43minit_model\u001b[49m\u001b[38;5;241;43m.\u001b[39;49m\u001b[43m_object\u001b[49m\u001b[43m \u001b[49m\u001b[38;5;28;43;01mif\u001b[39;49;00m\u001b[43m \u001b[49m\u001b[43minit_model\u001b[49m\u001b[43m \u001b[49m\u001b[38;5;28;43;01melse\u001b[39;49;00m\u001b[43m \u001b[49m\u001b[38;5;28;43;01mNone\u001b[39;49;00m\u001b[43m)\u001b[49m\n\u001b[1;32m   1791\u001b[0m     \u001b[38;5;28mself\u001b[39m\u001b[38;5;241m.\u001b[39m_set_trained_model_attributes()\n",
      "File \u001b[0;32m_catboost.pyx:5017\u001b[0m, in \u001b[0;36m_catboost._CatBoost._train\u001b[0;34m()\u001b[0m\n",
      "File \u001b[0;32m_catboost.pyx:5066\u001b[0m, in \u001b[0;36m_catboost._CatBoost._train\u001b[0;34m()\u001b[0m\n",
      "\u001b[0;31mKeyboardInterrupt\u001b[0m: "
     ]
    }
   ],
   "source": [
    "tuning.optimize_params(\n",
    "                data=data,\n",
    "                features=FEATURES,\n",
    "                target_type='target4',\n",
    "                n_split=N_SPLITS, \n",
    "                cat_cols=categorical_cols,\n",
    "                cv_fold_func=np.average, \n",
    "                model_name='cat')"
   ]
  },
  {
   "cell_type": "code",
   "execution_count": 33,
   "id": "172f4688-1946-4dc2-b028-a668d739adfd",
   "metadata": {
    "tags": []
   },
   "outputs": [],
   "source": [
    "# \"\"\" Optuna Objective \"\"\"\n",
    "\n",
    "#######確認する!!!!!!!!!!########\n",
    "fold_imp_flag = False\n",
    "###############################\n",
    "def objective(trial, \n",
    "              data=data,\n",
    "              features=FEATURES,\n",
    "              targets=TARGETS,\n",
    "              n_split=N_SPLITS, \n",
    "              cat_cols=categorical_cols,\n",
    "              cv_fold_func=np.average, \n",
    "              model_name='cat'):\n",
    "    # cat base\n",
    "    if model_name=='cat':\n",
    "        param = {\n",
    "            'loss_function': 'Cox',\n",
    "            'grow_policy': 'SymmetricTree',\n",
    "            'random_seed' : 2025,\n",
    "            'n_estimators': trial.suggest_int('n_estimators', 1000, 10000),\n",
    "            'learning_rate': trial.suggest_float('learning_rate', 0.005, 0.09, log=True), \n",
    "            'max_depth': trial.suggest_int('max_depth', 4, 16),\n",
    "            'verbose': 500,\n",
    "            'task_type': 'CPU',\n",
    "            'colsample_bylevel': trial.suggest_float('l2_leaf_reg', 0.05, 0.9, log=True),\n",
    "            'min_child_samples': trial.suggest_int('min_child_samples', 1, 10),\n",
    "            'l2_leaf_reg': trial.suggest_float('l2_leaf_reg', 0.05, 0.9, log=True),\n",
    "            'subsample': trial.suggest_float('l2_leaf_reg', 0.01, 0.9, log=True),\n",
    "        }\n",
    "    \n",
    "    \"\"\" Fold Iter \"\"\"\n",
    "    best_loss_score = []\n",
    "    oof_preds = np.zeros(len(data))\n",
    "    for fold in range(n_split):\n",
    "        \"\"\" Dataset \"\"\"\n",
    "        X_train = data[data[\"fold\"] != fold][features]\n",
    "        Y_train = data[data[\"fold\"] != fold]['target4']\n",
    "        X_val = data[data[\"fold\"] == fold][features]\n",
    "        Y_val = data[data[\"fold\"] == fold]['target4']\n",
    "        val_idx = data[data[\"fold\"] == fold].index\n",
    "        \n",
    "        \"\"\" Train Model \"\"\"\n",
    "        if model_name=='lgb':\n",
    "            model = LGBMRegressor(**param, \n",
    "                                  categorical_feature=cat_cols)\n",
    "            # model = LGBMRegressor(**param)\n",
    "            model.fit(X_train,\n",
    "                      Y_train,\n",
    "                      eval_metric='rmse',\n",
    "                      eval_set=[(X_val, Y_val)],\n",
    "                      callbacks=[lgb.early_stopping(stopping_rounds=400, verbose=True),\n",
    "                                 lgb.log_evaluation(period=400)], # Logの出力 100毎に出力\n",
    "                     )\n",
    "            \n",
    "        elif model_name=='cat':\n",
    "            model = CatBoostRegressor(**param, cat_features=cat_cols)\n",
    "            model.fit(X_train,\n",
    "                      Y_train,\n",
    "                      eval_set=[(X_val, Y_val)],\n",
    "                      early_stopping_rounds=400)\n",
    "            \n",
    "        elif model_name == 'xgb':\n",
    "            model = XGBRegressor(**param, \n",
    "                                 enable_categorical=True,\n",
    "                                 tree_method='gpu_hist')\n",
    "            model.fit(X_train,\n",
    "                      Y_train,\n",
    "                      eval_set=[(X_train, Y_train), (X_val, Y_val)],\n",
    "                      early_stopping_rounds=400,\n",
    "                      verbose=400)\n",
    "        \"\"\" Eval \"\"\"\n",
    "        preds = model.predict(X_val)\n",
    "        oof_preds[val_idx] = preds\n",
    "        \n",
    "        y_true_fold = data.iloc[val_idx][['ID', 'efs', 'efs_time', 'race_group']].copy()\n",
    "        y_pred_fold = data.iloc[val_idx][['ID']].copy()\n",
    "        y_pred_fold['prediction'] = preds\n",
    "        loss_val = score(y_true_fold, y_pred_fold, 'ID')\n",
    "        best_loss_score.append(loss_val)\n",
    "        print(clr.RED + f'fold{fold} C-index:{loss_val}' + clr.END)\n",
    "        \n",
    "        del X_train, X_val, Y_train, Y_val, model, preds\n",
    "        gc.collect()\n",
    "\n",
    "    # save_trial_params(trial.number, param, score)\n",
    "    \"\"\" Finaly Logging \"\"\"\n",
    "    print('-'*70)\n",
    "    print(f\"-[INFO] Trial OOF(Log Loss): {np.mean(best_loss_score)}\")\n",
    "    print(f\"-[INFO] Trial All Fold(Log Loss): {best_loss_score}\")\n",
    "    print('-'*70)\n",
    "    \n",
    "    \n",
    "    return cv_fold_func(best_loss_score)"
   ]
  },
  {
   "cell_type": "code",
   "execution_count": 32,
   "id": "df35e475-69dd-4b4e-93b5-92efd2b0e6f6",
   "metadata": {
    "tags": []
   },
   "outputs": [
    {
     "name": "stderr",
     "output_type": "stream",
     "text": [
      "[I 2025-01-13 05:23:19,593] A new study created in memory with name: Optimize boosting hyperparameters\n"
     ]
    },
    {
     "name": "stdout",
     "output_type": "stream",
     "text": [
      "0:\tlearn: -120441.6261053\ttest: -25898.2071903\tbest: -25898.2071903 (0)\ttotal: 39ms\tremaining: 3m 56s\n",
      "500:\tlearn: -118312.8539285\ttest: -25354.8654144\tbest: -25354.8654144 (500)\ttotal: 21.3s\tremaining: 3m 55s\n",
      "1000:\tlearn: -117989.4666606\ttest: -25302.4997063\tbest: -25302.4997063 (1000)\ttotal: 44.4s\tremaining: 3m 44s\n",
      "1500:\tlearn: -117755.6892004\ttest: -25277.0509374\tbest: -25277.0426953 (1499)\ttotal: 1m 6s\tremaining: 3m 20s\n",
      "2000:\tlearn: -117552.1282941\ttest: -25262.2747866\tbest: -25262.2747866 (2000)\ttotal: 1m 26s\tremaining: 2m 54s\n",
      "2500:\tlearn: -117382.8809147\ttest: -25250.8928079\tbest: -25250.8867742 (2499)\ttotal: 1m 50s\tremaining: 2m 36s\n",
      "3000:\tlearn: -117236.5008885\ttest: -25244.0831870\tbest: -25244.0831870 (3000)\ttotal: 2m 15s\tremaining: 2m 17s\n",
      "3500:\tlearn: -117107.0577205\ttest: -25239.0911221\tbest: -25239.0911221 (3500)\ttotal: 2m 37s\tremaining: 1m 54s\n",
      "4000:\tlearn: -116989.4232604\ttest: -25237.0310601\tbest: -25237.0262993 (3990)\ttotal: 3m 2s\tremaining: 1m 33s\n",
      "4500:\tlearn: -116874.8640216\ttest: -25234.2723122\tbest: -25234.2006897 (4496)\ttotal: 3m 27s\tremaining: 1m 11s\n",
      "5000:\tlearn: -116768.4201052\ttest: -25231.6642615\tbest: -25231.6551520 (4997)\ttotal: 3m 51s\tremaining: 48.5s\n",
      "5500:\tlearn: -116665.9971113\ttest: -25229.8958786\tbest: -25229.7149867 (5455)\ttotal: 4m 17s\tremaining: 25.7s\n",
      "6000:\tlearn: -116568.2400645\ttest: -25229.0095306\tbest: -25228.9140270 (5993)\ttotal: 4m 41s\tremaining: 2.3s\n",
      "6049:\tlearn: -116558.5379214\ttest: -25228.9256942\tbest: -25228.8337447 (6040)\ttotal: 4m 43s\tremaining: 0us\n",
      "\n",
      "bestTest = -25228.83374\n",
      "bestIteration = 6040\n",
      "\n",
      "Shrink model to first 6041 iterations.\n",
      "American Indian or Alaska Native\n",
      "0.6883838755762405\n",
      "Asian\n",
      "0.7032379280921015\n",
      "Black or African-American\n",
      "0.6743895285593507\n",
      "More than one race\n",
      "0.6923677854036403\n",
      "Native Hawaiian or other Pacific Islander\n",
      "0.6675927019962593\n",
      "White\n",
      "0.6450466675590494\n",
      "\u001b[31mfold0 C-index:0.6595427626598952\u001b[0m\n",
      "0:\tlearn: -120773.2898616\ttest: -25614.3700132\tbest: -25614.3700132 (0)\ttotal: 71ms\tremaining: 7m 9s\n",
      "500:\tlearn: -118567.4839517\ttest: -25118.1392319\tbest: -25118.1392319 (500)\ttotal: 23.1s\tremaining: 4m 16s\n",
      "1000:\tlearn: -118265.1544709\ttest: -25075.6176638\tbest: -25075.6051764 (998)\ttotal: 43.8s\tremaining: 3m 40s\n",
      "1500:\tlearn: -118044.2381245\ttest: -25050.4004372\tbest: -25050.4004372 (1500)\ttotal: 1m 7s\tremaining: 3m 24s\n",
      "2000:\tlearn: -117844.6710515\ttest: -25033.9268911\tbest: -25033.9268911 (2000)\ttotal: 1m 31s\tremaining: 3m 5s\n",
      "2500:\tlearn: -117683.9960703\ttest: -25022.9239650\tbest: -25022.9123085 (2499)\ttotal: 1m 55s\tremaining: 2m 43s\n",
      "3000:\tlearn: -117544.2981864\ttest: -25015.3761486\tbest: -25015.3761486 (3000)\ttotal: 2m 20s\tremaining: 2m 22s\n",
      "3500:\tlearn: -117413.0159723\ttest: -25009.6090658\tbest: -25009.5896336 (3499)\ttotal: 2m 43s\tremaining: 1m 59s\n",
      "4000:\tlearn: -117298.0141817\ttest: -25004.9563856\tbest: -25004.8985019 (3971)\ttotal: 3m 7s\tremaining: 1m 36s\n",
      "4500:\tlearn: -117184.2783528\ttest: -25001.5660418\tbest: -25001.5516003 (4498)\ttotal: 3m 33s\tremaining: 1m 13s\n",
      "5000:\tlearn: -117081.6834186\ttest: -24999.0713825\tbest: -24999.0713825 (5000)\ttotal: 3m 57s\tremaining: 49.8s\n",
      "5500:\tlearn: -116981.5782182\ttest: -24996.9546343\tbest: -24996.8222734 (5453)\ttotal: 4m 22s\tremaining: 26.2s\n",
      "6000:\tlearn: -116884.1896380\ttest: -24995.7879887\tbest: -24995.7617994 (5995)\ttotal: 4m 47s\tremaining: 2.35s\n",
      "6049:\tlearn: -116875.6354944\ttest: -24995.7032001\tbest: -24995.5263785 (6025)\ttotal: 4m 50s\tremaining: 0us\n",
      "\n",
      "bestTest = -24995.52638\n",
      "bestIteration = 6025\n",
      "\n",
      "Shrink model to first 6026 iterations.\n",
      "American Indian or Alaska Native\n",
      "0.6979576551759356\n",
      "Asian\n",
      "0.690179929212591\n",
      "Black or African-American\n",
      "0.659473464089208\n",
      "More than one race\n",
      "0.6917207019539242\n",
      "Native Hawaiian or other Pacific Islander\n",
      "0.6820193741808156\n",
      "White\n",
      "0.6519422387710038\n",
      "\u001b[31mfold1 C-index:0.6617132571077968\u001b[0m\n",
      "0:\tlearn: -120390.2775397\ttest: -25940.8477752\tbest: -25940.8477752 (0)\ttotal: 44ms\tremaining: 4m 26s\n",
      "500:\tlearn: -118167.1022274\ttest: -25439.3120537\tbest: -25439.3120537 (500)\ttotal: 21.3s\tremaining: 3m 55s\n",
      "1000:\tlearn: -117850.0171399\ttest: -25395.9520152\tbest: -25395.9520152 (1000)\ttotal: 45s\tremaining: 3m 46s\n",
      "1500:\tlearn: -117616.4857465\ttest: -25373.0769194\tbest: -25373.0769194 (1500)\ttotal: 1m 7s\tremaining: 3m 25s\n",
      "2000:\tlearn: -117411.2905968\ttest: -25357.6295153\tbest: -25357.6295153 (2000)\ttotal: 1m 32s\tremaining: 3m 6s\n",
      "2500:\tlearn: -117245.2537627\ttest: -25349.5168029\tbest: -25349.5168029 (2500)\ttotal: 1m 56s\tremaining: 2m 44s\n",
      "3000:\tlearn: -117105.4472090\ttest: -25344.7620994\tbest: -25344.6831901 (2995)\ttotal: 2m 20s\tremaining: 2m 22s\n",
      "3500:\tlearn: -116977.3864965\ttest: -25340.0396767\tbest: -25340.0396767 (3500)\ttotal: 2m 42s\tremaining: 1m 58s\n",
      "4000:\tlearn: -116859.7462357\ttest: -25336.6550212\tbest: -25336.6222245 (3948)\ttotal: 3m 6s\tremaining: 1m 35s\n",
      "4500:\tlearn: -116743.5550948\ttest: -25333.6853127\tbest: -25333.6774163 (4499)\ttotal: 3m 31s\tremaining: 1m 12s\n",
      "5000:\tlearn: -116636.3136414\ttest: -25332.6462405\tbest: -25332.5665654 (4965)\ttotal: 3m 53s\tremaining: 48.9s\n",
      "5500:\tlearn: -116533.4575876\ttest: -25331.5782221\tbest: -25331.5381468 (5459)\ttotal: 4m 16s\tremaining: 25.6s\n",
      "6000:\tlearn: -116433.9451532\ttest: -25330.5308326\tbest: -25330.5292855 (5999)\ttotal: 4m 38s\tremaining: 2.28s\n",
      "6049:\tlearn: -116425.7068348\ttest: -25330.5881826\tbest: -25330.4883487 (6020)\ttotal: 4m 41s\tremaining: 0us\n",
      "\n",
      "bestTest = -25330.48835\n",
      "bestIteration = 6020\n",
      "\n",
      "Shrink model to first 6021 iterations.\n",
      "American Indian or Alaska Native\n",
      "0.6980275481475665\n",
      "Asian\n",
      "0.6831439950600373\n",
      "Black or African-American\n",
      "0.6649300839861363\n",
      "More than one race\n",
      "0.6850113587773825\n",
      "Native Hawaiian or other Pacific Islander\n",
      "0.6680371752929832\n",
      "White\n",
      "0.6715130949935457\n",
      "\u001b[31mfold2 C-index:0.6669859756858962\u001b[0m\n",
      "0:\tlearn: -120479.0273854\ttest: -25866.1876570\tbest: -25866.1876570 (0)\ttotal: 47.7ms\tremaining: 4m 48s\n",
      "500:\tlearn: -118303.8004178\ttest: -25344.7192597\tbest: -25344.7192597 (500)\ttotal: 22.3s\tremaining: 4m 7s\n",
      "1000:\tlearn: -118003.3267589\ttest: -25296.8900104\tbest: -25296.8716271 (999)\ttotal: 43.5s\tremaining: 3m 39s\n",
      "1500:\tlearn: -117790.5761446\ttest: -25268.9095594\tbest: -25268.9066544 (1499)\ttotal: 1m 5s\tremaining: 3m 17s\n",
      "2000:\tlearn: -117593.0226991\ttest: -25250.0742842\tbest: -25250.0742842 (2000)\ttotal: 1m 25s\tremaining: 2m 52s\n",
      "2500:\tlearn: -117429.7283792\ttest: -25238.5901917\tbest: -25238.4710675 (2496)\ttotal: 1m 49s\tremaining: 2m 34s\n",
      "3000:\tlearn: -117291.8254108\ttest: -25229.4861347\tbest: -25229.4759203 (2997)\ttotal: 2m 13s\tremaining: 2m 15s\n",
      "3500:\tlearn: -117161.5763721\ttest: -25222.3665125\tbest: -25222.3587749 (3499)\ttotal: 2m 36s\tremaining: 1m 54s\n",
      "4000:\tlearn: -117045.3531020\ttest: -25217.6642807\tbest: -25217.6642807 (4000)\ttotal: 2m 57s\tremaining: 1m 30s\n",
      "4500:\tlearn: -116937.1371196\ttest: -25212.9557418\tbest: -25212.8930896 (4490)\ttotal: 3m 19s\tremaining: 1m 8s\n",
      "5000:\tlearn: -116834.1788332\ttest: -25209.8855909\tbest: -25209.8847338 (4996)\ttotal: 3m 42s\tremaining: 46.6s\n",
      "5500:\tlearn: -116736.3022625\ttest: -25206.5095161\tbest: -25206.5095161 (5500)\ttotal: 4m 3s\tremaining: 24.3s\n",
      "6000:\tlearn: -116640.5180684\ttest: -25203.6290792\tbest: -25203.6207147 (5999)\ttotal: 4m 28s\tremaining: 2.19s\n",
      "6049:\tlearn: -116630.1212452\ttest: -25203.5300442\tbest: -25203.4286797 (6029)\ttotal: 4m 30s\tremaining: 0us\n",
      "\n",
      "bestTest = -25203.42868\n",
      "bestIteration = 6029\n",
      "\n",
      "Shrink model to first 6030 iterations.\n",
      "American Indian or Alaska Native\n",
      "0.6795653107886613\n",
      "Asian\n",
      "0.6974816171519379\n",
      "Black or African-American\n",
      "0.6861527364912345\n",
      "More than one race\n",
      "0.6766501697386296\n",
      "Native Hawaiian or other Pacific Islander\n",
      "0.6722969781800383\n",
      "White\n",
      "0.6731535199492839\n",
      "\u001b[31mfold3 C-index:0.6721617489380536\u001b[0m\n",
      "0:\tlearn: -120546.5557168\ttest: -25807.6141756\tbest: -25807.6141756 (0)\ttotal: 48.7ms\tremaining: 4m 54s\n",
      "500:\tlearn: -118454.7834827\ttest: -25275.4779393\tbest: -25275.4779393 (500)\ttotal: 22.6s\tremaining: 4m 10s\n",
      "1000:\tlearn: -118127.1673694\ttest: -25216.7921466\tbest: -25216.7921466 (1000)\ttotal: 43.9s\tremaining: 3m 41s\n",
      "1500:\tlearn: -117899.2301933\ttest: -25186.1749669\tbest: -25186.1749669 (1500)\ttotal: 1m 8s\tremaining: 3m 26s\n",
      "2000:\tlearn: -117694.1104003\ttest: -25165.6166847\tbest: -25165.6166847 (2000)\ttotal: 1m 32s\tremaining: 3m 7s\n",
      "2500:\tlearn: -117523.0949712\ttest: -25152.1452184\tbest: -25152.1324474 (2499)\ttotal: 1m 54s\tremaining: 2m 42s\n",
      "3000:\tlearn: -117382.5104858\ttest: -25141.5164500\tbest: -25141.5084148 (2999)\ttotal: 2m 16s\tremaining: 2m 18s\n",
      "3500:\tlearn: -117256.7401386\ttest: -25134.3156826\tbest: -25134.2733896 (3499)\ttotal: 2m 39s\tremaining: 1m 56s\n",
      "4000:\tlearn: -117140.0960443\ttest: -25128.0633348\tbest: -25128.0633348 (4000)\ttotal: 3m\tremaining: 1m 32s\n",
      "4500:\tlearn: -117024.8112816\ttest: -25122.5262825\tbest: -25122.5262825 (4500)\ttotal: 3m 25s\tremaining: 1m 10s\n",
      "5000:\tlearn: -116921.3242691\ttest: -25118.2066061\tbest: -25118.2066061 (5000)\ttotal: 3m 50s\tremaining: 48.4s\n",
      "5500:\tlearn: -116822.1580589\ttest: -25114.7603893\tbest: -25114.7407464 (5495)\ttotal: 4m 14s\tremaining: 25.4s\n",
      "6000:\tlearn: -116725.6181182\ttest: -25112.1669173\tbest: -25112.1669173 (6000)\ttotal: 4m 37s\tremaining: 2.27s\n",
      "6049:\tlearn: -116715.8164228\ttest: -25111.8771055\tbest: -25111.8771055 (6049)\ttotal: 4m 40s\tremaining: 0us\n",
      "\n",
      "bestTest = -25111.87711\n",
      "bestIteration = 6049\n",
      "\n",
      "American Indian or Alaska Native\n",
      "0.6893419854542939\n",
      "Asian\n",
      "0.7054941481578225\n",
      "Black or African-American\n",
      "0.6707425263095067\n",
      "More than one race\n",
      "0.6826748648438296\n",
      "Native Hawaiian or other Pacific Islander\n",
      "0.6921304095049269\n",
      "White\n",
      "0.6705591808955702\n",
      "\u001b[31mfold4 C-index:0.6728637153198528\u001b[0m\n"
     ]
    },
    {
     "name": "stderr",
     "output_type": "stream",
     "text": [
      "[I 2025-01-13 05:46:53,892] Trial 0 finished with value: 0.6666534919422988 and parameters: {'n_estimators': 6050, 'learning_rate': 0.007752159793217138, 'max_depth': 5, 'l2_leaf_reg': 0.49065357762273537, 'min_child_samples': 9}. Best is trial 0 with value: 0.6666534919422988.\n"
     ]
    },
    {
     "name": "stdout",
     "output_type": "stream",
     "text": [
      "----------------------------------------------------------------------\n",
      "-[INFO] Trial OOF(Log Loss): 0.6666534919422988\n",
      "-[INFO] Trial All Fold(Log Loss): [0.6595427626598952, 0.6617132571077968, 0.6669859756858962, 0.6721617489380536, 0.6728637153198528]\n",
      "----------------------------------------------------------------------\n",
      "0:\tlearn: -120351.0080692\ttest: -25873.8065162\tbest: -25873.8065162 (0)\ttotal: 24ms\tremaining: 3m 57s\n",
      "500:\tlearn: -117767.3202177\ttest: -25278.9704323\tbest: -25278.9704323 (500)\ttotal: 12.2s\tremaining: 3m 48s\n",
      "1000:\tlearn: -117313.5703328\ttest: -25246.7960958\tbest: -25246.6559910 (996)\ttotal: 25.1s\tremaining: 3m 43s\n",
      "1500:\tlearn: -116960.2117962\ttest: -25235.0287112\tbest: -25234.9663035 (1496)\ttotal: 37.9s\tremaining: 3m 32s\n",
      "2000:\tlearn: -116656.5827200\ttest: -25232.5943452\tbest: -25230.8803727 (1864)\ttotal: 49.2s\tremaining: 3m 14s\n",
      "2500:\tlearn: -116377.6930683\ttest: -25233.1646320\tbest: -25229.1479294 (2328)\ttotal: 1m 1s\tremaining: 3m 2s\n",
      "Stopped by overfitting detector  (400 iterations wait)\n",
      "\n",
      "bestTest = -25229.14793\n",
      "bestIteration = 2328\n",
      "\n",
      "Shrink model to first 2329 iterations.\n",
      "American Indian or Alaska Native\n",
      "0.685323357438473\n",
      "Asian\n",
      "0.7036820698621545\n",
      "Black or African-American\n",
      "0.6767138226651722\n",
      "More than one race\n",
      "0.6917362322918195\n",
      "Native Hawaiian or other Pacific Islander\n",
      "0.669638817402932\n",
      "White\n",
      "0.6476094284288791\n",
      "\u001b[31mfold0 C-index:0.6613711859730522\u001b[0m\n",
      "0:\tlearn: -120680.6002306\ttest: -25591.6918985\tbest: -25591.6918985 (0)\ttotal: 25.2ms\tremaining: 4m 10s\n",
      "500:\tlearn: -118042.9147188\ttest: -25049.5041963\tbest: -25049.5041963 (500)\ttotal: 11.2s\tremaining: 3m 30s\n",
      "1000:\tlearn: -117587.3752512\ttest: -25020.5575600\tbest: -25020.5575600 (1000)\ttotal: 23.5s\tremaining: 3m 29s\n",
      "1500:\tlearn: -117233.7803223\ttest: -25009.8581699\tbest: -25009.6491697 (1494)\ttotal: 35.2s\tremaining: 3m 17s\n",
      "2000:\tlearn: -116936.2624910\ttest: -25009.2138858\tbest: -25008.2877477 (1971)\ttotal: 46.7s\tremaining: 3m 4s\n",
      "2500:\tlearn: -116661.8580268\ttest: -25007.9861246\tbest: -25005.5651561 (2298)\ttotal: 58.6s\tremaining: 2m 53s\n",
      "Stopped by overfitting detector  (400 iterations wait)\n",
      "\n",
      "bestTest = -25005.56516\n",
      "bestIteration = 2298\n",
      "\n",
      "Shrink model to first 2299 iterations.\n",
      "American Indian or Alaska Native\n",
      "0.6996768675156815\n",
      "Asian\n",
      "0.6845142449567335\n",
      "Black or African-American\n",
      "0.6586044136897165\n",
      "More than one race\n",
      "0.691516717456746\n",
      "Native Hawaiian or other Pacific Islander\n",
      "0.6781987736716031\n",
      "White\n",
      "0.6537815461147748\n",
      "\u001b[31mfold1 C-index:0.6610956622870998\u001b[0m\n",
      "0:\tlearn: -120296.5564445\ttest: -25919.1222017\tbest: -25919.1222017 (0)\ttotal: 21.4ms\tremaining: 3m 32s\n",
      "500:\tlearn: -117606.6565494\ttest: -25373.1287817\tbest: -25373.1287817 (500)\ttotal: 12.2s\tremaining: 3m 48s\n",
      "1000:\tlearn: -117164.1273738\ttest: -25345.2134675\tbest: -25345.0571385 (992)\ttotal: 23.8s\tremaining: 3m 31s\n",
      "1500:\tlearn: -116821.3472369\ttest: -25344.2595541\tbest: -25343.3034381 (1483)\ttotal: 35.6s\tremaining: 3m 19s\n",
      "Stopped by overfitting detector  (400 iterations wait)\n",
      "\n",
      "bestTest = -25343.30344\n",
      "bestIteration = 1483\n",
      "\n",
      "Shrink model to first 1484 iterations.\n",
      "American Indian or Alaska Native\n",
      "0.6949738090698013\n",
      "Asian\n",
      "0.6832896053153136\n",
      "Black or African-American\n",
      "0.6605352079009985\n",
      "More than one race\n",
      "0.6850113587773825\n",
      "Native Hawaiian or other Pacific Islander\n",
      "0.663585487201027\n",
      "White\n",
      "0.6677622485804352\n",
      "\u001b[31mfold2 C-index:0.6632410445791581\u001b[0m\n",
      "0:\tlearn: -120387.2633030\ttest: -25843.5387210\tbest: -25843.5387210 (0)\ttotal: 23.5ms\tremaining: 3m 52s\n",
      "500:\tlearn: -117803.0093026\ttest: -25272.2821287\tbest: -25271.5936216 (489)\ttotal: 11.7s\tremaining: 3m 38s\n",
      "1000:\tlearn: -117369.7627175\ttest: -25235.2068991\tbest: -25235.0550828 (999)\ttotal: 22.4s\tremaining: 3m 19s\n",
      "1500:\tlearn: -117034.3971123\ttest: -25217.9780644\tbest: -25217.4775363 (1485)\ttotal: 33.7s\tremaining: 3m 8s\n",
      "2000:\tlearn: -116735.0771338\ttest: -25214.0941468\tbest: -25212.6932948 (1893)\ttotal: 45.7s\tremaining: 3m\n",
      "2500:\tlearn: -116460.6373988\ttest: -25210.6125736\tbest: -25209.7174010 (2175)\ttotal: 57.6s\tremaining: 2m 50s\n",
      "Stopped by overfitting detector  (400 iterations wait)\n",
      "\n",
      "bestTest = -25209.7174\n",
      "bestIteration = 2175\n",
      "\n",
      "Shrink model to first 2176 iterations.\n",
      "American Indian or Alaska Native\n",
      "0.6810925494881249\n",
      "Asian\n",
      "0.694979395049425\n",
      "Black or African-American\n",
      "0.6836574234898848\n",
      "More than one race\n",
      "0.6714872236664147\n",
      "Native Hawaiian or other Pacific Islander\n",
      "0.675167950446389\n",
      "White\n",
      "0.6746133776510435\n",
      "\u001b[31mfold3 C-index:0.6723815219893015\u001b[0m\n",
      "0:\tlearn: -120458.2769848\ttest: -25784.5277638\tbest: -25784.5277638 (0)\ttotal: 23.3ms\tremaining: 3m 50s\n",
      "500:\tlearn: -117899.4656146\ttest: -25205.0149577\tbest: -25205.0149577 (500)\ttotal: 12s\tremaining: 3m 45s\n",
      "1000:\tlearn: -117421.2327020\ttest: -25171.4002039\tbest: -25170.8686881 (982)\ttotal: 24.5s\tremaining: 3m 38s\n",
      "1500:\tlearn: -117092.6912604\ttest: -25150.6745163\tbest: -25150.6129827 (1496)\ttotal: 37s\tremaining: 3m 27s\n",
      "2000:\tlearn: -116781.2261535\ttest: -25142.6180650\tbest: -25142.5983885 (1997)\ttotal: 48.1s\tremaining: 3m 9s\n",
      "2500:\tlearn: -116495.7277521\ttest: -25139.6349592\tbest: -25139.2679290 (2486)\ttotal: 59.8s\tremaining: 2m 57s\n",
      "3000:\tlearn: -116247.5742435\ttest: -25138.0669011\tbest: -25136.7256186 (2919)\ttotal: 1m 11s\tremaining: 2m 44s\n",
      "Stopped by overfitting detector  (400 iterations wait)\n",
      "\n",
      "bestTest = -25136.72562\n",
      "bestIteration = 2919\n",
      "\n",
      "Shrink model to first 2920 iterations.\n",
      "American Indian or Alaska Native\n",
      "0.688261430827215\n",
      "Asian\n",
      "0.702882075584851\n",
      "Black or African-American\n",
      "0.6686182320337065\n",
      "More than one race\n",
      "0.6801244095336738\n",
      "Native Hawaiian or other Pacific Islander\n",
      "0.6942055127383313\n",
      "White\n",
      "0.6687501251075926\n",
      "\u001b[31mfold4 C-index:0.6711394260263703\u001b[0m\n"
     ]
    },
    {
     "name": "stderr",
     "output_type": "stream",
     "text": [
      "[I 2025-01-13 05:52:12,669] Trial 1 finished with value: 0.6658457681709964 and parameters: {'n_estimators': 9909, 'learning_rate': 0.06002766139978675, 'max_depth': 4, 'l2_leaf_reg': 0.060654852114078416, 'min_child_samples': 3}. Best is trial 1 with value: 0.6658457681709964.\n"
     ]
    },
    {
     "name": "stdout",
     "output_type": "stream",
     "text": [
      "----------------------------------------------------------------------\n",
      "-[INFO] Trial OOF(Log Loss): 0.6658457681709964\n",
      "-[INFO] Trial All Fold(Log Loss): [0.6613711859730522, 0.6610956622870998, 0.6632410445791581, 0.6723815219893015, 0.6711394260263703]\n",
      "----------------------------------------------------------------------\n",
      "0:\tlearn: -120445.1292638\ttest: -25898.9836348\tbest: -25898.9836348 (0)\ttotal: 30.2ms\tremaining: 3m 10s\n",
      "500:\tlearn: -118447.7969649\ttest: -25386.4111369\tbest: -25386.4111369 (500)\ttotal: 14.3s\tremaining: 2m 45s\n",
      "1000:\tlearn: -118133.7539744\ttest: -25326.7907575\tbest: -25326.7907575 (1000)\ttotal: 29.5s\tremaining: 2m 35s\n",
      "1500:\tlearn: -117939.5689051\ttest: -25301.8992977\tbest: -25301.8992977 (1500)\ttotal: 45.7s\tremaining: 2m 26s\n",
      "2000:\tlearn: -117772.1362985\ttest: -25285.4255146\tbest: -25285.4255146 (2000)\ttotal: 1m 2s\tremaining: 2m 13s\n",
      "2500:\tlearn: -117630.3055951\ttest: -25274.8634999\tbest: -25274.8462298 (2499)\ttotal: 1m 18s\tremaining: 1m 58s\n",
      "3000:\tlearn: -117505.1322313\ttest: -25266.8418030\tbest: -25266.8053561 (2991)\ttotal: 1m 34s\tremaining: 1m 44s\n",
      "3500:\tlearn: -117391.9130993\ttest: -25261.4929518\tbest: -25261.4921561 (3497)\ttotal: 1m 51s\tremaining: 1m 29s\n",
      "4000:\tlearn: -117286.1001365\ttest: -25256.5464901\tbest: -25256.5426018 (3997)\ttotal: 2m 9s\tremaining: 1m 14s\n",
      "4500:\tlearn: -117184.9382083\ttest: -25252.5670379\tbest: -25252.5670379 (4500)\ttotal: 2m 27s\tremaining: 59.1s\n",
      "5000:\tlearn: -117089.4235797\ttest: -25249.4166767\tbest: -25249.4166767 (5000)\ttotal: 2m 44s\tremaining: 42.7s\n",
      "5500:\tlearn: -116998.7831545\ttest: -25245.8894371\tbest: -25245.8894371 (5500)\ttotal: 3m\tremaining: 26.2s\n",
      "6000:\tlearn: -116911.5683079\ttest: -25243.0186080\tbest: -25243.0025092 (5997)\ttotal: 3m 18s\tremaining: 9.94s\n",
      "6300:\tlearn: -116858.0312124\ttest: -25240.8998813\tbest: -25240.8998813 (6300)\ttotal: 3m 28s\tremaining: 0us\n",
      "\n",
      "bestTest = -25240.89988\n",
      "bestIteration = 6300\n",
      "\n",
      "American Indian or Alaska Native\n",
      "0.6864485912485088\n",
      "Asian\n",
      "0.7023631033935123\n",
      "Black or African-American\n",
      "0.6733760922667651\n",
      "More than one race\n",
      "0.6899223878095284\n",
      "Native Hawaiian or other Pacific Islander\n",
      "0.6677915498315558\n",
      "White\n",
      "0.6423524830548694\n",
      "\u001b[31mfold0 C-index:0.6579028846643351\u001b[0m\n",
      "0:\tlearn: -120777.6940230\ttest: -25615.4016256\tbest: -25615.4016256 (0)\ttotal: 32.5ms\tremaining: 3m 24s\n",
      "500:\tlearn: -118712.9170073\ttest: -25142.8618521\tbest: -25142.8618521 (500)\ttotal: 14.1s\tremaining: 2m 43s\n",
      "1000:\tlearn: -118397.2219173\ttest: -25093.8854741\tbest: -25093.8854741 (1000)\ttotal: 29.8s\tremaining: 2m 37s\n",
      "1500:\tlearn: -118210.1481969\ttest: -25072.7693057\tbest: -25072.7693057 (1500)\ttotal: 47.2s\tremaining: 2m 30s\n",
      "2000:\tlearn: -118051.7639223\ttest: -25057.0779454\tbest: -25057.0779454 (2000)\ttotal: 1m 2s\tremaining: 2m 15s\n",
      "2500:\tlearn: -117911.3182278\ttest: -25046.2922130\tbest: -25046.2842843 (2497)\ttotal: 1m 19s\tremaining: 2m 1s\n",
      "3000:\tlearn: -117787.6189174\ttest: -25038.2348856\tbest: -25038.2340765 (2995)\ttotal: 1m 35s\tremaining: 1m 44s\n",
      "3500:\tlearn: -117677.2149460\ttest: -25032.0180452\tbest: -25032.0180452 (3500)\ttotal: 1m 51s\tremaining: 1m 29s\n",
      "4000:\tlearn: -117577.4777223\ttest: -25026.9069185\tbest: -25026.8877345 (3998)\ttotal: 2m 7s\tremaining: 1m 13s\n",
      "4500:\tlearn: -117480.7497771\ttest: -25023.3322392\tbest: -25023.1690127 (4486)\ttotal: 2m 23s\tremaining: 57.5s\n",
      "5000:\tlearn: -117385.7643167\ttest: -25019.3025061\tbest: -25019.3025061 (5000)\ttotal: 2m 40s\tremaining: 41.7s\n",
      "5500:\tlearn: -117294.4267892\ttest: -25016.1227468\tbest: -25016.1046463 (5496)\ttotal: 2m 56s\tremaining: 25.7s\n",
      "6000:\tlearn: -117208.5678062\ttest: -25013.5605903\tbest: -25013.4392326 (5992)\ttotal: 3m 11s\tremaining: 9.57s\n",
      "6300:\tlearn: -117159.2165229\ttest: -25012.3162007\tbest: -25012.2353977 (6289)\ttotal: 3m 20s\tremaining: 0us\n",
      "\n",
      "bestTest = -25012.2354\n",
      "bestIteration = 6289\n",
      "\n",
      "Shrink model to first 6290 iterations.\n",
      "American Indian or Alaska Native\n",
      "0.6951376930213029\n",
      "Asian\n",
      "0.6865759618878436\n",
      "Black or African-American\n",
      "0.656323156391051\n",
      "More than one race\n",
      "0.6893285201233798\n",
      "Native Hawaiian or other Pacific Islander\n",
      "0.6784337948385736\n",
      "White\n",
      "0.6472991092568501\n",
      "\u001b[31mfold1 C-index:0.6578566679785653\u001b[0m\n",
      "0:\tlearn: -120393.8468013\ttest: -25941.6292240\tbest: -25941.6292240 (0)\ttotal: 28.6ms\tremaining: 3m\n",
      "500:\tlearn: -118298.5447498\ttest: -25463.2510010\tbest: -25463.2510010 (500)\ttotal: 15.8s\tremaining: 3m 2s\n",
      "1000:\tlearn: -117977.5910465\ttest: -25414.6500140\tbest: -25414.6500140 (1000)\ttotal: 31.9s\tremaining: 2m 49s\n",
      "1500:\tlearn: -117788.0091913\ttest: -25394.1238246\tbest: -25394.1238246 (1500)\ttotal: 46.9s\tremaining: 2m 30s\n",
      "2000:\tlearn: -117624.6267744\ttest: -25378.4559985\tbest: -25378.4559985 (2000)\ttotal: 1m 1s\tremaining: 2m 12s\n",
      "2500:\tlearn: -117487.8201602\ttest: -25368.5637487\tbest: -25368.5637487 (2500)\ttotal: 1m 16s\tremaining: 1m 55s\n",
      "3000:\tlearn: -117365.6329690\ttest: -25361.7507995\tbest: -25361.6960404 (2995)\ttotal: 1m 32s\tremaining: 1m 42s\n",
      "3500:\tlearn: -117254.2184286\ttest: -25356.8680928\tbest: -25356.8680928 (3500)\ttotal: 1m 50s\tremaining: 1m 28s\n",
      "4000:\tlearn: -117150.4543137\ttest: -25352.5484143\tbest: -25352.5468929 (3999)\ttotal: 2m 6s\tremaining: 1m 12s\n",
      "4500:\tlearn: -117054.8260889\ttest: -25348.2881638\tbest: -25348.2512692 (4498)\ttotal: 2m 22s\tremaining: 56.8s\n",
      "5000:\tlearn: -116962.7380849\ttest: -25344.4646765\tbest: -25344.4192218 (4991)\ttotal: 2m 38s\tremaining: 41.2s\n",
      "5500:\tlearn: -116874.0944586\ttest: -25341.9054362\tbest: -25341.9054362 (5500)\ttotal: 2m 55s\tremaining: 25.5s\n",
      "6000:\tlearn: -116789.0559439\ttest: -25339.9281574\tbest: -25339.9281574 (6000)\ttotal: 3m 12s\tremaining: 9.6s\n"
     ]
    },
    {
     "name": "stderr",
     "output_type": "stream",
     "text": [
      "[W 2025-01-13 06:02:21,688] Trial 2 failed with parameters: {'n_estimators': 6301, 'learning_rate': 0.0064280816814082245, 'max_depth': 5, 'l2_leaf_reg': 0.18827111301413596, 'min_child_samples': 10} because of the following error: KeyboardInterrupt('').\n",
      "Traceback (most recent call last):\n",
      "  File \"/usr/local/lib/python3.11/dist-packages/optuna/study/_optimize.py\", line 197, in _run_trial\n",
      "    value_or_values = func(trial)\n",
      "                      ^^^^^^^^^^^\n",
      "  File \"/tmp/ipykernel_87/1766362437.py\", line 58, in objective\n",
      "    model.fit(X_train,\n",
      "  File \"/usr/local/lib/python3.11/dist-packages/catboost/core.py\", line 5873, in fit\n",
      "    return self._fit(X, y, cat_features, text_features, embedding_features, None, graph, sample_weight, None, None, None, None, baseline,\n",
      "           ^^^^^^^^^^^^^^^^^^^^^^^^^^^^^^^^^^^^^^^^^^^^^^^^^^^^^^^^^^^^^^^^^^^^^^^^^^^^^^^^^^^^^^^^^^^^^^^^^^^^^^^^^^^^^^^^^^^^^^^^^^^^^^\n",
      "  File \"/usr/local/lib/python3.11/dist-packages/catboost/core.py\", line 2410, in _fit\n",
      "    self._train(\n",
      "  File \"/usr/local/lib/python3.11/dist-packages/catboost/core.py\", line 1790, in _train\n",
      "    self._object._train(train_pool, test_pool, params, allow_clear_pool, init_model._object if init_model else None)\n",
      "  File \"_catboost.pyx\", line 5017, in _catboost._CatBoost._train\n",
      "  File \"_catboost.pyx\", line 5066, in _catboost._CatBoost._train\n",
      "KeyboardInterrupt\n",
      "[W 2025-01-13 06:02:21,689] Trial 2 failed with value None.\n"
     ]
    },
    {
     "ename": "KeyboardInterrupt",
     "evalue": "",
     "output_type": "error",
     "traceback": [
      "\u001b[0;31m---------------------------------------------------------------------------\u001b[0m",
      "\u001b[0;31mKeyboardInterrupt\u001b[0m                         Traceback (most recent call last)",
      "File \u001b[0;32m<timed exec>:3\u001b[0m\n",
      "File \u001b[0;32m/usr/local/lib/python3.11/dist-packages/optuna/study/study.py:475\u001b[0m, in \u001b[0;36mStudy.optimize\u001b[0;34m(self, func, n_trials, timeout, n_jobs, catch, callbacks, gc_after_trial, show_progress_bar)\u001b[0m\n\u001b[1;32m    373\u001b[0m \u001b[38;5;28;01mdef\u001b[39;00m \u001b[38;5;21moptimize\u001b[39m(\n\u001b[1;32m    374\u001b[0m     \u001b[38;5;28mself\u001b[39m,\n\u001b[1;32m    375\u001b[0m     func: ObjectiveFuncType,\n\u001b[0;32m   (...)\u001b[0m\n\u001b[1;32m    382\u001b[0m     show_progress_bar: \u001b[38;5;28mbool\u001b[39m \u001b[38;5;241m=\u001b[39m \u001b[38;5;28;01mFalse\u001b[39;00m,\n\u001b[1;32m    383\u001b[0m ) \u001b[38;5;241m-\u001b[39m\u001b[38;5;241m>\u001b[39m \u001b[38;5;28;01mNone\u001b[39;00m:\n\u001b[1;32m    384\u001b[0m \u001b[38;5;250m    \u001b[39m\u001b[38;5;124;03m\"\"\"Optimize an objective function.\u001b[39;00m\n\u001b[1;32m    385\u001b[0m \n\u001b[1;32m    386\u001b[0m \u001b[38;5;124;03m    Optimization is done by choosing a suitable set of hyperparameter values from a given\u001b[39;00m\n\u001b[0;32m   (...)\u001b[0m\n\u001b[1;32m    473\u001b[0m \u001b[38;5;124;03m            If nested invocation of this method occurs.\u001b[39;00m\n\u001b[1;32m    474\u001b[0m \u001b[38;5;124;03m    \"\"\"\u001b[39;00m\n\u001b[0;32m--> 475\u001b[0m     \u001b[43m_optimize\u001b[49m\u001b[43m(\u001b[49m\n\u001b[1;32m    476\u001b[0m \u001b[43m        \u001b[49m\u001b[43mstudy\u001b[49m\u001b[38;5;241;43m=\u001b[39;49m\u001b[38;5;28;43mself\u001b[39;49m\u001b[43m,\u001b[49m\n\u001b[1;32m    477\u001b[0m \u001b[43m        \u001b[49m\u001b[43mfunc\u001b[49m\u001b[38;5;241;43m=\u001b[39;49m\u001b[43mfunc\u001b[49m\u001b[43m,\u001b[49m\n\u001b[1;32m    478\u001b[0m \u001b[43m        \u001b[49m\u001b[43mn_trials\u001b[49m\u001b[38;5;241;43m=\u001b[39;49m\u001b[43mn_trials\u001b[49m\u001b[43m,\u001b[49m\n\u001b[1;32m    479\u001b[0m \u001b[43m        \u001b[49m\u001b[43mtimeout\u001b[49m\u001b[38;5;241;43m=\u001b[39;49m\u001b[43mtimeout\u001b[49m\u001b[43m,\u001b[49m\n\u001b[1;32m    480\u001b[0m \u001b[43m        \u001b[49m\u001b[43mn_jobs\u001b[49m\u001b[38;5;241;43m=\u001b[39;49m\u001b[43mn_jobs\u001b[49m\u001b[43m,\u001b[49m\n\u001b[1;32m    481\u001b[0m \u001b[43m        \u001b[49m\u001b[43mcatch\u001b[49m\u001b[38;5;241;43m=\u001b[39;49m\u001b[38;5;28;43mtuple\u001b[39;49m\u001b[43m(\u001b[49m\u001b[43mcatch\u001b[49m\u001b[43m)\u001b[49m\u001b[43m \u001b[49m\u001b[38;5;28;43;01mif\u001b[39;49;00m\u001b[43m \u001b[49m\u001b[38;5;28;43misinstance\u001b[39;49m\u001b[43m(\u001b[49m\u001b[43mcatch\u001b[49m\u001b[43m,\u001b[49m\u001b[43m \u001b[49m\u001b[43mIterable\u001b[49m\u001b[43m)\u001b[49m\u001b[43m \u001b[49m\u001b[38;5;28;43;01melse\u001b[39;49;00m\u001b[43m \u001b[49m\u001b[43m(\u001b[49m\u001b[43mcatch\u001b[49m\u001b[43m,\u001b[49m\u001b[43m)\u001b[49m\u001b[43m,\u001b[49m\n\u001b[1;32m    482\u001b[0m \u001b[43m        \u001b[49m\u001b[43mcallbacks\u001b[49m\u001b[38;5;241;43m=\u001b[39;49m\u001b[43mcallbacks\u001b[49m\u001b[43m,\u001b[49m\n\u001b[1;32m    483\u001b[0m \u001b[43m        \u001b[49m\u001b[43mgc_after_trial\u001b[49m\u001b[38;5;241;43m=\u001b[39;49m\u001b[43mgc_after_trial\u001b[49m\u001b[43m,\u001b[49m\n\u001b[1;32m    484\u001b[0m \u001b[43m        \u001b[49m\u001b[43mshow_progress_bar\u001b[49m\u001b[38;5;241;43m=\u001b[39;49m\u001b[43mshow_progress_bar\u001b[49m\u001b[43m,\u001b[49m\n\u001b[1;32m    485\u001b[0m \u001b[43m    \u001b[49m\u001b[43m)\u001b[49m\n",
      "File \u001b[0;32m/usr/local/lib/python3.11/dist-packages/optuna/study/_optimize.py:63\u001b[0m, in \u001b[0;36m_optimize\u001b[0;34m(study, func, n_trials, timeout, n_jobs, catch, callbacks, gc_after_trial, show_progress_bar)\u001b[0m\n\u001b[1;32m     61\u001b[0m \u001b[38;5;28;01mtry\u001b[39;00m:\n\u001b[1;32m     62\u001b[0m     \u001b[38;5;28;01mif\u001b[39;00m n_jobs \u001b[38;5;241m==\u001b[39m \u001b[38;5;241m1\u001b[39m:\n\u001b[0;32m---> 63\u001b[0m         \u001b[43m_optimize_sequential\u001b[49m\u001b[43m(\u001b[49m\n\u001b[1;32m     64\u001b[0m \u001b[43m            \u001b[49m\u001b[43mstudy\u001b[49m\u001b[43m,\u001b[49m\n\u001b[1;32m     65\u001b[0m \u001b[43m            \u001b[49m\u001b[43mfunc\u001b[49m\u001b[43m,\u001b[49m\n\u001b[1;32m     66\u001b[0m \u001b[43m            \u001b[49m\u001b[43mn_trials\u001b[49m\u001b[43m,\u001b[49m\n\u001b[1;32m     67\u001b[0m \u001b[43m            \u001b[49m\u001b[43mtimeout\u001b[49m\u001b[43m,\u001b[49m\n\u001b[1;32m     68\u001b[0m \u001b[43m            \u001b[49m\u001b[43mcatch\u001b[49m\u001b[43m,\u001b[49m\n\u001b[1;32m     69\u001b[0m \u001b[43m            \u001b[49m\u001b[43mcallbacks\u001b[49m\u001b[43m,\u001b[49m\n\u001b[1;32m     70\u001b[0m \u001b[43m            \u001b[49m\u001b[43mgc_after_trial\u001b[49m\u001b[43m,\u001b[49m\n\u001b[1;32m     71\u001b[0m \u001b[43m            \u001b[49m\u001b[43mreseed_sampler_rng\u001b[49m\u001b[38;5;241;43m=\u001b[39;49m\u001b[38;5;28;43;01mFalse\u001b[39;49;00m\u001b[43m,\u001b[49m\n\u001b[1;32m     72\u001b[0m \u001b[43m            \u001b[49m\u001b[43mtime_start\u001b[49m\u001b[38;5;241;43m=\u001b[39;49m\u001b[38;5;28;43;01mNone\u001b[39;49;00m\u001b[43m,\u001b[49m\n\u001b[1;32m     73\u001b[0m \u001b[43m            \u001b[49m\u001b[43mprogress_bar\u001b[49m\u001b[38;5;241;43m=\u001b[39;49m\u001b[43mprogress_bar\u001b[49m\u001b[43m,\u001b[49m\n\u001b[1;32m     74\u001b[0m \u001b[43m        \u001b[49m\u001b[43m)\u001b[49m\n\u001b[1;32m     75\u001b[0m     \u001b[38;5;28;01melse\u001b[39;00m:\n\u001b[1;32m     76\u001b[0m         \u001b[38;5;28;01mif\u001b[39;00m n_jobs \u001b[38;5;241m==\u001b[39m \u001b[38;5;241m-\u001b[39m\u001b[38;5;241m1\u001b[39m:\n",
      "File \u001b[0;32m/usr/local/lib/python3.11/dist-packages/optuna/study/_optimize.py:160\u001b[0m, in \u001b[0;36m_optimize_sequential\u001b[0;34m(study, func, n_trials, timeout, catch, callbacks, gc_after_trial, reseed_sampler_rng, time_start, progress_bar)\u001b[0m\n\u001b[1;32m    157\u001b[0m         \u001b[38;5;28;01mbreak\u001b[39;00m\n\u001b[1;32m    159\u001b[0m \u001b[38;5;28;01mtry\u001b[39;00m:\n\u001b[0;32m--> 160\u001b[0m     frozen_trial \u001b[38;5;241m=\u001b[39m \u001b[43m_run_trial\u001b[49m\u001b[43m(\u001b[49m\u001b[43mstudy\u001b[49m\u001b[43m,\u001b[49m\u001b[43m \u001b[49m\u001b[43mfunc\u001b[49m\u001b[43m,\u001b[49m\u001b[43m \u001b[49m\u001b[43mcatch\u001b[49m\u001b[43m)\u001b[49m\n\u001b[1;32m    161\u001b[0m \u001b[38;5;28;01mfinally\u001b[39;00m:\n\u001b[1;32m    162\u001b[0m     \u001b[38;5;66;03m# The following line mitigates memory problems that can be occurred in some\u001b[39;00m\n\u001b[1;32m    163\u001b[0m     \u001b[38;5;66;03m# environments (e.g., services that use computing containers such as GitHub Actions).\u001b[39;00m\n\u001b[1;32m    164\u001b[0m     \u001b[38;5;66;03m# Please refer to the following PR for further details:\u001b[39;00m\n\u001b[1;32m    165\u001b[0m     \u001b[38;5;66;03m# https://github.com/optuna/optuna/pull/325.\u001b[39;00m\n\u001b[1;32m    166\u001b[0m     \u001b[38;5;28;01mif\u001b[39;00m gc_after_trial:\n",
      "File \u001b[0;32m/usr/local/lib/python3.11/dist-packages/optuna/study/_optimize.py:248\u001b[0m, in \u001b[0;36m_run_trial\u001b[0;34m(study, func, catch)\u001b[0m\n\u001b[1;32m    241\u001b[0m         \u001b[38;5;28;01massert\u001b[39;00m \u001b[38;5;28;01mFalse\u001b[39;00m, \u001b[38;5;124m\"\u001b[39m\u001b[38;5;124mShould not reach.\u001b[39m\u001b[38;5;124m\"\u001b[39m\n\u001b[1;32m    243\u001b[0m \u001b[38;5;28;01mif\u001b[39;00m (\n\u001b[1;32m    244\u001b[0m     frozen_trial\u001b[38;5;241m.\u001b[39mstate \u001b[38;5;241m==\u001b[39m TrialState\u001b[38;5;241m.\u001b[39mFAIL\n\u001b[1;32m    245\u001b[0m     \u001b[38;5;129;01mand\u001b[39;00m func_err \u001b[38;5;129;01mis\u001b[39;00m \u001b[38;5;129;01mnot\u001b[39;00m \u001b[38;5;28;01mNone\u001b[39;00m\n\u001b[1;32m    246\u001b[0m     \u001b[38;5;129;01mand\u001b[39;00m \u001b[38;5;129;01mnot\u001b[39;00m \u001b[38;5;28misinstance\u001b[39m(func_err, catch)\n\u001b[1;32m    247\u001b[0m ):\n\u001b[0;32m--> 248\u001b[0m     \u001b[38;5;28;01mraise\u001b[39;00m func_err\n\u001b[1;32m    249\u001b[0m \u001b[38;5;28;01mreturn\u001b[39;00m frozen_trial\n",
      "File \u001b[0;32m/usr/local/lib/python3.11/dist-packages/optuna/study/_optimize.py:197\u001b[0m, in \u001b[0;36m_run_trial\u001b[0;34m(study, func, catch)\u001b[0m\n\u001b[1;32m    195\u001b[0m \u001b[38;5;28;01mwith\u001b[39;00m get_heartbeat_thread(trial\u001b[38;5;241m.\u001b[39m_trial_id, study\u001b[38;5;241m.\u001b[39m_storage):\n\u001b[1;32m    196\u001b[0m     \u001b[38;5;28;01mtry\u001b[39;00m:\n\u001b[0;32m--> 197\u001b[0m         value_or_values \u001b[38;5;241m=\u001b[39m \u001b[43mfunc\u001b[49m\u001b[43m(\u001b[49m\u001b[43mtrial\u001b[49m\u001b[43m)\u001b[49m\n\u001b[1;32m    198\u001b[0m     \u001b[38;5;28;01mexcept\u001b[39;00m exceptions\u001b[38;5;241m.\u001b[39mTrialPruned \u001b[38;5;28;01mas\u001b[39;00m e:\n\u001b[1;32m    199\u001b[0m         \u001b[38;5;66;03m# TODO(mamu): Handle multi-objective cases.\u001b[39;00m\n\u001b[1;32m    200\u001b[0m         state \u001b[38;5;241m=\u001b[39m TrialState\u001b[38;5;241m.\u001b[39mPRUNED\n",
      "Cell \u001b[0;32mIn[31], line 58\u001b[0m, in \u001b[0;36mobjective\u001b[0;34m(trial, data, features, targets, n_split, cat_cols, cv_fold_func, model_name)\u001b[0m\n\u001b[1;32m     56\u001b[0m \u001b[38;5;28;01melif\u001b[39;00m model_name\u001b[38;5;241m==\u001b[39m\u001b[38;5;124m'\u001b[39m\u001b[38;5;124mcat\u001b[39m\u001b[38;5;124m'\u001b[39m:\n\u001b[1;32m     57\u001b[0m     model \u001b[38;5;241m=\u001b[39m CatBoostRegressor(\u001b[38;5;241m*\u001b[39m\u001b[38;5;241m*\u001b[39mparam, cat_features\u001b[38;5;241m=\u001b[39mcat_cols)\n\u001b[0;32m---> 58\u001b[0m     \u001b[43mmodel\u001b[49m\u001b[38;5;241;43m.\u001b[39;49m\u001b[43mfit\u001b[49m\u001b[43m(\u001b[49m\u001b[43mX_train\u001b[49m\u001b[43m,\u001b[49m\n\u001b[1;32m     59\u001b[0m \u001b[43m              \u001b[49m\u001b[43mY_train\u001b[49m\u001b[43m,\u001b[49m\n\u001b[1;32m     60\u001b[0m \u001b[43m              \u001b[49m\u001b[43meval_set\u001b[49m\u001b[38;5;241;43m=\u001b[39;49m\u001b[43m[\u001b[49m\u001b[43m(\u001b[49m\u001b[43mX_val\u001b[49m\u001b[43m,\u001b[49m\u001b[43m \u001b[49m\u001b[43mY_val\u001b[49m\u001b[43m)\u001b[49m\u001b[43m]\u001b[49m\u001b[43m,\u001b[49m\n\u001b[1;32m     61\u001b[0m \u001b[43m              \u001b[49m\u001b[43mearly_stopping_rounds\u001b[49m\u001b[38;5;241;43m=\u001b[39;49m\u001b[38;5;241;43m400\u001b[39;49m\u001b[43m)\u001b[49m\n\u001b[1;32m     63\u001b[0m \u001b[38;5;28;01melif\u001b[39;00m model_name \u001b[38;5;241m==\u001b[39m \u001b[38;5;124m'\u001b[39m\u001b[38;5;124mxgb\u001b[39m\u001b[38;5;124m'\u001b[39m:\n\u001b[1;32m     64\u001b[0m     model \u001b[38;5;241m=\u001b[39m XGBRegressor(\u001b[38;5;241m*\u001b[39m\u001b[38;5;241m*\u001b[39mparam, \n\u001b[1;32m     65\u001b[0m                          enable_categorical\u001b[38;5;241m=\u001b[39m\u001b[38;5;28;01mTrue\u001b[39;00m,\n\u001b[1;32m     66\u001b[0m                          tree_method\u001b[38;5;241m=\u001b[39m\u001b[38;5;124m'\u001b[39m\u001b[38;5;124mgpu_hist\u001b[39m\u001b[38;5;124m'\u001b[39m)\n",
      "File \u001b[0;32m/usr/local/lib/python3.11/dist-packages/catboost/core.py:5873\u001b[0m, in \u001b[0;36mCatBoostRegressor.fit\u001b[0;34m(self, X, y, cat_features, text_features, embedding_features, graph, sample_weight, baseline, use_best_model, eval_set, verbose, logging_level, plot, plot_file, column_description, verbose_eval, metric_period, silent, early_stopping_rounds, save_snapshot, snapshot_file, snapshot_interval, init_model, callbacks, log_cout, log_cerr)\u001b[0m\n\u001b[1;32m   5871\u001b[0m \u001b[38;5;28;01mif\u001b[39;00m \u001b[38;5;124m'\u001b[39m\u001b[38;5;124mloss_function\u001b[39m\u001b[38;5;124m'\u001b[39m \u001b[38;5;129;01min\u001b[39;00m params:\n\u001b[1;32m   5872\u001b[0m     CatBoostRegressor\u001b[38;5;241m.\u001b[39m_check_is_compatible_loss(params[\u001b[38;5;124m'\u001b[39m\u001b[38;5;124mloss_function\u001b[39m\u001b[38;5;124m'\u001b[39m])\n\u001b[0;32m-> 5873\u001b[0m \u001b[38;5;28;01mreturn\u001b[39;00m \u001b[38;5;28;43mself\u001b[39;49m\u001b[38;5;241;43m.\u001b[39;49m\u001b[43m_fit\u001b[49m\u001b[43m(\u001b[49m\u001b[43mX\u001b[49m\u001b[43m,\u001b[49m\u001b[43m \u001b[49m\u001b[43my\u001b[49m\u001b[43m,\u001b[49m\u001b[43m \u001b[49m\u001b[43mcat_features\u001b[49m\u001b[43m,\u001b[49m\u001b[43m \u001b[49m\u001b[43mtext_features\u001b[49m\u001b[43m,\u001b[49m\u001b[43m \u001b[49m\u001b[43membedding_features\u001b[49m\u001b[43m,\u001b[49m\u001b[43m \u001b[49m\u001b[38;5;28;43;01mNone\u001b[39;49;00m\u001b[43m,\u001b[49m\u001b[43m \u001b[49m\u001b[43mgraph\u001b[49m\u001b[43m,\u001b[49m\u001b[43m \u001b[49m\u001b[43msample_weight\u001b[49m\u001b[43m,\u001b[49m\u001b[43m \u001b[49m\u001b[38;5;28;43;01mNone\u001b[39;49;00m\u001b[43m,\u001b[49m\u001b[43m \u001b[49m\u001b[38;5;28;43;01mNone\u001b[39;49;00m\u001b[43m,\u001b[49m\u001b[43m \u001b[49m\u001b[38;5;28;43;01mNone\u001b[39;49;00m\u001b[43m,\u001b[49m\u001b[43m \u001b[49m\u001b[38;5;28;43;01mNone\u001b[39;49;00m\u001b[43m,\u001b[49m\u001b[43m \u001b[49m\u001b[43mbaseline\u001b[49m\u001b[43m,\u001b[49m\n\u001b[1;32m   5874\u001b[0m \u001b[43m                 \u001b[49m\u001b[43muse_best_model\u001b[49m\u001b[43m,\u001b[49m\u001b[43m \u001b[49m\u001b[43meval_set\u001b[49m\u001b[43m,\u001b[49m\u001b[43m \u001b[49m\u001b[43mverbose\u001b[49m\u001b[43m,\u001b[49m\u001b[43m \u001b[49m\u001b[43mlogging_level\u001b[49m\u001b[43m,\u001b[49m\u001b[43m \u001b[49m\u001b[43mplot\u001b[49m\u001b[43m,\u001b[49m\u001b[43m \u001b[49m\u001b[43mplot_file\u001b[49m\u001b[43m,\u001b[49m\u001b[43m \u001b[49m\u001b[43mcolumn_description\u001b[49m\u001b[43m,\u001b[49m\n\u001b[1;32m   5875\u001b[0m \u001b[43m                 \u001b[49m\u001b[43mverbose_eval\u001b[49m\u001b[43m,\u001b[49m\u001b[43m \u001b[49m\u001b[43mmetric_period\u001b[49m\u001b[43m,\u001b[49m\u001b[43m \u001b[49m\u001b[43msilent\u001b[49m\u001b[43m,\u001b[49m\u001b[43m \u001b[49m\u001b[43mearly_stopping_rounds\u001b[49m\u001b[43m,\u001b[49m\n\u001b[1;32m   5876\u001b[0m \u001b[43m                 \u001b[49m\u001b[43msave_snapshot\u001b[49m\u001b[43m,\u001b[49m\u001b[43m \u001b[49m\u001b[43msnapshot_file\u001b[49m\u001b[43m,\u001b[49m\u001b[43m \u001b[49m\u001b[43msnapshot_interval\u001b[49m\u001b[43m,\u001b[49m\u001b[43m \u001b[49m\u001b[43minit_model\u001b[49m\u001b[43m,\u001b[49m\u001b[43m \u001b[49m\u001b[43mcallbacks\u001b[49m\u001b[43m,\u001b[49m\u001b[43m \u001b[49m\u001b[43mlog_cout\u001b[49m\u001b[43m,\u001b[49m\u001b[43m \u001b[49m\u001b[43mlog_cerr\u001b[49m\u001b[43m)\u001b[49m\n",
      "File \u001b[0;32m/usr/local/lib/python3.11/dist-packages/catboost/core.py:2410\u001b[0m, in \u001b[0;36mCatBoost._fit\u001b[0;34m(self, X, y, cat_features, text_features, embedding_features, pairs, graph, sample_weight, group_id, group_weight, subgroup_id, pairs_weight, baseline, use_best_model, eval_set, verbose, logging_level, plot, plot_file, column_description, verbose_eval, metric_period, silent, early_stopping_rounds, save_snapshot, snapshot_file, snapshot_interval, init_model, callbacks, log_cout, log_cerr)\u001b[0m\n\u001b[1;32m   2407\u001b[0m allow_clear_pool \u001b[38;5;241m=\u001b[39m train_params[\u001b[38;5;124m\"\u001b[39m\u001b[38;5;124mallow_clear_pool\u001b[39m\u001b[38;5;124m\"\u001b[39m]\n\u001b[1;32m   2409\u001b[0m \u001b[38;5;28;01mwith\u001b[39;00m plot_wrapper(plot, plot_file, \u001b[38;5;124m'\u001b[39m\u001b[38;5;124mTraining plots\u001b[39m\u001b[38;5;124m'\u001b[39m, [_get_train_dir(\u001b[38;5;28mself\u001b[39m\u001b[38;5;241m.\u001b[39mget_params())]):\n\u001b[0;32m-> 2410\u001b[0m     \u001b[38;5;28;43mself\u001b[39;49m\u001b[38;5;241;43m.\u001b[39;49m\u001b[43m_train\u001b[49m\u001b[43m(\u001b[49m\n\u001b[1;32m   2411\u001b[0m \u001b[43m        \u001b[49m\u001b[43mtrain_pool\u001b[49m\u001b[43m,\u001b[49m\n\u001b[1;32m   2412\u001b[0m \u001b[43m        \u001b[49m\u001b[43mtrain_params\u001b[49m\u001b[43m[\u001b[49m\u001b[38;5;124;43m\"\u001b[39;49m\u001b[38;5;124;43meval_sets\u001b[39;49m\u001b[38;5;124;43m\"\u001b[39;49m\u001b[43m]\u001b[49m\u001b[43m,\u001b[49m\n\u001b[1;32m   2413\u001b[0m \u001b[43m        \u001b[49m\u001b[43mparams\u001b[49m\u001b[43m,\u001b[49m\n\u001b[1;32m   2414\u001b[0m \u001b[43m        \u001b[49m\u001b[43mallow_clear_pool\u001b[49m\u001b[43m,\u001b[49m\n\u001b[1;32m   2415\u001b[0m \u001b[43m        \u001b[49m\u001b[43mtrain_params\u001b[49m\u001b[43m[\u001b[49m\u001b[38;5;124;43m\"\u001b[39;49m\u001b[38;5;124;43minit_model\u001b[39;49m\u001b[38;5;124;43m\"\u001b[39;49m\u001b[43m]\u001b[49m\n\u001b[1;32m   2416\u001b[0m \u001b[43m    \u001b[49m\u001b[43m)\u001b[49m\n\u001b[1;32m   2418\u001b[0m \u001b[38;5;66;03m# Have property feature_importance possibly set\u001b[39;00m\n\u001b[1;32m   2419\u001b[0m loss \u001b[38;5;241m=\u001b[39m \u001b[38;5;28mself\u001b[39m\u001b[38;5;241m.\u001b[39m_object\u001b[38;5;241m.\u001b[39m_get_loss_function_name()\n",
      "File \u001b[0;32m/usr/local/lib/python3.11/dist-packages/catboost/core.py:1790\u001b[0m, in \u001b[0;36m_CatBoostBase._train\u001b[0;34m(self, train_pool, test_pool, params, allow_clear_pool, init_model)\u001b[0m\n\u001b[1;32m   1789\u001b[0m \u001b[38;5;28;01mdef\u001b[39;00m \u001b[38;5;21m_train\u001b[39m(\u001b[38;5;28mself\u001b[39m, train_pool, test_pool, params, allow_clear_pool, init_model):\n\u001b[0;32m-> 1790\u001b[0m     \u001b[38;5;28;43mself\u001b[39;49m\u001b[38;5;241;43m.\u001b[39;49m\u001b[43m_object\u001b[49m\u001b[38;5;241;43m.\u001b[39;49m\u001b[43m_train\u001b[49m\u001b[43m(\u001b[49m\u001b[43mtrain_pool\u001b[49m\u001b[43m,\u001b[49m\u001b[43m \u001b[49m\u001b[43mtest_pool\u001b[49m\u001b[43m,\u001b[49m\u001b[43m \u001b[49m\u001b[43mparams\u001b[49m\u001b[43m,\u001b[49m\u001b[43m \u001b[49m\u001b[43mallow_clear_pool\u001b[49m\u001b[43m,\u001b[49m\u001b[43m \u001b[49m\u001b[43minit_model\u001b[49m\u001b[38;5;241;43m.\u001b[39;49m\u001b[43m_object\u001b[49m\u001b[43m \u001b[49m\u001b[38;5;28;43;01mif\u001b[39;49;00m\u001b[43m \u001b[49m\u001b[43minit_model\u001b[49m\u001b[43m \u001b[49m\u001b[38;5;28;43;01melse\u001b[39;49;00m\u001b[43m \u001b[49m\u001b[38;5;28;43;01mNone\u001b[39;49;00m\u001b[43m)\u001b[49m\n\u001b[1;32m   1791\u001b[0m     \u001b[38;5;28mself\u001b[39m\u001b[38;5;241m.\u001b[39m_set_trained_model_attributes()\n",
      "File \u001b[0;32m_catboost.pyx:5017\u001b[0m, in \u001b[0;36m_catboost._CatBoost._train\u001b[0;34m()\u001b[0m\n",
      "File \u001b[0;32m_catboost.pyx:5066\u001b[0m, in \u001b[0;36m_catboost._CatBoost._train\u001b[0;34m()\u001b[0m\n",
      "\u001b[0;31mKeyboardInterrupt\u001b[0m: "
     ]
    }
   ],
   "source": [
    "%%time\n",
    "if use_optuna:\n",
    "    study = optuna.create_study(direction='maxmize', study_name='Optimize boosting hyperparameters')\n",
    "    study.optimize(objective, n_trials=100)"
   ]
  },
  {
   "cell_type": "code",
   "execution_count": null,
   "id": "3cf6a49e-dc6f-4857-848b-2cd9802c18ac",
   "metadata": {
    "tags": []
   },
   "outputs": [],
   "source": [
    "if use_optuna:\n",
    "    trial = study.best_trial\n",
    "    print('-'*70)\n",
    "    print('- Optimize Result')\n",
    "    print(\"- Best Trial OOF: {}\".format(trial.value))\n",
    "    print('-'*70)\n",
    "\n",
    "    print('Number of finished trials:', len(study.trials))\n",
    "    print('Best trial:', study.best_trial.params)\n",
    "    \n",
    "    print(\"Best trial Params:\")\n",
    "    trial = study.best_trial\n",
    "    print('-'*70)\n",
    "    print(\"--Best Trial OOF: {}\".format(trial.value))\n",
    "    print(\"--Params: \")\n",
    "    for key, value in trial.params.items():\n",
    "        print(\"    {}: {}\".format(key, value))"
   ]
  },
  {
   "cell_type": "markdown",
   "id": "66569739-1a96-4942-9387-c5141fc4ce8d",
   "metadata": {
    "tags": []
   },
   "source": [
    "# **Train**"
   ]
  },
  {
   "cell_type": "code",
   "execution_count": null,
   "id": "fa6dcd7c-bb01-4230-9b5f-428ad278aba0",
   "metadata": {
    "tags": []
   },
   "outputs": [],
   "source": [
    "# pr = joblib.load('model/TREE_EXP-20/cat_params.pkl')"
   ]
  },
  {
   "cell_type": "code",
   "execution_count": null,
   "id": "e0f99e5d-097c-4a86-895e-a890d7b1cba2",
   "metadata": {
    "tags": []
   },
   "outputs": [],
   "source": [
    "# prA"
   ]
  },
  {
   "cell_type": "code",
   "execution_count": null,
   "id": "4d837b51-260d-4c0a-89fe-91c6e969cfc8",
   "metadata": {
    "tags": []
   },
   "outputs": [],
   "source": [
    "def make_model(seed, SAVE_PATH):\n",
    "\n",
    "    \n",
    "    '''\n",
    "    Parameters\n",
    "    '''\n",
    "    lgb_model_params =  {'seed':42,\n",
    "                         \"boosting_type\": \"gbdt\",\n",
    "                         \"metric\": \"rmse\",\n",
    "                         'objective':'regression',  # 回帰用\n",
    "                         'n_estimators': 100000,\n",
    "                         'learning_rate': 0.006194260637684729, 'max_depth': 311, 'num_leaves': 268, 'min_data_in_leaf': 94, 'min_child_samples': 20, 'feature_fraction': 0.9341247061167397, 'bagging_fraction': 0.9193456524233429, 'bagging_freq': 173, 'lambda_l1': 0.05514221196922455, 'lambda_l2': 0.0069745121796346, 'max_bin': 149, 'reg_alpha': 0.00012895825647239357, 'reg_lambda': 0.00853660379150604,\n",
    "                         'verbosity': -1,\n",
    "                         'extra_trees': True,\n",
    "                         'device_type': 'gpu'\n",
    "                        }\n",
    "    \n",
    "    \n",
    "\n",
    "    xgb_model_params = {'objective': 'reg:squarederror',  # 回帰用\n",
    "                        'eval_metric': 'rmse',  # 回帰評価指標\n",
    "                        'random_seed': 806,  # 事前に定義されたシード値\n",
    "                        'n_estimators': 100000, # iteration数\n",
    "                        'alpha': 0.21712823216787464, 'lambda': 0.002622815685268001, 'learning_rate': 0.001549527535857199, 'max_depth': 297, 'num_leaves': 263, 'gamma': 49.8648869860361}\n",
    "    \n",
    "    cb_cox_params = {'loss_function': 'Cox', 'grow_policy': 'SymmetricTree',\n",
    "                     'n_estimators': 800, 'learning_rate': 0.092, 'l2_leaf_reg': 2.5,\n",
    "                     'max_depth': 7, 'colsample_bylevel': 0.84, 'subsample': 0.9, \n",
    "                     'random_strength': 0.8, 'verbose': 400,}\n",
    "\n",
    "    \n",
    "    # joblib.dump(lgb_model_params, f'{SAVE_PATH}/lgb_params.pkl')\n",
    "    joblib.dump(cat_model_params, f'{SAVE_PATH}/cat_params.pkl')\n",
    "    # joblib.dump(xgb_model_params, f'{SAVE_PATH}/xgb_params.pkl')\n",
    "\n",
    "    '''\n",
    "    Models\n",
    "    '''\n",
    "    models = {}\n",
    "    \n",
    "    # LightGBMの回帰モデル\n",
    "    lgb_model = LGBMRegressor(**lgb_model_params, categorical_feature=categorical_cols)\n",
    "    \n",
    "    # CatBoostの回帰モデル\n",
    "    cat_model = CatBoostRegressor(**cat_model_params, \n",
    "                                  cat_features=categorical_cols)\n",
    "    \n",
    "    # XGBoostの回帰モデル\n",
    "    xgb_model = XGBRegressor(**xgb_model_params, \n",
    "                             enable_categorical=True,\n",
    "                             tree_method='gpu_hist')\n",
    "    \n",
    "    # models['lgb_model'] = lgb_model\n",
    "    models['cat_model'] = cat_model\n",
    "    # models['xgb_model'] = xgb_model\n",
    "\n",
    "    return models\n"
   ]
  },
  {
   "cell_type": "code",
   "execution_count": null,
   "id": "138d299e-72e2-49c8-92f7-c885d4b71e19",
   "metadata": {
    "tags": []
   },
   "outputs": [],
   "source": [
    "###################\n",
    "# \n",
    "###################\n",
    "\n",
    "\n",
    "EXP_NUM = 'EXP-1'\n",
    "SAVE_PATH = f'notebook/output/TREE_{EXP_NUM}'\n",
    "\n",
    "if not os.path.exists(SAVE_PATH):\n",
    "    os.makedirs(SAVE_PATH)\n",
    "\n",
    "models = make_model(seed=my_config.general.seed, \n",
    "                    SAVE_PATH=SAVE_PATH)\n",
    "\n",
    "oof_preds = {}\n",
    "all_true = []\n",
    "\n",
    "TRAIN_FLAG = True\n",
    "fold_imp_flag = False\n",
    "if TRAIN_FLAG:\n",
    "    for model_name in models:\n",
    "        oof_preds[model_name] = np.zeros((len(data), 1))\n",
    "\n",
    "    for fold in range(my_config.general.n_splits):\n",
    "        \n",
    "        print('')\n",
    "        print(clr.GREEN+'#'*25+clr.END)\n",
    "        print(clr.GREEN+f'### Fold {fold+1}'+clr.END)\n",
    "        print(clr.GREEN+'#'*25+clr.END)\n",
    "        print('')\n",
    "        \n",
    "        \n",
    "        '''\n",
    "        Datasets\n",
    "        '''\n",
    "        \n",
    "        if fold_imp_flag:    \n",
    "            data = FE.drop_cols_fi2(df=data, \n",
    "                                    save_path='model',\n",
    "                                    exp_num='TREE_EXP-16',\n",
    "                                    nfold=fold,\n",
    "                                    topn=400)\n",
    "            FEATURES = data.drop(TARGETS+['fold'], axis=1).columns.tolist()\n",
    "            \n",
    "        X_train = data[data[\"fold\"] != fold][FEATURES]\n",
    "        y_train = data[data[\"fold\"] != fold]['utility_agent1']\n",
    "        X_val = data[data[\"fold\"] == fold][FEATURES]\n",
    "        y_val = data[data[\"fold\"] == fold]['utility_agent1']\n",
    "        valid_index = X_val.index\n",
    "        for model_name in models:\n",
    "            print(clr.RED+'*'*10+f' {model_name} '+'*'*10+clr.END)\n",
    "            model = models[model_name]\n",
    "\n",
    "            '''\n",
    "            lightgbm\n",
    "            '''\n",
    "            if model_name.split('_')[0] == 'lgb':\n",
    "                early_stopping_callback = lgb.early_stopping(400, first_metric_only=True, verbose=False)\n",
    "                verbose_callback = lgb.log_evaluation(300)\n",
    "\n",
    "                model.fit(X_train, y_train,\n",
    "                          eval_metric='rmse',\n",
    "                          eval_set=[(X_val, y_val)], \n",
    "                          callbacks=[early_stopping_callback, verbose_callback])\n",
    "\n",
    "                oof_preds[model_name][valid_index] = model.predict(X_val).reshape(-1, 1)\n",
    "                model.booster_.save_model(f'{SAVE_PATH}/LGB_{EXP_NUM}_f{fold}.txt')\n",
    "\n",
    "            '''\n",
    "            catboost\n",
    "            '''\n",
    "            if model_name.split('_')[0] == 'cat':\n",
    "                model.fit(X_train,\n",
    "                          y_train,\n",
    "                          eval_set=[(X_val, y_val)],\n",
    "                          verbose=400, # log300毎に表示\n",
    "                          early_stopping_rounds=400)\n",
    "                \n",
    "                oof_preds[model_name][valid_index] = model.predict(X_val).reshape(-1, 1)\n",
    "                joblib.dump(model, f'{SAVE_PATH}/CAT_{EXP_NUM}_f{fold}.pkl')\n",
    "\n",
    "            '''\n",
    "            xgboost\n",
    "            '''\n",
    "            if model_name.split('_')[0] == 'xgb':\n",
    "                eval_set = [(X_train, y_train), (X_val, y_val)]\n",
    "                model.fit(X_train, y_train, \n",
    "                          eval_set=eval_set, \n",
    "                          early_stopping_rounds=400,\n",
    "                          verbose=400)\n",
    "                oof_preds[model_name][valid_index] = model.predict(X_val).reshape(-1, 1)\n",
    "                joblib.dump(model, f'{SAVE_PATH}/XGB_{EXP_NUM}_f{fold}.pkl')\n",
    "            del X_train, X_val, y_train, y_val, model\n",
    "            gc.collect()\n",
    "\n",
    "    joblib.dump(oof_preds, f'{SAVE_PATH}/oof_preds_{EXP_NUM}.pkl')\n",
    "    "
   ]
  },
  {
   "cell_type": "markdown",
   "id": "1b7daf28-00e5-42ee-877e-53e3784121d4",
   "metadata": {
    "tags": []
   },
   "source": [
    "# **Calculate CV**"
   ]
  },
  {
   "cell_type": "code",
   "execution_count": null,
   "id": "7c01c9e0-0be0-4ee7-ad05-d308392762d5",
   "metadata": {
    "tags": []
   },
   "outputs": [],
   "source": [
    "EXP_NUM = 'EXP-48'\n",
    "SAVE_PATH = f'{my_config.general.model_save_path}/TREE_{EXP_NUM}'\n",
    "shutil.copy('config.py', SAVE_PATH)\n",
    "\n",
    "oof_preds = joblib.load(f'{SAVE_PATH}/oof_preds_{EXP_NUM}.pkl')\n",
    "all_true = train['utility_agent1']\n",
    "# all_true.columns = range(all_true.shape[1])"
   ]
  },
  {
   "cell_type": "code",
   "execution_count": null,
   "id": "ef7060e5-a115-439f-bd0b-b5449d23fb11",
   "metadata": {
    "tags": []
   },
   "outputs": [],
   "source": [
    "for model_name in oof_preds:\n",
    "    oof = pd.DataFrame(oof_preds[f'{model_name}'].copy(), columns=['pred'])\n",
    "    oof['id'] = np.arange(len(oof))\n",
    "\n",
    "    true = pd.DataFrame(all_true.copy())\n",
    "    true['id'] = np.arange(len(true))\n",
    "    \n",
    "    cv = RMSE(true['utility_agent1'], oof['pred'])\n",
    "    print(clr.RED + f'RMSE for {model_name} = {cv}' + clr.END)"
   ]
  },
  {
   "cell_type": "markdown",
   "id": "bce467d0-7899-41e1-b296-707aa1d60601",
   "metadata": {
    "jp-MarkdownHeadingCollapsed": true,
    "tags": []
   },
   "source": [
    "# **DEBUG**"
   ]
  },
  {
   "cell_type": "code",
   "execution_count": null,
   "id": "a26823c0-d9ce-4913-aca5-6dad2fe9c363",
   "metadata": {
    "tags": []
   },
   "outputs": [],
   "source": [
    "EXP_NUM = 'EXP-19'\n",
    "SAVE_PATH = f'{my_config.general.model_save_path}/TREE_{EXP_NUM}'\n",
    "\n",
    "\n",
    "i=0\n",
    "model = joblib.load(f'{SAVE_PATH}/CAT_{EXP_NUM}_f{i}.pkl')\n",
    "cat_feature_indices = model.get_cat_feature_indices()\n",
    "cat_columns = data[FEATURES].columns[cat_feature_indices]"
   ]
  },
  {
   "cell_type": "code",
   "execution_count": null,
   "id": "471f75e3-0e1e-46ae-b2d2-e15b2add0e5b",
   "metadata": {
    "tags": []
   },
   "outputs": [],
   "source": [
    "cat_columns"
   ]
  },
  {
   "cell_type": "code",
   "execution_count": null,
   "id": "5be75c58-7749-4636-971e-dec99ab6cb89",
   "metadata": {
    "tags": []
   },
   "outputs": [],
   "source": [
    "column_name = 'p1_selection'\n",
    "column_index = data[FEATURES].columns.get_loc(column_name)\n",
    "column_index"
   ]
  },
  {
   "cell_type": "code",
   "execution_count": null,
   "id": "f411bce9-0e58-413e-949c-a0f0dabb0f95",
   "metadata": {
    "tags": []
   },
   "outputs": [],
   "source": [
    "cat_feature_indices"
   ]
  },
  {
   "cell_type": "code",
   "execution_count": null,
   "id": "b4402e08-d870-41e5-9e56-3b9a8f153713",
   "metadata": {},
   "outputs": [],
   "source": []
  }
 ],
 "metadata": {
  "kernelspec": {
   "display_name": "Python 3 (ipykernel)",
   "language": "python",
   "name": "python3"
  },
  "language_info": {
   "codemirror_mode": {
    "name": "ipython",
    "version": 3
   },
   "file_extension": ".py",
   "mimetype": "text/x-python",
   "name": "python",
   "nbconvert_exporter": "python",
   "pygments_lexer": "ipython3",
   "version": "3.11.7"
  }
 },
 "nbformat": 4,
 "nbformat_minor": 5
}
